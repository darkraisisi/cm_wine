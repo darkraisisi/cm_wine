{
 "cells": [
  {
   "cell_type": "markdown",
   "metadata": {},
   "source": [
    "# Red Wine Casus\n"
   ]
  },
  {
   "cell_type": "markdown",
   "metadata": {},
   "source": [
    "We gaan aan de slag met een dataset over Portugese rode wijnen. Aan de hand van de gegeven dataset gaan wij een aantal onderzoeksvragen opstellen en beantwoorden.\n",
    "\n",
    "**Onderzoeksvragen**\n",
    "1. In hoeverre is de score van een Portugese Red te voorspellen op basis van de chemische kenmerken?(verplichte onderzoeksvraag) (Supervised - Regressie)\n",
    "2. Als we wijnen categoriseren op basis van de chemische samenstelling, zijn er bepaalde categorieën die mannelijke proevers anders beoordelen dan vrouwelijke proevers? (Unsupervised - Clustering)\n",
    "3. Kun je op basis van bepaalde keywords in de beschrijving een voorspelling doen over hoe hoog de score van deze wijn is? (Supervised - Regression/ Datavisualisatie) "
   ]
  },
  {
   "cell_type": "markdown",
   "metadata": {},
   "source": [
    "__We hebben een aantal imports nodig om operaties uit te kunnen voeren binnen het bestand:__"
   ]
  },
  {
   "cell_type": "code",
   "execution_count": null,
   "metadata": {},
   "outputs": [],
   "source": [
    "import pandas as pd\n",
    "import numpy as np\n",
    "\n",
    "import nltk\n",
    "from nltk.corpus import stopwords\n",
    "# nltk.download()\n",
    "\n",
    "import seaborn as sns\n",
    "import matplotlib.pyplot as plt\n",
    "from matplotlib.patches import Polygon\n",
    "\n",
    "from scipy import stats\n",
    "\n",
    "from sklearn.model_selection import train_test_split\n",
    "from sklearn.linear_model import LinearRegression\n",
    "from sklearn.metrics import mean_squared_error\n",
    "\n",
    "pd.set_option('display.max_columns', None)"
   ]
  },
  {
   "cell_type": "markdown",
   "metadata": {},
   "source": [
    "# 0. Data inlezen"
   ]
  },
  {
   "cell_type": "markdown",
   "metadata": {},
   "source": [
    "We beginnen met het inlezen van onze dataset \"wine\". Hieronder tonen we de eerste 5 records van de dataset: "
   ]
  },
  {
   "cell_type": "code",
   "execution_count": null,
   "metadata": {
    "scrolled": false
   },
   "outputs": [],
   "source": [
    "wine = pd.read_csv('redwine.csv', delimiter=';')\n",
    "wine.head()"
   ]
  },
  {
   "cell_type": "markdown",
   "metadata": {},
   "source": [
    "Het leek ons handig om een beschrijving te hebben over wat de kolommen in de dataset precies inhouden."
   ]
  },
  {
   "cell_type": "markdown",
   "metadata": {},
   "source": [
    "__Beschrijving van de kolommen__\n",
    "<li>Country: Het land van herkomst van de wijn. In deze dataset komt elke wijn uit Portugal, het opslaan van deze kolom is dus redelijk onnodig aangezien het bij elk record hetzelfde is.</li>\n",
    "<li>Description: Een tekstuele beschrijving over de wijn.</li>\n",
    "<li>Designation: Vanuit waar de wijn verkocht wordt.</li>\n",
    "<li>Points: De score van de wijn op een schaal van 1-100.</li>\n",
    "<li>Price: De prijs van de wijn.</li>\n",
    "<li>Province: De provincie waar de wijn is gemaakt.</li>\n",
    "<li>Taster_name: De naam van de persoon die de wijn geproeft heeft.</li>\n",
    "<li>Title: De naam van de wijn</li>\n",
    "<li>Variety: Wijnsoort. Ook hier valt het op dat alle wijnen hierbij dezelfde waarde hebben</li>\n",
    "<li>Winery: De wijnmakerij waar de wijn vandaan komt.</li>\n",
    "\n",
    "_Chemische samenstelling_\n",
    "<li>Fixed acidity: vaste zuurtegraad</li>\n",
    "<li>Volatile acidity: vluchtige zuurtegtraad</li>\n",
    "<li>Citric acid: citroenzuur</li>\n",
    "<li>Residual sugar: Natuurlijke druifsuikers die achterblijven in de wijn nadat de alcoholische fermentatie plaats heeft gevonden.</li>\n",
    "<li>Chlorides: zout</li>\n",
    "<li>Free sulfur dioxide: ongebonden sulfur dioxide</li>\n",
    "<li>Total sulfur dioxide: totaal aantal sulfur dioxide in de wijn</li>\n",
    "<li>Density: dichtheid</li>\n",
    "<li>pH: pH-waarde</li>\n",
    "<li>Sulphates: sulfaat</li>\n",
    "<li>alcohol: alcohol percentage</li>"
   ]
  },
  {
   "cell_type": "code",
   "execution_count": null,
   "metadata": {},
   "outputs": [],
   "source": []
  },
  {
   "cell_type": "markdown",
   "metadata": {},
   "source": [
    "# 1. Dataverkenning: Wat valt ons op?"
   ]
  },
  {
   "cell_type": "markdown",
   "metadata": {},
   "source": [
    "We begonnen met het bekijken van de dataset en het documenteren van opvallende waardes. Deze data verkennings fase is belangrijk om later te kunnen beslissen welke gegevens wel of niet bruikbaar zijn om onze onderzoeksvragen te kunnen beantwoorden. "
   ]
  },
  {
   "cell_type": "markdown",
   "metadata": {},
   "source": [
    "Zo zie je bijvoorbeeld dat het gemiddelde van het aantal punten van de wijnen 88.8 is. Dit zou dus op een schaal van 1-10 uitkomen op een 8,8. "
   ]
  },
  {
   "cell_type": "code",
   "execution_count": null,
   "metadata": {},
   "outputs": [],
   "source": [
    "np.mean(wine['points'])"
   ]
  },
  {
   "cell_type": "markdown",
   "metadata": {},
   "source": [
    "Ook zie je dat het laagst gegeven cijfer een 8,1 is. Redelijk optimistisch. "
   ]
  },
  {
   "cell_type": "code",
   "execution_count": null,
   "metadata": {},
   "outputs": [],
   "source": [
    "np.min(wine['points'])"
   ]
  },
  {
   "cell_type": "markdown",
   "metadata": {},
   "source": [
    "Er zijn ook een aantal records waarbij lege waardes voorkomen. We moeten hierbij kijken wat we gaan doen met de lege data en of het invloed heeft op de antwoorden van onze onderzoeksvragen. "
   ]
  },
  {
   "cell_type": "code",
   "execution_count": null,
   "metadata": {},
   "outputs": [],
   "source": [
    "wine.isnull().sum().sum()"
   ]
  },
  {
   "cell_type": "markdown",
   "metadata": {},
   "source": [
    "De tabel hieronder toont aan dat alle tasters meer dan één wijnsoort geproeft hebben. Je ziet zelfs dat sommigen er honderden hebben beoordeeld. Roger Voss heeft ruim de meeste wijnen beoordeeld, we moeten bij de onderzoeksvragen goed bedenken wat voor invloed dit heeft op de conclusies die we gaan trekken. "
   ]
  },
  {
   "cell_type": "code",
   "execution_count": null,
   "metadata": {
    "scrolled": false
   },
   "outputs": [],
   "source": [
    "nameCount = wine.groupby(['taster_name']).size().reset_index(name='count')\n",
    "nameCount.sort_values('count', ascending = False)"
   ]
  },
  {
   "cell_type": "code",
   "execution_count": null,
   "metadata": {},
   "outputs": [],
   "source": [
    "wine['taster_name'] = wine['taster_name'].apply(lambda name: name.split(\" \")[0])"
   ]
  },
  {
   "cell_type": "markdown",
   "metadata": {},
   "source": [
    "## 1.1. De chemische samenstelling"
   ]
  },
  {
   "cell_type": "markdown",
   "metadata": {},
   "source": [
    "De chemische samenstelling is een belangrijk gedeelte van de dataset aangezien we hier bij alle drie de onderzoeksvragen mee aan het werk gaan. Hieronder zien we de chemische samenstelling van de eerste 5 wijnen. We zien dat de waardes nog niet gestandaardiseerd zijn, dit gaan we later doen. "
   ]
  },
  {
   "cell_type": "code",
   "execution_count": null,
   "metadata": {
    "scrolled": false
   },
   "outputs": [],
   "source": [
    "chemColNames = ['fixed acidity','volatile acidity','citric acid','residual sugar','chlorides','free sulfur dioxide','total sulfur dioxide','density','pH','sulphates','alcohol']\n",
    "chem = wine[chemColNames]\n",
    "chem.head()"
   ]
  },
  {
   "cell_type": "code",
   "execution_count": null,
   "metadata": {},
   "outputs": [],
   "source": [
    "chem.describe(include = 'all')"
   ]
  },
  {
   "cell_type": "markdown",
   "metadata": {},
   "source": [
    "# 2. De externe dataset"
   ]
  },
  {
   "cell_type": "markdown",
   "metadata": {},
   "source": [
    "We willen een externe dataset gebruiken voor het beantwoorden van een van onze onderzoeksvragen. De dataset bestaat uit engelse namen en hun geslacht. Aan de hand van de informatie uit deze dataset willen we voorspellen of de tasters in onze eigen dataset van het mannelijk of vrouwelijke geslacht zijn. "
   ]
  },
  {
   "cell_type": "markdown",
   "metadata": {},
   "source": [
    "\n",
    "Hieronder zien we de eerste 10 records van de externe dataset. "
   ]
  },
  {
   "cell_type": "code",
   "execution_count": null,
   "metadata": {
    "scrolled": true
   },
   "outputs": [],
   "source": [
    "name = pd.read_csv('names.csv', usecols=['Name', 'Gender'])\n",
    "name.head(10)"
   ]
  },
  {
   "cell_type": "markdown",
   "metadata": {},
   "source": [
    "# 3. Data Preparation"
   ]
  },
  {
   "cell_type": "markdown",
   "metadata": {},
   "source": [
    "## 3.1. Pair Plot"
   ]
  },
  {
   "cell_type": "markdown",
   "metadata": {},
   "source": [
    "Voordat we een pairplot kunnen maken moeten we de types van een aantal kolommen aanpassen. We willen bijvoorbeeld alcohol plotten en daarvoor moeten we eerst zorgen dat alcohol van het type object naar een nummeriek type geconverteerd wordt. We kunnen terwijl we dit doen ook meteen de waardes van density en citric acid omzetten naar nummerieke datatypes, mogelijk hebben we deze later nog nodig. "
   ]
  },
  {
   "cell_type": "code",
   "execution_count": null,
   "metadata": {},
   "outputs": [],
   "source": [
    "colErrorPairs = {\n",
    "    'density'    : [' . '],\n",
    "    'citric acid': [' - ',' -   '],\n",
    "    'alcohol'    : ['100.333.333.333.333','11.066.666.666.666.600','956.666.666.666.667','923.333.333.333.333']}\n",
    "\n",
    "for colName in colErrorPairs:\n",
    "    for faultyString in colErrorPairs[colName]:\n",
    "        wine[colName] = wine[colName].replace(faultyString,np.nan)"
   ]
  },
  {
   "cell_type": "code",
   "execution_count": null,
   "metadata": {},
   "outputs": [],
   "source": [
    "wine['alcohol'] = wine['alcohol'].astype(float)"
   ]
  },
  {
   "cell_type": "code",
   "execution_count": null,
   "metadata": {},
   "outputs": [],
   "source": [
    "wine['density'] = wine['density'].astype(float)"
   ]
  },
  {
   "cell_type": "code",
   "execution_count": null,
   "metadata": {},
   "outputs": [],
   "source": [
    "wine['citric acid'] = wine['citric acid'].astype(float)"
   ]
  },
  {
   "cell_type": "code",
   "execution_count": null,
   "metadata": {},
   "outputs": [],
   "source": [
    "wine.dtypes"
   ]
  },
  {
   "cell_type": "markdown",
   "metadata": {},
   "source": [
    "Nog een terug blik op de chemische samenstelling.<br>\n",
    "Dit was alleen mogelijk na de data preperation.<br>\n",
    "Hier zie je bijvoorbeeld het vershil in spreiding, wat opvalt is dat er in suiker maar vooral in sulfur een groot aantal hoge uitschieters zijn."
   ]
  },
  {
   "cell_type": "code",
   "execution_count": null,
   "metadata": {},
   "outputs": [],
   "source": [
    "wine.boxplot(figsize=(20,10), column=chemColNames)"
   ]
  },
  {
   "cell_type": "markdown",
   "metadata": {},
   "source": [
    " Nu dat we de gewenste types hebben omgezet kunnen we ze ook plotten in een pairplot"
   ]
  },
  {
   "cell_type": "code",
   "execution_count": null,
   "metadata": {},
   "outputs": [],
   "source": [
    "sns.set(style=\"ticks\", color_codes=True)\n",
    "g = sns.pairplot(wine, diag_kind = \"hist\",\n",
    "                 height = 4,\n",
    "                 hue = \"taster_name\",\n",
    "\n",
    "                 x_vars=[\"points\", \"price\", \"alcohol\"], \n",
    "                 y_vars= [\"points\", \"price\", \"alcohol\"])\n",
    "\n",
    "plt.show()"
   ]
  },
  {
   "cell_type": "markdown",
   "metadata": {},
   "source": [
    "De pairplot geeft 3 variabelen weer; het alcohol percentage, de prijs en de score van de wijn. We vonden het niet nuttig om de gehele chemische samenstelling ook te verwerken in de pairplot. Op basis van de relatie tussen het alcohol percentage en de gegeven score (points) kunnen we niet perse een directe relatie zien. Wat bijvoorbeeld wel interessant is om op te merken is dat wanneer we kijken naar het aantal points en de prijs van de wijn, is dat de twee duurste wijnen de beste score hebben gekregen. Zo hebben ook de twee meest goedkope wijnen de slechte score gekregen. Er is dus wel een mogelijk verband tussen hoe duur een wijn is en hoeveel punten de wijn heeft gescoort. "
   ]
  },
  {
   "cell_type": "markdown",
   "metadata": {},
   "source": [
    "Bij de legende naast de pairplot zien we dat elke proever een eigen kleur heeft gekregen, dit kan omdat er in totaal maar 18 personen zijn die samen het totaal aantal wijnen hebben geproefd. "
   ]
  },
  {
   "cell_type": "markdown",
   "metadata": {},
   "source": [
    "## 3.2 Standaardiseren\n"
   ]
  },
  {
   "cell_type": "markdown",
   "metadata": {},
   "source": [
    "Stanaardiseren helpt om eerlijker te meten. Je verwijdert de eenheden en zorgt dat alle variabelen ongeveer hetzeflde bereik hebben. "
   ]
  },
  {
   "cell_type": "markdown",
   "metadata": {},
   "source": [
    "Alle variabelen die te maken hebben met de chemische samenstelling zouden ongeveer hetzelfde bereik moeten hebben. Als we ervoor zorgen dat deze waardes bijvoorbeeld allemaal tussen de 0 en 1 liggen, kunnen we ze makkelijk met elkaar vergelijken zonder dat er één veel zwaarder weegt dan de ander.\n"
   ]
  },
  {
   "cell_type": "code",
   "execution_count": null,
   "metadata": {},
   "outputs": [],
   "source": [
    "wineZscore = wine.copy()\n",
    "for col in chemColNames:\n",
    "        wineZscore[col] = (wine[col] - wine[col].mean())/wine[col].std(ddof=0)\n",
    "wineZscore.head()"
   ]
  },
  {
   "cell_type": "markdown",
   "metadata": {},
   "source": [
    "Hieronder zien we de boxplot met de gestandaardiseerde waardes.\n",
    "Hier is duidelijk een vershil te zien met de vorige pairplot."
   ]
  },
  {
   "cell_type": "code",
   "execution_count": null,
   "metadata": {},
   "outputs": [],
   "source": [
    "wineZscore.boxplot(figsize=(20,10), column=chemColNames)"
   ]
  }
 ],
 "metadata": {
  "kernelspec": {
   "display_name": "Python 3.8.3 64-bit",
   "language": "python",
   "name": "python38364bit5cdb2531dd3545ea9b3fd1a8a995abfc"
  },
  "language_info": {
   "codemirror_mode": {
    "name": "ipython",
    "version": 3
   },
   "file_extension": ".py",
   "mimetype": "text/x-python",
   "name": "python",
   "nbconvert_exporter": "python",
   "pygments_lexer": "ipython3",
   "version": "3.8.3"
  }
 },
 "nbformat": 4,
 "nbformat_minor": 4
}
