{
 "cells": [
  {
   "cell_type": "code",
   "execution_count": 6,
   "metadata": {},
   "outputs": [],
   "source": [
    "import pandas as pd\n",
    "import numpy as np\n",
    "\n",
    "import seaborn as sns\n",
    "import matplotlib.pyplot as plt\n",
    "from matplotlib.patches import Polygon\n",
    "\n",
    "from scipy import stats\n",
    "\n",
    "from sklearn.model_selection import train_test_split\n",
    "from sklearn.linear_model import LinearRegression\n",
    "from sklearn.metrics import mean_squared_error\n",
    "\n",
    "pd.set_option('display.max_columns', None)"
   ]
  },
  {
   "cell_type": "markdown",
   "metadata": {},
   "source": [
    "# Red Wine Casus\n"
   ]
  },
  {
   "cell_type": "markdown",
   "metadata": {},
   "source": [
    "We gaan aan de slag met een dataset over Portugese rode wijnen. Aan de hand van de gegeven dataset gaan wij een aantal onderzoeksvragen opstellen en beantwoorden.\n",
    "\n",
    "**Onderzoeksvragen**\n",
    "1. In hoeverre is de score van een Portugese Red te voorspellen op basis van de chemische kenmerken?(verplichte onderzoeksvraag) (Supervised - Regressie)\n",
    "2. Als we wijnen categoriseren op basis van de chemische samenstelling, zijn er bepaalde categorieën die mannelijke proevers anders beoordelen dan vrouwelijke proevers? (Unsupervised - Clustering)\n",
    "3. Kun je op basis van bepaalde keywords in de beschrijving een voorspelling doen over hoe hoog de score van deze wijn is? (Supervised - Regressie)"
   ]
  },
  {
   "cell_type": "markdown",
   "metadata": {},
   "source": [
    "In de tabel die hieronder weergegeven wordt zien we de eerste 5 records die deze dataset bevat. Onder de tabel hebben we per kolom een beschrijving gegeven van wat deze kolom precies inhoudt."
   ]
  },
  {
   "cell_type": "code",
   "execution_count": 7,
   "metadata": {
    "scrolled": false
   },
   "outputs": [
    {
     "data": {
      "text/html": [
       "<div>\n",
       "<style scoped>\n",
       "    .dataframe tbody tr th:only-of-type {\n",
       "        vertical-align: middle;\n",
       "    }\n",
       "\n",
       "    .dataframe tbody tr th {\n",
       "        vertical-align: top;\n",
       "    }\n",
       "\n",
       "    .dataframe thead th {\n",
       "        text-align: right;\n",
       "    }\n",
       "</style>\n",
       "<table border=\"1\" class=\"dataframe\">\n",
       "  <thead>\n",
       "    <tr style=\"text-align: right;\">\n",
       "      <th></th>\n",
       "      <th>id</th>\n",
       "      <th>country</th>\n",
       "      <th>description</th>\n",
       "      <th>designation</th>\n",
       "      <th>points</th>\n",
       "      <th>price</th>\n",
       "      <th>province</th>\n",
       "      <th>taster_name</th>\n",
       "      <th>title</th>\n",
       "      <th>variety</th>\n",
       "      <th>winery</th>\n",
       "      <th>fixed acidity</th>\n",
       "      <th>volatile acidity</th>\n",
       "      <th>citric acid</th>\n",
       "      <th>residual sugar</th>\n",
       "      <th>chlorides</th>\n",
       "      <th>free sulfur dioxide</th>\n",
       "      <th>total sulfur dioxide</th>\n",
       "      <th>density</th>\n",
       "      <th>pH</th>\n",
       "      <th>sulphates</th>\n",
       "      <th>alcohol</th>\n",
       "    </tr>\n",
       "  </thead>\n",
       "  <tbody>\n",
       "    <tr>\n",
       "      <th>0</th>\n",
       "      <td>1</td>\n",
       "      <td>Portugal</td>\n",
       "      <td>This is ripe and fruity, a wine that is smooth...</td>\n",
       "      <td>Avidagos</td>\n",
       "      <td>87</td>\n",
       "      <td>15.0</td>\n",
       "      <td>Douro</td>\n",
       "      <td>Kerin O’Keefe</td>\n",
       "      <td>Quinta dos Avidagos 2011 Avidagos Red (Douro)</td>\n",
       "      <td>Portuguese Red</td>\n",
       "      <td>Quinta dos Avidagos</td>\n",
       "      <td>10.0</td>\n",
       "      <td>0.29</td>\n",
       "      <td>0.4</td>\n",
       "      <td>2.9</td>\n",
       "      <td>0.098</td>\n",
       "      <td>10.0</td>\n",
       "      <td>26.0</td>\n",
       "      <td>10.006</td>\n",
       "      <td>3.48</td>\n",
       "      <td>0.91</td>\n",
       "      <td>9.7</td>\n",
       "    </tr>\n",
       "    <tr>\n",
       "      <th>1</th>\n",
       "      <td>2</td>\n",
       "      <td>Portugal</td>\n",
       "      <td>From an estate in the south of the Alentejo, t...</td>\n",
       "      <td>Grande Reserva Tinto</td>\n",
       "      <td>91</td>\n",
       "      <td>26.0</td>\n",
       "      <td>Alentejano</td>\n",
       "      <td>Roger Voss</td>\n",
       "      <td>Casa Santa Vitória 2013 Grande Reserva Tinto R...</td>\n",
       "      <td>Portuguese Red</td>\n",
       "      <td>Casa Santa Vitória</td>\n",
       "      <td>8.3</td>\n",
       "      <td>0.26</td>\n",
       "      <td>0.37</td>\n",
       "      <td>1.4</td>\n",
       "      <td>0.076</td>\n",
       "      <td>8.0</td>\n",
       "      <td>23.0</td>\n",
       "      <td>0.9974</td>\n",
       "      <td>3.26</td>\n",
       "      <td>0.70</td>\n",
       "      <td>9.6</td>\n",
       "    </tr>\n",
       "    <tr>\n",
       "      <th>2</th>\n",
       "      <td>3</td>\n",
       "      <td>Portugal</td>\n",
       "      <td>A year in wood and 30 months in bottle before ...</td>\n",
       "      <td>Montes Claros Garrafeira</td>\n",
       "      <td>90</td>\n",
       "      <td>28.0</td>\n",
       "      <td>Alentejo</td>\n",
       "      <td>Paul Gregutt</td>\n",
       "      <td>Adega Cooperativa de Borba 2012 Montes Claros ...</td>\n",
       "      <td>Portuguese Red</td>\n",
       "      <td>Adega Cooperativa de Borba</td>\n",
       "      <td>7.0</td>\n",
       "      <td>0.69</td>\n",
       "      <td>0.07</td>\n",
       "      <td>2.5</td>\n",
       "      <td>0.091</td>\n",
       "      <td>15.0</td>\n",
       "      <td>21.0</td>\n",
       "      <td>0.99572</td>\n",
       "      <td>3.38</td>\n",
       "      <td>0.60</td>\n",
       "      <td>11.3</td>\n",
       "    </tr>\n",
       "    <tr>\n",
       "      <th>3</th>\n",
       "      <td>4</td>\n",
       "      <td>Portugal</td>\n",
       "      <td>Wood aging gives this ripe blend of Baga and T...</td>\n",
       "      <td>NaN</td>\n",
       "      <td>90</td>\n",
       "      <td>20.0</td>\n",
       "      <td>Beira Atlantico</td>\n",
       "      <td>Alexander Peartree</td>\n",
       "      <td>Quinta de Foz de Arouce 2013 Red (Beira Atlant...</td>\n",
       "      <td>Portuguese Red</td>\n",
       "      <td>Quinta de Foz de Arouce</td>\n",
       "      <td>7.0</td>\n",
       "      <td>0.69</td>\n",
       "      <td>0.07</td>\n",
       "      <td>2.5</td>\n",
       "      <td>0.091</td>\n",
       "      <td>15.0</td>\n",
       "      <td>21.0</td>\n",
       "      <td>0.99572</td>\n",
       "      <td>3.38</td>\n",
       "      <td>0.60</td>\n",
       "      <td>11.3</td>\n",
       "    </tr>\n",
       "    <tr>\n",
       "      <th>4</th>\n",
       "      <td>5</td>\n",
       "      <td>Portugal</td>\n",
       "      <td>A powerful wine, richly structured and full of...</td>\n",
       "      <td>Gerações Colheita Seleccionada</td>\n",
       "      <td>92</td>\n",
       "      <td>34.0</td>\n",
       "      <td>Alentejano</td>\n",
       "      <td>Paul Gregutt</td>\n",
       "      <td>Herdade Grande 2010 Gerações Colheita Seleccio...</td>\n",
       "      <td>Portuguese Red</td>\n",
       "      <td>Herdade Grande</td>\n",
       "      <td>8.0</td>\n",
       "      <td>0.48</td>\n",
       "      <td>0.34</td>\n",
       "      <td>2.2</td>\n",
       "      <td>0.073</td>\n",
       "      <td>16.0</td>\n",
       "      <td>25.0</td>\n",
       "      <td>0.9936</td>\n",
       "      <td>3.28</td>\n",
       "      <td>0.66</td>\n",
       "      <td>12.4</td>\n",
       "    </tr>\n",
       "  </tbody>\n",
       "</table>\n",
       "</div>"
      ],
      "text/plain": [
       "   id   country                                        description  \\\n",
       "0   1  Portugal  This is ripe and fruity, a wine that is smooth...   \n",
       "1   2  Portugal  From an estate in the south of the Alentejo, t...   \n",
       "2   3  Portugal  A year in wood and 30 months in bottle before ...   \n",
       "3   4  Portugal  Wood aging gives this ripe blend of Baga and T...   \n",
       "4   5  Portugal  A powerful wine, richly structured and full of...   \n",
       "\n",
       "                      designation  points  price         province  \\\n",
       "0                        Avidagos      87   15.0            Douro   \n",
       "1            Grande Reserva Tinto      91   26.0       Alentejano   \n",
       "2        Montes Claros Garrafeira      90   28.0         Alentejo   \n",
       "3                             NaN      90   20.0  Beira Atlantico   \n",
       "4  Gerações Colheita Seleccionada      92   34.0       Alentejano   \n",
       "\n",
       "          taster_name                                              title  \\\n",
       "0       Kerin O’Keefe      Quinta dos Avidagos 2011 Avidagos Red (Douro)   \n",
       "1          Roger Voss  Casa Santa Vitória 2013 Grande Reserva Tinto R...   \n",
       "2        Paul Gregutt  Adega Cooperativa de Borba 2012 Montes Claros ...   \n",
       "3  Alexander Peartree  Quinta de Foz de Arouce 2013 Red (Beira Atlant...   \n",
       "4        Paul Gregutt  Herdade Grande 2010 Gerações Colheita Seleccio...   \n",
       "\n",
       "          variety                      winery  fixed acidity  \\\n",
       "0  Portuguese Red         Quinta dos Avidagos           10.0   \n",
       "1  Portuguese Red          Casa Santa Vitória            8.3   \n",
       "2  Portuguese Red  Adega Cooperativa de Borba            7.0   \n",
       "3  Portuguese Red     Quinta de Foz de Arouce            7.0   \n",
       "4  Portuguese Red              Herdade Grande            8.0   \n",
       "\n",
       "   volatile acidity citric acid  residual sugar  chlorides  \\\n",
       "0              0.29         0.4             2.9      0.098   \n",
       "1              0.26        0.37             1.4      0.076   \n",
       "2              0.69        0.07             2.5      0.091   \n",
       "3              0.69        0.07             2.5      0.091   \n",
       "4              0.48        0.34             2.2      0.073   \n",
       "\n",
       "   free sulfur dioxide  total sulfur dioxide  density    pH  sulphates alcohol  \n",
       "0                 10.0                  26.0   10.006  3.48       0.91     9.7  \n",
       "1                  8.0                  23.0   0.9974  3.26       0.70     9.6  \n",
       "2                 15.0                  21.0  0.99572  3.38       0.60    11.3  \n",
       "3                 15.0                  21.0  0.99572  3.38       0.60    11.3  \n",
       "4                 16.0                  25.0   0.9936  3.28       0.66    12.4  "
      ]
     },
     "execution_count": 7,
     "metadata": {},
     "output_type": "execute_result"
    }
   ],
   "source": [
    "wine = pd.read_csv('redwine.csv', delimiter=';')\n",
    "wine.head()"
   ]
  },
  {
   "cell_type": "markdown",
   "metadata": {},
   "source": [
    "__Beschrijving van de kolommen__\n",
    "<li>Country: Het land van herkomst van de wijn. In deze dataset komt elke wijn uit Portugal, het opslaan van deze kolom is dus redelijk onnodig aangezien het bij elk record hetzelfde is.</li>\n",
    "<li>Description: Een tekstuele beschrijving over de wijn.</li>\n",
    "<li>Designation: Vanuit waar de wijn verkocht wordt.</li>\n",
    "<li>Points: De score van de wijn op een schaal van 1-100.</li>\n",
    "<li>Price: De prijs van de wijn.</li>\n",
    "<li>Province: De provincie waar de wijn is gemaakt.</li>\n",
    "<li>Taster_name: De naam van de persoon die de wijn geproeft heeft.</li>\n",
    "<li>Title: De naam van de wijn</li>\n",
    "<li>Variety: Wijnsoort. Ook hier valt het op dat alle wijnen hierbij dezelfde waarde hebben</li>\n",
    "<li>Winery: De wijnmakerij waar de wijn vandaan komt.</li>\n",
    "\n",
    "_Chemische samenstelling_\n",
    "<li>Fixed acidity: vaste zuurtegraad</li>\n",
    "<li>Volatile acidity: vluchtige zuurtegtraad</li>\n",
    "<li>Citric acid: citroenzuur</li>\n",
    "<li>Residual sugar: Natuurlijke druifsuikers die achterblijven in de wijn nadat de alcoholische fermentatie plaats heeft gevonden.</li>\n",
    "<li>Chlorides: zout</li>\n",
    "<li>Free sulfur dioxide: ongebonden sulfur dioxide</li>\n",
    "<li>Total sulfur dioxide: totaal aantal sulfur dioxide in de wijn</li>\n",
    "<li>Density: dichtheid</li>\n",
    "<li>pH: pH-waarde</li>\n",
    "<li>Sulphates: sulfaat</li>\n",
    "<li>alcohol: alcohol percentage</li>"
   ]
  },
  {
   "cell_type": "markdown",
   "metadata": {},
   "source": [
    "# Dataverkenning: Wat viel ons op?"
   ]
  },
  {
   "cell_type": "markdown",
   "metadata": {},
   "source": [
    "We begonnen met het bekijken van de dataset en het documenteren van opvallende waardes. Deze data verkennings fase is belangrijk om later te kunnen beslissen welke gegevens wel of niet bruikbaar zijn om onze onderzoeksvragen te kunnen beantwoorden. "
   ]
  },
  {
   "cell_type": "markdown",
   "metadata": {},
   "source": [
    "Zo zie je bijvoorbeeld dat het gemiddelde van het aantal punten van de wijnen 88.8 is. Dit zou dus op een schaal van 1-10 uitkomen op een 8,8. "
   ]
  },
  {
   "cell_type": "code",
   "execution_count": 8,
   "metadata": {},
   "outputs": [
    {
     "data": {
      "text/plain": [
       "88.81135902636917"
      ]
     },
     "execution_count": 8,
     "metadata": {},
     "output_type": "execute_result"
    }
   ],
   "source": [
    "np.mean(wine['points'])"
   ]
  },
  {
   "cell_type": "markdown",
   "metadata": {},
   "source": [
    "Ook zie je dat het laagst gegeven cijfer een 8,1 is. Redelijk enthousiast. "
   ]
  },
  {
   "cell_type": "code",
   "execution_count": 9,
   "metadata": {},
   "outputs": [
    {
     "data": {
      "text/plain": [
       "81"
      ]
     },
     "execution_count": 9,
     "metadata": {},
     "output_type": "execute_result"
    }
   ],
   "source": [
    "np.min(wine['points'])"
   ]
  },
  {
   "cell_type": "markdown",
   "metadata": {},
   "source": [
    "Er zijn ook een aantal records waarbij lege waardes voorkomen. We moeten hierbij kijken wat we gaan doen met de lege data en of het invloed heeft op de antwoorden van onze onderzoeksvragen. "
   ]
  },
  {
   "cell_type": "code",
   "execution_count": 10,
   "metadata": {},
   "outputs": [
    {
     "data": {
      "text/plain": [
       "422"
      ]
     },
     "execution_count": 10,
     "metadata": {},
     "output_type": "execute_result"
    }
   ],
   "source": [
    "wine.isnull().sum().sum()"
   ]
  },
  {
   "cell_type": "markdown",
   "metadata": {},
   "source": [
    "De tabel hieronder toont aan dat alle tasters meer dan één wijnsoort geproeft hebben. Je ziet zelfs dat sommigen er honderden hebben beoordeeld. "
   ]
  },
  {
   "cell_type": "code",
   "execution_count": 11,
   "metadata": {
    "scrolled": false
   },
   "outputs": [
    {
     "data": {
      "text/html": [
       "<div>\n",
       "<style scoped>\n",
       "    .dataframe tbody tr th:only-of-type {\n",
       "        vertical-align: middle;\n",
       "    }\n",
       "\n",
       "    .dataframe tbody tr th {\n",
       "        vertical-align: top;\n",
       "    }\n",
       "\n",
       "    .dataframe thead th {\n",
       "        text-align: right;\n",
       "    }\n",
       "</style>\n",
       "<table border=\"1\" class=\"dataframe\">\n",
       "  <thead>\n",
       "    <tr style=\"text-align: right;\">\n",
       "      <th></th>\n",
       "      <th>taster_name</th>\n",
       "      <th>count</th>\n",
       "    </tr>\n",
       "  </thead>\n",
       "  <tbody>\n",
       "    <tr>\n",
       "      <th>0</th>\n",
       "      <td>Alexander Peartree</td>\n",
       "      <td>14</td>\n",
       "    </tr>\n",
       "    <tr>\n",
       "      <th>1</th>\n",
       "      <td>Anna Lee C. Iijima</td>\n",
       "      <td>84</td>\n",
       "    </tr>\n",
       "    <tr>\n",
       "      <th>2</th>\n",
       "      <td>Anne Krebiehl MW</td>\n",
       "      <td>55</td>\n",
       "    </tr>\n",
       "    <tr>\n",
       "      <th>3</th>\n",
       "      <td>Carrie Dykes</td>\n",
       "      <td>3</td>\n",
       "    </tr>\n",
       "    <tr>\n",
       "      <th>4</th>\n",
       "      <td>Fiona Adams</td>\n",
       "      <td>3</td>\n",
       "    </tr>\n",
       "    <tr>\n",
       "      <th>5</th>\n",
       "      <td>Jeff Jenssen</td>\n",
       "      <td>9</td>\n",
       "    </tr>\n",
       "    <tr>\n",
       "      <th>6</th>\n",
       "      <td>Jim Gordon</td>\n",
       "      <td>107</td>\n",
       "    </tr>\n",
       "    <tr>\n",
       "      <th>7</th>\n",
       "      <td>Joe Czerwinski</td>\n",
       "      <td>143</td>\n",
       "    </tr>\n",
       "    <tr>\n",
       "      <th>8</th>\n",
       "      <td>Kerin O’Keefe</td>\n",
       "      <td>258</td>\n",
       "    </tr>\n",
       "    <tr>\n",
       "      <th>9</th>\n",
       "      <td>Lauren Buzzeo</td>\n",
       "      <td>38</td>\n",
       "    </tr>\n",
       "    <tr>\n",
       "      <th>10</th>\n",
       "      <td>Matt Kettmann</td>\n",
       "      <td>140</td>\n",
       "    </tr>\n",
       "    <tr>\n",
       "      <th>11</th>\n",
       "      <td>Michael Schachner</td>\n",
       "      <td>384</td>\n",
       "    </tr>\n",
       "    <tr>\n",
       "      <th>12</th>\n",
       "      <td>Mike DeSimone</td>\n",
       "      <td>5</td>\n",
       "    </tr>\n",
       "    <tr>\n",
       "      <th>13</th>\n",
       "      <td>Paul Gregutt</td>\n",
       "      <td>218</td>\n",
       "    </tr>\n",
       "    <tr>\n",
       "      <th>14</th>\n",
       "      <td>Roger Voss</td>\n",
       "      <td>630</td>\n",
       "    </tr>\n",
       "    <tr>\n",
       "      <th>15</th>\n",
       "      <td>Sean P. Sullivan</td>\n",
       "      <td>125</td>\n",
       "    </tr>\n",
       "    <tr>\n",
       "      <th>16</th>\n",
       "      <td>Susan Kostrzewa</td>\n",
       "      <td>29</td>\n",
       "    </tr>\n",
       "    <tr>\n",
       "      <th>17</th>\n",
       "      <td>Virginie Boone</td>\n",
       "      <td>220</td>\n",
       "    </tr>\n",
       "  </tbody>\n",
       "</table>\n",
       "</div>"
      ],
      "text/plain": [
       "           taster_name  count\n",
       "0   Alexander Peartree     14\n",
       "1   Anna Lee C. Iijima     84\n",
       "2     Anne Krebiehl MW     55\n",
       "3         Carrie Dykes      3\n",
       "4          Fiona Adams      3\n",
       "5         Jeff Jenssen      9\n",
       "6           Jim Gordon    107\n",
       "7       Joe Czerwinski    143\n",
       "8        Kerin O’Keefe    258\n",
       "9        Lauren Buzzeo     38\n",
       "10       Matt Kettmann    140\n",
       "11   Michael Schachner    384\n",
       "12       Mike DeSimone      5\n",
       "13        Paul Gregutt    218\n",
       "14          Roger Voss    630\n",
       "15    Sean P. Sullivan    125\n",
       "16     Susan Kostrzewa     29\n",
       "17      Virginie Boone    220"
      ]
     },
     "execution_count": 11,
     "metadata": {},
     "output_type": "execute_result"
    }
   ],
   "source": [
    "nameCount = wine.groupby(['taster_name']).size().reset_index(name='count')\n",
    "nameCount"
   ]
  },
  {
   "cell_type": "markdown",
   "metadata": {},
   "source": [
    "# Externe dataset"
   ]
  },
  {
   "cell_type": "markdown",
   "metadata": {},
   "source": [
    "We willen een externe dataset gebruiken voor het beantwoorden van een van onze onderzoeksvragen. De dataset bestaat uit engelse namen en hun geslacht. Aan de hand van de informatie uit deze dataset willen we voorspellen of de tasters in onze eigen dataset van het mannelijk of vrouwelijke geslacht zijn. "
   ]
  },
  {
   "cell_type": "markdown",
   "metadata": {},
   "source": [
    "\n",
    "Hieronder zien we de eerste 10 records van de externe dataset. "
   ]
  },
  {
   "cell_type": "code",
   "execution_count": 39,
   "metadata": {
    "scrolled": true
   },
   "outputs": [
    {
     "data": {
      "text/html": [
       "<div>\n",
       "<style scoped>\n",
       "    .dataframe tbody tr th:only-of-type {\n",
       "        vertical-align: middle;\n",
       "    }\n",
       "\n",
       "    .dataframe tbody tr th {\n",
       "        vertical-align: top;\n",
       "    }\n",
       "\n",
       "    .dataframe thead th {\n",
       "        text-align: right;\n",
       "    }\n",
       "</style>\n",
       "<table border=\"1\" class=\"dataframe\">\n",
       "  <thead>\n",
       "    <tr style=\"text-align: right;\">\n",
       "      <th></th>\n",
       "      <th>Name</th>\n",
       "      <th>Year</th>\n",
       "      <th>Gender</th>\n",
       "    </tr>\n",
       "  </thead>\n",
       "  <tbody>\n",
       "    <tr>\n",
       "      <th>0</th>\n",
       "      <td>Mary</td>\n",
       "      <td>1880</td>\n",
       "      <td>F</td>\n",
       "    </tr>\n",
       "    <tr>\n",
       "      <th>1</th>\n",
       "      <td>Anna</td>\n",
       "      <td>1880</td>\n",
       "      <td>F</td>\n",
       "    </tr>\n",
       "    <tr>\n",
       "      <th>2</th>\n",
       "      <td>Emma</td>\n",
       "      <td>1880</td>\n",
       "      <td>F</td>\n",
       "    </tr>\n",
       "    <tr>\n",
       "      <th>3</th>\n",
       "      <td>Elizabeth</td>\n",
       "      <td>1880</td>\n",
       "      <td>F</td>\n",
       "    </tr>\n",
       "    <tr>\n",
       "      <th>4</th>\n",
       "      <td>Minnie</td>\n",
       "      <td>1880</td>\n",
       "      <td>F</td>\n",
       "    </tr>\n",
       "    <tr>\n",
       "      <th>5</th>\n",
       "      <td>Margaret</td>\n",
       "      <td>1880</td>\n",
       "      <td>F</td>\n",
       "    </tr>\n",
       "    <tr>\n",
       "      <th>6</th>\n",
       "      <td>Ida</td>\n",
       "      <td>1880</td>\n",
       "      <td>F</td>\n",
       "    </tr>\n",
       "    <tr>\n",
       "      <th>7</th>\n",
       "      <td>Alice</td>\n",
       "      <td>1880</td>\n",
       "      <td>F</td>\n",
       "    </tr>\n",
       "    <tr>\n",
       "      <th>8</th>\n",
       "      <td>Bertha</td>\n",
       "      <td>1880</td>\n",
       "      <td>F</td>\n",
       "    </tr>\n",
       "    <tr>\n",
       "      <th>9</th>\n",
       "      <td>Sarah</td>\n",
       "      <td>1880</td>\n",
       "      <td>F</td>\n",
       "    </tr>\n",
       "  </tbody>\n",
       "</table>\n",
       "</div>"
      ],
      "text/plain": [
       "        Name  Year Gender\n",
       "0       Mary  1880      F\n",
       "1       Anna  1880      F\n",
       "2       Emma  1880      F\n",
       "3  Elizabeth  1880      F\n",
       "4     Minnie  1880      F\n",
       "5   Margaret  1880      F\n",
       "6        Ida  1880      F\n",
       "7      Alice  1880      F\n",
       "8     Bertha  1880      F\n",
       "9      Sarah  1880      F"
      ]
     },
     "execution_count": 39,
     "metadata": {},
     "output_type": "execute_result"
    }
   ],
   "source": [
    "name = pd.read_csv('names.csv', usecols=['Name','Gender', 'Year'])\n",
    "name.head(10)"
   ]
  },
  {
   "cell_type": "code",
   "execution_count": 40,
   "metadata": {},
   "outputs": [],
   "source": [
    "wine['taster_name'] = wine['taster_name'].apply(lambda name: name.split(\" \")[0])"
   ]
  },
  {
   "cell_type": "markdown",
   "metadata": {},
   "source": [
    "## De chemische samenstelling."
   ]
  },
  {
   "cell_type": "code",
   "execution_count": 41,
   "metadata": {
    "scrolled": true
   },
   "outputs": [
    {
     "data": {
      "text/html": [
       "<div>\n",
       "<style scoped>\n",
       "    .dataframe tbody tr th:only-of-type {\n",
       "        vertical-align: middle;\n",
       "    }\n",
       "\n",
       "    .dataframe tbody tr th {\n",
       "        vertical-align: top;\n",
       "    }\n",
       "\n",
       "    .dataframe thead th {\n",
       "        text-align: right;\n",
       "    }\n",
       "</style>\n",
       "<table border=\"1\" class=\"dataframe\">\n",
       "  <thead>\n",
       "    <tr style=\"text-align: right;\">\n",
       "      <th></th>\n",
       "      <th>fixed acidity</th>\n",
       "      <th>volatile acidity</th>\n",
       "      <th>citric acid</th>\n",
       "      <th>residual sugar</th>\n",
       "      <th>chlorides</th>\n",
       "      <th>free sulfur dioxide</th>\n",
       "      <th>total sulfur dioxide</th>\n",
       "      <th>density</th>\n",
       "      <th>pH</th>\n",
       "      <th>sulphates</th>\n",
       "      <th>alcohol</th>\n",
       "    </tr>\n",
       "  </thead>\n",
       "  <tbody>\n",
       "    <tr>\n",
       "      <th>0</th>\n",
       "      <td>0.949660</td>\n",
       "      <td>-1.331760</td>\n",
       "      <td>0.542728</td>\n",
       "      <td>0.240020</td>\n",
       "      <td>0.223558</td>\n",
       "      <td>-0.559372</td>\n",
       "      <td>-0.639480</td>\n",
       "      <td>0.827622</td>\n",
       "      <td>1.096839</td>\n",
       "      <td>1.447261</td>\n",
       "      <td>-0.678516</td>\n",
       "    </tr>\n",
       "    <tr>\n",
       "      <th>1</th>\n",
       "      <td>-0.030452</td>\n",
       "      <td>-1.499514</td>\n",
       "      <td>0.380840</td>\n",
       "      <td>-0.826272</td>\n",
       "      <td>-0.244190</td>\n",
       "      <td>-0.752104</td>\n",
       "      <td>-0.729893</td>\n",
       "      <td>-0.126222</td>\n",
       "      <td>-0.332697</td>\n",
       "      <td>0.229843</td>\n",
       "      <td>-0.773610</td>\n",
       "    </tr>\n",
       "    <tr>\n",
       "      <th>2</th>\n",
       "      <td>-0.779950</td>\n",
       "      <td>0.904967</td>\n",
       "      <td>-1.238041</td>\n",
       "      <td>-0.044324</td>\n",
       "      <td>0.074729</td>\n",
       "      <td>-0.077542</td>\n",
       "      <td>-0.790169</td>\n",
       "      <td>-0.126400</td>\n",
       "      <td>0.447050</td>\n",
       "      <td>-0.349880</td>\n",
       "      <td>0.842984</td>\n",
       "    </tr>\n",
       "    <tr>\n",
       "      <th>3</th>\n",
       "      <td>-0.779950</td>\n",
       "      <td>0.904967</td>\n",
       "      <td>-1.238041</td>\n",
       "      <td>-0.044324</td>\n",
       "      <td>0.074729</td>\n",
       "      <td>-0.077542</td>\n",
       "      <td>-0.790169</td>\n",
       "      <td>-0.126400</td>\n",
       "      <td>0.447050</td>\n",
       "      <td>-0.349880</td>\n",
       "      <td>0.842984</td>\n",
       "    </tr>\n",
       "    <tr>\n",
       "      <th>4</th>\n",
       "      <td>-0.203413</td>\n",
       "      <td>-0.269315</td>\n",
       "      <td>0.218952</td>\n",
       "      <td>-0.257583</td>\n",
       "      <td>-0.307974</td>\n",
       "      <td>0.018824</td>\n",
       "      <td>-0.669618</td>\n",
       "      <td>-0.126624</td>\n",
       "      <td>-0.202740</td>\n",
       "      <td>-0.002046</td>\n",
       "      <td>1.889015</td>\n",
       "    </tr>\n",
       "  </tbody>\n",
       "</table>\n",
       "</div>"
      ],
      "text/plain": [
       "   fixed acidity  volatile acidity  citric acid  residual sugar  chlorides  \\\n",
       "0       0.949660         -1.331760     0.542728        0.240020   0.223558   \n",
       "1      -0.030452         -1.499514     0.380840       -0.826272  -0.244190   \n",
       "2      -0.779950          0.904967    -1.238041       -0.044324   0.074729   \n",
       "3      -0.779950          0.904967    -1.238041       -0.044324   0.074729   \n",
       "4      -0.203413         -0.269315     0.218952       -0.257583  -0.307974   \n",
       "\n",
       "   free sulfur dioxide  total sulfur dioxide   density        pH  sulphates  \\\n",
       "0            -0.559372             -0.639480  0.827622  1.096839   1.447261   \n",
       "1            -0.752104             -0.729893 -0.126222 -0.332697   0.229843   \n",
       "2            -0.077542             -0.790169 -0.126400  0.447050  -0.349880   \n",
       "3            -0.077542             -0.790169 -0.126400  0.447050  -0.349880   \n",
       "4             0.018824             -0.669618 -0.126624 -0.202740  -0.002046   \n",
       "\n",
       "    alcohol  \n",
       "0 -0.678516  \n",
       "1 -0.773610  \n",
       "2  0.842984  \n",
       "3  0.842984  \n",
       "4  1.889015  "
      ]
     },
     "execution_count": 41,
     "metadata": {},
     "output_type": "execute_result"
    }
   ],
   "source": [
    "chemColNames = ['fixed acidity','volatile acidity','citric acid','residual sugar','chlorides','free sulfur dioxide','total sulfur dioxide','density','pH','sulphates','alcohol']\n",
    "chem = wine[chemColNames]\n",
    "chem.head()\n",
    "# citric acid, density, alcohol"
   ]
  },
  {
   "cell_type": "code",
   "execution_count": 42,
   "metadata": {},
   "outputs": [
    {
     "data": {
      "text/html": [
       "<div>\n",
       "<style scoped>\n",
       "    .dataframe tbody tr th:only-of-type {\n",
       "        vertical-align: middle;\n",
       "    }\n",
       "\n",
       "    .dataframe tbody tr th {\n",
       "        vertical-align: top;\n",
       "    }\n",
       "\n",
       "    .dataframe thead th {\n",
       "        text-align: right;\n",
       "    }\n",
       "</style>\n",
       "<table border=\"1\" class=\"dataframe\">\n",
       "  <thead>\n",
       "    <tr style=\"text-align: right;\">\n",
       "      <th></th>\n",
       "      <th>fixed acidity</th>\n",
       "      <th>volatile acidity</th>\n",
       "      <th>citric acid</th>\n",
       "      <th>residual sugar</th>\n",
       "      <th>chlorides</th>\n",
       "      <th>free sulfur dioxide</th>\n",
       "      <th>total sulfur dioxide</th>\n",
       "      <th>density</th>\n",
       "      <th>pH</th>\n",
       "      <th>sulphates</th>\n",
       "      <th>alcohol</th>\n",
       "    </tr>\n",
       "  </thead>\n",
       "  <tbody>\n",
       "    <tr>\n",
       "      <th>count</th>\n",
       "      <td>2.465000e+03</td>\n",
       "      <td>2.465000e+03</td>\n",
       "      <td>2.262000e+03</td>\n",
       "      <td>2.465000e+03</td>\n",
       "      <td>2.465000e+03</td>\n",
       "      <td>2.465000e+03</td>\n",
       "      <td>2.465000e+03</td>\n",
       "      <td>2.464000e+03</td>\n",
       "      <td>2.465000e+03</td>\n",
       "      <td>2.465000e+03</td>\n",
       "      <td>2.455000e+03</td>\n",
       "    </tr>\n",
       "    <tr>\n",
       "      <th>mean</th>\n",
       "      <td>3.372556e-16</td>\n",
       "      <td>4.439091e-16</td>\n",
       "      <td>-2.120320e-17</td>\n",
       "      <td>-9.512337e-17</td>\n",
       "      <td>3.228429e-16</td>\n",
       "      <td>-3.459032e-17</td>\n",
       "      <td>-4.035537e-17</td>\n",
       "      <td>4.613914e-17</td>\n",
       "      <td>1.638716e-15</td>\n",
       "      <td>2.306021e-17</td>\n",
       "      <td>-1.722089e-15</td>\n",
       "    </tr>\n",
       "    <tr>\n",
       "      <th>std</th>\n",
       "      <td>1.000203e+00</td>\n",
       "      <td>1.000203e+00</td>\n",
       "      <td>1.000221e+00</td>\n",
       "      <td>1.000203e+00</td>\n",
       "      <td>1.000203e+00</td>\n",
       "      <td>1.000203e+00</td>\n",
       "      <td>1.000203e+00</td>\n",
       "      <td>1.000203e+00</td>\n",
       "      <td>1.000203e+00</td>\n",
       "      <td>1.000203e+00</td>\n",
       "      <td>1.000204e+00</td>\n",
       "    </tr>\n",
       "    <tr>\n",
       "      <th>min</th>\n",
       "      <td>-2.163639e+00</td>\n",
       "      <td>-2.282368e+00</td>\n",
       "      <td>-1.561817e+00</td>\n",
       "      <td>-1.181702e+00</td>\n",
       "      <td>-1.604912e+00</td>\n",
       "      <td>-1.426665e+00</td>\n",
       "      <td>-1.242233e+00</td>\n",
       "      <td>-1.269980e-01</td>\n",
       "      <td>-3.711602e+00</td>\n",
       "      <td>-1.915131e+00</td>\n",
       "      <td>-1.819641e+00</td>\n",
       "    </tr>\n",
       "    <tr>\n",
       "      <th>25%</th>\n",
       "      <td>-7.222965e-01</td>\n",
       "      <td>-7.166598e-01</td>\n",
       "      <td>-8.603021e-01</td>\n",
       "      <td>-4.708410e-01</td>\n",
       "      <td>-3.717575e-01</td>\n",
       "      <td>-8.484697e-01</td>\n",
       "      <td>-7.600309e-01</td>\n",
       "      <td>-1.264032e-01</td>\n",
       "      <td>-6.575920e-01</td>\n",
       "      <td>-6.397410e-01</td>\n",
       "      <td>-8.687036e-01</td>\n",
       "    </tr>\n",
       "    <tr>\n",
       "      <th>50%</th>\n",
       "      <td>-2.610671e-01</td>\n",
       "      <td>-4.564192e-02</td>\n",
       "      <td>-5.086141e-02</td>\n",
       "      <td>-2.575827e-01</td>\n",
       "      <td>-1.804060e-01</td>\n",
       "      <td>-1.739082e-01</td>\n",
       "      <td>-2.778287e-01</td>\n",
       "      <td>-1.262854e-01</td>\n",
       "      <td>-7.802743e-03</td>\n",
       "      <td>-2.339351e-01</td>\n",
       "      <td>-2.030474e-01</td>\n",
       "    </tr>\n",
       "    <tr>\n",
       "      <th>75%</th>\n",
       "      <td>5.460844e-01</td>\n",
       "      <td>5.974169e-01</td>\n",
       "      <td>7.990513e-01</td>\n",
       "      <td>2.676183e-02</td>\n",
       "      <td>7.472930e-02</td>\n",
       "      <td>5.006532e-01</td>\n",
       "      <td>5.057500e-01</td>\n",
       "      <td>-1.261689e-01</td>\n",
       "      <td>5.770076e-01</td>\n",
       "      <td>4.037598e-01</td>\n",
       "      <td>6.527963e-01</td>\n",
       "    </tr>\n",
       "    <tr>\n",
       "      <th>max</th>\n",
       "      <td>4.351227e+00</td>\n",
       "      <td>5.881683e+00</td>\n",
       "      <td>3.780491e+00</td>\n",
       "      <td>9.196872e+00</td>\n",
       "      <td>1.113059e+01</td>\n",
       "      <td>5.415315e+00</td>\n",
       "      <td>7.286719e+00</td>\n",
       "      <td>1.039539e+01</td>\n",
       "      <td>4.540722e+00</td>\n",
       "      <td>7.766237e+00</td>\n",
       "      <td>4.266359e+00</td>\n",
       "    </tr>\n",
       "  </tbody>\n",
       "</table>\n",
       "</div>"
      ],
      "text/plain": [
       "       fixed acidity  volatile acidity   citric acid  residual sugar  \\\n",
       "count   2.465000e+03      2.465000e+03  2.262000e+03    2.465000e+03   \n",
       "mean    3.372556e-16      4.439091e-16 -2.120320e-17   -9.512337e-17   \n",
       "std     1.000203e+00      1.000203e+00  1.000221e+00    1.000203e+00   \n",
       "min    -2.163639e+00     -2.282368e+00 -1.561817e+00   -1.181702e+00   \n",
       "25%    -7.222965e-01     -7.166598e-01 -8.603021e-01   -4.708410e-01   \n",
       "50%    -2.610671e-01     -4.564192e-02 -5.086141e-02   -2.575827e-01   \n",
       "75%     5.460844e-01      5.974169e-01  7.990513e-01    2.676183e-02   \n",
       "max     4.351227e+00      5.881683e+00  3.780491e+00    9.196872e+00   \n",
       "\n",
       "          chlorides  free sulfur dioxide  total sulfur dioxide       density  \\\n",
       "count  2.465000e+03         2.465000e+03          2.465000e+03  2.464000e+03   \n",
       "mean   3.228429e-16        -3.459032e-17         -4.035537e-17  4.613914e-17   \n",
       "std    1.000203e+00         1.000203e+00          1.000203e+00  1.000203e+00   \n",
       "min   -1.604912e+00        -1.426665e+00         -1.242233e+00 -1.269980e-01   \n",
       "25%   -3.717575e-01        -8.484697e-01         -7.600309e-01 -1.264032e-01   \n",
       "50%   -1.804060e-01        -1.739082e-01         -2.778287e-01 -1.262854e-01   \n",
       "75%    7.472930e-02         5.006532e-01          5.057500e-01 -1.261689e-01   \n",
       "max    1.113059e+01         5.415315e+00          7.286719e+00  1.039539e+01   \n",
       "\n",
       "                 pH     sulphates       alcohol  \n",
       "count  2.465000e+03  2.465000e+03  2.455000e+03  \n",
       "mean   1.638716e-15  2.306021e-17 -1.722089e-15  \n",
       "std    1.000203e+00  1.000203e+00  1.000204e+00  \n",
       "min   -3.711602e+00 -1.915131e+00 -1.819641e+00  \n",
       "25%   -6.575920e-01 -6.397410e-01 -8.687036e-01  \n",
       "50%   -7.802743e-03 -2.339351e-01 -2.030474e-01  \n",
       "75%    5.770076e-01  4.037598e-01  6.527963e-01  \n",
       "max    4.540722e+00  7.766237e+00  4.266359e+00  "
      ]
     },
     "execution_count": 42,
     "metadata": {},
     "output_type": "execute_result"
    }
   ],
   "source": [
    "chem.describe(include='all')"
   ]
  },
  {
   "cell_type": "markdown",
   "metadata": {},
   "source": [
    "Hier zie je bijvoorbeeld het vershil in spreiding, wat opvalt is dat er in suiker maar vooral in sulfur een groot aantal hoge uitschieters zijn."
   ]
  },
  {
   "cell_type": "code",
   "execution_count": 43,
   "metadata": {},
   "outputs": [
    {
     "data": {
      "text/plain": [
       "<AxesSubplot:>"
      ]
     },
     "execution_count": 43,
     "metadata": {},
     "output_type": "execute_result"
    },
    {
     "data": {
      "image/png": "[encoded data removed]",
      "text/plain": [
       "<Figure size 1440x720 with 1 Axes>"
      ]
     },
     "metadata": {},
     "output_type": "display_data"
    }
   ],
   "source": [
    "chem.boxplot(figsize=(20,10))"
   ]
  },
  {
   "cell_type": "markdown",
   "metadata": {},
   "source": [
    "# Pair plot"
   ]
  },
  {
   "cell_type": "markdown",
   "metadata": {},
   "source": [
    "Voordat we een pairplot kunnen maken moeten we de types van een aantal kolommen aanpassen. We willen bijvoorbeeld alcohol plotten en daarvoor moeten we eerst zorgen dat alcohol van het type object naar een nummeriek type geconverteerd wordt. We kunnen terwijl we dit doen ook meteen de waardes van density en citric acid omzetten naar nummerieke datatypes, mogelijk hebben we deze later nog nodig. "
   ]
  },
  {
   "cell_type": "code",
   "execution_count": 44,
   "metadata": {},
   "outputs": [],
   "source": [
    "colErrorPairs = {\n",
    "    'density'    : [' . '],\n",
    "    'citric acid': [' - ',' -   '],\n",
    "    'alcohol'    : ['100.333.333.333.333','11.066.666.666.666.600','956.666.666.666.667','923.333.333.333.333']}\n",
    "\n",
    "for colName in colErrorPairs:\n",
    "    for faultyString in colErrorPairs[colName]:\n",
    "        wine[colName] = wine[colName].replace(faultyString,np.nan)"
   ]
  },
  {
   "cell_type": "code",
   "execution_count": 45,
   "metadata": {},
   "outputs": [],
   "source": [
    "wine['alcohol'] = wine['alcohol'].astype(float)"
   ]
  },
  {
   "cell_type": "code",
   "execution_count": 46,
   "metadata": {},
   "outputs": [],
   "source": [
    "wine['density'] = wine['density'].astype(float)"
   ]
  },
  {
   "cell_type": "code",
   "execution_count": 47,
   "metadata": {},
   "outputs": [],
   "source": [
    "wine['citric acid'] = wine['citric acid'].astype(float)"
   ]
  },
  {
   "cell_type": "code",
   "execution_count": 48,
   "metadata": {},
   "outputs": [
    {
     "data": {
      "text/plain": [
       "id                        int64\n",
       "country                  object\n",
       "description              object\n",
       "designation              object\n",
       "points                    int64\n",
       "price                   float64\n",
       "province                 object\n",
       "taster_name              object\n",
       "title                    object\n",
       "variety                  object\n",
       "winery                   object\n",
       "fixed acidity           float64\n",
       "volatile acidity        float64\n",
       "citric acid             float64\n",
       "residual sugar          float64\n",
       "chlorides               float64\n",
       "free sulfur dioxide     float64\n",
       "total sulfur dioxide    float64\n",
       "density                 float64\n",
       "pH                      float64\n",
       "sulphates               float64\n",
       "alcohol                 float64\n",
       "dtype: object"
      ]
     },
     "execution_count": 48,
     "metadata": {},
     "output_type": "execute_result"
    }
   ],
   "source": [
    "wine.dtypes"
   ]
  },
  {
   "cell_type": "markdown",
   "metadata": {},
   "source": [
    "#### Nu dat we de gewenste types hebben omgezet kunnen we ze plotten in een pairplot"
   ]
  },
  {
   "cell_type": "code",
   "execution_count": 49,
   "metadata": {},
   "outputs": [
    {
     "data": {
      "image/png": "[encoded data removed]",
      "text/plain": [
       "<Figure size 953.35x864 with 12 Axes>"
      ]
     },
     "metadata": {},
     "output_type": "display_data"
    }
   ],
   "source": [
    "sns.set(style=\"ticks\", color_codes=True)\n",
    "g = sns.pairplot(wine, diag_kind = \"hist\",\n",
    "                 height = 4,\n",
    "                 hue = \"taster_name\",\n",
    "\n",
    "                 x_vars=[\"points\", \"price\", \"alcohol\"], \n",
    "                 y_vars= [\"points\", \"price\", \"alcohol\"])\n",
    "\n",
    "plt.show()"
   ]
  },
  {
   "cell_type": "markdown",
   "metadata": {},
   "source": [
    "Hierboven zien we een pairplot waarbij we de variabelen prijs, points en alcohol met elkaar vergelijken. Elke proever heeft een apart kleurtje gekregen. "
   ]
  },
  {
   "cell_type": "markdown",
   "metadata": {},
   "source": [
    "# Standaardiseren\n"
   ]
  },
  {
   "cell_type": "markdown",
   "metadata": {},
   "source": [
    "Stanaardiseren helpt om eerlijker te meten. Je verwijdert de eenheden en zorgt dat alle variabelen ongeveer hetzeflde bereik hebben. "
   ]
  },
  {
   "cell_type": "markdown",
   "metadata": {},
   "source": [
    "Alle variabelen die te maken hebben met de chemische samenstelling zouden ongeveer hetzelfde bereik moeten hebben. Als we ervoor zorgen dat deze waardes bijvoorbeeld allemaal tussen de 0 en 1 liggen, kunnen we ze makkelijk met elkaar vergelijken zonder dat er één veel zwaarder weegt dan de ander.\n"
   ]
  },
  {
   "cell_type": "code",
   "execution_count": 50,
   "metadata": {},
   "outputs": [
    {
     "data": {
      "text/html": [
       "<div>\n",
       "<style scoped>\n",
       "    .dataframe tbody tr th:only-of-type {\n",
       "        vertical-align: middle;\n",
       "    }\n",
       "\n",
       "    .dataframe tbody tr th {\n",
       "        vertical-align: top;\n",
       "    }\n",
       "\n",
       "    .dataframe thead th {\n",
       "        text-align: right;\n",
       "    }\n",
       "</style>\n",
       "<table border=\"1\" class=\"dataframe\">\n",
       "  <thead>\n",
       "    <tr style=\"text-align: right;\">\n",
       "      <th></th>\n",
       "      <th>id</th>\n",
       "      <th>country</th>\n",
       "      <th>description</th>\n",
       "      <th>designation</th>\n",
       "      <th>points</th>\n",
       "      <th>price</th>\n",
       "      <th>province</th>\n",
       "      <th>taster_name</th>\n",
       "      <th>title</th>\n",
       "      <th>variety</th>\n",
       "      <th>winery</th>\n",
       "      <th>fixed acidity</th>\n",
       "      <th>volatile acidity</th>\n",
       "      <th>citric acid</th>\n",
       "      <th>residual sugar</th>\n",
       "      <th>chlorides</th>\n",
       "      <th>free sulfur dioxide</th>\n",
       "      <th>total sulfur dioxide</th>\n",
       "      <th>density</th>\n",
       "      <th>pH</th>\n",
       "      <th>sulphates</th>\n",
       "      <th>alcohol</th>\n",
       "    </tr>\n",
       "  </thead>\n",
       "  <tbody>\n",
       "    <tr>\n",
       "      <th>0</th>\n",
       "      <td>1</td>\n",
       "      <td>Portugal</td>\n",
       "      <td>This is ripe and fruity, a wine that is smooth...</td>\n",
       "      <td>Avidagos</td>\n",
       "      <td>87</td>\n",
       "      <td>15.0</td>\n",
       "      <td>Douro</td>\n",
       "      <td>Kerin</td>\n",
       "      <td>Quinta dos Avidagos 2011 Avidagos Red (Douro)</td>\n",
       "      <td>Portuguese Red</td>\n",
       "      <td>Quinta dos Avidagos</td>\n",
       "      <td>0.949660</td>\n",
       "      <td>-1.331760</td>\n",
       "      <td>0.542728</td>\n",
       "      <td>0.240020</td>\n",
       "      <td>0.223558</td>\n",
       "      <td>-0.559372</td>\n",
       "      <td>-0.639480</td>\n",
       "      <td>0.827622</td>\n",
       "      <td>1.096839</td>\n",
       "      <td>1.447261</td>\n",
       "      <td>-0.678516</td>\n",
       "    </tr>\n",
       "    <tr>\n",
       "      <th>1</th>\n",
       "      <td>2</td>\n",
       "      <td>Portugal</td>\n",
       "      <td>From an estate in the south of the Alentejo, t...</td>\n",
       "      <td>Grande Reserva Tinto</td>\n",
       "      <td>91</td>\n",
       "      <td>26.0</td>\n",
       "      <td>Alentejano</td>\n",
       "      <td>Roger</td>\n",
       "      <td>Casa Santa Vitória 2013 Grande Reserva Tinto R...</td>\n",
       "      <td>Portuguese Red</td>\n",
       "      <td>Casa Santa Vitória</td>\n",
       "      <td>-0.030452</td>\n",
       "      <td>-1.499514</td>\n",
       "      <td>0.380840</td>\n",
       "      <td>-0.826272</td>\n",
       "      <td>-0.244190</td>\n",
       "      <td>-0.752104</td>\n",
       "      <td>-0.729893</td>\n",
       "      <td>-0.126222</td>\n",
       "      <td>-0.332697</td>\n",
       "      <td>0.229843</td>\n",
       "      <td>-0.773610</td>\n",
       "    </tr>\n",
       "    <tr>\n",
       "      <th>2</th>\n",
       "      <td>3</td>\n",
       "      <td>Portugal</td>\n",
       "      <td>A year in wood and 30 months in bottle before ...</td>\n",
       "      <td>Montes Claros Garrafeira</td>\n",
       "      <td>90</td>\n",
       "      <td>28.0</td>\n",
       "      <td>Alentejo</td>\n",
       "      <td>Paul</td>\n",
       "      <td>Adega Cooperativa de Borba 2012 Montes Claros ...</td>\n",
       "      <td>Portuguese Red</td>\n",
       "      <td>Adega Cooperativa de Borba</td>\n",
       "      <td>-0.779950</td>\n",
       "      <td>0.904967</td>\n",
       "      <td>-1.238041</td>\n",
       "      <td>-0.044324</td>\n",
       "      <td>0.074729</td>\n",
       "      <td>-0.077542</td>\n",
       "      <td>-0.790169</td>\n",
       "      <td>-0.126400</td>\n",
       "      <td>0.447050</td>\n",
       "      <td>-0.349880</td>\n",
       "      <td>0.842984</td>\n",
       "    </tr>\n",
       "    <tr>\n",
       "      <th>3</th>\n",
       "      <td>4</td>\n",
       "      <td>Portugal</td>\n",
       "      <td>Wood aging gives this ripe blend of Baga and T...</td>\n",
       "      <td>NaN</td>\n",
       "      <td>90</td>\n",
       "      <td>20.0</td>\n",
       "      <td>Beira Atlantico</td>\n",
       "      <td>Alexander</td>\n",
       "      <td>Quinta de Foz de Arouce 2013 Red (Beira Atlant...</td>\n",
       "      <td>Portuguese Red</td>\n",
       "      <td>Quinta de Foz de Arouce</td>\n",
       "      <td>-0.779950</td>\n",
       "      <td>0.904967</td>\n",
       "      <td>-1.238041</td>\n",
       "      <td>-0.044324</td>\n",
       "      <td>0.074729</td>\n",
       "      <td>-0.077542</td>\n",
       "      <td>-0.790169</td>\n",
       "      <td>-0.126400</td>\n",
       "      <td>0.447050</td>\n",
       "      <td>-0.349880</td>\n",
       "      <td>0.842984</td>\n",
       "    </tr>\n",
       "    <tr>\n",
       "      <th>4</th>\n",
       "      <td>5</td>\n",
       "      <td>Portugal</td>\n",
       "      <td>A powerful wine, richly structured and full of...</td>\n",
       "      <td>Gerações Colheita Seleccionada</td>\n",
       "      <td>92</td>\n",
       "      <td>34.0</td>\n",
       "      <td>Alentejano</td>\n",
       "      <td>Paul</td>\n",
       "      <td>Herdade Grande 2010 Gerações Colheita Seleccio...</td>\n",
       "      <td>Portuguese Red</td>\n",
       "      <td>Herdade Grande</td>\n",
       "      <td>-0.203413</td>\n",
       "      <td>-0.269315</td>\n",
       "      <td>0.218952</td>\n",
       "      <td>-0.257583</td>\n",
       "      <td>-0.307974</td>\n",
       "      <td>0.018824</td>\n",
       "      <td>-0.669618</td>\n",
       "      <td>-0.126624</td>\n",
       "      <td>-0.202740</td>\n",
       "      <td>-0.002046</td>\n",
       "      <td>1.889015</td>\n",
       "    </tr>\n",
       "  </tbody>\n",
       "</table>\n",
       "</div>"
      ],
      "text/plain": [
       "   id   country                                        description  \\\n",
       "0   1  Portugal  This is ripe and fruity, a wine that is smooth...   \n",
       "1   2  Portugal  From an estate in the south of the Alentejo, t...   \n",
       "2   3  Portugal  A year in wood and 30 months in bottle before ...   \n",
       "3   4  Portugal  Wood aging gives this ripe blend of Baga and T...   \n",
       "4   5  Portugal  A powerful wine, richly structured and full of...   \n",
       "\n",
       "                      designation  points  price         province taster_name  \\\n",
       "0                        Avidagos      87   15.0            Douro       Kerin   \n",
       "1            Grande Reserva Tinto      91   26.0       Alentejano       Roger   \n",
       "2        Montes Claros Garrafeira      90   28.0         Alentejo        Paul   \n",
       "3                             NaN      90   20.0  Beira Atlantico   Alexander   \n",
       "4  Gerações Colheita Seleccionada      92   34.0       Alentejano        Paul   \n",
       "\n",
       "                                               title         variety  \\\n",
       "0      Quinta dos Avidagos 2011 Avidagos Red (Douro)  Portuguese Red   \n",
       "1  Casa Santa Vitória 2013 Grande Reserva Tinto R...  Portuguese Red   \n",
       "2  Adega Cooperativa de Borba 2012 Montes Claros ...  Portuguese Red   \n",
       "3  Quinta de Foz de Arouce 2013 Red (Beira Atlant...  Portuguese Red   \n",
       "4  Herdade Grande 2010 Gerações Colheita Seleccio...  Portuguese Red   \n",
       "\n",
       "                       winery  fixed acidity  volatile acidity  citric acid  \\\n",
       "0         Quinta dos Avidagos       0.949660         -1.331760     0.542728   \n",
       "1          Casa Santa Vitória      -0.030452         -1.499514     0.380840   \n",
       "2  Adega Cooperativa de Borba      -0.779950          0.904967    -1.238041   \n",
       "3     Quinta de Foz de Arouce      -0.779950          0.904967    -1.238041   \n",
       "4              Herdade Grande      -0.203413         -0.269315     0.218952   \n",
       "\n",
       "   residual sugar  chlorides  free sulfur dioxide  total sulfur dioxide  \\\n",
       "0        0.240020   0.223558            -0.559372             -0.639480   \n",
       "1       -0.826272  -0.244190            -0.752104             -0.729893   \n",
       "2       -0.044324   0.074729            -0.077542             -0.790169   \n",
       "3       -0.044324   0.074729            -0.077542             -0.790169   \n",
       "4       -0.257583  -0.307974             0.018824             -0.669618   \n",
       "\n",
       "    density        pH  sulphates   alcohol  \n",
       "0  0.827622  1.096839   1.447261 -0.678516  \n",
       "1 -0.126222 -0.332697   0.229843 -0.773610  \n",
       "2 -0.126400  0.447050  -0.349880  0.842984  \n",
       "3 -0.126400  0.447050  -0.349880  0.842984  \n",
       "4 -0.126624 -0.202740  -0.002046  1.889015  "
      ]
     },
     "execution_count": 50,
     "metadata": {},
     "output_type": "execute_result"
    }
   ],
   "source": [
    "wineZscore = wine\n",
    "for col in chemColNames:\n",
    "        wineZscore[col] = (wine[col] - wine[col].mean())/wine[col].std(ddof=0)\n",
    "wineZscore.head()"
   ]
  },
  {
   "cell_type": "code",
   "execution_count": 51,
   "metadata": {},
   "outputs": [
    {
     "data": {
      "text/plain": [
       "<AxesSubplot:>"
      ]
     },
     "execution_count": 51,
     "metadata": {},
     "output_type": "execute_result"
    },
    {
     "data": {
      "image/png": "[encoded data removed]",
      "text/plain": [
       "<Figure size 1440x720 with 1 Axes>"
      ]
     },
     "metadata": {},
     "output_type": "display_data"
    }
   ],
   "source": [
    "wineZscore.boxplot(figsize=(20,10), column=chemColNames)"
   ]
  },
  {
   "cell_type": "markdown",
   "metadata": {},
   "source": [
    "# Onderzoeksvraag 1\n"
   ]
  },
  {
   "cell_type": "markdown",
   "metadata": {},
   "source": [
    "Voor de eerste verplichte onderzoeksvraag gaan we supervised machine learning gebruiken. We willen de score van een wijn gaan voorspellen aan de hand van de chemische samenstelling. Dit gaan we doen met behulp van lineaire regressie. "
   ]
  },
  {
   "cell_type": "markdown",
   "metadata": {},
   "source": [
    "__1. Kies een modeltype__ "
   ]
  },
  {
   "cell_type": "markdown",
   "metadata": {},
   "source": [
    "__2. Kies de hyperparameters__\n"
   ]
  },
  {
   "cell_type": "markdown",
   "metadata": {},
   "source": [
    "__3. Organiseer de data (feature matrix, target vector)__"
   ]
  },
  {
   "cell_type": "code",
   "execution_count": 52,
   "metadata": {},
   "outputs": [],
   "source": [
    "features = ['fixed acidity', 'volatile acidity', 'citric acid', 'residual sugar', 'chlorides', 'free sulfur dioxide', 'total sulfur dioxide', 'density', 'pH', 'sulphates']"
   ]
  },
  {
   "cell_type": "markdown",
   "metadata": {},
   "source": [
    "Voor het toepassen van lineaire regressie beginnen we met het definieren van de feature variabelen. Dit zijn in dit geval alle variabelen die te maken hebben met de chemische samenstelling. Op basis van deze features willen we namelijk een voorspelling gaan doen. In de onderstaande tabel zien we de features met hun eerste 5 records. "
   ]
  },
  {
   "cell_type": "code",
   "execution_count": 53,
   "metadata": {},
   "outputs": [
    {
     "data": {
      "text/html": [
       "<div>\n",
       "<style scoped>\n",
       "    .dataframe tbody tr th:only-of-type {\n",
       "        vertical-align: middle;\n",
       "    }\n",
       "\n",
       "    .dataframe tbody tr th {\n",
       "        vertical-align: top;\n",
       "    }\n",
       "\n",
       "    .dataframe thead th {\n",
       "        text-align: right;\n",
       "    }\n",
       "</style>\n",
       "<table border=\"1\" class=\"dataframe\">\n",
       "  <thead>\n",
       "    <tr style=\"text-align: right;\">\n",
       "      <th></th>\n",
       "      <th>fixed acidity</th>\n",
       "      <th>volatile acidity</th>\n",
       "      <th>citric acid</th>\n",
       "      <th>residual sugar</th>\n",
       "      <th>chlorides</th>\n",
       "      <th>free sulfur dioxide</th>\n",
       "      <th>total sulfur dioxide</th>\n",
       "      <th>density</th>\n",
       "      <th>pH</th>\n",
       "      <th>sulphates</th>\n",
       "    </tr>\n",
       "  </thead>\n",
       "  <tbody>\n",
       "    <tr>\n",
       "      <th>0</th>\n",
       "      <td>0.949660</td>\n",
       "      <td>-1.331760</td>\n",
       "      <td>0.542728</td>\n",
       "      <td>0.240020</td>\n",
       "      <td>0.223558</td>\n",
       "      <td>-0.559372</td>\n",
       "      <td>-0.639480</td>\n",
       "      <td>0.827622</td>\n",
       "      <td>1.096839</td>\n",
       "      <td>1.447261</td>\n",
       "    </tr>\n",
       "    <tr>\n",
       "      <th>1</th>\n",
       "      <td>-0.030452</td>\n",
       "      <td>-1.499514</td>\n",
       "      <td>0.380840</td>\n",
       "      <td>-0.826272</td>\n",
       "      <td>-0.244190</td>\n",
       "      <td>-0.752104</td>\n",
       "      <td>-0.729893</td>\n",
       "      <td>-0.126222</td>\n",
       "      <td>-0.332697</td>\n",
       "      <td>0.229843</td>\n",
       "    </tr>\n",
       "    <tr>\n",
       "      <th>2</th>\n",
       "      <td>-0.779950</td>\n",
       "      <td>0.904967</td>\n",
       "      <td>-1.238041</td>\n",
       "      <td>-0.044324</td>\n",
       "      <td>0.074729</td>\n",
       "      <td>-0.077542</td>\n",
       "      <td>-0.790169</td>\n",
       "      <td>-0.126400</td>\n",
       "      <td>0.447050</td>\n",
       "      <td>-0.349880</td>\n",
       "    </tr>\n",
       "    <tr>\n",
       "      <th>3</th>\n",
       "      <td>-0.779950</td>\n",
       "      <td>0.904967</td>\n",
       "      <td>-1.238041</td>\n",
       "      <td>-0.044324</td>\n",
       "      <td>0.074729</td>\n",
       "      <td>-0.077542</td>\n",
       "      <td>-0.790169</td>\n",
       "      <td>-0.126400</td>\n",
       "      <td>0.447050</td>\n",
       "      <td>-0.349880</td>\n",
       "    </tr>\n",
       "    <tr>\n",
       "      <th>4</th>\n",
       "      <td>-0.203413</td>\n",
       "      <td>-0.269315</td>\n",
       "      <td>0.218952</td>\n",
       "      <td>-0.257583</td>\n",
       "      <td>-0.307974</td>\n",
       "      <td>0.018824</td>\n",
       "      <td>-0.669618</td>\n",
       "      <td>-0.126624</td>\n",
       "      <td>-0.202740</td>\n",
       "      <td>-0.002046</td>\n",
       "    </tr>\n",
       "  </tbody>\n",
       "</table>\n",
       "</div>"
      ],
      "text/plain": [
       "   fixed acidity  volatile acidity  citric acid  residual sugar  chlorides  \\\n",
       "0       0.949660         -1.331760     0.542728        0.240020   0.223558   \n",
       "1      -0.030452         -1.499514     0.380840       -0.826272  -0.244190   \n",
       "2      -0.779950          0.904967    -1.238041       -0.044324   0.074729   \n",
       "3      -0.779950          0.904967    -1.238041       -0.044324   0.074729   \n",
       "4      -0.203413         -0.269315     0.218952       -0.257583  -0.307974   \n",
       "\n",
       "   free sulfur dioxide  total sulfur dioxide   density        pH  sulphates  \n",
       "0            -0.559372             -0.639480  0.827622  1.096839   1.447261  \n",
       "1            -0.752104             -0.729893 -0.126222 -0.332697   0.229843  \n",
       "2            -0.077542             -0.790169 -0.126400  0.447050  -0.349880  \n",
       "3            -0.077542             -0.790169 -0.126400  0.447050  -0.349880  \n",
       "4             0.018824             -0.669618 -0.126624 -0.202740  -0.002046  "
      ]
     },
     "execution_count": 53,
     "metadata": {},
     "output_type": "execute_result"
    }
   ],
   "source": [
    "X = wine[features]\n",
    "X.head()"
   ]
  },
  {
   "cell_type": "code",
   "execution_count": 54,
   "metadata": {},
   "outputs": [
    {
     "data": {
      "text/plain": [
       "<AxesSubplot:ylabel='Frequency'>"
      ]
     },
     "execution_count": 54,
     "metadata": {},
     "output_type": "execute_result"
    },
    {
     "data": {
      "image/png": "[encoded data removed]",
      "text/plain": [
       "<Figure size 432x288 with 1 Axes>"
      ]
     },
     "metadata": {},
     "output_type": "display_data"
    }
   ],
   "source": [
    "X.plot.hist()"
   ]
  },
  {
   "cell_type": "code",
   "execution_count": 55,
   "metadata": {},
   "outputs": [
    {
     "name": "stdout",
     "output_type": "stream",
     "text": [
      "<class 'pandas.core.frame.DataFrame'>\n",
      "(2465, 10)\n"
     ]
    }
   ],
   "source": [
    "print(type(X))\n",
    "print(X.shape)"
   ]
  },
  {
   "cell_type": "markdown",
   "metadata": {},
   "source": [
    "Nu gaan we de target variabele specificeren. In dit geval is dit points. We willen namelijk het aantal points gaan voorspellen. "
   ]
  },
  {
   "cell_type": "code",
   "execution_count": 56,
   "metadata": {},
   "outputs": [
    {
     "data": {
      "text/plain": [
       "0    87\n",
       "1    91\n",
       "2    90\n",
       "3    90\n",
       "4    92\n",
       "Name: points, dtype: int64"
      ]
     },
     "execution_count": 56,
     "metadata": {},
     "output_type": "execute_result"
    }
   ],
   "source": [
    "y = wine['points']\n",
    "y.head()"
   ]
  },
  {
   "cell_type": "code",
   "execution_count": 57,
   "metadata": {},
   "outputs": [
    {
     "name": "stdout",
     "output_type": "stream",
     "text": [
      "<class 'pandas.core.series.Series'>\n",
      "(2465,)\n"
     ]
    }
   ],
   "source": [
    "print(type(y))\n",
    "print(y.shape)"
   ]
  },
  {
   "cell_type": "markdown",
   "metadata": {},
   "source": [
    "__4. Creeër een training- en validatie set.__"
   ]
  },
  {
   "cell_type": "code",
   "execution_count": 58,
   "metadata": {},
   "outputs": [
    {
     "name": "stderr",
     "output_type": "stream",
     "text": [
      "/Users/jet/opt/anaconda3/lib/python3.7/site-packages/pandas/core/series.py:4523: SettingWithCopyWarning: \n",
      "A value is trying to be set on a copy of a slice from a DataFrame\n",
      "\n",
      "See the caveats in the documentation: https://pandas.pydata.org/pandas-docs/stable/user_guide/indexing.html#returning-a-view-versus-a-copy\n",
      "  downcast=downcast,\n"
     ]
    }
   ],
   "source": [
    "X.fillna(X.mean(),inplace=True)\n",
    "y.fillna(y.mean(),inplace=True)\n",
    "\n",
    "X_train, X_test, y_train, y_test = train_test_split(X, y, random_state=2)"
   ]
  },
  {
   "cell_type": "markdown",
   "metadata": {},
   "source": [
    "We maken een training en test set aan. Hierna "
   ]
  },
  {
   "cell_type": "code",
   "execution_count": 59,
   "metadata": {},
   "outputs": [
    {
     "name": "stdout",
     "output_type": "stream",
     "text": [
      "(1848, 10)\n",
      "(1848,)\n",
      "(617, 10)\n",
      "(617,)\n"
     ]
    }
   ],
   "source": [
    "print(X_train.shape)\n",
    "print(y_train.shape)\n",
    "print(X_test.shape)\n",
    "print(y_test.shape)"
   ]
  },
  {
   "cell_type": "markdown",
   "metadata": {},
   "source": [
    "__5. Start het leerproces met fit()__"
   ]
  },
  {
   "cell_type": "code",
   "execution_count": 60,
   "metadata": {},
   "outputs": [],
   "source": [
    "linreg = LinearRegression()"
   ]
  },
  {
   "cell_type": "code",
   "execution_count": 61,
   "metadata": {},
   "outputs": [
    {
     "data": {
      "text/plain": [
       "LinearRegression()"
      ]
     },
     "execution_count": 61,
     "metadata": {},
     "output_type": "execute_result"
    }
   ],
   "source": [
    "linreg.fit(X_train, y_train)"
   ]
  },
  {
   "cell_type": "code",
   "execution_count": 62,
   "metadata": {},
   "outputs": [
    {
     "data": {
      "text/plain": [
       "0.13348300103817046"
      ]
     },
     "execution_count": 62,
     "metadata": {},
     "output_type": "execute_result"
    }
   ],
   "source": [
    "linreg.score(X_test,y_test)"
   ]
  },
  {
   "cell_type": "code",
   "execution_count": 63,
   "metadata": {},
   "outputs": [],
   "source": [
    "y_pred = linreg.predict(X_test)"
   ]
  },
  {
   "cell_type": "code",
   "execution_count": 64,
   "metadata": {},
   "outputs": [
    {
     "data": {
      "text/plain": [
       "2.6745336765867216"
      ]
     },
     "execution_count": 64,
     "metadata": {},
     "output_type": "execute_result"
    }
   ],
   "source": [
    "np.sqrt(mean_squared_error(y_test,y_pred))"
   ]
  },
  {
   "cell_type": "code",
   "execution_count": null,
   "metadata": {},
   "outputs": [],
   "source": []
  },
  {
   "cell_type": "markdown",
   "metadata": {},
   "source": [
    "# Onderzoeksvraag 2: Als we wijnen categoriseren op basis van de chemische samenstelling, zijn er bepaalde categorieën die mannelijke proevers anders beoordelen dan vrouwelijke proevers?\n"
   ]
  },
  {
   "cell_type": "markdown",
   "metadata": {},
   "source": [
    "We willen bij deze onderzoeksvraag mannelijke en vrouwelijke proevers vergelijken door te kijken of de ene groep een bepaalde voorkeur heeft voor een bepaalde categorie wijn."
   ]
  },
  {
   "cell_type": "markdown",
   "metadata": {},
   "source": [
    "Eerst gaan we de dataset filteren op het jaar. Aangezien de namen in de names.csv file teruggaan tot aan 1880, en deze namen niet allemaal even bruikbaar zijn kijken we alleen naar het laatste jaar namen van deze dataset (2014). "
   ]
  },
  {
   "cell_type": "code",
   "execution_count": 65,
   "metadata": {},
   "outputs": [
    {
     "data": {
      "text/html": [
       "<div>\n",
       "<style scoped>\n",
       "    .dataframe tbody tr th:only-of-type {\n",
       "        vertical-align: middle;\n",
       "    }\n",
       "\n",
       "    .dataframe tbody tr th {\n",
       "        vertical-align: top;\n",
       "    }\n",
       "\n",
       "    .dataframe thead th {\n",
       "        text-align: right;\n",
       "    }\n",
       "</style>\n",
       "<table border=\"1\" class=\"dataframe\">\n",
       "  <thead>\n",
       "    <tr style=\"text-align: right;\">\n",
       "      <th></th>\n",
       "      <th>Name</th>\n",
       "      <th>Year</th>\n",
       "      <th>Gender</th>\n",
       "    </tr>\n",
       "  </thead>\n",
       "  <tbody>\n",
       "    <tr>\n",
       "      <th>1792389</th>\n",
       "      <td>Emma</td>\n",
       "      <td>2014</td>\n",
       "      <td>F</td>\n",
       "    </tr>\n",
       "    <tr>\n",
       "      <th>1792390</th>\n",
       "      <td>Olivia</td>\n",
       "      <td>2014</td>\n",
       "      <td>F</td>\n",
       "    </tr>\n",
       "    <tr>\n",
       "      <th>1792391</th>\n",
       "      <td>Sophia</td>\n",
       "      <td>2014</td>\n",
       "      <td>F</td>\n",
       "    </tr>\n",
       "    <tr>\n",
       "      <th>1792392</th>\n",
       "      <td>Isabella</td>\n",
       "      <td>2014</td>\n",
       "      <td>F</td>\n",
       "    </tr>\n",
       "    <tr>\n",
       "      <th>1792393</th>\n",
       "      <td>Ava</td>\n",
       "      <td>2014</td>\n",
       "      <td>F</td>\n",
       "    </tr>\n",
       "    <tr>\n",
       "      <th>...</th>\n",
       "      <td>...</td>\n",
       "      <td>...</td>\n",
       "      <td>...</td>\n",
       "    </tr>\n",
       "    <tr>\n",
       "      <th>1825428</th>\n",
       "      <td>Zykeem</td>\n",
       "      <td>2014</td>\n",
       "      <td>M</td>\n",
       "    </tr>\n",
       "    <tr>\n",
       "      <th>1825429</th>\n",
       "      <td>Zymeer</td>\n",
       "      <td>2014</td>\n",
       "      <td>M</td>\n",
       "    </tr>\n",
       "    <tr>\n",
       "      <th>1825430</th>\n",
       "      <td>Zymiere</td>\n",
       "      <td>2014</td>\n",
       "      <td>M</td>\n",
       "    </tr>\n",
       "    <tr>\n",
       "      <th>1825431</th>\n",
       "      <td>Zyran</td>\n",
       "      <td>2014</td>\n",
       "      <td>M</td>\n",
       "    </tr>\n",
       "    <tr>\n",
       "      <th>1825432</th>\n",
       "      <td>Zyrin</td>\n",
       "      <td>2014</td>\n",
       "      <td>M</td>\n",
       "    </tr>\n",
       "  </tbody>\n",
       "</table>\n",
       "<p>33044 rows × 3 columns</p>\n",
       "</div>"
      ],
      "text/plain": [
       "             Name  Year Gender\n",
       "1792389      Emma  2014      F\n",
       "1792390    Olivia  2014      F\n",
       "1792391    Sophia  2014      F\n",
       "1792392  Isabella  2014      F\n",
       "1792393       Ava  2014      F\n",
       "...           ...   ...    ...\n",
       "1825428    Zykeem  2014      M\n",
       "1825429    Zymeer  2014      M\n",
       "1825430   Zymiere  2014      M\n",
       "1825431     Zyran  2014      M\n",
       "1825432     Zyrin  2014      M\n",
       "\n",
       "[33044 rows x 3 columns]"
      ]
     },
     "execution_count": 65,
     "metadata": {},
     "output_type": "execute_result"
    }
   ],
   "source": [
    "df1 = name[name['Year'] >= 2014]\n",
    "df1"
   ]
  },
  {
   "cell_type": "markdown",
   "metadata": {},
   "source": [
    "Nu gaan we onze twee datasets mergen. We doen een inner join op de twee kolommen waar de namen in staan en printen de eerste 5 records. "
   ]
  },
  {
   "cell_type": "code",
   "execution_count": 66,
   "metadata": {},
   "outputs": [
    {
     "data": {
      "text/html": [
       "<div>\n",
       "<style scoped>\n",
       "    .dataframe tbody tr th:only-of-type {\n",
       "        vertical-align: middle;\n",
       "    }\n",
       "\n",
       "    .dataframe tbody tr th {\n",
       "        vertical-align: top;\n",
       "    }\n",
       "\n",
       "    .dataframe thead th {\n",
       "        text-align: right;\n",
       "    }\n",
       "</style>\n",
       "<table border=\"1\" class=\"dataframe\">\n",
       "  <thead>\n",
       "    <tr style=\"text-align: right;\">\n",
       "      <th></th>\n",
       "      <th>Name</th>\n",
       "      <th>Year</th>\n",
       "      <th>Gender</th>\n",
       "      <th>id</th>\n",
       "      <th>country</th>\n",
       "      <th>description</th>\n",
       "      <th>designation</th>\n",
       "      <th>points</th>\n",
       "      <th>price</th>\n",
       "      <th>province</th>\n",
       "      <th>taster_name</th>\n",
       "      <th>title</th>\n",
       "      <th>variety</th>\n",
       "      <th>winery</th>\n",
       "      <th>fixed acidity</th>\n",
       "      <th>volatile acidity</th>\n",
       "      <th>citric acid</th>\n",
       "      <th>residual sugar</th>\n",
       "      <th>chlorides</th>\n",
       "      <th>free sulfur dioxide</th>\n",
       "      <th>total sulfur dioxide</th>\n",
       "      <th>density</th>\n",
       "      <th>pH</th>\n",
       "      <th>sulphates</th>\n",
       "      <th>alcohol</th>\n",
       "    </tr>\n",
       "  </thead>\n",
       "  <tbody>\n",
       "    <tr>\n",
       "      <th>0</th>\n",
       "      <td>Anna</td>\n",
       "      <td>2014</td>\n",
       "      <td>F</td>\n",
       "      <td>9</td>\n",
       "      <td>Portugal</td>\n",
       "      <td>Powerful and concentrated, this is just at its...</td>\n",
       "      <td>Grande Reserva</td>\n",
       "      <td>92</td>\n",
       "      <td>32.0</td>\n",
       "      <td>Alentejo</td>\n",
       "      <td>Anna</td>\n",
       "      <td>Monte da Penha 2005 Grande Reserva Red (Alentejo)</td>\n",
       "      <td>Portuguese Red</td>\n",
       "      <td>Monte da Penha</td>\n",
       "      <td>-0.261067</td>\n",
       "      <td>-1.108087</td>\n",
       "      <td>0.596691</td>\n",
       "      <td>-0.755186</td>\n",
       "      <td>-0.669415</td>\n",
       "      <td>-0.944836</td>\n",
       "      <td>-0.368242</td>\n",
       "      <td>-0.126586</td>\n",
       "      <td>-0.137761</td>\n",
       "      <td>0.287815</td>\n",
       "      <td>0.557703</td>\n",
       "    </tr>\n",
       "    <tr>\n",
       "      <th>1</th>\n",
       "      <td>Anna</td>\n",
       "      <td>2014</td>\n",
       "      <td>F</td>\n",
       "      <td>16</td>\n",
       "      <td>Portugal</td>\n",
       "      <td>A rich full wine that has swathes of black fru...</td>\n",
       "      <td>Herdade dos Machados Reserva</td>\n",
       "      <td>88</td>\n",
       "      <td>19.0</td>\n",
       "      <td>Alentejo</td>\n",
       "      <td>Anna</td>\n",
       "      <td>Casa Agricola Santos Jorge 2012 Herdade dos Ma...</td>\n",
       "      <td>Portuguese Red</td>\n",
       "      <td>Casa Agricola Santos Jorge</td>\n",
       "      <td>0.142509</td>\n",
       "      <td>1.100680</td>\n",
       "      <td>-0.320675</td>\n",
       "      <td>2.870207</td>\n",
       "      <td>0.627523</td>\n",
       "      <td>1.464312</td>\n",
       "      <td>2.615385</td>\n",
       "      <td>0.828469</td>\n",
       "      <td>0.057176</td>\n",
       "      <td>2.374817</td>\n",
       "      <td>-1.058891</td>\n",
       "    </tr>\n",
       "    <tr>\n",
       "      <th>2</th>\n",
       "      <td>Anna</td>\n",
       "      <td>2014</td>\n",
       "      <td>F</td>\n",
       "      <td>59</td>\n",
       "      <td>Portugal</td>\n",
       "      <td>This is a rich, full wine that has red fruits ...</td>\n",
       "      <td>Montaria Tinto</td>\n",
       "      <td>84</td>\n",
       "      <td>8.0</td>\n",
       "      <td>Alentejano</td>\n",
       "      <td>Anna</td>\n",
       "      <td>Parras Vinhos 2014 Montaria Tinto Red (Alentej...</td>\n",
       "      <td>Portuguese Red</td>\n",
       "      <td>Parras Vinhos</td>\n",
       "      <td>-0.779950</td>\n",
       "      <td>2.498634</td>\n",
       "      <td>-1.399929</td>\n",
       "      <td>-0.399755</td>\n",
       "      <td>-0.010316</td>\n",
       "      <td>-0.366640</td>\n",
       "      <td>0.596163</td>\n",
       "      <td>-0.126407</td>\n",
       "      <td>0.252113</td>\n",
       "      <td>-0.349880</td>\n",
       "      <td>-0.963797</td>\n",
       "    </tr>\n",
       "    <tr>\n",
       "      <th>3</th>\n",
       "      <td>Anna</td>\n",
       "      <td>2014</td>\n",
       "      <td>F</td>\n",
       "      <td>68</td>\n",
       "      <td>Portugal</td>\n",
       "      <td>A fresh, juicy wine with berry fruits, ripe bu...</td>\n",
       "      <td>Porca de Murça Tinto</td>\n",
       "      <td>88</td>\n",
       "      <td>10.0</td>\n",
       "      <td>Douro</td>\n",
       "      <td>Anna</td>\n",
       "      <td>Real Companhia Velha 2007 Porca de Murça Tinto...</td>\n",
       "      <td>Portuguese Red</td>\n",
       "      <td>Real Companhia Velha</td>\n",
       "      <td>-0.779950</td>\n",
       "      <td>0.513540</td>\n",
       "      <td>-0.644451</td>\n",
       "      <td>-0.755186</td>\n",
       "      <td>-0.541848</td>\n",
       "      <td>-0.848470</td>\n",
       "      <td>0.083823</td>\n",
       "      <td>-0.126465</td>\n",
       "      <td>-1.502318</td>\n",
       "      <td>-0.349880</td>\n",
       "      <td>-1.058891</td>\n",
       "    </tr>\n",
       "    <tr>\n",
       "      <th>4</th>\n",
       "      <td>Anna</td>\n",
       "      <td>2014</td>\n",
       "      <td>F</td>\n",
       "      <td>80</td>\n",
       "      <td>Portugal</td>\n",
       "      <td>This huge, fruity wine is packed with tannins ...</td>\n",
       "      <td>Valdazar</td>\n",
       "      <td>86</td>\n",
       "      <td>24.0</td>\n",
       "      <td>Bairrada</td>\n",
       "      <td>Anna</td>\n",
       "      <td>Campolargo 2011 Valdazar Red (Bairrada)</td>\n",
       "      <td>Portuguese Red</td>\n",
       "      <td>Campolargo</td>\n",
       "      <td>-0.722297</td>\n",
       "      <td>1.156598</td>\n",
       "      <td>-0.752377</td>\n",
       "      <td>-0.470841</td>\n",
       "      <td>0.266081</td>\n",
       "      <td>-0.077542</td>\n",
       "      <td>0.897539</td>\n",
       "      <td>-0.126307</td>\n",
       "      <td>-0.267718</td>\n",
       "      <td>-0.117991</td>\n",
       "      <td>-1.058891</td>\n",
       "    </tr>\n",
       "  </tbody>\n",
       "</table>\n",
       "</div>"
      ],
      "text/plain": [
       "   Name  Year Gender  id   country  \\\n",
       "0  Anna  2014      F   9  Portugal   \n",
       "1  Anna  2014      F  16  Portugal   \n",
       "2  Anna  2014      F  59  Portugal   \n",
       "3  Anna  2014      F  68  Portugal   \n",
       "4  Anna  2014      F  80  Portugal   \n",
       "\n",
       "                                         description  \\\n",
       "0  Powerful and concentrated, this is just at its...   \n",
       "1  A rich full wine that has swathes of black fru...   \n",
       "2  This is a rich, full wine that has red fruits ...   \n",
       "3  A fresh, juicy wine with berry fruits, ripe bu...   \n",
       "4  This huge, fruity wine is packed with tannins ...   \n",
       "\n",
       "                    designation  points  price    province taster_name  \\\n",
       "0                Grande Reserva      92   32.0    Alentejo        Anna   \n",
       "1  Herdade dos Machados Reserva      88   19.0    Alentejo        Anna   \n",
       "2                Montaria Tinto      84    8.0  Alentejano        Anna   \n",
       "3          Porca de Murça Tinto      88   10.0       Douro        Anna   \n",
       "4                      Valdazar      86   24.0    Bairrada        Anna   \n",
       "\n",
       "                                               title         variety  \\\n",
       "0  Monte da Penha 2005 Grande Reserva Red (Alentejo)  Portuguese Red   \n",
       "1  Casa Agricola Santos Jorge 2012 Herdade dos Ma...  Portuguese Red   \n",
       "2  Parras Vinhos 2014 Montaria Tinto Red (Alentej...  Portuguese Red   \n",
       "3  Real Companhia Velha 2007 Porca de Murça Tinto...  Portuguese Red   \n",
       "4            Campolargo 2011 Valdazar Red (Bairrada)  Portuguese Red   \n",
       "\n",
       "                       winery  fixed acidity  volatile acidity  citric acid  \\\n",
       "0              Monte da Penha      -0.261067         -1.108087     0.596691   \n",
       "1  Casa Agricola Santos Jorge       0.142509          1.100680    -0.320675   \n",
       "2               Parras Vinhos      -0.779950          2.498634    -1.399929   \n",
       "3        Real Companhia Velha      -0.779950          0.513540    -0.644451   \n",
       "4                  Campolargo      -0.722297          1.156598    -0.752377   \n",
       "\n",
       "   residual sugar  chlorides  free sulfur dioxide  total sulfur dioxide  \\\n",
       "0       -0.755186  -0.669415            -0.944836             -0.368242   \n",
       "1        2.870207   0.627523             1.464312              2.615385   \n",
       "2       -0.399755  -0.010316            -0.366640              0.596163   \n",
       "3       -0.755186  -0.541848            -0.848470              0.083823   \n",
       "4       -0.470841   0.266081            -0.077542              0.897539   \n",
       "\n",
       "    density        pH  sulphates   alcohol  \n",
       "0 -0.126586 -0.137761   0.287815  0.557703  \n",
       "1  0.828469  0.057176   2.374817 -1.058891  \n",
       "2 -0.126407  0.252113  -0.349880 -0.963797  \n",
       "3 -0.126465 -1.502318  -0.349880 -1.058891  \n",
       "4 -0.126307 -0.267718  -0.117991 -1.058891  "
      ]
     },
     "execution_count": 66,
     "metadata": {},
     "output_type": "execute_result"
    }
   ],
   "source": [
    "merge = pd.merge(df1, wine, how = 'inner', left_on='Name',right_on='taster_name')\n",
    "merge.head()"
   ]
  },
  {
   "cell_type": "markdown",
   "metadata": {},
   "source": [
    "Nu printen we de tabel waarbij we de naam van de proever en het geslacht tonen. "
   ]
  },
  {
   "cell_type": "code",
   "execution_count": 67,
   "metadata": {},
   "outputs": [
    {
     "data": {
      "text/html": [
       "<div>\n",
       "<style scoped>\n",
       "    .dataframe tbody tr th:only-of-type {\n",
       "        vertical-align: middle;\n",
       "    }\n",
       "\n",
       "    .dataframe tbody tr th {\n",
       "        vertical-align: top;\n",
       "    }\n",
       "\n",
       "    .dataframe thead th {\n",
       "        text-align: right;\n",
       "    }\n",
       "</style>\n",
       "<table border=\"1\" class=\"dataframe\">\n",
       "  <thead>\n",
       "    <tr style=\"text-align: right;\">\n",
       "      <th></th>\n",
       "      <th>taster_name</th>\n",
       "      <th>Gender</th>\n",
       "    </tr>\n",
       "  </thead>\n",
       "  <tbody>\n",
       "    <tr>\n",
       "      <th>0</th>\n",
       "      <td>Anna</td>\n",
       "      <td>F</td>\n",
       "    </tr>\n",
       "    <tr>\n",
       "      <th>1</th>\n",
       "      <td>Anna</td>\n",
       "      <td>F</td>\n",
       "    </tr>\n",
       "    <tr>\n",
       "      <th>2</th>\n",
       "      <td>Anna</td>\n",
       "      <td>F</td>\n",
       "    </tr>\n",
       "    <tr>\n",
       "      <th>3</th>\n",
       "      <td>Anna</td>\n",
       "      <td>F</td>\n",
       "    </tr>\n",
       "    <tr>\n",
       "      <th>4</th>\n",
       "      <td>Anna</td>\n",
       "      <td>F</td>\n",
       "    </tr>\n",
       "  </tbody>\n",
       "</table>\n",
       "</div>"
      ],
      "text/plain": [
       "  taster_name Gender\n",
       "0        Anna      F\n",
       "1        Anna      F\n",
       "2        Anna      F\n",
       "3        Anna      F\n",
       "4        Anna      F"
      ]
     },
     "execution_count": 67,
     "metadata": {},
     "output_type": "execute_result"
    }
   ],
   "source": [
    "tasters = merge[['taster_name', 'Gender']]\n",
    "tasters.head()"
   ]
  },
  {
   "cell_type": "markdown",
   "metadata": {},
   "source": [
    "Hieronder printen we hoe vaak een naam voorkomt met het bijbehorende geslacht. We kunnen zien dat bij een aantal namen er records zijn voor zowel Male als Female. "
   ]
  },
  {
   "cell_type": "code",
   "execution_count": 68,
   "metadata": {},
   "outputs": [
    {
     "data": {
      "text/plain": [
       "taster_name  Gender\n",
       "Roger        M         630\n",
       "Michael      M         384\n",
       "             F         384\n",
       "Paul         M         218\n",
       "Joe          M         143\n",
       "Matt         M         140\n",
       "Sean         M         125\n",
       "Jim          M         107\n",
       "Anna         F          84\n",
       "Anne         F          55\n",
       "Lauren       F          38\n",
       "             M          38\n",
       "Susan        M          29\n",
       "             F          29\n",
       "Alexander    M          14\n",
       "             F          14\n",
       "Jeff         M           9\n",
       "Mike         M           5\n",
       "Fiona        F           3\n",
       "Carrie       F           3\n",
       "dtype: int64"
      ]
     },
     "execution_count": 68,
     "metadata": {},
     "output_type": "execute_result"
    }
   ],
   "source": [
    "tasters.value_counts() "
   ]
  }
 ],
 "metadata": {
  "kernelspec": {
   "display_name": "Python 3",
   "language": "python",
   "name": "python3"
  },
  "language_info": {
   "codemirror_mode": {
    "name": "ipython",
    "version": 3
   },
   "file_extension": ".py",
   "mimetype": "text/x-python",
   "name": "python",
   "nbconvert_exporter": "python",
   "pygments_lexer": "ipython3",
   "version": "3.7.4"
  }
 },
 "nbformat": 4,
 "nbformat_minor": 4
}
