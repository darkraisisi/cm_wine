{
 "cells": [
  {
   "cell_type": "code",
   "execution_count": null,
   "metadata": {},
   "outputs": [],
   "source": [
    "import pandas as pd\n",
    "import numpy as np\n",
    "\n",
    "import nltk\n",
    "from nltk.corpus import stopwords\n",
    "# nltk.download()\n",
    "\n",
    "import matplotlib as mpl\n",
    "import seaborn as sns\n",
    "import matplotlib.pyplot as plt\n",
    "from matplotlib.patches import Polygon\n",
    "\n",
    "from scipy import stats\n",
    "\n",
    "from sklearn.cluster import KMeans\n",
    "from sklearn.mixture import GaussianMixture\n",
    "from sklearn.metrics import accuracy_score\n",
    "\n",
    "pd.set_option('display.max_columns', None)"
   ]
  },
  {
   "cell_type": "code",
   "execution_count": null,
   "metadata": {},
   "outputs": [],
   "source": [
    "wine = pd.read_csv('redwine.csv', delimiter=';')\n",
    "chemColNames = ['fixed acidity','volatile acidity','citric acid','residual sugar','chlorides','free sulfur dioxide','total sulfur dioxide','density','pH','sulphates','alcohol']\n",
    "chem = wine[chemColNames]\n",
    "\n",
    "colErrorPairs = {\n",
    "    'density'    : [' . '],\n",
    "    'citric acid': [' - ',' -   '],\n",
    "    'alcohol'    : ['100.333.333.333.333','11.066.666.666.666.600','956.666.666.666.667','923.333.333.333.333']}\n",
    "\n",
    "for colName in colErrorPairs:\n",
    "    for faultyString in colErrorPairs[colName]:\n",
    "        wine[colName] = wine[colName].replace(faultyString,np.nan)\n",
    "        \n",
    "wine['alcohol'] = wine['alcohol'].astype(float)\n",
    "wine['density'] = wine['density'].astype(float)\n",
    "wine['citric acid'] = wine['citric acid'].astype(float)\n",
    "\n",
    "wine['taster_name'] = wine['taster_name'].apply(lambda name: name.split(\" \")[0])"
   ]
  },
  {
   "cell_type": "code",
   "execution_count": null,
   "metadata": {},
   "outputs": [],
   "source": [
    "name = pd.read_csv('names.csv', usecols=['Name','Gender', 'Year','Count'])"
   ]
  },
  {
   "cell_type": "markdown",
   "metadata": {},
   "source": [
    "# Onderzoeksvraag 2: Als we wijnen categoriseren op basis van de chemische samenstelling, zijn er bepaalde categorieën die mannelijke proevers anders beoordelen dan vrouwelijke proevers?\n"
   ]
  },
  {
   "cell_type": "markdown",
   "metadata": {},
   "source": [
    "We willen bij deze onderzoeksvraag mannelijke en vrouwelijke proevers vergelijken door te kijken of de ene groep een bepaalde voorkeur heeft voor een bepaalde categorie wijn."
   ]
  },
  {
   "cell_type": "code",
   "execution_count": null,
   "metadata": {},
   "outputs": [],
   "source": [
    "# name = name[name['Year'] >= 2014]\n",
    "name"
   ]
  },
  {
   "cell_type": "code",
   "execution_count": null,
   "metadata": {},
   "outputs": [],
   "source": [
    "name.sort_values(by=['Count'],ascending=False, inplace=True)\n",
    "name.drop_duplicates(subset=['Name'], keep='first', inplace=True)\n",
    "name.sort_values(by=['Name'], inplace=True)"
   ]
  },
  {
   "cell_type": "markdown",
   "metadata": {},
   "source": [
    "Nu gaan we onze twee datasets mergen. We doen een inner join op de twee kolommen waar de namen in staan en printen de eerste 5 records. "
   ]
  },
  {
   "cell_type": "code",
   "execution_count": null,
   "metadata": {},
   "outputs": [],
   "source": [
    "merge = wine.merge(name, left_on='taster_name', right_on='Name', how=\"left\")\n",
    "merge.drop(['Count','Name','Year'], axis = 1, inplace=True)\n",
    "merge.head()"
   ]
  },
  {
   "cell_type": "markdown",
   "metadata": {},
   "source": [
    "Nu printen we de tabel waarbij we de naam van de proever en het geslacht tonen en het aantal wijnen dat ze hebben geproeft."
   ]
  },
  {
   "cell_type": "code",
   "execution_count": null,
   "metadata": {},
   "outputs": [],
   "source": [
    "nameCount = merge.groupby(['taster_name', 'Gender']).size().reset_index(name='count')\n",
    "nameCount.sort_values(by='count',ascending=False)"
   ]
  },
  {
   "cell_type": "code",
   "execution_count": null,
   "metadata": {},
   "outputs": [],
   "source": [
    "count = merge['Gender'].value_counts()\n",
    "count.plot.pie(y ='Gender', figsize = (5,5), colors = ['lightblue', 'pink'])"
   ]
  },
  {
   "cell_type": "markdown",
   "metadata": {},
   "source": [
    "## Clusteren\n"
   ]
  },
  {
   "cell_type": "code",
   "execution_count": null,
   "metadata": {},
   "outputs": [],
   "source": [
    "chemColNames = ['pH','fixed acidity','volatile acidity','citric acid','residual sugar','chlorides','free sulfur dioxide','total sulfur dioxide','density','sulphates','alcohol']"
   ]
  },
  {
   "cell_type": "code",
   "execution_count": null,
   "metadata": {},
   "outputs": [],
   "source": [
    "wineZscore = merge.copy()"
   ]
  },
  {
   "cell_type": "code",
   "execution_count": null,
   "metadata": {},
   "outputs": [],
   "source": [
    "for col in chemColNames:\n",
    "    wineZscore[col] = (wine[col] - wine[col].mean())/wine[col].std(ddof=0)\n"
   ]
  },
  {
   "cell_type": "code",
   "execution_count": null,
   "metadata": {},
   "outputs": [],
   "source": [
    "wineZscore = wineZscore.dropna(subset=chemColNames)\n",
    "chemZscore = wineZscore[chemColNames]\n",
    "chemZscore.shape, wineZscore.shape"
   ]
  },
  {
   "cell_type": "code",
   "execution_count": null,
   "metadata": {},
   "outputs": [],
   "source": [
    "kMeansData = chemZscore.copy()\n",
    "kMeansData.head(10)"
   ]
  },
  {
   "cell_type": "code",
   "execution_count": null,
   "metadata": {},
   "outputs": [],
   "source": [
    "kMeansData = kMeansData.values"
   ]
  },
  {
   "cell_type": "code",
   "execution_count": null,
   "metadata": {},
   "outputs": [],
   "source": [
    "n_cluster = 20"
   ]
  },
  {
   "cell_type": "code",
   "execution_count": null,
   "metadata": {},
   "outputs": [],
   "source": [
    "fig, (kmeansClustorPlot) = plt.subplots()\n",
    "fig.set_size_inches(18, 7)\n",
    "\n",
    "kmeans = KMeans(n_clusters=n_cluster, random_state=10)\n",
    "kmeans_cluster_labels = kmeans.fit_predict(kMeansData)\n",
    "\n",
    "\n",
    "colors = mpl.cm.nipy_spectral(kmeans_cluster_labels.astype(float) / n_cluster)\n",
    "kmeansClustorPlot.scatter(kMeansData[:,0], kMeansData[:,1],marker='.', s=30, lw=0, alpha=0.7, c = colors, edgecolor='k')\n",
    "\n",
    "centers = kmeans.cluster_centers_\n",
    "kmeansClustorPlot.scatter(centers[:, 0], centers[:, 1], marker='o', c=\"white\", alpha=1, s=200, edgecolor='k')\n",
    "kmeans.score(kMeansData)"
   ]
  },
  {
   "cell_type": "code",
   "execution_count": null,
   "metadata": {},
   "outputs": [],
   "source": [
    "wineZscore['kmeans_cluster'] = kmeans_cluster_labels"
   ]
  },
  {
   "cell_type": "code",
   "execution_count": null,
   "metadata": {},
   "outputs": [],
   "source": [
    "gmm = GaussianMixture(n_components=n_cluster, random_state=10, covariance_type='full')\n",
    "gmm_cluster_labels = gmm.fit_predict(kMeansData)\n",
    "\n",
    "# centers = gmm.cluster_centers_\n",
    "\n",
    "fig, (gmmClustorPlot) = plt.subplots()\n",
    "fig.set_size_inches(18, 7)\n",
    "\n",
    "colors = mpl.cm.nipy_spectral(gmm_cluster_labels.astype(float) / n_cluster)\n",
    "\n",
    "gmmClustorPlot.scatter(kMeansData[:,0], kMeansData[:,1],marker='.', s=30, lw=0, alpha=0.7, c = colors, edgecolor='k')\n",
    "# gmmClustorPlot.scatter(centers[:, 0], centers[:, 1], marker='o', c=\"white\", alpha=1, s=200, edgecolor='k')\n",
    "gmm.score(kMeansData)"
   ]
  },
  {
   "cell_type": "code",
   "execution_count": null,
   "metadata": {},
   "outputs": [],
   "source": [
    "relevant = ['id','points','price','taster_name','Gender','kmeans_cluster','gmm_cluster']\n",
    "wineZscore['gmm_cluster'] = gmm_cluster_labels\n",
    "wineZscore[relevant].head()"
   ]
  },
  {
   "cell_type": "code",
   "execution_count": null,
   "metadata": {},
   "outputs": [],
   "source": [
    "# wineZscore.groupby('kmeans_cluster').filter(like='M').count()\n",
    "totalAmount = wineZscore.shape[0]\n",
    "for i in range(n_cluster):\n",
    "    m = wineZscore['Gender'][(wineZscore['Gender'] == \"M\") & (wineZscore['kmeans_cluster'] == i)].count()\n",
    "    f = wineZscore['Gender'][(wineZscore['Gender'] == \"F\") & (wineZscore['kmeans_cluster'] == i)].count()\n",
    "    \n",
    "    mScore = wineZscore['points'][(wineZscore['Gender'] == \"M\") & (wineZscore['kmeans_cluster'] == i)].sum()\n",
    "    fScore = wineZscore['points'][(wineZscore['Gender'] == \"F\") & (wineZscore['kmeans_cluster'] == i)].sum()\n",
    "    \n",
    "    clusterScore = wineZscore['points'][(wineZscore['kmeans_cluster'] == i)].sum()\n",
    "    \n",
    "    tasterCount = m + f\n",
    "    print(f'Kmeans cluster: {i} Count Males: {m}/ Females: {f}')\n",
    "    print(f'Average cluster score: {clusterScore/tasterCount}')\n",
    "    print(f'Per gender score: Males: {mScore/m},Females: {fScore/f}\\n')\n",
    "\n",
    "# wineZscore['Gender'][(wineZscore['Gender'] == \"M\") & (wineZscore['kmeans_cluster'] == 3)].count()\n",
    "# wineZscore[(wineZscore['Gender'] == \"F\")].count()"
   ]
  },
  {
   "cell_type": "code",
   "execution_count": null,
   "metadata": {},
   "outputs": [],
   "source": [
    "for i in range(n_cluster):\n",
    "    m = wineZscore['Gender'][(wineZscore['Gender'] == \"M\") & (wineZscore['gmm_cluster'] == i)].count()\n",
    "    f = wineZscore['Gender'][(wineZscore['Gender'] == \"F\") & (wineZscore['gmm_cluster'] == i)].count()\n",
    "    \n",
    "    mScore = wineZscore['points'][(wineZscore['Gender'] == \"M\") & (wineZscore['gmm_cluster'] == i)].sum()\n",
    "    fScore = wineZscore['points'][(wineZscore['Gender'] == \"F\") & (wineZscore['gmm_cluster'] == i)].sum()\n",
    "    \n",
    "    clusterScore = wineZscore['points'][(wineZscore['gmm_cluster'] == i)].sum()\n",
    "    \n",
    "    tasterCount = m + f\n",
    "    print(f'Kmeans cluster: {i} Count Males: {m}/ Females: {f}')\n",
    "    print(f'Average cluster score: {clusterScore/tasterCount}')\n",
    "    print(f'Per gender score: Males: {mScore/m},Females: {fScore/f}\\n')"
   ]
  }
 ],
 "metadata": {
  "kernelspec": {
   "display_name": "Python 3.8.3 64-bit",
   "language": "python",
   "name": "python38364bit5cdb2531dd3545ea9b3fd1a8a995abfc"
  },
  "language_info": {
   "codemirror_mode": {
    "name": "ipython",
    "version": 3
   },
   "file_extension": ".py",
   "mimetype": "text/x-python",
   "name": "python",
   "nbconvert_exporter": "python",
   "pygments_lexer": "ipython3",
   "version": "3.8.3"
  }
 },
 "nbformat": 4,
 "nbformat_minor": 2
}
