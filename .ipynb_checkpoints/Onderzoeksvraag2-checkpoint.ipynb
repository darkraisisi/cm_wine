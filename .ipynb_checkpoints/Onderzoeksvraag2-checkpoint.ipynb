{
 "cells": [
  {
   "cell_type": "markdown",
   "metadata": {},
   "source": [
    "# Onderzoeksvraag 2: Als we wijnen categoriseren op basis van de chemische samenstelling, zijn er bepaalde categorieën die mannelijke proevers anders beoordelen dan vrouwelijke proevers?\n"
   ]
  },
  {
   "cell_type": "markdown",
   "metadata": {},
   "source": [
    "We willen bij deze onderzoeksvraag mannelijke en vrouwelijke proevers vergelijken door te kijken of de ene groep een bepaalde voorkeur heeft voor een bepaalde categorie wijn."
   ]
  },
  {
   "cell_type": "code",
   "execution_count": null,
   "metadata": {},
   "outputs": [],
   "source": [
    "import pandas as pd\n",
    "import numpy as np\n",
    "\n",
    "import nltk\n",
    "from nltk.corpus import stopwords\n",
    "# nltk.download()\n",
    "\n",
    "import matplotlib as mpl\n",
    "import seaborn as sns\n",
    "import matplotlib.pyplot as plt\n",
    "from matplotlib.patches import Polygon\n",
    "\n",
    "from scipy import stats\n",
    "\n",
    "from sklearn.cluster import KMeans\n",
    "from sklearn.mixture import GaussianMixture\n",
    "from sklearn.metrics import accuracy_score\n",
    "\n",
    "pd.set_option('display.max_columns', None)"
   ]
  },
  {
   "cell_type": "code",
   "execution_count": null,
   "metadata": {},
   "outputs": [],
   "source": [
    "wine = pd.read_csv('redwine.csv', delimiter=';')\n",
    "chemColNames = ['fixed acidity','volatile acidity','citric acid','residual sugar','chlorides','free sulfur dioxide','total sulfur dioxide','density','pH','sulphates','alcohol']\n",
    "chem = wine[chemColNames]\n",
    "\n",
    "colErrorPairs = {\n",
    "    'density'    : [' . '],\n",
    "    'citric acid': [' - ',' -   '],\n",
    "    'alcohol'    : ['100.333.333.333.333','11.066.666.666.666.600','956.666.666.666.667','923.333.333.333.333']}\n",
    "\n",
    "for colName in colErrorPairs:\n",
    "    for faultyString in colErrorPairs[colName]:\n",
    "        wine[colName] = wine[colName].replace(faultyString,np.nan)\n",
    "        \n",
    "wine['alcohol'] = wine['alcohol'].astype(float)\n",
    "wine['density'] = wine['density'].astype(float)\n",
    "wine['citric acid'] = wine['citric acid'].astype(float)\n",
    "\n",
    "wine['taster_name'] = wine['taster_name'].apply(lambda name: name.split(\" \")[0])"
   ]
  },
  {
   "cell_type": "markdown",
   "metadata": {},
   "source": [
    "# 1. Inlezen externe dataset"
   ]
  },
  {
   "cell_type": "code",
   "execution_count": null,
   "metadata": {},
   "outputs": [],
   "source": [
    "name = pd.read_csv('names.csv', usecols=['Name','Gender', 'Year','Count'])"
   ]
  },
  {
   "cell_type": "code",
   "execution_count": null,
   "metadata": {},
   "outputs": [],
   "source": [
    "name.head()"
   ]
  },
  {
   "cell_type": "code",
   "execution_count": null,
   "metadata": {},
   "outputs": [],
   "source": [
    "name.sort_values(by=['Count'],ascending=False, inplace=True)\n",
    "name.drop_duplicates(subset=['Name'], keep='first', inplace=True)\n",
    "name.sort_values(by=['Name'], inplace=True)"
   ]
  },
  {
   "cell_type": "markdown",
   "metadata": {},
   "source": [
    "# 2. Datasets mergen"
   ]
  },
  {
   "cell_type": "code",
   "execution_count": null,
   "metadata": {},
   "outputs": [],
   "source": [
    "merge = wine.merge(name, left_on='taster_name', right_on='Name', how=\"left\")\n",
    "merge.drop(['Count','Name','Year'], axis = 1, inplace=True)\n",
    "merge.head()"
   ]
  },
  {
   "cell_type": "markdown",
   "metadata": {},
   "source": [
    "# 3. Data verkennen"
   ]
  },
  {
   "cell_type": "markdown",
   "metadata": {},
   "source": [
    "Nu printen we de tabel waarbij we de naam van de proever en het geslacht tonen en het aantal wijnen dat ze hebben geproeft."
   ]
  },
  {
   "cell_type": "code",
   "execution_count": null,
   "metadata": {},
   "outputs": [],
   "source": [
    "nameCount = merge.groupby(['taster_name', 'Gender']).size().reset_index(name='count')\n",
    "nameCount.sort_values(by='count',ascending=False)"
   ]
  },
  {
   "cell_type": "markdown",
   "metadata": {},
   "source": [
    "De bovenste twee proevers hebben samen 1.014 wijnen geproeft, dit is bijna de helft van alle records uit de dataset. Het kan nuttig zijn om te bekijken hoe veel procent van de proevers mannen en hoeveel procent van de proevers vrouwen zijn. Die verdeling zien we in de piechart hieronder. "
   ]
  },
  {
   "cell_type": "code",
   "execution_count": null,
   "metadata": {},
   "outputs": [],
   "source": [
    "count = merge['Gender'].value_counts()\n",
    "count.plot.pie(y ='Gender', figsize = (5,5), colors = ['lightblue', 'pink'])"
   ]
  },
  {
   "cell_type": "markdown",
   "metadata": {},
   "source": [
    "Van de piechart kunnen we aflezen dat ruim 2/3 van wijnen geproefd zijn door mannen. "
   ]
  },
  {
   "cell_type": "markdown",
   "metadata": {},
   "source": [
    "# 4. Clusteren\n"
   ]
  },
  {
   "cell_type": "markdown",
   "metadata": {},
   "source": [
    "### 4.1 Standaardiseren"
   ]
  },
  {
   "cell_type": "markdown",
   "metadata": {},
   "source": [
    "We willen de wijnen gaan clusteren op basis van hun chemische samenstelling. We maken een kopie van de bestaande dataset met alleen de Z-scores van de chemische samenstelling. "
   ]
  },
  {
   "cell_type": "code",
   "execution_count": null,
   "metadata": {},
   "outputs": [],
   "source": [
    "chemColNames = ['pH','fixed acidity','volatile acidity','citric acid','residual sugar','chlorides','free sulfur dioxide','total sulfur dioxide','density','sulphates','alcohol']"
   ]
  },
  {
   "cell_type": "code",
   "execution_count": null,
   "metadata": {},
   "outputs": [],
   "source": [
    "wineZscore = merge.copy()"
   ]
  },
  {
   "cell_type": "code",
   "execution_count": null,
   "metadata": {},
   "outputs": [],
   "source": [
    "for col in chemColNames:\n",
    "    wineZscore[col] = (wine[col] - wine[col].mean())/wine[col].std(ddof=0)\n"
   ]
  },
  {
   "cell_type": "code",
   "execution_count": null,
   "metadata": {},
   "outputs": [],
   "source": [
    "wineZscore = wineZscore.dropna(subset=chemColNames)\n",
    "chemZscore = wineZscore[chemColNames]\n",
    "chemZscore.shape, wineZscore.shape"
   ]
  },
  {
   "cell_type": "code",
   "execution_count": null,
   "metadata": {},
   "outputs": [],
   "source": [
    "kMeansData = chemZscore.copy()\n",
    "kMeansData.head(10)"
   ]
  },
  {
   "cell_type": "code",
   "execution_count": null,
   "metadata": {},
   "outputs": [],
   "source": [
    "kMeansData = kMeansData.values"
   ]
  },
  {
   "cell_type": "code",
   "execution_count": null,
   "metadata": {},
   "outputs": [],
   "source": [
    "n_cluster = 20"
   ]
  },
  {
   "cell_type": "markdown",
   "metadata": {},
   "source": [
    "We gaan de wijnen verdelen over 20 clusters zodat er een goede conclusie kan worden getrokken. Bij minder clusters worden de clusters te groot. "
   ]
  },
  {
   "cell_type": "markdown",
   "metadata": {},
   "source": [
    "## 4.2 Cluster visualisatie "
   ]
  },
  {
   "cell_type": "markdown",
   "metadata": {},
   "source": [
    "### KMeans "
   ]
  },
  {
   "cell_type": "markdown",
   "metadata": {},
   "source": [
    "Aangezien we niet alle 11 kolommen kunnen visualiseren in een scatterplot, hebben we er een gemaakt met de eerste twee kolommen: pH en fixed acidity. Op basis van deze twee kolommen tonen we de 20 clusters met de cluster middelpunten. "
   ]
  },
  {
   "cell_type": "code",
   "execution_count": null,
   "metadata": {},
   "outputs": [],
   "source": [
    "fig, (kmeansClustorPlot) = plt.subplots()\n",
    "fig.set_size_inches(18, 7)\n",
    "plt.ylabel('pH waarde')\n",
    "plt.xlabel('Fixed Acidity')\n",
    "\n",
    "kmeans = KMeans(n_clusters=n_cluster, random_state=10)\n",
    "kmeans_cluster_labels = kmeans.fit_predict(kMeansData)\n",
    "\n",
    "\n",
    "colors = mpl.cm.nipy_spectral(kmeans_cluster_labels.astype(float) / n_cluster)\n",
    "kmeansClustorPlot.scatter(kMeansData[:,0], kMeansData[:,1],marker='.', s=30, lw=0, alpha=0.7, c = colors, edgecolor='k')\n",
    "\n",
    "centers = kmeans.cluster_centers_\n",
    "kmeansClustorPlot.scatter(centers[:, 0], centers[:, 1], marker='o', c=\"white\", alpha=1, s=200, edgecolor='k')\n",
    "kmeans.score(kMeansData)"
   ]
  },
  {
   "cell_type": "markdown",
   "metadata": {},
   "source": [
    "De score van kMeans wordt bepaald door voor alle meetwaarden de gekwadrateerde afstand tot het clustermiddelpunt te berekenen. Hoe dichter bij 0, hoe beter. Wat precies een score van -7778 betekend weten we niet zo goed, maar het ziet er niet heel goed uit. "
   ]
  },
  {
   "cell_type": "code",
   "execution_count": null,
   "metadata": {},
   "outputs": [],
   "source": [
    "wineZscore['kmeans_cluster'] = kmeans_cluster_labels"
   ]
  },
  {
   "cell_type": "markdown",
   "metadata": {},
   "source": [
    "### Gaussian Mixture Model"
   ]
  },
  {
   "cell_type": "markdown",
   "metadata": {},
   "source": [
    "Wederom gaan we, nu aan de hand van GMM, clusteren. We hebben weer dezelfde kolommen in de scatterplot gevisualiseerd. Hier komt ongeveer hetzelfde uit als bij KMeans.  "
   ]
  },
  {
   "cell_type": "code",
   "execution_count": null,
   "metadata": {},
   "outputs": [],
   "source": [
    "gmm = GaussianMixture(n_components=n_cluster, random_state=10, covariance_type='full')\n",
    "gmm_cluster_labels = gmm.fit_predict(kMeansData)\n",
    "\n",
    "\n",
    "fig, (gmmClustorPlot) = plt.subplots()\n",
    "fig.set_size_inches(18, 7)\n",
    "\n",
    "colors = mpl.cm.nipy_spectral(gmm_cluster_labels.astype(float) / n_cluster)\n",
    "\n",
    "gmmClustorPlot.scatter(kMeansData[:,0], kMeansData[:,1],marker='.', s=30, lw=0, alpha=0.7, c = colors, edgecolor='k')\n",
    "# gmmClustorPlot.scatter(centers[:, 0], centers[:, 1], marker='o', c=\"white\", alpha=1, s=200, edgecolor='k')\n",
    "gmm.score(kMeansData)"
   ]
  },
  {
   "cell_type": "code",
   "execution_count": null,
   "metadata": {},
   "outputs": [],
   "source": [
    "relevant = ['id','points','price','taster_name','Gender','kmeans_cluster','gmm_cluster']\n",
    "wineZscore['gmm_cluster'] = gmm_cluster_labels\n",
    "wineZscore[relevant].head()"
   ]
  },
  {
   "cell_type": "markdown",
   "metadata": {},
   "source": [
    "## 4.3 Clusters bestuderen"
   ]
  },
  {
   "cell_type": "markdown",
   "metadata": {},
   "source": [
    "## K Means\n"
   ]
  },
  {
   "cell_type": "markdown",
   "metadata": {},
   "source": [
    "Hieronder gaan per cluster de gemiddelde score uitrekenen. Ook gaan we kijken naar het gemiddelde aantal punten voor gegeven door mannen en vrouwen aan een bepaald cluster. Als hier een groot verschil tussen zit, kunnen we daar dus uit opmaken dat mannen of vrouwen voorkeur hebben voor een bepaald cluster. "
   ]
  },
  {
   "cell_type": "code",
   "execution_count": null,
   "metadata": {},
   "outputs": [],
   "source": [
    "# wineZscore.groupby('kmeans_cluster').filter(like='M').count()\n",
    "totalAmount = wineZscore.shape[0]\n",
    "for i in range(n_cluster):\n",
    "    m = wineZscore['Gender'][(wineZscore['Gender'] == \"M\") & (wineZscore['kmeans_cluster'] == i)].count()\n",
    "    f = wineZscore['Gender'][(wineZscore['Gender'] == \"F\") & (wineZscore['kmeans_cluster'] == i)].count()\n",
    "    \n",
    "    mScore = wineZscore['points'][(wineZscore['Gender'] == \"M\") & (wineZscore['kmeans_cluster'] == i)].sum()\n",
    "    fScore = wineZscore['points'][(wineZscore['Gender'] == \"F\") & (wineZscore['kmeans_cluster'] == i)].sum()\n",
    "    \n",
    "    clusterScore = wineZscore['points'][(wineZscore['kmeans_cluster'] == i)].sum()\n",
    "    \n",
    "    tasterCount = m + f\n",
    "    print(f'Kmeans cluster: {i} Count Males: {m}/ Females: {f}')\n",
    "    print(f'Average cluster score: {clusterScore/tasterCount}')\n",
    "    print(f'Per gender score: Males: {mScore/m},Females: {fScore/f}\\n')\n",
    "\n",
    "# wineZscore['Gender'][(wineZscore['Gender'] == \"M\") & (wineZscore['kmeans_cluster'] == 3)].count()\n",
    "# wineZscore[(wineZscore['Gender'] == \"F\")].count()"
   ]
  },
  {
   "cell_type": "markdown",
   "metadata": {},
   "source": [
    "### KMeans conclusie\n",
    "We willen de data van hierboven enigzins visualiseren zodat we wat beter kunnen zien wat we nou precies berekend hebben. Hiervoor hebben we een bar plot gemaakt. We hebben voor 4 random clusters de score van mannen en vrouwen vergeleken, om zo te kijken of er een significant verschil zit tussen de beoordelingen per geslacht per cluster. "
   ]
  },
  {
   "cell_type": "code",
   "execution_count": null,
   "metadata": {},
   "outputs": [],
   "source": [
    "labels = ['5', '10', '15', '20']\n",
    "men_means = [87.03225806451613, 86.7560975609756, 90.92592592592592, 88.50847457627118]\n",
    "women_means = [87.03225806451613,86.86666666666666 , 91.44444444444444, 88.07042253521126]\n",
    "\n",
    "x = np.arange(len(labels))  # the label locations\n",
    "width = 0.35  # the width of the bars\n",
    "\n",
    "fig, ax = plt.subplots()\n",
    "rects1 = ax.bar(x - width/2, men_means, width, label='Men', color = 'lightblue')\n",
    "rects2 = ax.bar(x + width/2, women_means, width, label='Women', color = 'pink')\n",
    "\n",
    "ax.set_ylabel('Scores')\n",
    "ax.set_xlabel('Cluster')\n",
    "ax.set_title('KMeans Scores Male vs Female')\n",
    "ax.set_xticks(x)\n",
    "ax.set_xticklabels(labels)\n",
    "ax.legend()\n"
   ]
  },
  {
   "cell_type": "markdown",
   "metadata": {},
   "source": [
    "## Gaussian Mixture Model "
   ]
  },
  {
   "cell_type": "markdown",
   "metadata": {},
   "source": [
    "We gaan nu met behulp van het Gaussian Mixture Model de clusters bestuderen. Het verschil tussen GMM en KMeans is dat je bij GMM meerdere parameters hebt die je kunt aanpassen om zo een betere score te bereiken. "
   ]
  },
  {
   "cell_type": "code",
   "execution_count": null,
   "metadata": {},
   "outputs": [],
   "source": [
    "for i in range(n_cluster):\n",
    "    m = wineZscore['Gender'][(wineZscore['Gender'] == \"M\") & (wineZscore['gmm_cluster'] == i)].count()\n",
    "    f = wineZscore['Gender'][(wineZscore['Gender'] == \"F\") & (wineZscore['gmm_cluster'] == i)].count()\n",
    "    \n",
    "    mScore = wineZscore['points'][(wineZscore['Gender'] == \"M\") & (wineZscore['gmm_cluster'] == i)].sum()\n",
    "    fScore = wineZscore['points'][(wineZscore['Gender'] == \"F\") & (wineZscore['gmm_cluster'] == i)].sum()\n",
    "    \n",
    "    clusterScore = wineZscore['points'][(wineZscore['gmm_cluster'] == i)].sum()\n",
    "    \n",
    "    tasterCount = m + f\n",
    "    print(f'GMM cluster: {i} Count Males: {m}/ Females: {f}')\n",
    "    print(f'Average cluster score: {clusterScore/tasterCount}')\n",
    "    print(f'Per gender score: Males: {mScore/m},Females: {fScore/f}\\n')"
   ]
  },
  {
   "cell_type": "markdown",
   "metadata": {},
   "source": [
    "### GMM Conclusie\n",
    "Ook voor GMM willen we een stukje van de data visualiseren. Hierbij plotten we ook weer voor 5 clusters de beoordeling van de mannelijke tegenover die van de vrouwelijke proevers. "
   ]
  },
  {
   "cell_type": "code",
   "execution_count": null,
   "metadata": {},
   "outputs": [],
   "source": [
    "labels = ['5', '10', '15', '20']\n",
    "men_means = [90.22767857142857, 88.18518518518519, 90.47826086956522, 88.73333333333333]\n",
    "women_means = [89.86538461538461,88.25 , 89.0, 88.0]\n",
    "\n",
    "x = np.arange(len(labels))  # the label locations\n",
    "width = 0.35  # the width of the bars\n",
    "\n",
    "fig, ax = plt.subplots()\n",
    "rects1 = ax.bar(x - width/2, men_means, width, label='Men', color = 'lightblue')\n",
    "rects2 = ax.bar(x + width/2, women_means, width, label='Women', color = 'pink')\n",
    "\n",
    "ax.set_ylabel('Scores')\n",
    "ax.set_xlabel('Cluster')\n",
    "ax.set_title('GMM Scores Male vs Female')\n",
    "ax.set_xticks(x)\n",
    "ax.set_xticklabels(labels)\n",
    "ax.legend()\n"
   ]
  },
  {
   "cell_type": "markdown",
   "metadata": {},
   "source": [
    "# 5. Conclusie\n"
   ]
  },
  {
   "cell_type": "markdown",
   "metadata": {},
   "source": [
    "Wat we kunnen opmaken uit de hierboven gegeven informatie is; mannen of vrouwelijke proevers reageren niet per definitie beter op één bepaald cluster. Dit wil zeggen dat het geslacht van de proever niks zegt over hoe zij/hij reageert op een bepaalde chemische samenstelling. "
   ]
  },
  {
   "cell_type": "code",
   "execution_count": null,
   "metadata": {},
   "outputs": [],
   "source": []
  }
 ],
 "metadata": {
  "kernelspec": {
   "display_name": "Python 3.8.3 64-bit",
   "language": "python",
   "name": "python38364bit5cdb2531dd3545ea9b3fd1a8a995abfc"
  },
  "language_info": {
   "codemirror_mode": {
    "name": "ipython",
    "version": 3
   },
   "file_extension": ".py",
   "mimetype": "text/x-python",
   "name": "python",
   "nbconvert_exporter": "python",
   "pygments_lexer": "ipython3",
   "version": "3.8.3"
  }
 },
 "nbformat": 4,
 "nbformat_minor": 2
}
