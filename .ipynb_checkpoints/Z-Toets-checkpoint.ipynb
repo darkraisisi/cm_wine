{
 "cells": [
  {
   "cell_type": "code",
   "execution_count": 267,
   "metadata": {},
   "outputs": [],
   "source": [
    "import pandas as pd\n",
    "import numpy as np\n",
    "\n",
    "import nltk\n",
    "from nltk.corpus import stopwords\n",
    "# nltk.download()\n",
    "\n",
    "import seaborn as sns\n",
    "import matplotlib.pyplot as plt\n",
    "from matplotlib.patches import Polygon\n",
    "\n",
    "from scipy import stats\n",
    "\n",
    "from sklearn.model_selection import train_test_split\n",
    "from sklearn.linear_model import LinearRegression\n",
    "from sklearn.metrics import mean_squared_error\n",
    "\n",
    "pd.set_option('display.max_columns', None)"
   ]
  },
  {
   "cell_type": "code",
   "execution_count": 268,
   "metadata": {},
   "outputs": [],
   "source": [
    "wine = pd.read_csv('redwine.csv', delimiter=';')"
   ]
  },
  {
   "cell_type": "markdown",
   "metadata": {},
   "source": [
    "# Z - Toets\n"
   ]
  },
  {
   "cell_type": "markdown",
   "metadata": {},
   "source": [
    "Het was afgelopen jaren bijzonder zonnig in Portugal. De verbouwers van de wijn vragen zich af of dit de zuurgraad heeft beïnvloed, oftewel; of de wijnen van afgelopen jaren een andere pH waarde hebben dan voorgaande jaren. "
   ]
  },
  {
   "cell_type": "code",
   "execution_count": 269,
   "metadata": {},
   "outputs": [],
   "source": [
    "pHwaardes = {'Wijn' : ['Casa Santa Vitória', 'Monte da Penha', 'Real Companhia Velha', 'Aveleda', 'Companhia das Quintas', 'J. Portugal Ramos', 'Sogrape', 'Casa Santos Lima', 'Quinta de Ventozelo'], 'pH': [3.41, 3.51, 3.39, 3.11, 3.21, 3.50, 3.46, 3.37, 3.71]}"
   ]
  },
  {
   "cell_type": "code",
   "execution_count": 270,
   "metadata": {},
   "outputs": [],
   "source": [
    "newpH = pd.DataFrame(pHwaardes) "
   ]
  },
  {
   "cell_type": "code",
   "execution_count": 271,
   "metadata": {},
   "outputs": [
    {
     "data": {
      "text/html": [
       "<div>\n",
       "<style scoped>\n",
       "    .dataframe tbody tr th:only-of-type {\n",
       "        vertical-align: middle;\n",
       "    }\n",
       "\n",
       "    .dataframe tbody tr th {\n",
       "        vertical-align: top;\n",
       "    }\n",
       "\n",
       "    .dataframe thead th {\n",
       "        text-align: right;\n",
       "    }\n",
       "</style>\n",
       "<table border=\"1\" class=\"dataframe\">\n",
       "  <thead>\n",
       "    <tr style=\"text-align: right;\">\n",
       "      <th></th>\n",
       "      <th>Wijn</th>\n",
       "      <th>pH</th>\n",
       "    </tr>\n",
       "  </thead>\n",
       "  <tbody>\n",
       "    <tr>\n",
       "      <th>0</th>\n",
       "      <td>Casa Santa Vitória</td>\n",
       "      <td>3.41</td>\n",
       "    </tr>\n",
       "    <tr>\n",
       "      <th>1</th>\n",
       "      <td>Monte da Penha</td>\n",
       "      <td>3.51</td>\n",
       "    </tr>\n",
       "    <tr>\n",
       "      <th>2</th>\n",
       "      <td>Real Companhia Velha</td>\n",
       "      <td>3.39</td>\n",
       "    </tr>\n",
       "    <tr>\n",
       "      <th>3</th>\n",
       "      <td>Aveleda</td>\n",
       "      <td>3.11</td>\n",
       "    </tr>\n",
       "    <tr>\n",
       "      <th>4</th>\n",
       "      <td>Companhia das Quintas</td>\n",
       "      <td>3.21</td>\n",
       "    </tr>\n",
       "    <tr>\n",
       "      <th>5</th>\n",
       "      <td>J. Portugal Ramos</td>\n",
       "      <td>3.50</td>\n",
       "    </tr>\n",
       "    <tr>\n",
       "      <th>6</th>\n",
       "      <td>Sogrape</td>\n",
       "      <td>3.46</td>\n",
       "    </tr>\n",
       "    <tr>\n",
       "      <th>7</th>\n",
       "      <td>Casa Santos Lima</td>\n",
       "      <td>3.37</td>\n",
       "    </tr>\n",
       "    <tr>\n",
       "      <th>8</th>\n",
       "      <td>Quinta de Ventozelo</td>\n",
       "      <td>3.71</td>\n",
       "    </tr>\n",
       "  </tbody>\n",
       "</table>\n",
       "</div>"
      ],
      "text/plain": [
       "                    Wijn    pH\n",
       "0     Casa Santa Vitória  3.41\n",
       "1         Monte da Penha  3.51\n",
       "2   Real Companhia Velha  3.39\n",
       "3                Aveleda  3.11\n",
       "4  Companhia das Quintas  3.21\n",
       "5      J. Portugal Ramos  3.50\n",
       "6                Sogrape  3.46\n",
       "7       Casa Santos Lima  3.37\n",
       "8    Quinta de Ventozelo  3.71"
      ]
     },
     "execution_count": 271,
     "metadata": {},
     "output_type": "execute_result"
    }
   ],
   "source": [
    "newpH"
   ]
  },
  {
   "cell_type": "code",
   "execution_count": 272,
   "metadata": {},
   "outputs": [
    {
     "data": {
      "text/html": [
       "<div>\n",
       "<style scoped>\n",
       "    .dataframe tbody tr th:only-of-type {\n",
       "        vertical-align: middle;\n",
       "    }\n",
       "\n",
       "    .dataframe tbody tr th {\n",
       "        vertical-align: top;\n",
       "    }\n",
       "\n",
       "    .dataframe thead th {\n",
       "        text-align: right;\n",
       "    }\n",
       "</style>\n",
       "<table border=\"1\" class=\"dataframe\">\n",
       "  <thead>\n",
       "    <tr style=\"text-align: right;\">\n",
       "      <th></th>\n",
       "      <th>title</th>\n",
       "      <th>pH</th>\n",
       "    </tr>\n",
       "  </thead>\n",
       "  <tbody>\n",
       "    <tr>\n",
       "      <th>0</th>\n",
       "      <td>Quinta dos Avidagos 2011 Avidagos Red (Douro)</td>\n",
       "      <td>3.48</td>\n",
       "    </tr>\n",
       "    <tr>\n",
       "      <th>1</th>\n",
       "      <td>Casa Santa Vitória 2013 Grande Reserva Tinto R...</td>\n",
       "      <td>3.26</td>\n",
       "    </tr>\n",
       "    <tr>\n",
       "      <th>2</th>\n",
       "      <td>Adega Cooperativa de Borba 2012 Montes Claros ...</td>\n",
       "      <td>3.38</td>\n",
       "    </tr>\n",
       "    <tr>\n",
       "      <th>3</th>\n",
       "      <td>Quinta de Foz de Arouce 2013 Red (Beira Atlant...</td>\n",
       "      <td>3.38</td>\n",
       "    </tr>\n",
       "    <tr>\n",
       "      <th>4</th>\n",
       "      <td>Herdade Grande 2010 Gerações Colheita Seleccio...</td>\n",
       "      <td>3.28</td>\n",
       "    </tr>\n",
       "  </tbody>\n",
       "</table>\n",
       "</div>"
      ],
      "text/plain": [
       "                                               title    pH\n",
       "0      Quinta dos Avidagos 2011 Avidagos Red (Douro)  3.48\n",
       "1  Casa Santa Vitória 2013 Grande Reserva Tinto R...  3.26\n",
       "2  Adega Cooperativa de Borba 2012 Montes Claros ...  3.38\n",
       "3  Quinta de Foz de Arouce 2013 Red (Beira Atlant...  3.38\n",
       "4  Herdade Grande 2010 Gerações Colheita Seleccio...  3.28"
      ]
     },
     "execution_count": 272,
     "metadata": {},
     "output_type": "execute_result"
    }
   ],
   "source": [
    "oldpH = wine[['title', 'pH']]\n",
    "oldpH.head()"
   ]
  },
  {
   "cell_type": "markdown",
   "metadata": {},
   "source": [
    "## Hypothese opstellen"
   ]
  },
  {
   "cell_type": "markdown",
   "metadata": {},
   "source": [
    "$H_0$: er is geen verschil in pH waardes ($\\mu_{ditJaar} = \\mu_{populatie}$)\n",
    "\n",
    "$H_1$: er is een verschil in pH waardes ($\\mu_{ditJaar} \\neq  \\mu_{populatie}$)\n",
    "\n",
    "(tweezijdig toetsen)"
   ]
  },
  {
   "cell_type": "markdown",
   "metadata": {},
   "source": [
    "## Populatiegrootte bepalen"
   ]
  },
  {
   "cell_type": "markdown",
   "metadata": {},
   "source": [
    "We beschouwen de gehele dataset als de populatie, dit zijn dus de 2465 pH waardes uit de dataset. "
   ]
  },
  {
   "cell_type": "code",
   "execution_count": 273,
   "metadata": {},
   "outputs": [
    {
     "data": {
      "text/plain": [
       "title    2465\n",
       "pH       2465\n",
       "dtype: int64"
      ]
     },
     "execution_count": 273,
     "metadata": {},
     "output_type": "execute_result"
    }
   ],
   "source": [
    "oldpH.count()"
   ]
  },
  {
   "cell_type": "markdown",
   "metadata": {},
   "source": [
    "__Populatiegemiddelde $\\mu$__"
   ]
  },
  {
   "cell_type": "code",
   "execution_count": 274,
   "metadata": {},
   "outputs": [
    {
     "name": "stdout",
     "output_type": "stream",
     "text": [
      "Het populatiegemiddelde mu is 3.31120\n"
     ]
    }
   ],
   "source": [
    "mu = oldpH.mean()\n",
    "mu\n",
    "print(\"Het populatiegemiddelde mu is {:.5f}\".format(float(mu)))"
   ]
  },
  {
   "cell_type": "markdown",
   "metadata": {},
   "source": [
    "## Steekproef\n"
   ]
  },
  {
   "cell_type": "markdown",
   "metadata": {},
   "source": [
    "Als steekproef gebruiken we 100 willekeurige getallen uit de gehele wijnen dataset. "
   ]
  },
  {
   "cell_type": "code",
   "execution_count": 275,
   "metadata": {},
   "outputs": [],
   "source": [
    "n = 100"
   ]
  },
  {
   "cell_type": "markdown",
   "metadata": {},
   "source": [
    "__Steekproefgemiddelde x___"
   ]
  },
  {
   "cell_type": "code",
   "execution_count": 276,
   "metadata": {},
   "outputs": [
    {
     "name": "stdout",
     "output_type": "stream",
     "text": [
      "Het steekproefgemiddelde x_ is 3.34420\n"
     ]
    }
   ],
   "source": [
    "steekpr = oldpH[:100]\n",
    "x_ = steekpr.mean()\n",
    "print(\"Het steekproefgemiddelde x_ is {:.5f}\".format(float(x_)))"
   ]
  },
  {
   "cell_type": "markdown",
   "metadata": {},
   "source": [
    "__Steekproef standaardafwijking s__"
   ]
  },
  {
   "cell_type": "code",
   "execution_count": 277,
   "metadata": {},
   "outputs": [
    {
     "name": "stdout",
     "output_type": "stream",
     "text": [
      "De standaardafwijking van de steekproef s is 0.12866\n"
     ]
    }
   ],
   "source": [
    "s = steekpr.std()\n",
    "print(\"De standaardafwijking van de steekproef s is {:.5f}\".format(float(s)))"
   ]
  },
  {
   "cell_type": "markdown",
   "metadata": {},
   "source": [
    "__Standaardfout van de steekproef__"
   ]
  },
  {
   "cell_type": "code",
   "execution_count": 278,
   "metadata": {},
   "outputs": [
    {
     "name": "stdout",
     "output_type": "stream",
     "text": [
      "De standaardfout van de steekproef se is 0.01287\n"
     ]
    }
   ],
   "source": [
    "se = s/np.sqrt(n)\n",
    "print(\"De standaardfout van de steekproef se is {:.5f}\".format(float(se)))"
   ]
  },
  {
   "cell_type": "markdown",
   "metadata": {},
   "source": [
    "## Foutmarge $\\alpha$ bepalen"
   ]
  },
  {
   "cell_type": "markdown",
   "metadata": {},
   "source": [
    "Als betrouwbaarheid nemen we 95%. Dit betekend dat in 5% van de gevallen we een onjuiste conclusie kunnen trekken.\n"
   ]
  },
  {
   "cell_type": "code",
   "execution_count": 279,
   "metadata": {},
   "outputs": [],
   "source": [
    "alpha = 0.05"
   ]
  },
  {
   "cell_type": "code",
   "execution_count": 280,
   "metadata": {},
   "outputs": [
    {
     "name": "stdout",
     "output_type": "stream",
     "text": [
      "De z_grens is 1.64\n",
      "De grenswaarde is 3.33236\n"
     ]
    }
   ],
   "source": [
    "z_grens = stats.norm.ppf((1-alpha) )\n",
    "print(\"De z_grens is {:.2f}\".format(z_grens))\n",
    "grens = z_grens * se + mu\n",
    "print(\"De grenswaarde is {:.5f}\".format(float(grens)))"
   ]
  },
  {
   "cell_type": "markdown",
   "metadata": {},
   "source": [
    "## Z-Waarde en P-Waarde berekenen"
   ]
  },
  {
   "cell_type": "markdown",
   "metadata": {},
   "source": [
    "__Z-Waarde__"
   ]
  },
  {
   "cell_type": "markdown",
   "metadata": {},
   "source": [
    "De z-waarde geeft aan hoeveel standaarddeviaties een score van het gemiddelde af zit. "
   ]
  },
  {
   "cell_type": "code",
   "execution_count": 281,
   "metadata": {},
   "outputs": [
    {
     "name": "stdout",
     "output_type": "stream",
     "text": [
      "De grenswaarde aan de rechterkant is 2.56\n",
      "De grenswaarde aan de linkerkant is -2.56\n"
     ]
    }
   ],
   "source": [
    "zrechts = (x_ - mu)/se\n",
    "zlinks = (mu - x_)/se\n",
    "print(\"De grenswaarde aan de rechterkant is {:.2f}\".format(float(zrechts)))\n",
    "print(\"De grenswaarde aan de linkerkant is {:.2f}\".format(float(zlinks)))"
   ]
  },
  {
   "cell_type": "markdown",
   "metadata": {},
   "source": [
    "__P-Waarde__"
   ]
  },
  {
   "cell_type": "code",
   "execution_count": 282,
   "metadata": {},
   "outputs": [
    {
     "data": {
      "text/plain": [
       "array([0.0051618])"
      ]
     },
     "execution_count": 282,
     "metadata": {},
     "output_type": "execute_result"
    }
   ],
   "source": [
    "p = 1-stats.norm.cdf(z)\n",
    "p"
   ]
  },
  {
   "cell_type": "markdown",
   "metadata": {},
   "source": [
    "## Conclusie"
   ]
  },
  {
   "cell_type": "markdown",
   "metadata": {},
   "source": [
    "Er geldt dat $p = 0.0051618 < \\alpha  = 0.05$. \n",
    "\n",
    "Dat p = 0.0051618 betekent dat deze uitkomst niet door toeval kan plaatsvinden. We verwerpen daardoor $H_0$ en nemen $H_1$ aan; er is wel een verschil tussen pH waarde van de wijnen uit voorgaande jaren en de pH waarden van de wijnen uit dit jaar."
   ]
  }
 ],
 "metadata": {
  "kernelspec": {
   "display_name": "Python 3",
   "language": "python",
   "name": "python3"
  },
  "language_info": {
   "codemirror_mode": {
    "name": "ipython",
    "version": 3
   },
   "file_extension": ".py",
   "mimetype": "text/x-python",
   "name": "python",
   "nbconvert_exporter": "python",
   "pygments_lexer": "ipython3",
   "version": "3.7.4"
  }
 },
 "nbformat": 4,
 "nbformat_minor": 4
}
