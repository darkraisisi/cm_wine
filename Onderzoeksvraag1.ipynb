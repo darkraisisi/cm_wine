{
 "cells": [
  {
   "cell_type": "code",
   "execution_count": 13,
   "metadata": {},
   "outputs": [],
   "source": [
    "import pandas as pd\n",
    "import numpy as np\n",
    "\n",
    "import nltk\n",
    "from nltk.corpus import stopwords\n",
    "# nltk.download()\n",
    "\n",
    "import seaborn as sns\n",
    "import matplotlib.pyplot as plt\n",
    "from matplotlib.patches import Polygon\n",
    "\n",
    "from scipy import stats\n",
    "\n",
    "from sklearn.model_selection import train_test_split\n",
    "from sklearn.linear_model import LinearRegression\n",
    "from sklearn.metrics import mean_squared_error\n",
    "\n",
    "pd.set_option('display.max_columns', None)"
   ]
  },
  {
   "cell_type": "code",
   "execution_count": 14,
   "metadata": {},
   "outputs": [],
   "source": [
    "wine = pd.read_csv('redwine.csv', delimiter=';')\n",
    "chemColNames = ['fixed acidity','volatile acidity','citric acid','residual sugar','chlorides','free sulfur dioxide','total sulfur dioxide','density','pH','sulphates','alcohol']\n",
    "chem = wine[chemColNames]\n",
    "\n",
    "colErrorPairs = {\n",
    "    'density'    : [' . '],\n",
    "    'citric acid': [' - ',' -   '],\n",
    "    'alcohol'    : ['100.333.333.333.333','11.066.666.666.666.600','956.666.666.666.667','923.333.333.333.333']}\n",
    "\n",
    "for colName in colErrorPairs:\n",
    "    for faultyString in colErrorPairs[colName]:\n",
    "        wine[colName] = wine[colName].replace(faultyString,np.nan)\n",
    "        \n",
    "wine['alcohol'] = wine['alcohol'].astype(float)\n",
    "wine['density'] = wine['density'].astype(float)\n",
    "wine['citric acid'] = wine['citric acid'].astype(float)\n",
    "\n",
    "wineZscore = wine.copy()\n",
    "\n",
    "for col in chemColNames:\n",
    "        wineZscore[col] = (wine[col] - wine[col].mean())/wine[col].std(ddof=0)"
   ]
  },
  {
   "cell_type": "markdown",
   "metadata": {},
   "source": [
    "\n",
    "# Onderzoeksvraag 1: In hoeverre is de score van een Portugese Red te voorspellen op basis van de chemische kenmerken?\n"
   ]
  },
  {
   "cell_type": "markdown",
   "metadata": {},
   "source": [
    "## Lineaire regressie"
   ]
  },
  {
   "cell_type": "markdown",
   "metadata": {},
   "source": [
    "Voor de eerste verplichte onderzoeksvraag gaan we supervised machine learning gebruiken. We willen de score van een wijn gaan voorspellen aan de hand van de chemische samenstelling. Dit gaan we doen met behulp van lineaire regressie. "
   ]
  },
  {
   "cell_type": "markdown",
   "metadata": {},
   "source": [
    "__1. Kies een modeltype__ "
   ]
  },
  {
   "cell_type": "code",
   "execution_count": 15,
   "metadata": {},
   "outputs": [],
   "source": [
    "from sklearn.linear_model import LinearRegression"
   ]
  },
  {
   "cell_type": "markdown",
   "metadata": {},
   "source": [
    "__2. Kies de hyperparameters__\n"
   ]
  },
  {
   "cell_type": "markdown",
   "metadata": {},
   "source": [
    "__3. Organiseer de data (feature matrix, target vector)__"
   ]
  },
  {
   "cell_type": "markdown",
   "metadata": {},
   "source": [
    "Omdat we op basis van de chemische samenstelling willen gaan voorspellen, worden dit onze feature variabelen. "
   ]
  },
  {
   "cell_type": "code",
   "execution_count": 16,
   "metadata": {},
   "outputs": [
    {
     "data": {
      "text/html": [
       "<div>\n",
       "<style scoped>\n",
       "    .dataframe tbody tr th:only-of-type {\n",
       "        vertical-align: middle;\n",
       "    }\n",
       "\n",
       "    .dataframe tbody tr th {\n",
       "        vertical-align: top;\n",
       "    }\n",
       "\n",
       "    .dataframe thead th {\n",
       "        text-align: right;\n",
       "    }\n",
       "</style>\n",
       "<table border=\"1\" class=\"dataframe\">\n",
       "  <thead>\n",
       "    <tr style=\"text-align: right;\">\n",
       "      <th></th>\n",
       "      <th>fixed acidity</th>\n",
       "      <th>volatile acidity</th>\n",
       "      <th>citric acid</th>\n",
       "      <th>residual sugar</th>\n",
       "      <th>chlorides</th>\n",
       "      <th>free sulfur dioxide</th>\n",
       "      <th>total sulfur dioxide</th>\n",
       "      <th>density</th>\n",
       "      <th>pH</th>\n",
       "      <th>sulphates</th>\n",
       "      <th>alcohol</th>\n",
       "    </tr>\n",
       "  </thead>\n",
       "  <tbody>\n",
       "    <tr>\n",
       "      <th>0</th>\n",
       "      <td>10.0</td>\n",
       "      <td>0.29</td>\n",
       "      <td>0.4</td>\n",
       "      <td>2.9</td>\n",
       "      <td>0.098</td>\n",
       "      <td>10.0</td>\n",
       "      <td>26.0</td>\n",
       "      <td>10.006</td>\n",
       "      <td>3.48</td>\n",
       "      <td>0.91</td>\n",
       "      <td>9.7</td>\n",
       "    </tr>\n",
       "    <tr>\n",
       "      <th>1</th>\n",
       "      <td>8.3</td>\n",
       "      <td>0.26</td>\n",
       "      <td>0.37</td>\n",
       "      <td>1.4</td>\n",
       "      <td>0.076</td>\n",
       "      <td>8.0</td>\n",
       "      <td>23.0</td>\n",
       "      <td>0.9974</td>\n",
       "      <td>3.26</td>\n",
       "      <td>0.70</td>\n",
       "      <td>9.6</td>\n",
       "    </tr>\n",
       "    <tr>\n",
       "      <th>2</th>\n",
       "      <td>7.0</td>\n",
       "      <td>0.69</td>\n",
       "      <td>0.07</td>\n",
       "      <td>2.5</td>\n",
       "      <td>0.091</td>\n",
       "      <td>15.0</td>\n",
       "      <td>21.0</td>\n",
       "      <td>0.99572</td>\n",
       "      <td>3.38</td>\n",
       "      <td>0.60</td>\n",
       "      <td>11.3</td>\n",
       "    </tr>\n",
       "    <tr>\n",
       "      <th>3</th>\n",
       "      <td>7.0</td>\n",
       "      <td>0.69</td>\n",
       "      <td>0.07</td>\n",
       "      <td>2.5</td>\n",
       "      <td>0.091</td>\n",
       "      <td>15.0</td>\n",
       "      <td>21.0</td>\n",
       "      <td>0.99572</td>\n",
       "      <td>3.38</td>\n",
       "      <td>0.60</td>\n",
       "      <td>11.3</td>\n",
       "    </tr>\n",
       "    <tr>\n",
       "      <th>4</th>\n",
       "      <td>8.0</td>\n",
       "      <td>0.48</td>\n",
       "      <td>0.34</td>\n",
       "      <td>2.2</td>\n",
       "      <td>0.073</td>\n",
       "      <td>16.0</td>\n",
       "      <td>25.0</td>\n",
       "      <td>0.9936</td>\n",
       "      <td>3.28</td>\n",
       "      <td>0.66</td>\n",
       "      <td>12.4</td>\n",
       "    </tr>\n",
       "  </tbody>\n",
       "</table>\n",
       "</div>"
      ],
      "text/plain": [
       "   fixed acidity  volatile acidity citric acid  residual sugar  chlorides  \\\n",
       "0           10.0              0.29         0.4             2.9      0.098   \n",
       "1            8.3              0.26        0.37             1.4      0.076   \n",
       "2            7.0              0.69        0.07             2.5      0.091   \n",
       "3            7.0              0.69        0.07             2.5      0.091   \n",
       "4            8.0              0.48        0.34             2.2      0.073   \n",
       "\n",
       "   free sulfur dioxide  total sulfur dioxide  density    pH  sulphates alcohol  \n",
       "0                 10.0                  26.0   10.006  3.48       0.91     9.7  \n",
       "1                  8.0                  23.0   0.9974  3.26       0.70     9.6  \n",
       "2                 15.0                  21.0  0.99572  3.38       0.60    11.3  \n",
       "3                 15.0                  21.0  0.99572  3.38       0.60    11.3  \n",
       "4                 16.0                  25.0   0.9936  3.28       0.66    12.4  "
      ]
     },
     "execution_count": 16,
     "metadata": {},
     "output_type": "execute_result"
    }
   ],
   "source": [
    "chem.head()"
   ]
  },
  {
   "cell_type": "markdown",
   "metadata": {},
   "source": [
    "### Standaardiseren"
   ]
  },
  {
   "cell_type": "markdown",
   "metadata": {},
   "source": [
    "Omdat de waardes van de features nogal uit elkaar liggen gaan we ze eerst standaardiseren met behulp van de Z Score. Zo zorgen we ervoor dat elke waarde tussen de -1 en 1 komt te liggen, zodat alle kolommen even zwaar mee tellen. "
   ]
  },
  {
   "cell_type": "code",
   "execution_count": 17,
   "metadata": {},
   "outputs": [],
   "source": [
    "features = ['fixed acidity', 'volatile acidity', 'citric acid', 'residual sugar', 'chlorides', 'free sulfur dioxide', 'total sulfur dioxide', 'density', 'pH', 'sulphates']"
   ]
  },
  {
   "cell_type": "code",
   "execution_count": 18,
   "metadata": {},
   "outputs": [
    {
     "data": {
      "text/html": [
       "<div>\n",
       "<style scoped>\n",
       "    .dataframe tbody tr th:only-of-type {\n",
       "        vertical-align: middle;\n",
       "    }\n",
       "\n",
       "    .dataframe tbody tr th {\n",
       "        vertical-align: top;\n",
       "    }\n",
       "\n",
       "    .dataframe thead th {\n",
       "        text-align: right;\n",
       "    }\n",
       "</style>\n",
       "<table border=\"1\" class=\"dataframe\">\n",
       "  <thead>\n",
       "    <tr style=\"text-align: right;\">\n",
       "      <th></th>\n",
       "      <th>fixed acidity</th>\n",
       "      <th>volatile acidity</th>\n",
       "      <th>citric acid</th>\n",
       "      <th>residual sugar</th>\n",
       "      <th>chlorides</th>\n",
       "      <th>free sulfur dioxide</th>\n",
       "      <th>total sulfur dioxide</th>\n",
       "      <th>density</th>\n",
       "      <th>pH</th>\n",
       "      <th>sulphates</th>\n",
       "    </tr>\n",
       "  </thead>\n",
       "  <tbody>\n",
       "    <tr>\n",
       "      <th>0</th>\n",
       "      <td>0.949660</td>\n",
       "      <td>-1.331760</td>\n",
       "      <td>0.542728</td>\n",
       "      <td>0.240020</td>\n",
       "      <td>0.223558</td>\n",
       "      <td>-0.559372</td>\n",
       "      <td>-0.639480</td>\n",
       "      <td>0.827622</td>\n",
       "      <td>1.096839</td>\n",
       "      <td>1.447261</td>\n",
       "    </tr>\n",
       "    <tr>\n",
       "      <th>1</th>\n",
       "      <td>-0.030452</td>\n",
       "      <td>-1.499514</td>\n",
       "      <td>0.380840</td>\n",
       "      <td>-0.826272</td>\n",
       "      <td>-0.244190</td>\n",
       "      <td>-0.752104</td>\n",
       "      <td>-0.729893</td>\n",
       "      <td>-0.126222</td>\n",
       "      <td>-0.332697</td>\n",
       "      <td>0.229843</td>\n",
       "    </tr>\n",
       "    <tr>\n",
       "      <th>2</th>\n",
       "      <td>-0.779950</td>\n",
       "      <td>0.904967</td>\n",
       "      <td>-1.238041</td>\n",
       "      <td>-0.044324</td>\n",
       "      <td>0.074729</td>\n",
       "      <td>-0.077542</td>\n",
       "      <td>-0.790169</td>\n",
       "      <td>-0.126400</td>\n",
       "      <td>0.447050</td>\n",
       "      <td>-0.349880</td>\n",
       "    </tr>\n",
       "    <tr>\n",
       "      <th>3</th>\n",
       "      <td>-0.779950</td>\n",
       "      <td>0.904967</td>\n",
       "      <td>-1.238041</td>\n",
       "      <td>-0.044324</td>\n",
       "      <td>0.074729</td>\n",
       "      <td>-0.077542</td>\n",
       "      <td>-0.790169</td>\n",
       "      <td>-0.126400</td>\n",
       "      <td>0.447050</td>\n",
       "      <td>-0.349880</td>\n",
       "    </tr>\n",
       "    <tr>\n",
       "      <th>4</th>\n",
       "      <td>-0.203413</td>\n",
       "      <td>-0.269315</td>\n",
       "      <td>0.218952</td>\n",
       "      <td>-0.257583</td>\n",
       "      <td>-0.307974</td>\n",
       "      <td>0.018824</td>\n",
       "      <td>-0.669618</td>\n",
       "      <td>-0.126624</td>\n",
       "      <td>-0.202740</td>\n",
       "      <td>-0.002046</td>\n",
       "    </tr>\n",
       "  </tbody>\n",
       "</table>\n",
       "</div>"
      ],
      "text/plain": [
       "   fixed acidity  volatile acidity  citric acid  residual sugar  chlorides  \\\n",
       "0       0.949660         -1.331760     0.542728        0.240020   0.223558   \n",
       "1      -0.030452         -1.499514     0.380840       -0.826272  -0.244190   \n",
       "2      -0.779950          0.904967    -1.238041       -0.044324   0.074729   \n",
       "3      -0.779950          0.904967    -1.238041       -0.044324   0.074729   \n",
       "4      -0.203413         -0.269315     0.218952       -0.257583  -0.307974   \n",
       "\n",
       "   free sulfur dioxide  total sulfur dioxide   density        pH  sulphates  \n",
       "0            -0.559372             -0.639480  0.827622  1.096839   1.447261  \n",
       "1            -0.752104             -0.729893 -0.126222 -0.332697   0.229843  \n",
       "2            -0.077542             -0.790169 -0.126400  0.447050  -0.349880  \n",
       "3            -0.077542             -0.790169 -0.126400  0.447050  -0.349880  \n",
       "4             0.018824             -0.669618 -0.126624 -0.202740  -0.002046  "
      ]
     },
     "execution_count": 18,
     "metadata": {},
     "output_type": "execute_result"
    }
   ],
   "source": [
    "X = wineZscore[features]\n",
    "X.head()"
   ]
  },
  {
   "cell_type": "markdown",
   "metadata": {},
   "source": [
    "De target variabele is bij deze onderzoeksvraag de points, dit is namelijk de variabele die we willen voorspellen. "
   ]
  },
  {
   "cell_type": "code",
   "execution_count": 19,
   "metadata": {},
   "outputs": [
    {
     "data": {
      "text/plain": [
       "0    87\n",
       "1    91\n",
       "2    90\n",
       "3    90\n",
       "4    92\n",
       "Name: points, dtype: int64"
      ]
     },
     "execution_count": 19,
     "metadata": {},
     "output_type": "execute_result"
    }
   ],
   "source": [
    "y = wine.points\n",
    "y.head()"
   ]
  },
  {
   "cell_type": "markdown",
   "metadata": {},
   "source": [
    "__4. Creeër een training- en validatie set.__"
   ]
  },
  {
   "cell_type": "markdown",
   "metadata": {},
   "source": [
    "Nu gaan we een training en test set creëeren. Door het opvullen van lege waarden met de gemiddelden verhogen we linreg.score() een beetje, deze komt later aan bod. "
   ]
  },
  {
   "cell_type": "code",
   "execution_count": 20,
   "metadata": {},
   "outputs": [
    {
     "name": "stderr",
     "output_type": "stream",
     "text": [
      "C:\\Python383\\lib\\site-packages\\pandas\\core\\generic.py:6245: SettingWithCopyWarning: \n",
      "A value is trying to be set on a copy of a slice from a DataFrame\n",
      "\n",
      "See the caveats in the documentation: https://pandas.pydata.org/pandas-docs/stable/user_guide/indexing.html#returning-a-view-versus-a-copy\n",
      "  self._update_inplace(new_data)\n"
     ]
    }
   ],
   "source": [
    "X.fillna(X.mean(),inplace=True)\n",
    "y.fillna(y.mean(),inplace=True)\n",
    "\n",
    "X_train, X_test, y_train, y_test = train_test_split(X, y, random_state=0)"
   ]
  },
  {
   "cell_type": "markdown",
   "metadata": {},
   "source": [
    "De wijn dataset bestaat uit 2465 records, we gebruiken ongeveer 75% van de waardes voor de trainingset en de overige 25% voor de testset. "
   ]
  },
  {
   "cell_type": "code",
   "execution_count": 21,
   "metadata": {},
   "outputs": [
    {
     "data": {
      "text/plain": [
       "2465"
      ]
     },
     "execution_count": 21,
     "metadata": {},
     "output_type": "execute_result"
    }
   ],
   "source": [
    "len(wine)"
   ]
  },
  {
   "cell_type": "code",
   "execution_count": 34,
   "metadata": {},
   "outputs": [
    {
     "data": {
      "text/plain": [
       "((1848, 10), (1848,))"
      ]
     },
     "execution_count": 34,
     "metadata": {},
     "output_type": "execute_result"
    }
   ],
   "source": [
    "len(X_train)\n",
    "(X_train.shape, y_train.shape)"
   ]
  },
  {
   "cell_type": "code",
   "execution_count": 23,
   "metadata": {},
   "outputs": [
    {
     "data": {
      "text/plain": [
       "617"
      ]
     },
     "execution_count": 23,
     "metadata": {},
     "output_type": "execute_result"
    }
   ],
   "source": [
    "len(X_test)"
   ]
  },
  {
   "cell_type": "code",
   "execution_count": 24,
   "metadata": {},
   "outputs": [],
   "source": [
    "linreg = LinearRegression()"
   ]
  },
  {
   "cell_type": "markdown",
   "metadata": {},
   "source": [
    "Het model gaat nu leren aan de hand van de data uit de trainingsset. "
   ]
  },
  {
   "cell_type": "code",
   "execution_count": 25,
   "metadata": {},
   "outputs": [
    {
     "data": {
      "text/plain": [
       "LinearRegression()"
      ]
     },
     "execution_count": 25,
     "metadata": {},
     "output_type": "execute_result"
    }
   ],
   "source": [
    "linreg.fit(X_train, y_train)"
   ]
  },
  {
   "cell_type": "markdown",
   "metadata": {},
   "source": [
    "We gaan nu de kwaliteit van het model berekenen op basis van de data uit de testset. "
   ]
  },
  {
   "cell_type": "code",
   "execution_count": 26,
   "metadata": {},
   "outputs": [
    {
     "data": {
      "text/plain": [
       "0.17942720741894747"
      ]
     },
     "execution_count": 26,
     "metadata": {},
     "output_type": "execute_result"
    }
   ],
   "source": [
    "linreg.score(X_test,y_test)"
   ]
  },
  {
   "cell_type": "markdown",
   "metadata": {},
   "source": [
    "De score van het model is 0.04, dat deze score zo dicht bij 0 ligt wil eigenlijk zeggen dat er geen lineair verband te leggen is tussen de features en de target variabelen. "
   ]
  },
  {
   "cell_type": "code",
   "execution_count": 27,
   "metadata": {},
   "outputs": [],
   "source": [
    "y_pred = linreg.predict(X_test)"
   ]
  },
  {
   "cell_type": "markdown",
   "metadata": {},
   "source": [
    "De mean squared error is de gemiddelde afwijking van de voorspelde waarden. Je wilt dit getal zo laag mogelijk hebben omdat het dus een error aangeeft. "
   ]
  },
  {
   "cell_type": "code",
   "execution_count": 28,
   "metadata": {},
   "outputs": [
    {
     "data": {
      "text/plain": [
       "2.7598026655957906"
      ]
     },
     "execution_count": 28,
     "metadata": {},
     "output_type": "execute_result"
    }
   ],
   "source": [
    "np.sqrt(mean_squared_error(y_test,y_pred))"
   ]
  },
  {
   "cell_type": "markdown",
   "metadata": {},
   "source": [
    "### Correlatie"
   ]
  },
  {
   "cell_type": "markdown",
   "metadata": {},
   "source": [
    "Correlatie toont de samenhang tussen variabelen. Hiervoor gebruiken we wederom de Zscore. Bij een grote correlatie kun je aan de hand van de ene variabele heel goed de andere voorspellen, bij een kleine correlatie gaat dit (bijna) niet. "
   ]
  },
  {
   "cell_type": "markdown",
   "metadata": {},
   "source": [
    "Correlatie kan positief en negatief zijn. Positieve correlatie wil zeggen dat wanneer X toeneemt, Y ook toeneemt. Negatieve correlatie wil zeggen dat wanneer X toeneemt, Y afneemt. Omdat een correlatie tussen de -0.4 en 0.4 zo klein is, kun je eigenlijk niet echt spreken van samenhang. "
   ]
  },
  {
   "cell_type": "code",
   "execution_count": 29,
   "metadata": {
    "scrolled": true
   },
   "outputs": [
    {
     "data": {
      "text/html": [
       "<div>\n",
       "<style scoped>\n",
       "    .dataframe tbody tr th:only-of-type {\n",
       "        vertical-align: middle;\n",
       "    }\n",
       "\n",
       "    .dataframe tbody tr th {\n",
       "        vertical-align: top;\n",
       "    }\n",
       "\n",
       "    .dataframe thead th {\n",
       "        text-align: right;\n",
       "    }\n",
       "</style>\n",
       "<table border=\"1\" class=\"dataframe\">\n",
       "  <thead>\n",
       "    <tr style=\"text-align: right;\">\n",
       "      <th></th>\n",
       "      <th>id</th>\n",
       "      <th>points</th>\n",
       "      <th>price</th>\n",
       "      <th>fixed acidity</th>\n",
       "      <th>volatile acidity</th>\n",
       "      <th>citric acid</th>\n",
       "      <th>residual sugar</th>\n",
       "      <th>chlorides</th>\n",
       "      <th>free sulfur dioxide</th>\n",
       "      <th>total sulfur dioxide</th>\n",
       "      <th>density</th>\n",
       "      <th>pH</th>\n",
       "      <th>sulphates</th>\n",
       "      <th>alcohol</th>\n",
       "    </tr>\n",
       "  </thead>\n",
       "  <tbody>\n",
       "    <tr>\n",
       "      <th>id</th>\n",
       "      <td>1.000000</td>\n",
       "      <td>0.020210</td>\n",
       "      <td>-0.025849</td>\n",
       "      <td>-0.022630</td>\n",
       "      <td>-0.060455</td>\n",
       "      <td>-0.008533</td>\n",
       "      <td>0.004168</td>\n",
       "      <td>0.027883</td>\n",
       "      <td>-0.017302</td>\n",
       "      <td>-0.047292</td>\n",
       "      <td>-0.041125</td>\n",
       "      <td>-0.011499</td>\n",
       "      <td>0.028872</td>\n",
       "      <td>-0.026607</td>\n",
       "    </tr>\n",
       "    <tr>\n",
       "      <th>points</th>\n",
       "      <td>0.020210</td>\n",
       "      <td>1.000000</td>\n",
       "      <td>0.586486</td>\n",
       "      <td>0.090071</td>\n",
       "      <td>-0.341131</td>\n",
       "      <td>0.185946</td>\n",
       "      <td>-0.002561</td>\n",
       "      <td>-0.132438</td>\n",
       "      <td>-0.059912</td>\n",
       "      <td>-0.198235</td>\n",
       "      <td>-0.042680</td>\n",
       "      <td>-0.021553</td>\n",
       "      <td>0.205161</td>\n",
       "      <td>0.473751</td>\n",
       "    </tr>\n",
       "    <tr>\n",
       "      <th>price</th>\n",
       "      <td>-0.025849</td>\n",
       "      <td>0.586486</td>\n",
       "      <td>1.000000</td>\n",
       "      <td>0.031478</td>\n",
       "      <td>-0.182749</td>\n",
       "      <td>0.117633</td>\n",
       "      <td>0.009046</td>\n",
       "      <td>-0.088986</td>\n",
       "      <td>-0.035449</td>\n",
       "      <td>-0.117392</td>\n",
       "      <td>-0.037046</td>\n",
       "      <td>-0.003534</td>\n",
       "      <td>0.100095</td>\n",
       "      <td>0.351717</td>\n",
       "    </tr>\n",
       "    <tr>\n",
       "      <th>fixed acidity</th>\n",
       "      <td>-0.022630</td>\n",
       "      <td>0.090071</td>\n",
       "      <td>0.031478</td>\n",
       "      <td>1.000000</td>\n",
       "      <td>-0.251469</td>\n",
       "      <td>0.658574</td>\n",
       "      <td>0.122001</td>\n",
       "      <td>0.085792</td>\n",
       "      <td>-0.146259</td>\n",
       "      <td>-0.103413</td>\n",
       "      <td>0.259202</td>\n",
       "      <td>-0.683750</td>\n",
       "      <td>0.179621</td>\n",
       "      <td>-0.033511</td>\n",
       "    </tr>\n",
       "    <tr>\n",
       "      <th>volatile acidity</th>\n",
       "      <td>-0.060455</td>\n",
       "      <td>-0.341131</td>\n",
       "      <td>-0.182749</td>\n",
       "      <td>-0.251469</td>\n",
       "      <td>1.000000</td>\n",
       "      <td>-0.520726</td>\n",
       "      <td>-0.001796</td>\n",
       "      <td>0.057571</td>\n",
       "      <td>0.004527</td>\n",
       "      <td>0.090757</td>\n",
       "      <td>0.024151</td>\n",
       "      <td>0.235531</td>\n",
       "      <td>-0.249800</td>\n",
       "      <td>-0.202710</td>\n",
       "    </tr>\n",
       "    <tr>\n",
       "      <th>citric acid</th>\n",
       "      <td>-0.008533</td>\n",
       "      <td>0.185946</td>\n",
       "      <td>0.117633</td>\n",
       "      <td>0.658574</td>\n",
       "      <td>-0.520726</td>\n",
       "      <td>1.000000</td>\n",
       "      <td>0.115617</td>\n",
       "      <td>0.198535</td>\n",
       "      <td>-0.086514</td>\n",
       "      <td>-0.027528</td>\n",
       "      <td>0.081946</td>\n",
       "      <td>-0.498958</td>\n",
       "      <td>0.296286</td>\n",
       "      <td>0.164078</td>\n",
       "    </tr>\n",
       "    <tr>\n",
       "      <th>residual sugar</th>\n",
       "      <td>0.004168</td>\n",
       "      <td>-0.002561</td>\n",
       "      <td>0.009046</td>\n",
       "      <td>0.122001</td>\n",
       "      <td>-0.001796</td>\n",
       "      <td>0.115617</td>\n",
       "      <td>1.000000</td>\n",
       "      <td>0.032883</td>\n",
       "      <td>0.196488</td>\n",
       "      <td>0.201968</td>\n",
       "      <td>0.283973</td>\n",
       "      <td>-0.080360</td>\n",
       "      <td>0.005866</td>\n",
       "      <td>0.042495</td>\n",
       "    </tr>\n",
       "    <tr>\n",
       "      <th>chlorides</th>\n",
       "      <td>0.027883</td>\n",
       "      <td>-0.132438</td>\n",
       "      <td>-0.088986</td>\n",
       "      <td>0.085792</td>\n",
       "      <td>0.057571</td>\n",
       "      <td>0.198535</td>\n",
       "      <td>0.032883</td>\n",
       "      <td>1.000000</td>\n",
       "      <td>0.011536</td>\n",
       "      <td>0.059917</td>\n",
       "      <td>0.070043</td>\n",
       "      <td>-0.260800</td>\n",
       "      <td>0.373699</td>\n",
       "      <td>-0.214887</td>\n",
       "    </tr>\n",
       "    <tr>\n",
       "      <th>free sulfur dioxide</th>\n",
       "      <td>-0.017302</td>\n",
       "      <td>-0.059912</td>\n",
       "      <td>-0.035449</td>\n",
       "      <td>-0.146259</td>\n",
       "      <td>0.004527</td>\n",
       "      <td>-0.086514</td>\n",
       "      <td>0.196488</td>\n",
       "      <td>0.011536</td>\n",
       "      <td>1.000000</td>\n",
       "      <td>0.675317</td>\n",
       "      <td>0.095521</td>\n",
       "      <td>0.074212</td>\n",
       "      <td>0.057024</td>\n",
       "      <td>-0.083033</td>\n",
       "    </tr>\n",
       "    <tr>\n",
       "      <th>total sulfur dioxide</th>\n",
       "      <td>-0.047292</td>\n",
       "      <td>-0.198235</td>\n",
       "      <td>-0.117392</td>\n",
       "      <td>-0.103413</td>\n",
       "      <td>0.090757</td>\n",
       "      <td>-0.027528</td>\n",
       "      <td>0.201968</td>\n",
       "      <td>0.059917</td>\n",
       "      <td>0.675317</td>\n",
       "      <td>1.000000</td>\n",
       "      <td>0.045214</td>\n",
       "      <td>-0.070769</td>\n",
       "      <td>0.053834</td>\n",
       "      <td>-0.247554</td>\n",
       "    </tr>\n",
       "    <tr>\n",
       "      <th>density</th>\n",
       "      <td>-0.041125</td>\n",
       "      <td>-0.042680</td>\n",
       "      <td>-0.037046</td>\n",
       "      <td>0.259202</td>\n",
       "      <td>0.024151</td>\n",
       "      <td>0.081946</td>\n",
       "      <td>0.283973</td>\n",
       "      <td>0.070043</td>\n",
       "      <td>0.095521</td>\n",
       "      <td>0.045214</td>\n",
       "      <td>1.000000</td>\n",
       "      <td>-0.129954</td>\n",
       "      <td>0.038108</td>\n",
       "      <td>-0.045386</td>\n",
       "    </tr>\n",
       "    <tr>\n",
       "      <th>pH</th>\n",
       "      <td>-0.011499</td>\n",
       "      <td>-0.021553</td>\n",
       "      <td>-0.003534</td>\n",
       "      <td>-0.683750</td>\n",
       "      <td>0.235531</td>\n",
       "      <td>-0.498958</td>\n",
       "      <td>-0.080360</td>\n",
       "      <td>-0.260800</td>\n",
       "      <td>0.074212</td>\n",
       "      <td>-0.070769</td>\n",
       "      <td>-0.129954</td>\n",
       "      <td>1.000000</td>\n",
       "      <td>-0.213464</td>\n",
       "      <td>0.188427</td>\n",
       "    </tr>\n",
       "    <tr>\n",
       "      <th>sulphates</th>\n",
       "      <td>0.028872</td>\n",
       "      <td>0.205161</td>\n",
       "      <td>0.100095</td>\n",
       "      <td>0.179621</td>\n",
       "      <td>-0.249800</td>\n",
       "      <td>0.296286</td>\n",
       "      <td>0.005866</td>\n",
       "      <td>0.373699</td>\n",
       "      <td>0.057024</td>\n",
       "      <td>0.053834</td>\n",
       "      <td>0.038108</td>\n",
       "      <td>-0.213464</td>\n",
       "      <td>1.000000</td>\n",
       "      <td>0.090077</td>\n",
       "    </tr>\n",
       "    <tr>\n",
       "      <th>alcohol</th>\n",
       "      <td>-0.026607</td>\n",
       "      <td>0.473751</td>\n",
       "      <td>0.351717</td>\n",
       "      <td>-0.033511</td>\n",
       "      <td>-0.202710</td>\n",
       "      <td>0.164078</td>\n",
       "      <td>0.042495</td>\n",
       "      <td>-0.214887</td>\n",
       "      <td>-0.083033</td>\n",
       "      <td>-0.247554</td>\n",
       "      <td>-0.045386</td>\n",
       "      <td>0.188427</td>\n",
       "      <td>0.090077</td>\n",
       "      <td>1.000000</td>\n",
       "    </tr>\n",
       "  </tbody>\n",
       "</table>\n",
       "</div>"
      ],
      "text/plain": [
       "                            id    points     price  fixed acidity  \\\n",
       "id                    1.000000  0.020210 -0.025849      -0.022630   \n",
       "points                0.020210  1.000000  0.586486       0.090071   \n",
       "price                -0.025849  0.586486  1.000000       0.031478   \n",
       "fixed acidity        -0.022630  0.090071  0.031478       1.000000   \n",
       "volatile acidity     -0.060455 -0.341131 -0.182749      -0.251469   \n",
       "citric acid          -0.008533  0.185946  0.117633       0.658574   \n",
       "residual sugar        0.004168 -0.002561  0.009046       0.122001   \n",
       "chlorides             0.027883 -0.132438 -0.088986       0.085792   \n",
       "free sulfur dioxide  -0.017302 -0.059912 -0.035449      -0.146259   \n",
       "total sulfur dioxide -0.047292 -0.198235 -0.117392      -0.103413   \n",
       "density              -0.041125 -0.042680 -0.037046       0.259202   \n",
       "pH                   -0.011499 -0.021553 -0.003534      -0.683750   \n",
       "sulphates             0.028872  0.205161  0.100095       0.179621   \n",
       "alcohol              -0.026607  0.473751  0.351717      -0.033511   \n",
       "\n",
       "                      volatile acidity  citric acid  residual sugar  \\\n",
       "id                           -0.060455    -0.008533        0.004168   \n",
       "points                       -0.341131     0.185946       -0.002561   \n",
       "price                        -0.182749     0.117633        0.009046   \n",
       "fixed acidity                -0.251469     0.658574        0.122001   \n",
       "volatile acidity              1.000000    -0.520726       -0.001796   \n",
       "citric acid                  -0.520726     1.000000        0.115617   \n",
       "residual sugar               -0.001796     0.115617        1.000000   \n",
       "chlorides                     0.057571     0.198535        0.032883   \n",
       "free sulfur dioxide           0.004527    -0.086514        0.196488   \n",
       "total sulfur dioxide          0.090757    -0.027528        0.201968   \n",
       "density                       0.024151     0.081946        0.283973   \n",
       "pH                            0.235531    -0.498958       -0.080360   \n",
       "sulphates                    -0.249800     0.296286        0.005866   \n",
       "alcohol                      -0.202710     0.164078        0.042495   \n",
       "\n",
       "                      chlorides  free sulfur dioxide  total sulfur dioxide  \\\n",
       "id                     0.027883            -0.017302             -0.047292   \n",
       "points                -0.132438            -0.059912             -0.198235   \n",
       "price                 -0.088986            -0.035449             -0.117392   \n",
       "fixed acidity          0.085792            -0.146259             -0.103413   \n",
       "volatile acidity       0.057571             0.004527              0.090757   \n",
       "citric acid            0.198535            -0.086514             -0.027528   \n",
       "residual sugar         0.032883             0.196488              0.201968   \n",
       "chlorides              1.000000             0.011536              0.059917   \n",
       "free sulfur dioxide    0.011536             1.000000              0.675317   \n",
       "total sulfur dioxide   0.059917             0.675317              1.000000   \n",
       "density                0.070043             0.095521              0.045214   \n",
       "pH                    -0.260800             0.074212             -0.070769   \n",
       "sulphates              0.373699             0.057024              0.053834   \n",
       "alcohol               -0.214887            -0.083033             -0.247554   \n",
       "\n",
       "                       density        pH  sulphates   alcohol  \n",
       "id                   -0.041125 -0.011499   0.028872 -0.026607  \n",
       "points               -0.042680 -0.021553   0.205161  0.473751  \n",
       "price                -0.037046 -0.003534   0.100095  0.351717  \n",
       "fixed acidity         0.259202 -0.683750   0.179621 -0.033511  \n",
       "volatile acidity      0.024151  0.235531  -0.249800 -0.202710  \n",
       "citric acid           0.081946 -0.498958   0.296286  0.164078  \n",
       "residual sugar        0.283973 -0.080360   0.005866  0.042495  \n",
       "chlorides             0.070043 -0.260800   0.373699 -0.214887  \n",
       "free sulfur dioxide   0.095521  0.074212   0.057024 -0.083033  \n",
       "total sulfur dioxide  0.045214 -0.070769   0.053834 -0.247554  \n",
       "density               1.000000 -0.129954   0.038108 -0.045386  \n",
       "pH                   -0.129954  1.000000  -0.213464  0.188427  \n",
       "sulphates             0.038108 -0.213464   1.000000  0.090077  \n",
       "alcohol              -0.045386  0.188427   0.090077  1.000000  "
      ]
     },
     "execution_count": 29,
     "metadata": {},
     "output_type": "execute_result"
    }
   ],
   "source": [
    "wineZscore.corr()"
   ]
  },
  {
   "cell_type": "markdown",
   "metadata": {},
   "source": [
    "__Correlatie tussen de variabelen__"
   ]
  },
  {
   "cell_type": "markdown",
   "metadata": {},
   "source": [
    "We gaan kijken naar de samenhang tussen variabelen onderling. Zowel featurue variabelen met elkaar, als target en feature variabelen. Hieronder zien we welke combinatie van variabelen met meest correleren met elkaar.  "
   ]
  },
  {
   "cell_type": "code",
   "execution_count": 30,
   "metadata": {},
   "outputs": [
    {
     "data": {
      "text/plain": [
       "citric acid           volatile acidity        0.520726\n",
       "volatile acidity      citric acid             0.520726\n",
       "price                 points                  0.586486\n",
       "points                price                   0.586486\n",
       "citric acid           fixed acidity           0.658574\n",
       "fixed acidity         citric acid             0.658574\n",
       "total sulfur dioxide  free sulfur dioxide     0.675317\n",
       "free sulfur dioxide   total sulfur dioxide    0.675317\n",
       "fixed acidity         pH                      0.683750\n",
       "pH                    fixed acidity           0.683750\n",
       "dtype: float64"
      ]
     },
     "execution_count": 30,
     "metadata": {},
     "output_type": "execute_result"
    }
   ],
   "source": [
    "c = wineZscore.corr().abs()\n",
    "s = c.unstack()\n",
    "so = s.sort_values(kind=\"quicksort\")\n",
    "so[172:182]"
   ]
  },
  {
   "cell_type": "markdown",
   "metadata": {},
   "source": [
    "Points en price zijn redelijk gecorreleert, dit kan interessant zijn maar helaas is price niet een feature variabelen. Voor deze onderzoeksvraag hebben we daar dus helaas niet heel veel aan. Wel zien we hier enigzins een positieve correlatie. "
   ]
  },
  {
   "cell_type": "code",
   "execution_count": 31,
   "metadata": {},
   "outputs": [
    {
     "data": {
      "text/plain": [
       "<matplotlib.collections.PathCollection at 0x17e7e8997f0>"
      ]
     },
     "execution_count": 31,
     "metadata": {},
     "output_type": "execute_result"
    },
    {
     "data": {
      "image/png": "[encoded data removed]",
      "text/plain": [
       "<Figure size 432x288 with 1 Axes>"
      ]
     },
     "metadata": {
      "needs_background": "light"
     },
     "output_type": "display_data"
    }
   ],
   "source": [
    "plt.scatter(wine.points, wine.price)"
   ]
  },
  {
   "cell_type": "markdown",
   "metadata": {},
   "source": [
    "Verder zien we in de tabel hierboven nog dat fixed acidity en pH sterk gecorreleert zijn. Bij sterke correlatie tussen twee feature variabelen kun je gaan nadenken of dit wijst op redundantie, misschien heb je maar 1 van de twee variabelen nodig als ze toch bijna hetzelfde aangeven. Ook kunnen de twee variabelen juist elkaar tegen werken. "
   ]
  },
  {
   "cell_type": "code",
   "execution_count": 32,
   "metadata": {},
   "outputs": [],
   "source": [
    "fa = wine['fixed acidity']"
   ]
  },
  {
   "cell_type": "code",
   "execution_count": 33,
   "metadata": {},
   "outputs": [
    {
     "data": {
      "text/plain": [
       "<matplotlib.collections.PathCollection at 0x17e7e8acf70>"
      ]
     },
     "execution_count": 33,
     "metadata": {},
     "output_type": "execute_result"
    },
    {
     "data": {
      "image/png": "[encoded data removed]",
      "text/plain": [
       "<Figure size 432x288 with 1 Axes>"
      ]
     },
     "metadata": {
      "needs_background": "light"
     },
     "output_type": "display_data"
    }
   ],
   "source": [
    "plt.scatter(wine.pH, fa)"
   ]
  },
  {
   "cell_type": "markdown",
   "metadata": {},
   "source": [
    "#### Conclusie: tussen de feature en de target variabelen is weinig samenhang te vinden. Is het mogelijk om de score van de wijn te voorspellen aan de hand van de chemische samenstelling? Nee, eigenlijk niet. Misschien kunnen we beter de score van de wijn gaan voorspellen aan de hand van de prijs. "
   ]
  }
 ],
 "metadata": {
  "kernelspec": {
   "display_name": "Python 3",
   "language": "python",
   "name": "python3"
  },
  "language_info": {
   "codemirror_mode": {
    "name": "ipython",
    "version": 3
   },
   "file_extension": ".py",
   "mimetype": "text/x-python",
   "name": "python",
   "nbconvert_exporter": "python",
   "pygments_lexer": "ipython3",
   "version": "3.7.4"
  }
 },
 "nbformat": 4,
 "nbformat_minor": 2
}
