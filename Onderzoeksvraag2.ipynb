{
 "cells": [
  {
   "cell_type": "markdown",
   "metadata": {},
   "source": [
    "# Onderzoeksvraag 2: Als we wijnen categoriseren op basis van de chemische samenstelling, zijn er bepaalde categorieën die mannelijke proevers anders beoordelen dan vrouwelijke proevers?\n"
   ]
  },
  {
   "cell_type": "markdown",
   "metadata": {},
   "source": [
    "We willen bij deze onderzoeksvraag mannelijke en vrouwelijke proevers vergelijken door te kijken of de ene groep een bepaalde voorkeur heeft voor een bepaalde categorie wijn."
   ]
  },
  {
   "cell_type": "code",
   "execution_count": 1,
   "metadata": {},
   "outputs": [],
   "source": [
    "import pandas as pd\n",
    "import numpy as np\n",
    "\n",
    "import nltk\n",
    "from nltk.corpus import stopwords\n",
    "# nltk.download()\n",
    "\n",
    "import matplotlib as mpl\n",
    "import seaborn as sns\n",
    "import matplotlib.pyplot as plt\n",
    "from matplotlib.patches import Polygon\n",
    "\n",
    "from scipy import stats\n",
    "\n",
    "from sklearn.cluster import KMeans\n",
    "from sklearn.mixture import GaussianMixture\n",
    "from sklearn.metrics import accuracy_score\n",
    "\n",
    "pd.set_option('display.max_columns', None)"
   ]
  },
  {
   "cell_type": "code",
   "execution_count": 2,
   "metadata": {},
   "outputs": [],
   "source": [
    "wine = pd.read_csv('redwine.csv', delimiter=';')\n",
    "chemColNames = ['fixed acidity','volatile acidity','citric acid','residual sugar','chlorides','free sulfur dioxide','total sulfur dioxide','density','pH','sulphates','alcohol']\n",
    "chem = wine[chemColNames]\n",
    "\n",
    "colErrorPairs = {\n",
    "    'density'    : [' . '],\n",
    "    'citric acid': [' - ',' -   '],\n",
    "    'alcohol'    : ['100.333.333.333.333','11.066.666.666.666.600','956.666.666.666.667','923.333.333.333.333']}\n",
    "\n",
    "for colName in colErrorPairs:\n",
    "    for faultyString in colErrorPairs[colName]:\n",
    "        wine[colName] = wine[colName].replace(faultyString,np.nan)\n",
    "        \n",
    "wine['alcohol'] = wine['alcohol'].astype(float)\n",
    "wine['density'] = wine['density'].astype(float)\n",
    "wine['citric acid'] = wine['citric acid'].astype(float)\n",
    "\n",
    "wine['taster_name'] = wine['taster_name'].apply(lambda name: name.split(\" \")[0])"
   ]
  },
  {
   "cell_type": "markdown",
   "metadata": {},
   "source": [
    "# 1. Inlezen externe dataset"
   ]
  },
  {
   "cell_type": "code",
   "execution_count": 3,
   "metadata": {},
   "outputs": [],
   "source": [
    "name = pd.read_csv('names.csv', usecols=['Name','Gender', 'Year','Count'])"
   ]
  },
  {
   "cell_type": "code",
   "execution_count": 6,
   "metadata": {},
   "outputs": [
    {
     "data": {
      "text/html": [
       "<div>\n",
       "<style scoped>\n",
       "    .dataframe tbody tr th:only-of-type {\n",
       "        vertical-align: middle;\n",
       "    }\n",
       "\n",
       "    .dataframe tbody tr th {\n",
       "        vertical-align: top;\n",
       "    }\n",
       "\n",
       "    .dataframe thead th {\n",
       "        text-align: right;\n",
       "    }\n",
       "</style>\n",
       "<table border=\"1\" class=\"dataframe\">\n",
       "  <thead>\n",
       "    <tr style=\"text-align: right;\">\n",
       "      <th></th>\n",
       "      <th>Name</th>\n",
       "      <th>Year</th>\n",
       "      <th>Gender</th>\n",
       "      <th>Count</th>\n",
       "    </tr>\n",
       "  </thead>\n",
       "  <tbody>\n",
       "    <tr>\n",
       "      <th>1816887</th>\n",
       "      <td>Aaban</td>\n",
       "      <td>2014</td>\n",
       "      <td>M</td>\n",
       "      <td>16</td>\n",
       "    </tr>\n",
       "    <tr>\n",
       "      <th>1803234</th>\n",
       "      <td>Aabha</td>\n",
       "      <td>2014</td>\n",
       "      <td>F</td>\n",
       "      <td>9</td>\n",
       "    </tr>\n",
       "    <tr>\n",
       "      <th>1452433</th>\n",
       "      <td>Aabid</td>\n",
       "      <td>2003</td>\n",
       "      <td>M</td>\n",
       "      <td>5</td>\n",
       "    </tr>\n",
       "    <tr>\n",
       "      <th>1808776</th>\n",
       "      <td>Aabriella</td>\n",
       "      <td>2014</td>\n",
       "      <td>F</td>\n",
       "      <td>5</td>\n",
       "    </tr>\n",
       "    <tr>\n",
       "      <th>1816291</th>\n",
       "      <td>Aadam</td>\n",
       "      <td>2014</td>\n",
       "      <td>M</td>\n",
       "      <td>19</td>\n",
       "    </tr>\n",
       "  </tbody>\n",
       "</table>\n",
       "</div>"
      ],
      "text/plain": [
       "              Name  Year Gender  Count\n",
       "1816887      Aaban  2014      M     16\n",
       "1803234      Aabha  2014      F      9\n",
       "1452433      Aabid  2003      M      5\n",
       "1808776  Aabriella  2014      F      5\n",
       "1816291      Aadam  2014      M     19"
      ]
     },
     "execution_count": 6,
     "metadata": {},
     "output_type": "execute_result"
    }
   ],
   "source": [
    "name.head()"
   ]
  },
  {
   "cell_type": "code",
   "execution_count": 7,
   "metadata": {},
   "outputs": [],
   "source": [
    "name.sort_values(by=['Count'],ascending=False, inplace=True)\n",
    "name.drop_duplicates(subset=['Name'], keep='first', inplace=True)\n",
    "name.sort_values(by=['Name'], inplace=True)"
   ]
  },
  {
   "cell_type": "markdown",
   "metadata": {},
   "source": [
    "# 2. Datasets mergen"
   ]
  },
  {
   "cell_type": "code",
   "execution_count": 8,
   "metadata": {},
   "outputs": [
    {
     "data": {
      "text/html": [
       "<div>\n",
       "<style scoped>\n",
       "    .dataframe tbody tr th:only-of-type {\n",
       "        vertical-align: middle;\n",
       "    }\n",
       "\n",
       "    .dataframe tbody tr th {\n",
       "        vertical-align: top;\n",
       "    }\n",
       "\n",
       "    .dataframe thead th {\n",
       "        text-align: right;\n",
       "    }\n",
       "</style>\n",
       "<table border=\"1\" class=\"dataframe\">\n",
       "  <thead>\n",
       "    <tr style=\"text-align: right;\">\n",
       "      <th></th>\n",
       "      <th>id</th>\n",
       "      <th>country</th>\n",
       "      <th>description</th>\n",
       "      <th>designation</th>\n",
       "      <th>points</th>\n",
       "      <th>price</th>\n",
       "      <th>province</th>\n",
       "      <th>taster_name</th>\n",
       "      <th>title</th>\n",
       "      <th>variety</th>\n",
       "      <th>winery</th>\n",
       "      <th>fixed acidity</th>\n",
       "      <th>volatile acidity</th>\n",
       "      <th>citric acid</th>\n",
       "      <th>residual sugar</th>\n",
       "      <th>chlorides</th>\n",
       "      <th>free sulfur dioxide</th>\n",
       "      <th>total sulfur dioxide</th>\n",
       "      <th>density</th>\n",
       "      <th>pH</th>\n",
       "      <th>sulphates</th>\n",
       "      <th>alcohol</th>\n",
       "      <th>Gender</th>\n",
       "    </tr>\n",
       "  </thead>\n",
       "  <tbody>\n",
       "    <tr>\n",
       "      <th>0</th>\n",
       "      <td>1</td>\n",
       "      <td>Portugal</td>\n",
       "      <td>This is ripe and fruity, a wine that is smooth...</td>\n",
       "      <td>Avidagos</td>\n",
       "      <td>87</td>\n",
       "      <td>15.0</td>\n",
       "      <td>Douro</td>\n",
       "      <td>Kerin</td>\n",
       "      <td>Quinta dos Avidagos 2011 Avidagos Red (Douro)</td>\n",
       "      <td>Portuguese Red</td>\n",
       "      <td>Quinta dos Avidagos</td>\n",
       "      <td>10.0</td>\n",
       "      <td>0.29</td>\n",
       "      <td>0.40</td>\n",
       "      <td>2.9</td>\n",
       "      <td>0.098</td>\n",
       "      <td>10.0</td>\n",
       "      <td>26.0</td>\n",
       "      <td>10.00600</td>\n",
       "      <td>3.48</td>\n",
       "      <td>0.91</td>\n",
       "      <td>9.7</td>\n",
       "      <td>F</td>\n",
       "    </tr>\n",
       "    <tr>\n",
       "      <th>1</th>\n",
       "      <td>2</td>\n",
       "      <td>Portugal</td>\n",
       "      <td>From an estate in the south of the Alentejo, t...</td>\n",
       "      <td>Grande Reserva Tinto</td>\n",
       "      <td>91</td>\n",
       "      <td>26.0</td>\n",
       "      <td>Alentejano</td>\n",
       "      <td>Roger</td>\n",
       "      <td>Casa Santa Vitória 2013 Grande Reserva Tinto R...</td>\n",
       "      <td>Portuguese Red</td>\n",
       "      <td>Casa Santa Vitória</td>\n",
       "      <td>8.3</td>\n",
       "      <td>0.26</td>\n",
       "      <td>0.37</td>\n",
       "      <td>1.4</td>\n",
       "      <td>0.076</td>\n",
       "      <td>8.0</td>\n",
       "      <td>23.0</td>\n",
       "      <td>0.99740</td>\n",
       "      <td>3.26</td>\n",
       "      <td>0.70</td>\n",
       "      <td>9.6</td>\n",
       "      <td>M</td>\n",
       "    </tr>\n",
       "    <tr>\n",
       "      <th>2</th>\n",
       "      <td>3</td>\n",
       "      <td>Portugal</td>\n",
       "      <td>A year in wood and 30 months in bottle before ...</td>\n",
       "      <td>Montes Claros Garrafeira</td>\n",
       "      <td>90</td>\n",
       "      <td>28.0</td>\n",
       "      <td>Alentejo</td>\n",
       "      <td>Paul</td>\n",
       "      <td>Adega Cooperativa de Borba 2012 Montes Claros ...</td>\n",
       "      <td>Portuguese Red</td>\n",
       "      <td>Adega Cooperativa de Borba</td>\n",
       "      <td>7.0</td>\n",
       "      <td>0.69</td>\n",
       "      <td>0.07</td>\n",
       "      <td>2.5</td>\n",
       "      <td>0.091</td>\n",
       "      <td>15.0</td>\n",
       "      <td>21.0</td>\n",
       "      <td>0.99572</td>\n",
       "      <td>3.38</td>\n",
       "      <td>0.60</td>\n",
       "      <td>11.3</td>\n",
       "      <td>M</td>\n",
       "    </tr>\n",
       "    <tr>\n",
       "      <th>3</th>\n",
       "      <td>4</td>\n",
       "      <td>Portugal</td>\n",
       "      <td>Wood aging gives this ripe blend of Baga and T...</td>\n",
       "      <td>NaN</td>\n",
       "      <td>90</td>\n",
       "      <td>20.0</td>\n",
       "      <td>Beira Atlantico</td>\n",
       "      <td>Alexander</td>\n",
       "      <td>Quinta de Foz de Arouce 2013 Red (Beira Atlant...</td>\n",
       "      <td>Portuguese Red</td>\n",
       "      <td>Quinta de Foz de Arouce</td>\n",
       "      <td>7.0</td>\n",
       "      <td>0.69</td>\n",
       "      <td>0.07</td>\n",
       "      <td>2.5</td>\n",
       "      <td>0.091</td>\n",
       "      <td>15.0</td>\n",
       "      <td>21.0</td>\n",
       "      <td>0.99572</td>\n",
       "      <td>3.38</td>\n",
       "      <td>0.60</td>\n",
       "      <td>11.3</td>\n",
       "      <td>M</td>\n",
       "    </tr>\n",
       "    <tr>\n",
       "      <th>4</th>\n",
       "      <td>5</td>\n",
       "      <td>Portugal</td>\n",
       "      <td>A powerful wine, richly structured and full of...</td>\n",
       "      <td>Gerações Colheita Seleccionada</td>\n",
       "      <td>92</td>\n",
       "      <td>34.0</td>\n",
       "      <td>Alentejano</td>\n",
       "      <td>Paul</td>\n",
       "      <td>Herdade Grande 2010 Gerações Colheita Seleccio...</td>\n",
       "      <td>Portuguese Red</td>\n",
       "      <td>Herdade Grande</td>\n",
       "      <td>8.0</td>\n",
       "      <td>0.48</td>\n",
       "      <td>0.34</td>\n",
       "      <td>2.2</td>\n",
       "      <td>0.073</td>\n",
       "      <td>16.0</td>\n",
       "      <td>25.0</td>\n",
       "      <td>0.99360</td>\n",
       "      <td>3.28</td>\n",
       "      <td>0.66</td>\n",
       "      <td>12.4</td>\n",
       "      <td>M</td>\n",
       "    </tr>\n",
       "  </tbody>\n",
       "</table>\n",
       "</div>"
      ],
      "text/plain": [
       "   id   country                                        description  \\\n",
       "0   1  Portugal  This is ripe and fruity, a wine that is smooth...   \n",
       "1   2  Portugal  From an estate in the south of the Alentejo, t...   \n",
       "2   3  Portugal  A year in wood and 30 months in bottle before ...   \n",
       "3   4  Portugal  Wood aging gives this ripe blend of Baga and T...   \n",
       "4   5  Portugal  A powerful wine, richly structured and full of...   \n",
       "\n",
       "                      designation  points  price         province taster_name  \\\n",
       "0                        Avidagos      87   15.0            Douro       Kerin   \n",
       "1            Grande Reserva Tinto      91   26.0       Alentejano       Roger   \n",
       "2        Montes Claros Garrafeira      90   28.0         Alentejo        Paul   \n",
       "3                             NaN      90   20.0  Beira Atlantico   Alexander   \n",
       "4  Gerações Colheita Seleccionada      92   34.0       Alentejano        Paul   \n",
       "\n",
       "                                               title         variety  \\\n",
       "0      Quinta dos Avidagos 2011 Avidagos Red (Douro)  Portuguese Red   \n",
       "1  Casa Santa Vitória 2013 Grande Reserva Tinto R...  Portuguese Red   \n",
       "2  Adega Cooperativa de Borba 2012 Montes Claros ...  Portuguese Red   \n",
       "3  Quinta de Foz de Arouce 2013 Red (Beira Atlant...  Portuguese Red   \n",
       "4  Herdade Grande 2010 Gerações Colheita Seleccio...  Portuguese Red   \n",
       "\n",
       "                       winery  fixed acidity  volatile acidity  citric acid  \\\n",
       "0         Quinta dos Avidagos           10.0              0.29         0.40   \n",
       "1          Casa Santa Vitória            8.3              0.26         0.37   \n",
       "2  Adega Cooperativa de Borba            7.0              0.69         0.07   \n",
       "3     Quinta de Foz de Arouce            7.0              0.69         0.07   \n",
       "4              Herdade Grande            8.0              0.48         0.34   \n",
       "\n",
       "   residual sugar  chlorides  free sulfur dioxide  total sulfur dioxide  \\\n",
       "0             2.9      0.098                 10.0                  26.0   \n",
       "1             1.4      0.076                  8.0                  23.0   \n",
       "2             2.5      0.091                 15.0                  21.0   \n",
       "3             2.5      0.091                 15.0                  21.0   \n",
       "4             2.2      0.073                 16.0                  25.0   \n",
       "\n",
       "    density    pH  sulphates  alcohol Gender  \n",
       "0  10.00600  3.48       0.91      9.7      F  \n",
       "1   0.99740  3.26       0.70      9.6      M  \n",
       "2   0.99572  3.38       0.60     11.3      M  \n",
       "3   0.99572  3.38       0.60     11.3      M  \n",
       "4   0.99360  3.28       0.66     12.4      M  "
      ]
     },
     "execution_count": 8,
     "metadata": {},
     "output_type": "execute_result"
    }
   ],
   "source": [
    "merge = wine.merge(name, left_on='taster_name', right_on='Name', how=\"left\")\n",
    "merge.drop(['Count','Name','Year'], axis = 1, inplace=True)\n",
    "merge.head()"
   ]
  },
  {
   "cell_type": "markdown",
   "metadata": {},
   "source": [
    "# 3. Data verkennen"
   ]
  },
  {
   "cell_type": "markdown",
   "metadata": {},
   "source": [
    "Nu printen we de tabel waarbij we de naam van de proever en het geslacht tonen en het aantal wijnen dat ze hebben geproeft."
   ]
  },
  {
   "cell_type": "code",
   "execution_count": 9,
   "metadata": {},
   "outputs": [
    {
     "data": {
      "text/html": [
       "<div>\n",
       "<style scoped>\n",
       "    .dataframe tbody tr th:only-of-type {\n",
       "        vertical-align: middle;\n",
       "    }\n",
       "\n",
       "    .dataframe tbody tr th {\n",
       "        vertical-align: top;\n",
       "    }\n",
       "\n",
       "    .dataframe thead th {\n",
       "        text-align: right;\n",
       "    }\n",
       "</style>\n",
       "<table border=\"1\" class=\"dataframe\">\n",
       "  <thead>\n",
       "    <tr style=\"text-align: right;\">\n",
       "      <th></th>\n",
       "      <th>taster_name</th>\n",
       "      <th>Gender</th>\n",
       "      <th>count</th>\n",
       "    </tr>\n",
       "  </thead>\n",
       "  <tbody>\n",
       "    <tr>\n",
       "      <th>14</th>\n",
       "      <td>Roger</td>\n",
       "      <td>M</td>\n",
       "      <td>630</td>\n",
       "    </tr>\n",
       "    <tr>\n",
       "      <th>11</th>\n",
       "      <td>Michael</td>\n",
       "      <td>M</td>\n",
       "      <td>384</td>\n",
       "    </tr>\n",
       "    <tr>\n",
       "      <th>8</th>\n",
       "      <td>Kerin</td>\n",
       "      <td>F</td>\n",
       "      <td>258</td>\n",
       "    </tr>\n",
       "    <tr>\n",
       "      <th>17</th>\n",
       "      <td>Virginie</td>\n",
       "      <td>F</td>\n",
       "      <td>220</td>\n",
       "    </tr>\n",
       "    <tr>\n",
       "      <th>13</th>\n",
       "      <td>Paul</td>\n",
       "      <td>M</td>\n",
       "      <td>218</td>\n",
       "    </tr>\n",
       "    <tr>\n",
       "      <th>7</th>\n",
       "      <td>Joe</td>\n",
       "      <td>M</td>\n",
       "      <td>143</td>\n",
       "    </tr>\n",
       "    <tr>\n",
       "      <th>10</th>\n",
       "      <td>Matt</td>\n",
       "      <td>M</td>\n",
       "      <td>140</td>\n",
       "    </tr>\n",
       "    <tr>\n",
       "      <th>15</th>\n",
       "      <td>Sean</td>\n",
       "      <td>M</td>\n",
       "      <td>125</td>\n",
       "    </tr>\n",
       "    <tr>\n",
       "      <th>6</th>\n",
       "      <td>Jim</td>\n",
       "      <td>M</td>\n",
       "      <td>107</td>\n",
       "    </tr>\n",
       "    <tr>\n",
       "      <th>1</th>\n",
       "      <td>Anna</td>\n",
       "      <td>F</td>\n",
       "      <td>84</td>\n",
       "    </tr>\n",
       "    <tr>\n",
       "      <th>2</th>\n",
       "      <td>Anne</td>\n",
       "      <td>F</td>\n",
       "      <td>55</td>\n",
       "    </tr>\n",
       "    <tr>\n",
       "      <th>9</th>\n",
       "      <td>Lauren</td>\n",
       "      <td>F</td>\n",
       "      <td>38</td>\n",
       "    </tr>\n",
       "    <tr>\n",
       "      <th>16</th>\n",
       "      <td>Susan</td>\n",
       "      <td>F</td>\n",
       "      <td>29</td>\n",
       "    </tr>\n",
       "    <tr>\n",
       "      <th>0</th>\n",
       "      <td>Alexander</td>\n",
       "      <td>M</td>\n",
       "      <td>14</td>\n",
       "    </tr>\n",
       "    <tr>\n",
       "      <th>5</th>\n",
       "      <td>Jeff</td>\n",
       "      <td>M</td>\n",
       "      <td>9</td>\n",
       "    </tr>\n",
       "    <tr>\n",
       "      <th>12</th>\n",
       "      <td>Mike</td>\n",
       "      <td>M</td>\n",
       "      <td>5</td>\n",
       "    </tr>\n",
       "    <tr>\n",
       "      <th>4</th>\n",
       "      <td>Fiona</td>\n",
       "      <td>F</td>\n",
       "      <td>3</td>\n",
       "    </tr>\n",
       "    <tr>\n",
       "      <th>3</th>\n",
       "      <td>Carrie</td>\n",
       "      <td>F</td>\n",
       "      <td>3</td>\n",
       "    </tr>\n",
       "  </tbody>\n",
       "</table>\n",
       "</div>"
      ],
      "text/plain": [
       "   taster_name Gender  count\n",
       "14       Roger      M    630\n",
       "11     Michael      M    384\n",
       "8        Kerin      F    258\n",
       "17    Virginie      F    220\n",
       "13        Paul      M    218\n",
       "7          Joe      M    143\n",
       "10        Matt      M    140\n",
       "15        Sean      M    125\n",
       "6          Jim      M    107\n",
       "1         Anna      F     84\n",
       "2         Anne      F     55\n",
       "9       Lauren      F     38\n",
       "16       Susan      F     29\n",
       "0    Alexander      M     14\n",
       "5         Jeff      M      9\n",
       "12        Mike      M      5\n",
       "4        Fiona      F      3\n",
       "3       Carrie      F      3"
      ]
     },
     "execution_count": 9,
     "metadata": {},
     "output_type": "execute_result"
    }
   ],
   "source": [
    "nameCount = merge.groupby(['taster_name', 'Gender']).size().reset_index(name='count')\n",
    "nameCount.sort_values(by='count',ascending=False)"
   ]
  },
  {
   "cell_type": "markdown",
   "metadata": {},
   "source": [
    "De bovenste twee proevers hebben samen 1.014 wijnen geproeft, dit is bijna de helft van alle records uit de dataset. Het kan nuttig zijn om te bekijken hoe veel procent van de proevers mannen en hoeveel procent van de proevers vrouwen zijn. Die verdeling zien we in de piechart hieronder. "
   ]
  },
  {
   "cell_type": "code",
   "execution_count": 10,
   "metadata": {},
   "outputs": [
    {
     "data": {
      "text/plain": [
       "<AxesSubplot:ylabel='Gender'>"
      ]
     },
     "execution_count": 10,
     "metadata": {},
     "output_type": "execute_result"
    },
    {
     "data": {
      "image/png": "[encoded data removed]",
      "text/plain": [
       "<Figure size 360x360 with 1 Axes>"
      ]
     },
     "metadata": {},
     "output_type": "display_data"
    }
   ],
   "source": [
    "count = merge['Gender'].value_counts()\n",
    "count.plot.pie(y ='Gender', figsize = (5,5), colors = ['lightblue', 'pink'])"
   ]
  },
  {
   "cell_type": "markdown",
   "metadata": {},
   "source": [
    "Van de piechart kunnen we aflezen dat ruim 2/3 van wijnen geproefd zijn door mannen. "
   ]
  },
  {
   "cell_type": "markdown",
   "metadata": {},
   "source": [
    "# 4. Clusteren\n"
   ]
  },
  {
   "cell_type": "markdown",
   "metadata": {},
   "source": [
    "### 4.1 Standaardiseren"
   ]
  },
  {
   "cell_type": "markdown",
   "metadata": {},
   "source": [
    "We willen de wijnen gaan clusteren op basis van hun chemische samenstelling. We maken een kopie van de bestaande dataset met alleen de Z-scores van de chemische samenstelling. "
   ]
  },
  {
   "cell_type": "code",
   "execution_count": 11,
   "metadata": {},
   "outputs": [],
   "source": [
    "chemColNames = ['pH','fixed acidity','volatile acidity','citric acid','residual sugar','chlorides','free sulfur dioxide','total sulfur dioxide','density','sulphates','alcohol']"
   ]
  },
  {
   "cell_type": "code",
   "execution_count": 12,
   "metadata": {},
   "outputs": [],
   "source": [
    "wineZscore = merge.copy()"
   ]
  },
  {
   "cell_type": "code",
   "execution_count": 13,
   "metadata": {},
   "outputs": [],
   "source": [
    "for col in chemColNames:\n",
    "    wineZscore[col] = (wine[col] - wine[col].mean())/wine[col].std(ddof=0)\n"
   ]
  },
  {
   "cell_type": "code",
   "execution_count": 14,
   "metadata": {},
   "outputs": [
    {
     "data": {
      "text/plain": [
       "((2251, 11), (2251, 23))"
      ]
     },
     "execution_count": 14,
     "metadata": {},
     "output_type": "execute_result"
    }
   ],
   "source": [
    "wineZscore = wineZscore.dropna(subset=chemColNames)\n",
    "chemZscore = wineZscore[chemColNames]\n",
    "chemZscore.shape, wineZscore.shape"
   ]
  },
  {
   "cell_type": "code",
   "execution_count": 15,
   "metadata": {},
   "outputs": [
    {
     "data": {
      "text/html": [
       "<div>\n",
       "<style scoped>\n",
       "    .dataframe tbody tr th:only-of-type {\n",
       "        vertical-align: middle;\n",
       "    }\n",
       "\n",
       "    .dataframe tbody tr th {\n",
       "        vertical-align: top;\n",
       "    }\n",
       "\n",
       "    .dataframe thead th {\n",
       "        text-align: right;\n",
       "    }\n",
       "</style>\n",
       "<table border=\"1\" class=\"dataframe\">\n",
       "  <thead>\n",
       "    <tr style=\"text-align: right;\">\n",
       "      <th></th>\n",
       "      <th>pH</th>\n",
       "      <th>fixed acidity</th>\n",
       "      <th>volatile acidity</th>\n",
       "      <th>citric acid</th>\n",
       "      <th>residual sugar</th>\n",
       "      <th>chlorides</th>\n",
       "      <th>free sulfur dioxide</th>\n",
       "      <th>total sulfur dioxide</th>\n",
       "      <th>density</th>\n",
       "      <th>sulphates</th>\n",
       "      <th>alcohol</th>\n",
       "    </tr>\n",
       "  </thead>\n",
       "  <tbody>\n",
       "    <tr>\n",
       "      <th>0</th>\n",
       "      <td>1.096839</td>\n",
       "      <td>0.949660</td>\n",
       "      <td>-1.331760</td>\n",
       "      <td>0.542728</td>\n",
       "      <td>0.240020</td>\n",
       "      <td>0.223558</td>\n",
       "      <td>-0.559372</td>\n",
       "      <td>-0.639480</td>\n",
       "      <td>0.827622</td>\n",
       "      <td>1.447261</td>\n",
       "      <td>-0.678516</td>\n",
       "    </tr>\n",
       "    <tr>\n",
       "      <th>1</th>\n",
       "      <td>-0.332697</td>\n",
       "      <td>-0.030452</td>\n",
       "      <td>-1.499514</td>\n",
       "      <td>0.380840</td>\n",
       "      <td>-0.826272</td>\n",
       "      <td>-0.244190</td>\n",
       "      <td>-0.752104</td>\n",
       "      <td>-0.729893</td>\n",
       "      <td>-0.126222</td>\n",
       "      <td>0.229843</td>\n",
       "      <td>-0.773610</td>\n",
       "    </tr>\n",
       "    <tr>\n",
       "      <th>2</th>\n",
       "      <td>0.447050</td>\n",
       "      <td>-0.779950</td>\n",
       "      <td>0.904967</td>\n",
       "      <td>-1.238041</td>\n",
       "      <td>-0.044324</td>\n",
       "      <td>0.074729</td>\n",
       "      <td>-0.077542</td>\n",
       "      <td>-0.790169</td>\n",
       "      <td>-0.126400</td>\n",
       "      <td>-0.349880</td>\n",
       "      <td>0.842984</td>\n",
       "    </tr>\n",
       "    <tr>\n",
       "      <th>3</th>\n",
       "      <td>0.447050</td>\n",
       "      <td>-0.779950</td>\n",
       "      <td>0.904967</td>\n",
       "      <td>-1.238041</td>\n",
       "      <td>-0.044324</td>\n",
       "      <td>0.074729</td>\n",
       "      <td>-0.077542</td>\n",
       "      <td>-0.790169</td>\n",
       "      <td>-0.126400</td>\n",
       "      <td>-0.349880</td>\n",
       "      <td>0.842984</td>\n",
       "    </tr>\n",
       "    <tr>\n",
       "      <th>4</th>\n",
       "      <td>-0.202740</td>\n",
       "      <td>-0.203413</td>\n",
       "      <td>-0.269315</td>\n",
       "      <td>0.218952</td>\n",
       "      <td>-0.257583</td>\n",
       "      <td>-0.307974</td>\n",
       "      <td>0.018824</td>\n",
       "      <td>-0.669618</td>\n",
       "      <td>-0.126624</td>\n",
       "      <td>-0.002046</td>\n",
       "      <td>1.889015</td>\n",
       "    </tr>\n",
       "    <tr>\n",
       "      <th>5</th>\n",
       "      <td>-0.657592</td>\n",
       "      <td>-0.088106</td>\n",
       "      <td>-1.667268</td>\n",
       "      <td>0.650654</td>\n",
       "      <td>-0.470841</td>\n",
       "      <td>-0.393019</td>\n",
       "      <td>-0.655738</td>\n",
       "      <td>-0.910719</td>\n",
       "      <td>-0.126607</td>\n",
       "      <td>-0.697713</td>\n",
       "      <td>1.793921</td>\n",
       "    </tr>\n",
       "    <tr>\n",
       "      <th>6</th>\n",
       "      <td>-0.917508</td>\n",
       "      <td>1.410890</td>\n",
       "      <td>-0.325233</td>\n",
       "      <td>0.704617</td>\n",
       "      <td>-0.328669</td>\n",
       "      <td>1.775632</td>\n",
       "      <td>1.078849</td>\n",
       "      <td>0.566025</td>\n",
       "      <td>-0.126137</td>\n",
       "      <td>0.577677</td>\n",
       "      <td>0.367515</td>\n",
       "    </tr>\n",
       "    <tr>\n",
       "      <th>8</th>\n",
       "      <td>-0.137761</td>\n",
       "      <td>-0.261067</td>\n",
       "      <td>-1.108087</td>\n",
       "      <td>0.596691</td>\n",
       "      <td>-0.755186</td>\n",
       "      <td>-0.669415</td>\n",
       "      <td>-0.944836</td>\n",
       "      <td>-0.368242</td>\n",
       "      <td>-0.126586</td>\n",
       "      <td>0.287815</td>\n",
       "      <td>0.557703</td>\n",
       "    </tr>\n",
       "    <tr>\n",
       "      <th>9</th>\n",
       "      <td>0.447050</td>\n",
       "      <td>-0.779950</td>\n",
       "      <td>0.904967</td>\n",
       "      <td>-1.238041</td>\n",
       "      <td>-0.044324</td>\n",
       "      <td>0.074729</td>\n",
       "      <td>-0.077542</td>\n",
       "      <td>-0.790169</td>\n",
       "      <td>-0.126400</td>\n",
       "      <td>-0.349880</td>\n",
       "      <td>0.842984</td>\n",
       "    </tr>\n",
       "    <tr>\n",
       "      <th>10</th>\n",
       "      <td>-0.332697</td>\n",
       "      <td>0.257816</td>\n",
       "      <td>-1.443596</td>\n",
       "      <td>0.866505</td>\n",
       "      <td>-0.328669</td>\n",
       "      <td>0.159774</td>\n",
       "      <td>0.404287</td>\n",
       "      <td>-0.549067</td>\n",
       "      <td>-0.126489</td>\n",
       "      <td>-0.581769</td>\n",
       "      <td>0.842984</td>\n",
       "    </tr>\n",
       "  </tbody>\n",
       "</table>\n",
       "</div>"
      ],
      "text/plain": [
       "          pH  fixed acidity  volatile acidity  citric acid  residual sugar  \\\n",
       "0   1.096839       0.949660         -1.331760     0.542728        0.240020   \n",
       "1  -0.332697      -0.030452         -1.499514     0.380840       -0.826272   \n",
       "2   0.447050      -0.779950          0.904967    -1.238041       -0.044324   \n",
       "3   0.447050      -0.779950          0.904967    -1.238041       -0.044324   \n",
       "4  -0.202740      -0.203413         -0.269315     0.218952       -0.257583   \n",
       "5  -0.657592      -0.088106         -1.667268     0.650654       -0.470841   \n",
       "6  -0.917508       1.410890         -0.325233     0.704617       -0.328669   \n",
       "8  -0.137761      -0.261067         -1.108087     0.596691       -0.755186   \n",
       "9   0.447050      -0.779950          0.904967    -1.238041       -0.044324   \n",
       "10 -0.332697       0.257816         -1.443596     0.866505       -0.328669   \n",
       "\n",
       "    chlorides  free sulfur dioxide  total sulfur dioxide   density  sulphates  \\\n",
       "0    0.223558            -0.559372             -0.639480  0.827622   1.447261   \n",
       "1   -0.244190            -0.752104             -0.729893 -0.126222   0.229843   \n",
       "2    0.074729            -0.077542             -0.790169 -0.126400  -0.349880   \n",
       "3    0.074729            -0.077542             -0.790169 -0.126400  -0.349880   \n",
       "4   -0.307974             0.018824             -0.669618 -0.126624  -0.002046   \n",
       "5   -0.393019            -0.655738             -0.910719 -0.126607  -0.697713   \n",
       "6    1.775632             1.078849              0.566025 -0.126137   0.577677   \n",
       "8   -0.669415            -0.944836             -0.368242 -0.126586   0.287815   \n",
       "9    0.074729            -0.077542             -0.790169 -0.126400  -0.349880   \n",
       "10   0.159774             0.404287             -0.549067 -0.126489  -0.581769   \n",
       "\n",
       "     alcohol  \n",
       "0  -0.678516  \n",
       "1  -0.773610  \n",
       "2   0.842984  \n",
       "3   0.842984  \n",
       "4   1.889015  \n",
       "5   1.793921  \n",
       "6   0.367515  \n",
       "8   0.557703  \n",
       "9   0.842984  \n",
       "10  0.842984  "
      ]
     },
     "execution_count": 15,
     "metadata": {},
     "output_type": "execute_result"
    }
   ],
   "source": [
    "kMeansData = chemZscore.copy()\n",
    "kMeansData.head(10)"
   ]
  },
  {
   "cell_type": "code",
   "execution_count": 16,
   "metadata": {},
   "outputs": [],
   "source": [
    "kMeansData = kMeansData.values"
   ]
  },
  {
   "cell_type": "code",
   "execution_count": 17,
   "metadata": {},
   "outputs": [],
   "source": [
    "n_cluster = 20"
   ]
  },
  {
   "cell_type": "markdown",
   "metadata": {},
   "source": [
    "We gaan de wijnen verdelen over 20 clusters zodat er een goede conclusie kan worden getrokken. Bij minder clusters worden de clusters te groot. "
   ]
  },
  {
   "cell_type": "markdown",
   "metadata": {},
   "source": [
    "## 4.2 Cluster visualisatie "
   ]
  },
  {
   "cell_type": "markdown",
   "metadata": {},
   "source": [
    "### KMeans "
   ]
  },
  {
   "cell_type": "markdown",
   "metadata": {},
   "source": [
    "Aangezien we niet alle 11 kolommen kunnen visualiseren in een scatterplot, hebben we er een gemaakt met de eerste twee kolommen: pH en fixed acidity. Op basis van deze twee kolommen tonen we de 20 clusters met de cluster middelpunten. "
   ]
  },
  {
   "cell_type": "code",
   "execution_count": 18,
   "metadata": {},
   "outputs": [
    {
     "data": {
      "text/plain": [
       "-7778.037267215963"
      ]
     },
     "execution_count": 18,
     "metadata": {},
     "output_type": "execute_result"
    },
    {
     "data": {
      "image/png": "[encoded data removed]",
      "text/plain": [
       "<Figure size 1296x504 with 1 Axes>"
      ]
     },
     "metadata": {
      "needs_background": "light"
     },
     "output_type": "display_data"
    }
   ],
   "source": [
    "fig, (kmeansClustorPlot) = plt.subplots()\n",
    "fig.set_size_inches(18, 7)\n",
    "plt.ylabel('pH waarde')\n",
    "plt.xlabel('Fixed Acidity')\n",
    "\n",
    "kmeans = KMeans(n_clusters=n_cluster, random_state=10)\n",
    "kmeans_cluster_labels = kmeans.fit_predict(kMeansData)\n",
    "\n",
    "\n",
    "colors = mpl.cm.nipy_spectral(kmeans_cluster_labels.astype(float) / n_cluster)\n",
    "kmeansClustorPlot.scatter(kMeansData[:,0], kMeansData[:,1],marker='.', s=30, lw=0, alpha=0.7, c = colors, edgecolor='k')\n",
    "\n",
    "centers = kmeans.cluster_centers_\n",
    "kmeansClustorPlot.scatter(centers[:, 0], centers[:, 1], marker='o', c=\"white\", alpha=1, s=200, edgecolor='k')\n",
    "kmeans.score(kMeansData)"
   ]
  },
  {
   "cell_type": "markdown",
   "metadata": {},
   "source": [
    "De score van kMeans wordt bepaald door voor alle meetwaarden de gekwadrateerde afstand tot het clustermiddelpunt te berekenen. Hoe dichter bij 0, hoe beter. Wat precies een score van -7778 betekend weten we niet zo goed, maar het ziet er niet heel goed uit. "
   ]
  },
  {
   "cell_type": "code",
   "execution_count": 19,
   "metadata": {},
   "outputs": [],
   "source": [
    "wineZscore['kmeans_cluster'] = kmeans_cluster_labels"
   ]
  },
  {
   "cell_type": "markdown",
   "metadata": {},
   "source": [
    "### Gaussian Mixture Model"
   ]
  },
  {
   "cell_type": "markdown",
   "metadata": {},
   "source": [
    "Wederom gaan we, nu aan de hand van GMM, clusteren. We hebben weer dezelfde kolommen in de scatterplot gevisualiseerd. Hier komt ongeveer hetzelfde uit als bij KMeans.  "
   ]
  },
  {
   "cell_type": "code",
   "execution_count": 20,
   "metadata": {},
   "outputs": [
    {
     "data": {
      "text/plain": [
       "-2.107077980545461"
      ]
     },
     "execution_count": 20,
     "metadata": {},
     "output_type": "execute_result"
    },
    {
     "data": {
      "image/png": "[encoded data removed]",
      "text/plain": [
       "<Figure size 1296x504 with 1 Axes>"
      ]
     },
     "metadata": {
      "needs_background": "light"
     },
     "output_type": "display_data"
    }
   ],
   "source": [
    "gmm = GaussianMixture(n_components=n_cluster, random_state=10, covariance_type='full')\n",
    "gmm_cluster_labels = gmm.fit_predict(kMeansData)\n",
    "\n",
    "\n",
    "fig, (gmmClustorPlot) = plt.subplots()\n",
    "fig.set_size_inches(18, 7)\n",
    "\n",
    "colors = mpl.cm.nipy_spectral(gmm_cluster_labels.astype(float) / n_cluster)\n",
    "\n",
    "gmmClustorPlot.scatter(kMeansData[:,0], kMeansData[:,1],marker='.', s=30, lw=0, alpha=0.7, c = colors, edgecolor='k')\n",
    "# gmmClustorPlot.scatter(centers[:, 0], centers[:, 1], marker='o', c=\"white\", alpha=1, s=200, edgecolor='k')\n",
    "gmm.score(kMeansData)"
   ]
  },
  {
   "cell_type": "code",
   "execution_count": 21,
   "metadata": {},
   "outputs": [
    {
     "data": {
      "text/html": [
       "<div>\n",
       "<style scoped>\n",
       "    .dataframe tbody tr th:only-of-type {\n",
       "        vertical-align: middle;\n",
       "    }\n",
       "\n",
       "    .dataframe tbody tr th {\n",
       "        vertical-align: top;\n",
       "    }\n",
       "\n",
       "    .dataframe thead th {\n",
       "        text-align: right;\n",
       "    }\n",
       "</style>\n",
       "<table border=\"1\" class=\"dataframe\">\n",
       "  <thead>\n",
       "    <tr style=\"text-align: right;\">\n",
       "      <th></th>\n",
       "      <th>id</th>\n",
       "      <th>points</th>\n",
       "      <th>price</th>\n",
       "      <th>taster_name</th>\n",
       "      <th>Gender</th>\n",
       "      <th>kmeans_cluster</th>\n",
       "      <th>gmm_cluster</th>\n",
       "    </tr>\n",
       "  </thead>\n",
       "  <tbody>\n",
       "    <tr>\n",
       "      <th>0</th>\n",
       "      <td>1</td>\n",
       "      <td>87</td>\n",
       "      <td>15.0</td>\n",
       "      <td>Kerin</td>\n",
       "      <td>F</td>\n",
       "      <td>17</td>\n",
       "      <td>18</td>\n",
       "    </tr>\n",
       "    <tr>\n",
       "      <th>1</th>\n",
       "      <td>2</td>\n",
       "      <td>91</td>\n",
       "      <td>26.0</td>\n",
       "      <td>Roger</td>\n",
       "      <td>M</td>\n",
       "      <td>12</td>\n",
       "      <td>4</td>\n",
       "    </tr>\n",
       "    <tr>\n",
       "      <th>2</th>\n",
       "      <td>3</td>\n",
       "      <td>90</td>\n",
       "      <td>28.0</td>\n",
       "      <td>Paul</td>\n",
       "      <td>M</td>\n",
       "      <td>1</td>\n",
       "      <td>17</td>\n",
       "    </tr>\n",
       "    <tr>\n",
       "      <th>3</th>\n",
       "      <td>4</td>\n",
       "      <td>90</td>\n",
       "      <td>20.0</td>\n",
       "      <td>Alexander</td>\n",
       "      <td>M</td>\n",
       "      <td>1</td>\n",
       "      <td>17</td>\n",
       "    </tr>\n",
       "    <tr>\n",
       "      <th>4</th>\n",
       "      <td>5</td>\n",
       "      <td>92</td>\n",
       "      <td>34.0</td>\n",
       "      <td>Paul</td>\n",
       "      <td>M</td>\n",
       "      <td>0</td>\n",
       "      <td>4</td>\n",
       "    </tr>\n",
       "  </tbody>\n",
       "</table>\n",
       "</div>"
      ],
      "text/plain": [
       "   id  points  price taster_name Gender  kmeans_cluster  gmm_cluster\n",
       "0   1      87   15.0       Kerin      F              17           18\n",
       "1   2      91   26.0       Roger      M              12            4\n",
       "2   3      90   28.0        Paul      M               1           17\n",
       "3   4      90   20.0   Alexander      M               1           17\n",
       "4   5      92   34.0        Paul      M               0            4"
      ]
     },
     "execution_count": 21,
     "metadata": {},
     "output_type": "execute_result"
    }
   ],
   "source": [
    "relevant = ['id','points','price','taster_name','Gender','kmeans_cluster','gmm_cluster']\n",
    "wineZscore['gmm_cluster'] = gmm_cluster_labels\n",
    "wineZscore[relevant].head()"
   ]
  },
  {
   "cell_type": "markdown",
   "metadata": {},
   "source": [
    "## 4.3 Clusters bestuderen"
   ]
  },
  {
   "cell_type": "markdown",
   "metadata": {},
   "source": [
    "## K Means\n"
   ]
  },
  {
   "cell_type": "markdown",
   "metadata": {},
   "source": [
    "Hieronder gaan per cluster de gemiddelde score uitrekenen. Ook gaan we kijken naar het gemiddelde aantal punten voor gegeven door mannen en vrouwen aan een bepaald cluster. Als hier een groot verschil tussen zit, kunnen we daar dus uit opmaken dat mannen of vrouwen voorkeur hebben voor een bepaald cluster. "
   ]
  },
  {
   "cell_type": "code",
   "execution_count": 22,
   "metadata": {},
   "outputs": [
    {
     "name": "stdout",
     "output_type": "stream",
     "text": [
      "Kmeans cluster: 0 Count Males: 137/ Females: 71\n",
      "Average cluster score: 91.72115384615384\n",
      "Per gender score: Males: 91.86131386861314,Females: 91.45070422535211\n",
      "\n",
      "Kmeans cluster: 1 Count Males: 151/ Females: 71\n",
      "Average cluster score: 88.11711711711712\n",
      "Per gender score: Males: 87.94701986754967,Females: 88.47887323943662\n",
      "\n",
      "Kmeans cluster: 2 Count Males: 5/ Females: 0\n",
      "Average cluster score: 88.4\n",
      "Per gender score: Males: 88.4,Females: nan\n",
      "\n",
      "Kmeans cluster: 3 Count Males: 109/ Females: 39\n",
      "Average cluster score: 89.08108108108108\n",
      "Per gender score: Males: 89.26605504587155,Females: 88.56410256410257\n",
      "\n",
      "Kmeans cluster: 4 Count Males: 31/ Females: 8\n",
      "Average cluster score: 87.28205128205128\n",
      "Per gender score: Males: 87.03225806451613,Females: 88.25\n",
      "\n",
      "Kmeans cluster: 5 Count Males: 13/ Females: 3\n",
      "Average cluster score: 87.25\n",
      "Per gender score: Males: 87.53846153846153,Females: 86.0\n",
      "\n",
      "Kmeans cluster: 6 Count Males: 9/ Females: 4\n",
      "Average cluster score: 88.07692307692308\n",
      "Per gender score: Males: 88.55555555555556,Females: 87.0\n",
      "\n",
      "Kmeans cluster: 7 Count Males: 109/ Females: 44\n",
      "Average cluster score: 89.67320261437908\n",
      "Per gender score: Males: 89.88073394495413,Females: 89.1590909090909\n",
      "\n",
      "Kmeans cluster: 8 Count Males: 66/ Females: 30\n",
      "Average cluster score: 90.4375\n",
      "Per gender score: Males: 90.28787878787878,Females: 90.76666666666667\n",
      "\n",
      "Kmeans cluster: 9 Count Males: 82/ Females: 30\n",
      "Average cluster score: 86.78571428571429\n",
      "Per gender score: Males: 86.7560975609756,Females: 86.86666666666666\n",
      "\n",
      "Kmeans cluster: 10 Count Males: 6/ Females: 3\n",
      "Average cluster score: 88.77777777777777\n",
      "Per gender score: Males: 89.0,Females: 88.33333333333333\n",
      "\n",
      "Kmeans cluster: 11 Count Males: 35/ Females: 18\n",
      "Average cluster score: 87.09433962264151\n",
      "Per gender score: Males: 87.34285714285714,Females: 86.61111111111111\n",
      "\n",
      "Kmeans cluster: 12 Count Males: 116/ Females: 59\n",
      "Average cluster score: 89.33714285714285\n",
      "Per gender score: Males: 89.24137931034483,Females: 89.52542372881356\n",
      "\n",
      "Kmeans cluster: 13 Count Males: 135/ Females: 50\n",
      "Average cluster score: 87.36756756756756\n",
      "Per gender score: Males: 87.63703703703703,Females: 86.64\n",
      "\n",
      "Kmeans cluster: 14 Count Males: 27/ Females: 9\n",
      "Average cluster score: 91.05555555555556\n",
      "Per gender score: Males: 90.92592592592592,Females: 91.44444444444444\n",
      "\n",
      "Kmeans cluster: 15 Count Males: 156/ Females: 45\n",
      "Average cluster score: 87.53731343283582\n",
      "Per gender score: Males: 87.59615384615384,Females: 87.33333333333333\n",
      "\n",
      "Kmeans cluster: 16 Count Males: 145/ Females: 41\n",
      "Average cluster score: 88.54838709677419\n",
      "Per gender score: Males: 88.64137931034483,Females: 88.21951219512195\n",
      "\n",
      "Kmeans cluster: 17 Count Males: 63/ Females: 27\n",
      "Average cluster score: 90.0111111111111\n",
      "Per gender score: Males: 90.19047619047619,Females: 89.5925925925926\n",
      "\n",
      "Kmeans cluster: 18 Count Males: 44/ Females: 12\n",
      "Average cluster score: 91.08928571428571\n",
      "Per gender score: Males: 91.3409090909091,Females: 90.16666666666667\n",
      "\n",
      "Kmeans cluster: 19 Count Males: 177/ Females: 71\n",
      "Average cluster score: 88.38306451612904\n",
      "Per gender score: Males: 88.50847457627118,Females: 88.07042253521126\n",
      "\n"
     ]
    },
    {
     "name": "stderr",
     "output_type": "stream",
     "text": [
      "/Users/jet/opt/anaconda3/lib/python3.7/site-packages/ipykernel_launcher.py:15: RuntimeWarning: invalid value encountered in long_scalars\n",
      "  from ipykernel import kernelapp as app\n"
     ]
    }
   ],
   "source": [
    "# wineZscore.groupby('kmeans_cluster').filter(like='M').count()\n",
    "totalAmount = wineZscore.shape[0]\n",
    "for i in range(n_cluster):\n",
    "    m = wineZscore['Gender'][(wineZscore['Gender'] == \"M\") & (wineZscore['kmeans_cluster'] == i)].count()\n",
    "    f = wineZscore['Gender'][(wineZscore['Gender'] == \"F\") & (wineZscore['kmeans_cluster'] == i)].count()\n",
    "    \n",
    "    mScore = wineZscore['points'][(wineZscore['Gender'] == \"M\") & (wineZscore['kmeans_cluster'] == i)].sum()\n",
    "    fScore = wineZscore['points'][(wineZscore['Gender'] == \"F\") & (wineZscore['kmeans_cluster'] == i)].sum()\n",
    "    \n",
    "    clusterScore = wineZscore['points'][(wineZscore['kmeans_cluster'] == i)].sum()\n",
    "    \n",
    "    tasterCount = m + f\n",
    "    print(f'Kmeans cluster: {i} Count Males: {m}/ Females: {f}')\n",
    "    print(f'Average cluster score: {clusterScore/tasterCount}')\n",
    "    print(f'Per gender score: Males: {mScore/m},Females: {fScore/f}\\n')\n",
    "\n",
    "# wineZscore['Gender'][(wineZscore['Gender'] == \"M\") & (wineZscore['kmeans_cluster'] == 3)].count()\n",
    "# wineZscore[(wineZscore['Gender'] == \"F\")].count()"
   ]
  },
  {
   "cell_type": "markdown",
   "metadata": {},
   "source": [
    "### KMeans conclusie\n",
    "We willen de data van hierboven enigzins visualiseren zodat we wat beter kunnen zien wat we nou precies berekend hebben. Hiervoor hebben we een bar plot gemaakt. We hebben voor 4 random clusters de score van mannen en vrouwen vergeleken, om zo te kijken of er een significant verschil zit tussen de beoordelingen per geslacht per cluster. "
   ]
  },
  {
   "cell_type": "code",
   "execution_count": 23,
   "metadata": {},
   "outputs": [
    {
     "data": {
      "text/plain": [
       "<matplotlib.legend.Legend at 0x7fd09fc01390>"
      ]
     },
     "execution_count": 23,
     "metadata": {},
     "output_type": "execute_result"
    },
    {
     "data": {
      "image/png": "[encoded data removed]",
      "text/plain": [
       "<Figure size 432x288 with 1 Axes>"
      ]
     },
     "metadata": {
      "needs_background": "light"
     },
     "output_type": "display_data"
    }
   ],
   "source": [
    "labels = ['5', '10', '15', '20']\n",
    "men_means = [87.03225806451613, 86.7560975609756, 90.92592592592592, 88.50847457627118]\n",
    "women_means = [87.03225806451613,86.86666666666666 , 91.44444444444444, 88.07042253521126]\n",
    "\n",
    "x = np.arange(len(labels))  # the label locations\n",
    "width = 0.35  # the width of the bars\n",
    "\n",
    "fig, ax = plt.subplots()\n",
    "rects1 = ax.bar(x - width/2, men_means, width, label='Men', color = 'lightblue')\n",
    "rects2 = ax.bar(x + width/2, women_means, width, label='Women', color = 'pink')\n",
    "\n",
    "ax.set_ylabel('Scores')\n",
    "ax.set_xlabel('Cluster')\n",
    "ax.set_title('KMeans Scores Male vs Female')\n",
    "ax.set_xticks(x)\n",
    "ax.set_xticklabels(labels)\n",
    "ax.legend()\n"
   ]
  },
  {
   "cell_type": "markdown",
   "metadata": {},
   "source": [
    "## Gaussian Mixture Model "
   ]
  },
  {
   "cell_type": "markdown",
   "metadata": {},
   "source": [
    "We gaan nu met behulp van het Gaussian Mixture Model de clusters bestuderen. Het verschil tussen GMM en KMeans is dat je bij GMM meerdere parameters hebt die je kunt aanpassen om zo een betere score te bereiken. "
   ]
  },
  {
   "cell_type": "code",
   "execution_count": 24,
   "metadata": {},
   "outputs": [
    {
     "name": "stdout",
     "output_type": "stream",
     "text": [
      "GMM cluster: 0 Count Males: 114/ Females: 47\n",
      "Average cluster score: 88.5776397515528\n",
      "Per gender score: Males: 88.94736842105263,Females: 87.68085106382979\n",
      "\n",
      "GMM cluster: 1 Count Males: 204/ Females: 103\n",
      "Average cluster score: 91.12377850162866\n",
      "Per gender score: Males: 91.43137254901961,Females: 90.51456310679612\n",
      "\n",
      "GMM cluster: 2 Count Males: 63/ Females: 35\n",
      "Average cluster score: 88.11224489795919\n",
      "Per gender score: Males: 87.47619047619048,Females: 89.25714285714285\n",
      "\n",
      "GMM cluster: 3 Count Males: 17/ Females: 4\n",
      "Average cluster score: 88.42857142857143\n",
      "Per gender score: Males: 88.6470588235294,Females: 87.5\n",
      "\n",
      "GMM cluster: 4 Count Males: 224/ Females: 104\n",
      "Average cluster score: 90.11280487804878\n",
      "Per gender score: Males: 90.22767857142857,Females: 89.86538461538461\n",
      "\n",
      "GMM cluster: 5 Count Males: 36/ Females: 10\n",
      "Average cluster score: 87.1304347826087\n",
      "Per gender score: Males: 86.91666666666667,Females: 87.9\n",
      "\n",
      "GMM cluster: 6 Count Males: 18/ Females: 3\n",
      "Average cluster score: 87.52380952380952\n",
      "Per gender score: Males: 87.77777777777777,Females: 86.0\n",
      "\n",
      "GMM cluster: 7 Count Males: 22/ Females: 6\n",
      "Average cluster score: 88.85714285714286\n",
      "Per gender score: Males: 89.22727272727273,Females: 87.5\n",
      "\n",
      "GMM cluster: 8 Count Males: 197/ Females: 68\n",
      "Average cluster score: 87.17735849056604\n",
      "Per gender score: Males: 87.13197969543147,Females: 87.30882352941177\n",
      "\n",
      "GMM cluster: 9 Count Males: 27/ Females: 8\n",
      "Average cluster score: 88.2\n",
      "Per gender score: Males: 88.18518518518519,Females: 88.25\n",
      "\n",
      "GMM cluster: 10 Count Males: 26/ Females: 4\n",
      "Average cluster score: 89.16666666666667\n",
      "Per gender score: Males: 89.46153846153847,Females: 87.25\n",
      "\n",
      "GMM cluster: 11 Count Males: 284/ Females: 80\n",
      "Average cluster score: 88.01098901098901\n",
      "Per gender score: Males: 88.03521126760563,Females: 87.925\n",
      "\n",
      "GMM cluster: 12 Count Males: 15/ Females: 16\n",
      "Average cluster score: 86.41935483870968\n",
      "Per gender score: Males: 86.8,Females: 86.0625\n",
      "\n",
      "GMM cluster: 13 Count Males: 84/ Females: 38\n",
      "Average cluster score: 87.25409836065573\n",
      "Per gender score: Males: 87.54761904761905,Females: 86.60526315789474\n",
      "\n",
      "GMM cluster: 14 Count Males: 23/ Females: 11\n",
      "Average cluster score: 90.0\n",
      "Per gender score: Males: 90.47826086956522,Females: 89.0\n",
      "\n",
      "GMM cluster: 15 Count Males: 9/ Females: 2\n",
      "Average cluster score: 88.36363636363636\n",
      "Per gender score: Males: 88.55555555555556,Females: 87.5\n",
      "\n",
      "GMM cluster: 16 Count Males: 16/ Females: 8\n",
      "Average cluster score: 91.25\n",
      "Per gender score: Males: 91.5,Females: 90.75\n",
      "\n",
      "GMM cluster: 17 Count Males: 187/ Females: 73\n",
      "Average cluster score: 89.16923076923077\n",
      "Per gender score: Males: 89.01604278074866,Females: 89.56164383561644\n",
      "\n",
      "GMM cluster: 18 Count Males: 20/ Females: 5\n",
      "Average cluster score: 88.72\n",
      "Per gender score: Males: 89.05,Females: 87.4\n",
      "\n",
      "GMM cluster: 19 Count Males: 30/ Females: 10\n",
      "Average cluster score: 88.55\n",
      "Per gender score: Males: 88.73333333333333,Females: 88.0\n",
      "\n"
     ]
    }
   ],
   "source": [
    "for i in range(n_cluster):\n",
    "    m = wineZscore['Gender'][(wineZscore['Gender'] == \"M\") & (wineZscore['gmm_cluster'] == i)].count()\n",
    "    f = wineZscore['Gender'][(wineZscore['Gender'] == \"F\") & (wineZscore['gmm_cluster'] == i)].count()\n",
    "    \n",
    "    mScore = wineZscore['points'][(wineZscore['Gender'] == \"M\") & (wineZscore['gmm_cluster'] == i)].sum()\n",
    "    fScore = wineZscore['points'][(wineZscore['Gender'] == \"F\") & (wineZscore['gmm_cluster'] == i)].sum()\n",
    "    \n",
    "    clusterScore = wineZscore['points'][(wineZscore['gmm_cluster'] == i)].sum()\n",
    "    \n",
    "    tasterCount = m + f\n",
    "    print(f'GMM cluster: {i} Count Males: {m}/ Females: {f}')\n",
    "    print(f'Average cluster score: {clusterScore/tasterCount}')\n",
    "    print(f'Per gender score: Males: {mScore/m},Females: {fScore/f}\\n')"
   ]
  },
  {
   "cell_type": "markdown",
   "metadata": {},
   "source": [
    "### GMM Conclusie\n",
    "Ook voor GMM willen we een stukje van de data visualiseren. Hierbij plotten we ook weer voor 5 clusters de beoordeling van de mannelijke tegenover die van de vrouwelijke proevers. "
   ]
  },
  {
   "cell_type": "code",
   "execution_count": 25,
   "metadata": {},
   "outputs": [
    {
     "data": {
      "text/plain": [
       "<matplotlib.legend.Legend at 0x7fd09d70e210>"
      ]
     },
     "execution_count": 25,
     "metadata": {},
     "output_type": "execute_result"
    },
    {
     "data": {
      "image/png": "[encoded data removed]",
      "text/plain": [
       "<Figure size 432x288 with 1 Axes>"
      ]
     },
     "metadata": {
      "needs_background": "light"
     },
     "output_type": "display_data"
    }
   ],
   "source": [
    "labels = ['5', '10', '15', '20']\n",
    "men_means = [90.22767857142857, 88.18518518518519, 90.47826086956522, 88.73333333333333]\n",
    "women_means = [89.86538461538461,88.25 , 89.0, 88.0]\n",
    "\n",
    "x = np.arange(len(labels))  # the label locations\n",
    "width = 0.35  # the width of the bars\n",
    "\n",
    "fig, ax = plt.subplots()\n",
    "rects1 = ax.bar(x - width/2, men_means, width, label='Men', color = 'lightblue')\n",
    "rects2 = ax.bar(x + width/2, women_means, width, label='Women', color = 'pink')\n",
    "\n",
    "ax.set_ylabel('Scores')\n",
    "ax.set_xlabel('Cluster')\n",
    "ax.set_title('GMM Scores Male vs Female')\n",
    "ax.set_xticks(x)\n",
    "ax.set_xticklabels(labels)\n",
    "ax.legend()\n"
   ]
  },
  {
   "cell_type": "markdown",
   "metadata": {},
   "source": [
    "# 5. Conclusie\n"
   ]
  },
  {
   "cell_type": "markdown",
   "metadata": {},
   "source": [
    "Wat we kunnen opmaken uit de hierboven gegeven informatie is; mannen of vrouwelijke proevers reageren niet per definitie beter op één bepaald cluster. Dit wil zeggen dat het geslacht van de proever niks zegt over hoe zij/hij reageert op een bepaalde chemische samenstelling. "
   ]
  },
  {
   "cell_type": "code",
   "execution_count": null,
   "metadata": {},
   "outputs": [],
   "source": []
  }
 ],
 "metadata": {
  "kernelspec": {
   "display_name": "Python 3",
   "language": "python",
   "name": "python3"
  },
  "language_info": {
   "codemirror_mode": {
    "name": "ipython",
    "version": 3
   },
   "file_extension": ".py",
   "mimetype": "text/x-python",
   "name": "python",
   "nbconvert_exporter": "python",
   "pygments_lexer": "ipython3",
   "version": "3.7.4"
  }
 },
 "nbformat": 4,
 "nbformat_minor": 2
}
