{
 "cells": [
  {
   "cell_type": "code",
   "execution_count": 1,
   "metadata": {},
   "outputs": [
    {
     "ename": "AttributeError",
     "evalue": "module 'nltk' has no attribute 'stopwords'",
     "output_type": "error",
     "traceback": [
      "\u001b[1;31m---------------------------------------------------------------------------\u001b[0m",
      "\u001b[1;31mAttributeError\u001b[0m                            Traceback (most recent call last)",
      "\u001b[1;32m<ipython-input-1-e860d6e27c91>\u001b[0m in \u001b[0;36m<module>\u001b[1;34m\u001b[0m\n\u001b[0;32m      6\u001b[0m \u001b[1;31m# nltk.download()\u001b[0m\u001b[1;33m\u001b[0m\u001b[1;33m\u001b[0m\u001b[1;33m\u001b[0m\u001b[0m\n\u001b[0;32m      7\u001b[0m \u001b[1;31m# Only download stopwords!\u001b[0m\u001b[1;33m\u001b[0m\u001b[1;33m\u001b[0m\u001b[1;33m\u001b[0m\u001b[0m\n\u001b[1;32m----> 8\u001b[1;33m \u001b[0mstop_words\u001b[0m \u001b[1;33m=\u001b[0m \u001b[0mnltk\u001b[0m\u001b[1;33m.\u001b[0m\u001b[0mstopwords\u001b[0m\u001b[1;33m\u001b[0m\u001b[1;33m\u001b[0m\u001b[0m\n\u001b[0m\u001b[0;32m      9\u001b[0m \u001b[1;33m\u001b[0m\u001b[0m\n\u001b[0;32m     10\u001b[0m \u001b[1;32mimport\u001b[0m \u001b[0mseaborn\u001b[0m \u001b[1;32mas\u001b[0m \u001b[0msns\u001b[0m\u001b[1;33m\u001b[0m\u001b[1;33m\u001b[0m\u001b[0m\n",
      "\u001b[1;31mAttributeError\u001b[0m: module 'nltk' has no attribute 'stopwords'"
     ]
    }
   ],
   "source": [
    "import pandas as pd\n",
    "import numpy as np\n",
    "\n",
    "import nltk\n",
    "from nltk.corpus import stopwords\n",
    "# nltk.download()\n",
    "# Only download stopwords!\n",
    "stop_words = nltk.stopwords\n",
    "\n",
    "import seaborn as sns\n",
    "import matplotlib.pyplot as plt\n",
    "from matplotlib.patches import Polygon\n",
    "\n",
    "from scipy import stats\n",
    "\n",
    "from sklearn.model_selection import train_test_split\n",
    "from sklearn.linear_model import LinearRegression\n",
    "from sklearn.metrics import mean_squared_error\n",
    "\n",
    "pd.set_option('display.max_columns', None)"
   ]
  },
  {
   "cell_type": "code",
   "execution_count": null,
   "metadata": {},
   "outputs": [],
   "source": [
    "wine = pd.read_csv('redwine.csv', delimiter=';')\n",
    "chemColNames = ['fixed acidity','volatile acidity','citric acid','residual sugar','chlorides','free sulfur dioxide','total sulfur dioxide','density','pH','sulphates','alcohol']\n",
    "chem = wine[chemColNames]\n",
    "\n",
    "colErrorPairs = {\n",
    "    'density'    : [' . '],\n",
    "    'citric acid': [' - ',' -   '],\n",
    "    'alcohol'    : ['100.333.333.333.333','11.066.666.666.666.600','956.666.666.666.667','923.333.333.333.333']}\n",
    "\n",
    "for colName in colErrorPairs:\n",
    "    for faultyString in colErrorPairs[colName]:\n",
    "        wine[colName] = wine[colName].replace(faultyString,np.nan)\n",
    "        \n",
    "wine['alcohol'] = wine['alcohol'].astype(float)\n",
    "wine['density'] = wine['density'].astype(float)\n",
    "wine['citric acid'] = wine['citric acid'].astype(float)\n",
    "\n",
    "# wine['points'] = (wine['points'] - wine['points'].mean())/wine['points'].std(ddof=0)"
   ]
  },
  {
   "cell_type": "markdown",
   "metadata": {},
   "source": [
    "# Onderzoeksvraag 3: Kun je op basis van bepaalde keywords in de beschrijving een voorspelling doen over hoe hoog de score van deze wijn is? (Supervised - Regression/ Datavisualisatie)"
   ]
  },
  {
   "cell_type": "markdown",
   "metadata": {},
   "source": [
    "We willen onderzoeken of je de score van de wijn kunt bepalen aan de hand van sommige keywords die gevonden zijn in de titels en de beschrijving."
   ]
  },
  {
   "cell_type": "code",
   "execution_count": null,
   "metadata": {},
   "outputs": [],
   "source": []
  },
  {
   "cell_type": "code",
   "execution_count": null,
   "metadata": {},
   "outputs": [],
   "source": [
    "wordsPerWine = wine[['title','description']]\n",
    "allWordsSeperated = np.array(' '.join(wordsPerWine.to_numpy().flatten()).replace(',','').split(\" \"))"
   ]
  },
  {
   "cell_type": "code",
   "execution_count": null,
   "metadata": {},
   "outputs": [],
   "source": [
    "allWordsSeperated = np.char.lower(allWordsSeperated)\n",
    "(allWordsSeperated[:20],'Amount of words',allWordsSeperated.shape)"
   ]
  },
  {
   "cell_type": "code",
   "execution_count": null,
   "metadata": {},
   "outputs": [],
   "source": [
    "unique, counts = np.array(np.unique(allWordsSeperated, return_counts=True))\n",
    "def initWordFrame():\n",
    "    wordCount = np.array([np.array(unique), np.array(counts)])\n",
    "    wordFrame = pd.DataFrame(wordCount[0],wordCount[1]).reset_index()\n",
    "    wordFrame.columns = ['count','word']\n",
    "    wordFrame['count'] = wordFrame['count'].astype(int)\n",
    "    return wordFrame\n",
    "wordFrame = initWordFrame()"
   ]
  },
  {
   "cell_type": "code",
   "execution_count": null,
   "metadata": {},
   "outputs": [],
   "source": [
    "print(f'Total of unique seperated words: {wordFrame.shape[0]}')\n",
    "minCount = 400\n",
    "# print(wordFrame['count'])\n",
    "wordFrame.drop(wordFrame[ (wordFrame['word'].isin(stop_words)) | (wordFrame['count'] < minCount)].index , inplace=True)\n",
    "print(f'Total of unique seperated words with atleast a count of {minCount} & not a stopword: {wordFrame.shape[0]}')\n",
    "# wordFrame.sort_values(by=['count'], ascending=False).reset_index(drop=True)[:30]"
   ]
  },
  {
   "cell_type": "code",
   "execution_count": null,
   "metadata": {},
   "outputs": [],
   "source": [
    "wordFrame.boxplot(column='count')"
   ]
  },
  {
   "cell_type": "code",
   "execution_count": null,
   "metadata": {},
   "outputs": [],
   "source": [
    "# Make a new column where we put a count of how many keywords are in the description and or title\n",
    "wine['keyword_count'] = wine['description'].str.count('|'.join(wordFrame['word'].to_list()))\n",
    "wine[['points', 'keyword_count','title','description']]"
   ]
  },
  {
   "cell_type": "code",
   "execution_count": null,
   "metadata": {},
   "outputs": [],
   "source": [
    "wine[wine['points'].isnull()]"
   ]
  },
  {
   "cell_type": "code",
   "execution_count": null,
   "metadata": {},
   "outputs": [],
   "source": [
    "features = ['keyword_count','price']\n",
    "\n",
    "# Feature waardes\n",
    "X = wine[features]\n",
    "X.fillna(X.mean(),inplace=True)\n",
    "\n",
    "# Target waardes\n",
    "y = wine['points']\n",
    "y.fillna(y.mean(),inplace=True)\n",
    "\n",
    "X_train, X_test, y_train, y_test = train_test_split(X, y, random_state=6)"
   ]
  },
  {
   "cell_type": "code",
   "execution_count": null,
   "metadata": {},
   "outputs": [],
   "source": [
    "linreg = LinearRegression()\n",
    "linreg.fit(X_train, y_train)\n",
    "score = linreg.score(X_test,y_test)\n",
    "yPred = linreg.predict(X_test)\n",
    "meanError = np.sqrt(mean_squared_error(y_test,yPred))\n",
    "print(f'Score: {score}, Mean Error: {meanError}')"
   ]
  },
  {
   "cell_type": "code",
   "execution_count": null,
   "metadata": {},
   "outputs": [],
   "source": [
    "maxRange = 18\n",
    "minRange = 3\n",
    "maxNumberRanges = [x*x for x in reversed(range(minRange,maxRange))]\n",
    "\n",
    "# Target waardes\n",
    "y = wine['points']\n",
    "y.fillna(y.mean(),inplace=True)\n",
    "\n",
    "for minCount in maxNumberRanges:\n",
    "    \n",
    "    wordFrame = initWordFrame()\n",
    "    wordFrame.drop(wordFrame[ (wordFrame['word'].isin(stop_words)) | (wordFrame['count'] < minCount)].index , inplace=True)\n",
    "#     Veranderd niks aan de score\n",
    "#     wordFrame['count'] = (wordFrame['count'] - wordFrame['count'].mean())/wordFrame['count'].std(ddof=0)\n",
    "\n",
    "    print(f'Total of unique seperated words with atleast a count of {minCount} & not a stopword: {wordFrame.shape[0]}')\n",
    "    \n",
    "    wine['keyword_count'] = wine['description'].str.count('|'.join(wordFrame['word'].to_list()))\n",
    "    \n",
    "    # Feature waardes\n",
    "    X = wine[features]\n",
    "    X.fillna(X.mean(),inplace=True)\n",
    "\n",
    "    \n",
    "\n",
    "    X_train, X_test, y_train, y_test = train_test_split(X, y, random_state=6)\n",
    "    \n",
    "    linRegTrial = LinearRegression()\n",
    "    linRegTrial.fit(X_train, y_train)\n",
    "    score = linRegTrial.score(X_test,y_test)\n",
    "    yPred = linRegTrial.predict(X_test)\n",
    "    meanError = np.sqrt(mean_squared_error(y_test,y_pred))\n",
    "    print(f'Score: {score}, Mean Error: {meanError}')"
   ]
  },
  {
   "cell_type": "code",
   "execution_count": null,
   "metadata": {},
   "outputs": [],
   "source": [
    "score"
   ]
  }
 ],
 "metadata": {
  "kernelspec": {
   "display_name": "Python 3.8.3 64-bit",
   "language": "python",
   "name": "python38364bit5cdb2531dd3545ea9b3fd1a8a995abfc"
  },
  "language_info": {
   "codemirror_mode": {
    "name": "ipython",
    "version": 3
   },
   "file_extension": ".py",
   "mimetype": "text/x-python",
   "name": "python",
   "nbconvert_exporter": "python",
   "pygments_lexer": "ipython3",
   "version": "3.8.3"
  }
 },
 "nbformat": 4,
 "nbformat_minor": 2
}
