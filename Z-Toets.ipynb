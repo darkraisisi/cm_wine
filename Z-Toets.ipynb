{
 "cells": [
  {
   "cell_type": "markdown",
   "metadata": {},
   "source": [
    "# Z - Toets\n"
   ]
  },
  {
   "cell_type": "markdown",
   "metadata": {},
   "source": [
    "Het was afgelopen jaren bijzonder zonnig in Portugal. De verbouwers van de wijn vragen zich af of dit de zuurgraad heeft beïnvloed, oftewel; of de wijnen van afgelopen jaren een andere pH waarde hebben dan voorgaande jaren. "
   ]
  },
  {
   "cell_type": "code",
   "execution_count": null,
   "metadata": {},
   "outputs": [],
   "source": [
    "import pandas as pd\n",
    "import numpy as np\n",
    "\n",
    "import nltk\n",
    "from nltk.corpus import stopwords\n",
    "# nltk.download()\n",
    "\n",
    "import seaborn as sns\n",
    "import matplotlib.pyplot as plt\n",
    "from matplotlib.patches import Polygon\n",
    "\n",
    "from scipy import stats\n",
    "\n",
    "from sklearn.model_selection import train_test_split\n",
    "from sklearn.linear_model import LinearRegression\n",
    "from sklearn.metrics import mean_squared_error\n",
    "\n",
    "pd.set_option('display.max_columns', None)"
   ]
  },
  {
   "cell_type": "code",
   "execution_count": null,
   "metadata": {},
   "outputs": [],
   "source": [
    "wine = pd.read_csv('redwine.csv', delimiter=';')"
   ]
  },
  {
   "cell_type": "code",
   "execution_count": null,
   "metadata": {},
   "outputs": [],
   "source": [
    "pHwaardes = {'Wijn' : ['Casa Santa Vitória', 'Monte da Penha', 'Real Companhia Velha', 'Aveleda', 'Companhia das Quintas', 'J. Portugal Ramos', 'Sogrape', 'Casa Santos Lima', 'Quinta de Ventozelo'], 'pH': [3.41, 3.51, 3.39, 3.11, 3.21, 3.50, 3.46, 3.37, 3.71]}"
   ]
  },
  {
   "cell_type": "markdown",
   "metadata": {},
   "source": [
    "Hieronder zien we de wijnen en pH waardes van de wijnen van het afgelopen jaar. Deze gaan we dus vergelijken met onze gehele dataset \"wine\". "
   ]
  },
  {
   "cell_type": "code",
   "execution_count": null,
   "metadata": {},
   "outputs": [],
   "source": [
    "newpH = pd.DataFrame(pHwaardes) "
   ]
  },
  {
   "cell_type": "code",
   "execution_count": null,
   "metadata": {},
   "outputs": [],
   "source": [
    "newpH"
   ]
  },
  {
   "cell_type": "markdown",
   "metadata": {},
   "source": [
    "Hieronder tonen we de eerste 5 records van onze dataset \"wine\". "
   ]
  },
  {
   "cell_type": "code",
   "execution_count": null,
   "metadata": {},
   "outputs": [],
   "source": [
    "oldpH = wine[['title', 'pH']]\n",
    "oldpH.head()"
   ]
  },
  {
   "cell_type": "markdown",
   "metadata": {},
   "source": [
    "## Hypothese opstellen"
   ]
  },
  {
   "cell_type": "markdown",
   "metadata": {},
   "source": [
    "$H_0$: er is geen verschil in pH waardes ($\\mu_{ditJaar} = \\mu_{populatie}$)\n",
    "\n",
    "$H_1$: er is een verschil in pH waardes ($\\mu_{ditJaar} \\neq  \\mu_{populatie}$)\n"
   ]
  },
  {
   "cell_type": "markdown",
   "metadata": {},
   "source": [
    "## Populatiegrootte bepalen"
   ]
  },
  {
   "cell_type": "markdown",
   "metadata": {},
   "source": [
    "We beschouwen de gehele dataset als de populatie, dit zijn dus de 2465 pH waardes uit de dataset. "
   ]
  },
  {
   "cell_type": "code",
   "execution_count": null,
   "metadata": {},
   "outputs": [],
   "source": [
    "oldpH.count()"
   ]
  },
  {
   "cell_type": "markdown",
   "metadata": {},
   "source": [
    "__Populatiegemiddelde $\\mu$__"
   ]
  },
  {
   "cell_type": "code",
   "execution_count": null,
   "metadata": {},
   "outputs": [],
   "source": [
    "mu = oldpH.mean()\n",
    "mu\n",
    "print(\"Het populatiegemiddelde mu is {:.5f}\".format(float(mu)))"
   ]
  },
  {
   "cell_type": "markdown",
   "metadata": {},
   "source": [
    "## Steekproef\n"
   ]
  },
  {
   "cell_type": "markdown",
   "metadata": {},
   "source": [
    "Als steekproef gebruiken we 100 willekeurige getallen uit de gehele wijnen dataset. "
   ]
  },
  {
   "cell_type": "code",
   "execution_count": null,
   "metadata": {},
   "outputs": [],
   "source": [
    "n = 100"
   ]
  },
  {
   "cell_type": "markdown",
   "metadata": {},
   "source": [
    "__Steekproefgemiddelde x___"
   ]
  },
  {
   "cell_type": "code",
   "execution_count": null,
   "metadata": {},
   "outputs": [],
   "source": [
    "steekpr = oldpH[:100]\n",
    "x_ = steekpr.mean()\n",
    "print(\"Het steekproefgemiddelde x_ is {:.5f}\".format(float(x_)))"
   ]
  },
  {
   "cell_type": "markdown",
   "metadata": {},
   "source": [
    "__Steekproef standaardafwijking s__"
   ]
  },
  {
   "cell_type": "code",
   "execution_count": null,
   "metadata": {},
   "outputs": [],
   "source": [
    "s = steekpr.std()\n",
    "print(\"De standaardafwijking van de steekproef s is {:.5f}\".format(float(s)))"
   ]
  },
  {
   "cell_type": "markdown",
   "metadata": {},
   "source": [
    "__Standaardfout van de steekproef__"
   ]
  },
  {
   "cell_type": "code",
   "execution_count": null,
   "metadata": {},
   "outputs": [],
   "source": [
    "se = s/np.sqrt(n)\n",
    "print(\"De standaardfout van de steekproef se is {:.5f}\".format(float(se)))"
   ]
  },
  {
   "cell_type": "markdown",
   "metadata": {},
   "source": [
    "## Foutmarge $\\alpha$ bepalen"
   ]
  },
  {
   "cell_type": "markdown",
   "metadata": {},
   "source": [
    "Als betrouwbaarheid nemen we 95%. Dit betekend dat in 5% van de gevallen we een onjuiste conclusie kunnen trekken.\n"
   ]
  },
  {
   "cell_type": "code",
   "execution_count": null,
   "metadata": {},
   "outputs": [],
   "source": [
    "alpha = 0.05"
   ]
  },
  {
   "cell_type": "code",
   "execution_count": null,
   "metadata": {},
   "outputs": [],
   "source": [
    "z_grens = stats.norm.ppf((1-alpha) )\n",
    "print(\"De z_grens is {:.2f}\".format(z_grens))\n",
    "grens = z_grens * se + mu\n",
    "print(\"De grenswaarde is {:.5f}\".format(float(grens)))"
   ]
  },
  {
   "cell_type": "markdown",
   "metadata": {},
   "source": [
    "## Z-Waarde en P-Waarde berekenen"
   ]
  },
  {
   "cell_type": "markdown",
   "metadata": {},
   "source": [
    "__Z-Waarde__"
   ]
  },
  {
   "cell_type": "markdown",
   "metadata": {},
   "source": [
    "De z-waarde geeft aan hoeveel standaarddeviaties een score van het gemiddelde af zit. "
   ]
  },
  {
   "cell_type": "code",
   "execution_count": null,
   "metadata": {},
   "outputs": [],
   "source": [
    "z = (x_ - mu)/se\n",
    "print(\"De Z-toetswaarde is {:.2f}\".format(float(z)))\n"
   ]
  },
  {
   "cell_type": "markdown",
   "metadata": {},
   "source": [
    "__P-Waarde__"
   ]
  },
  {
   "cell_type": "code",
   "execution_count": null,
   "metadata": {},
   "outputs": [],
   "source": [
    "p = 1-stats.norm.cdf(z)\n",
    "p"
   ]
  },
  {
   "cell_type": "markdown",
   "metadata": {},
   "source": [
    "## Conclusie"
   ]
  },
  {
   "cell_type": "markdown",
   "metadata": {},
   "source": [
    "Er geldt dat $p = 0.0051618 < \\alpha  = 0.05$. \n",
    "\n",
    "Dat p = 0.0051618 betekent dat deze uitkomst niet door toeval kan plaatsvinden. We verwerpen daardoor $H_0$ en nemen $H_1$ aan; er is wel een verschil tussen pH waarde van de wijnen uit voorgaande jaren en de pH waarden van de wijnen uit dit jaar.\n",
    "\n",
    "De z_grens is 1.64 en de bijbehorende grenswaarde is 3.33236. Het steekproefgemiddelde ligt met 3.34420 voorbij deze grenswaarde. Hierdoor kun je ook zeggen dat we $H_0$ verwerpen. "
   ]
  }
 ],
 "metadata": {
  "kernelspec": {
   "display_name": "Python 3.8.3 64-bit",
   "language": "python",
   "name": "python38364bit5cdb2531dd3545ea9b3fd1a8a995abfc"
  },
  "language_info": {
   "codemirror_mode": {
    "name": "ipython",
    "version": 3
   },
   "file_extension": ".py",
   "mimetype": "text/x-python",
   "name": "python",
   "nbconvert_exporter": "python",
   "pygments_lexer": "ipython3",
   "version": "3.8.3"
  }
 },
 "nbformat": 4,
 "nbformat_minor": 4
}
