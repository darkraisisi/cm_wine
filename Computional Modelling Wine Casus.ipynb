{
 "cells": [
  {
   "cell_type": "code",
   "execution_count": 102,
   "metadata": {},
   "outputs": [],
   "source": [
    "import pandas as pd\n",
    "import numpy as np\n",
    "\n",
    "import nltk\n",
    "from nltk.corpus import stopwords\n",
    "# nltk.download()\n",
    "\n",
    "import seaborn as sns\n",
    "import matplotlib.pyplot as plt\n",
    "from matplotlib.patches import Polygon\n",
    "\n",
    "from scipy import stats\n",
    "\n",
    "from sklearn.model_selection import train_test_split\n",
    "from sklearn.linear_model import LinearRegression\n",
    "from sklearn.metrics import mean_squared_error\n",
    "\n",
    "pd.set_option('display.max_columns', None)"
   ]
  },
  {
   "cell_type": "markdown",
   "metadata": {},
   "source": [
    "# Red Wine Casus\n"
   ]
  },
  {
   "cell_type": "markdown",
   "metadata": {},
   "source": [
    "We gaan aan de slag met een dataset over Portugese rode wijnen. Aan de hand van de gegeven dataset gaan wij een aantal onderzoeksvragen opstellen en beantwoorden.\n",
    "\n",
    "**Onderzoeksvragen**\n",
    "1. In hoeverre is de score van een Portugese Red te voorspellen op basis van de chemische kenmerken?(verplichte onderzoeksvraag) (Supervised - Regressie)\n",
    "2. Als we wijnen categoriseren op basis van de chemische samenstelling, zijn er bepaalde categorieën die mannelijke proevers anders beoordelen dan vrouwelijke proevers? (Unsupervised - Clustering)\n",
    "3. Kun je op basis van bepaalde keywords in de beschrijving een voorspelling doen over hoe hoog de score van deze wijn is? (Supervised - Regression/ Datavisualisatie) "
   ]
  },
  {
   "cell_type": "markdown",
   "metadata": {},
   "source": [
    "In de tabel die hieronder weergegeven wordt zien we de eerste 5 records die deze dataset bevat. Onder de tabel hebben we per kolom een beschrijving gegeven van wat deze kolom precies inhoudt."
   ]
  },
  {
   "cell_type": "code",
   "execution_count": 103,
   "metadata": {
    "scrolled": false
   },
   "outputs": [
    {
     "data": {
      "text/html": [
       "<div>\n",
       "<style scoped>\n",
       "    .dataframe tbody tr th:only-of-type {\n",
       "        vertical-align: middle;\n",
       "    }\n",
       "\n",
       "    .dataframe tbody tr th {\n",
       "        vertical-align: top;\n",
       "    }\n",
       "\n",
       "    .dataframe thead th {\n",
       "        text-align: right;\n",
       "    }\n",
       "</style>\n",
       "<table border=\"1\" class=\"dataframe\">\n",
       "  <thead>\n",
       "    <tr style=\"text-align: right;\">\n",
       "      <th></th>\n",
       "      <th>id</th>\n",
       "      <th>country</th>\n",
       "      <th>description</th>\n",
       "      <th>designation</th>\n",
       "      <th>points</th>\n",
       "      <th>price</th>\n",
       "      <th>province</th>\n",
       "      <th>taster_name</th>\n",
       "      <th>title</th>\n",
       "      <th>variety</th>\n",
       "      <th>winery</th>\n",
       "      <th>fixed acidity</th>\n",
       "      <th>volatile acidity</th>\n",
       "      <th>citric acid</th>\n",
       "      <th>residual sugar</th>\n",
       "      <th>chlorides</th>\n",
       "      <th>free sulfur dioxide</th>\n",
       "      <th>total sulfur dioxide</th>\n",
       "      <th>density</th>\n",
       "      <th>pH</th>\n",
       "      <th>sulphates</th>\n",
       "      <th>alcohol</th>\n",
       "    </tr>\n",
       "  </thead>\n",
       "  <tbody>\n",
       "    <tr>\n",
       "      <th>0</th>\n",
       "      <td>1</td>\n",
       "      <td>Portugal</td>\n",
       "      <td>This is ripe and fruity, a wine that is smooth...</td>\n",
       "      <td>Avidagos</td>\n",
       "      <td>87</td>\n",
       "      <td>15.0</td>\n",
       "      <td>Douro</td>\n",
       "      <td>Kerin O’Keefe</td>\n",
       "      <td>Quinta dos Avidagos 2011 Avidagos Red (Douro)</td>\n",
       "      <td>Portuguese Red</td>\n",
       "      <td>Quinta dos Avidagos</td>\n",
       "      <td>10.0</td>\n",
       "      <td>0.29</td>\n",
       "      <td>0.4</td>\n",
       "      <td>2.9</td>\n",
       "      <td>0.098</td>\n",
       "      <td>10.0</td>\n",
       "      <td>26.0</td>\n",
       "      <td>10.006</td>\n",
       "      <td>3.48</td>\n",
       "      <td>0.91</td>\n",
       "      <td>9.7</td>\n",
       "    </tr>\n",
       "    <tr>\n",
       "      <th>1</th>\n",
       "      <td>2</td>\n",
       "      <td>Portugal</td>\n",
       "      <td>From an estate in the south of the Alentejo, t...</td>\n",
       "      <td>Grande Reserva Tinto</td>\n",
       "      <td>91</td>\n",
       "      <td>26.0</td>\n",
       "      <td>Alentejano</td>\n",
       "      <td>Roger Voss</td>\n",
       "      <td>Casa Santa Vitória 2013 Grande Reserva Tinto R...</td>\n",
       "      <td>Portuguese Red</td>\n",
       "      <td>Casa Santa Vitória</td>\n",
       "      <td>8.3</td>\n",
       "      <td>0.26</td>\n",
       "      <td>0.37</td>\n",
       "      <td>1.4</td>\n",
       "      <td>0.076</td>\n",
       "      <td>8.0</td>\n",
       "      <td>23.0</td>\n",
       "      <td>0.9974</td>\n",
       "      <td>3.26</td>\n",
       "      <td>0.70</td>\n",
       "      <td>9.6</td>\n",
       "    </tr>\n",
       "    <tr>\n",
       "      <th>2</th>\n",
       "      <td>3</td>\n",
       "      <td>Portugal</td>\n",
       "      <td>A year in wood and 30 months in bottle before ...</td>\n",
       "      <td>Montes Claros Garrafeira</td>\n",
       "      <td>90</td>\n",
       "      <td>28.0</td>\n",
       "      <td>Alentejo</td>\n",
       "      <td>Paul Gregutt</td>\n",
       "      <td>Adega Cooperativa de Borba 2012 Montes Claros ...</td>\n",
       "      <td>Portuguese Red</td>\n",
       "      <td>Adega Cooperativa de Borba</td>\n",
       "      <td>7.0</td>\n",
       "      <td>0.69</td>\n",
       "      <td>0.07</td>\n",
       "      <td>2.5</td>\n",
       "      <td>0.091</td>\n",
       "      <td>15.0</td>\n",
       "      <td>21.0</td>\n",
       "      <td>0.99572</td>\n",
       "      <td>3.38</td>\n",
       "      <td>0.60</td>\n",
       "      <td>11.3</td>\n",
       "    </tr>\n",
       "    <tr>\n",
       "      <th>3</th>\n",
       "      <td>4</td>\n",
       "      <td>Portugal</td>\n",
       "      <td>Wood aging gives this ripe blend of Baga and T...</td>\n",
       "      <td>NaN</td>\n",
       "      <td>90</td>\n",
       "      <td>20.0</td>\n",
       "      <td>Beira Atlantico</td>\n",
       "      <td>Alexander Peartree</td>\n",
       "      <td>Quinta de Foz de Arouce 2013 Red (Beira Atlant...</td>\n",
       "      <td>Portuguese Red</td>\n",
       "      <td>Quinta de Foz de Arouce</td>\n",
       "      <td>7.0</td>\n",
       "      <td>0.69</td>\n",
       "      <td>0.07</td>\n",
       "      <td>2.5</td>\n",
       "      <td>0.091</td>\n",
       "      <td>15.0</td>\n",
       "      <td>21.0</td>\n",
       "      <td>0.99572</td>\n",
       "      <td>3.38</td>\n",
       "      <td>0.60</td>\n",
       "      <td>11.3</td>\n",
       "    </tr>\n",
       "    <tr>\n",
       "      <th>4</th>\n",
       "      <td>5</td>\n",
       "      <td>Portugal</td>\n",
       "      <td>A powerful wine, richly structured and full of...</td>\n",
       "      <td>Gerações Colheita Seleccionada</td>\n",
       "      <td>92</td>\n",
       "      <td>34.0</td>\n",
       "      <td>Alentejano</td>\n",
       "      <td>Paul Gregutt</td>\n",
       "      <td>Herdade Grande 2010 Gerações Colheita Seleccio...</td>\n",
       "      <td>Portuguese Red</td>\n",
       "      <td>Herdade Grande</td>\n",
       "      <td>8.0</td>\n",
       "      <td>0.48</td>\n",
       "      <td>0.34</td>\n",
       "      <td>2.2</td>\n",
       "      <td>0.073</td>\n",
       "      <td>16.0</td>\n",
       "      <td>25.0</td>\n",
       "      <td>0.9936</td>\n",
       "      <td>3.28</td>\n",
       "      <td>0.66</td>\n",
       "      <td>12.4</td>\n",
       "    </tr>\n",
       "  </tbody>\n",
       "</table>\n",
       "</div>"
      ],
      "text/plain": [
       "   id   country                                        description  \\\n",
       "0   1  Portugal  This is ripe and fruity, a wine that is smooth...   \n",
       "1   2  Portugal  From an estate in the south of the Alentejo, t...   \n",
       "2   3  Portugal  A year in wood and 30 months in bottle before ...   \n",
       "3   4  Portugal  Wood aging gives this ripe blend of Baga and T...   \n",
       "4   5  Portugal  A powerful wine, richly structured and full of...   \n",
       "\n",
       "                      designation  points  price         province  \\\n",
       "0                        Avidagos      87   15.0            Douro   \n",
       "1            Grande Reserva Tinto      91   26.0       Alentejano   \n",
       "2        Montes Claros Garrafeira      90   28.0         Alentejo   \n",
       "3                             NaN      90   20.0  Beira Atlantico   \n",
       "4  Gerações Colheita Seleccionada      92   34.0       Alentejano   \n",
       "\n",
       "          taster_name                                              title  \\\n",
       "0       Kerin O’Keefe      Quinta dos Avidagos 2011 Avidagos Red (Douro)   \n",
       "1          Roger Voss  Casa Santa Vitória 2013 Grande Reserva Tinto R...   \n",
       "2        Paul Gregutt  Adega Cooperativa de Borba 2012 Montes Claros ...   \n",
       "3  Alexander Peartree  Quinta de Foz de Arouce 2013 Red (Beira Atlant...   \n",
       "4        Paul Gregutt  Herdade Grande 2010 Gerações Colheita Seleccio...   \n",
       "\n",
       "          variety                      winery  fixed acidity  \\\n",
       "0  Portuguese Red         Quinta dos Avidagos           10.0   \n",
       "1  Portuguese Red          Casa Santa Vitória            8.3   \n",
       "2  Portuguese Red  Adega Cooperativa de Borba            7.0   \n",
       "3  Portuguese Red     Quinta de Foz de Arouce            7.0   \n",
       "4  Portuguese Red              Herdade Grande            8.0   \n",
       "\n",
       "   volatile acidity citric acid  residual sugar  chlorides  \\\n",
       "0              0.29         0.4             2.9      0.098   \n",
       "1              0.26        0.37             1.4      0.076   \n",
       "2              0.69        0.07             2.5      0.091   \n",
       "3              0.69        0.07             2.5      0.091   \n",
       "4              0.48        0.34             2.2      0.073   \n",
       "\n",
       "   free sulfur dioxide  total sulfur dioxide  density    pH  sulphates alcohol  \n",
       "0                 10.0                  26.0   10.006  3.48       0.91     9.7  \n",
       "1                  8.0                  23.0   0.9974  3.26       0.70     9.6  \n",
       "2                 15.0                  21.0  0.99572  3.38       0.60    11.3  \n",
       "3                 15.0                  21.0  0.99572  3.38       0.60    11.3  \n",
       "4                 16.0                  25.0   0.9936  3.28       0.66    12.4  "
      ]
     },
     "execution_count": 103,
     "metadata": {},
     "output_type": "execute_result"
    }
   ],
   "source": [
    "wine = pd.read_csv('redwine.csv', delimiter=';')\n",
    "wine.head()"
   ]
  },
  {
   "cell_type": "markdown",
   "metadata": {},
   "source": [
    "__Beschrijving van de kolommen__\n",
    "<li>Country: Het land van herkomst van de wijn. In deze dataset komt elke wijn uit Portugal, het opslaan van deze kolom is dus redelijk onnodig aangezien het bij elk record hetzelfde is.</li>\n",
    "<li>Description: Een tekstuele beschrijving over de wijn.</li>\n",
    "<li>Designation: Vanuit waar de wijn verkocht wordt.</li>\n",
    "<li>Points: De score van de wijn op een schaal van 1-100.</li>\n",
    "<li>Price: De prijs van de wijn.</li>\n",
    "<li>Province: De provincie waar de wijn is gemaakt.</li>\n",
    "<li>Taster_name: De naam van de persoon die de wijn geproeft heeft.</li>\n",
    "<li>Title: De naam van de wijn</li>\n",
    "<li>Variety: Wijnsoort. Ook hier valt het op dat alle wijnen hierbij dezelfde waarde hebben</li>\n",
    "<li>Winery: De wijnmakerij waar de wijn vandaan komt.</li>\n",
    "\n",
    "_Chemische samenstelling_\n",
    "<li>Fixed acidity: vaste zuurtegraad</li>\n",
    "<li>Volatile acidity: vluchtige zuurtegtraad</li>\n",
    "<li>Citric acid: citroenzuur</li>\n",
    "<li>Residual sugar: Natuurlijke druifsuikers die achterblijven in de wijn nadat de alcoholische fermentatie plaats heeft gevonden.</li>\n",
    "<li>Chlorides: zout</li>\n",
    "<li>Free sulfur dioxide: ongebonden sulfur dioxide</li>\n",
    "<li>Total sulfur dioxide: totaal aantal sulfur dioxide in de wijn</li>\n",
    "<li>Density: dichtheid</li>\n",
    "<li>pH: pH-waarde</li>\n",
    "<li>Sulphates: sulfaat</li>\n",
    "<li>alcohol: alcohol percentage</li>"
   ]
  },
  {
   "cell_type": "markdown",
   "metadata": {},
   "source": [
    "# 1. Dataverkenning: Wat viel ons op?"
   ]
  },
  {
   "cell_type": "markdown",
   "metadata": {},
   "source": [
    "We begonnen met het bekijken van de dataset en het documenteren van opvallende waardes. Deze data verkennings fase is belangrijk om later te kunnen beslissen welke gegevens wel of niet bruikbaar zijn om onze onderzoeksvragen te kunnen beantwoorden. "
   ]
  },
  {
   "cell_type": "markdown",
   "metadata": {},
   "source": [
    "Zo zie je bijvoorbeeld dat het gemiddelde van het aantal punten van de wijnen 88.8 is. Dit zou dus op een schaal van 1-10 uitkomen op een 8,8. "
   ]
  },
  {
   "cell_type": "code",
   "execution_count": 104,
   "metadata": {},
   "outputs": [
    {
     "data": {
      "text/plain": [
       "88.81135902636917"
      ]
     },
     "execution_count": 104,
     "metadata": {},
     "output_type": "execute_result"
    }
   ],
   "source": [
    "np.mean(wine['points'])"
   ]
  },
  {
   "cell_type": "markdown",
   "metadata": {},
   "source": [
    "Ook zie je dat het laagst gegeven cijfer een 8,1 is. Redelijk enthousiast. "
   ]
  },
  {
   "cell_type": "code",
   "execution_count": 105,
   "metadata": {},
   "outputs": [
    {
     "data": {
      "text/plain": [
       "81"
      ]
     },
     "execution_count": 105,
     "metadata": {},
     "output_type": "execute_result"
    }
   ],
   "source": [
    "np.min(wine['points'])"
   ]
  },
  {
   "cell_type": "markdown",
   "metadata": {},
   "source": [
    "Er zijn ook een aantal records waarbij lege waardes voorkomen. We moeten hierbij kijken wat we gaan doen met de lege data en of het invloed heeft op de antwoorden van onze onderzoeksvragen. "
   ]
  },
  {
   "cell_type": "code",
   "execution_count": 106,
   "metadata": {},
   "outputs": [
    {
     "data": {
      "text/plain": [
       "422"
      ]
     },
     "execution_count": 106,
     "metadata": {},
     "output_type": "execute_result"
    }
   ],
   "source": [
    "wine.isnull().sum().sum()"
   ]
  },
  {
   "cell_type": "markdown",
   "metadata": {},
   "source": [
    "De tabel hieronder toont aan dat alle tasters meer dan één wijnsoort geproeft hebben. Je ziet zelfs dat sommigen er honderden hebben beoordeeld. "
   ]
  },
  {
   "cell_type": "code",
   "execution_count": 107,
   "metadata": {
    "scrolled": false
   },
   "outputs": [
    {
     "data": {
      "text/html": [
       "<div>\n",
       "<style scoped>\n",
       "    .dataframe tbody tr th:only-of-type {\n",
       "        vertical-align: middle;\n",
       "    }\n",
       "\n",
       "    .dataframe tbody tr th {\n",
       "        vertical-align: top;\n",
       "    }\n",
       "\n",
       "    .dataframe thead th {\n",
       "        text-align: right;\n",
       "    }\n",
       "</style>\n",
       "<table border=\"1\" class=\"dataframe\">\n",
       "  <thead>\n",
       "    <tr style=\"text-align: right;\">\n",
       "      <th></th>\n",
       "      <th>taster_name</th>\n",
       "      <th>count</th>\n",
       "    </tr>\n",
       "  </thead>\n",
       "  <tbody>\n",
       "    <tr>\n",
       "      <th>0</th>\n",
       "      <td>Alexander Peartree</td>\n",
       "      <td>14</td>\n",
       "    </tr>\n",
       "    <tr>\n",
       "      <th>1</th>\n",
       "      <td>Anna Lee C. Iijima</td>\n",
       "      <td>84</td>\n",
       "    </tr>\n",
       "    <tr>\n",
       "      <th>2</th>\n",
       "      <td>Anne Krebiehl MW</td>\n",
       "      <td>55</td>\n",
       "    </tr>\n",
       "    <tr>\n",
       "      <th>3</th>\n",
       "      <td>Carrie Dykes</td>\n",
       "      <td>3</td>\n",
       "    </tr>\n",
       "    <tr>\n",
       "      <th>4</th>\n",
       "      <td>Fiona Adams</td>\n",
       "      <td>3</td>\n",
       "    </tr>\n",
       "    <tr>\n",
       "      <th>5</th>\n",
       "      <td>Jeff Jenssen</td>\n",
       "      <td>9</td>\n",
       "    </tr>\n",
       "    <tr>\n",
       "      <th>6</th>\n",
       "      <td>Jim Gordon</td>\n",
       "      <td>107</td>\n",
       "    </tr>\n",
       "    <tr>\n",
       "      <th>7</th>\n",
       "      <td>Joe Czerwinski</td>\n",
       "      <td>143</td>\n",
       "    </tr>\n",
       "    <tr>\n",
       "      <th>8</th>\n",
       "      <td>Kerin O’Keefe</td>\n",
       "      <td>258</td>\n",
       "    </tr>\n",
       "    <tr>\n",
       "      <th>9</th>\n",
       "      <td>Lauren Buzzeo</td>\n",
       "      <td>38</td>\n",
       "    </tr>\n",
       "    <tr>\n",
       "      <th>10</th>\n",
       "      <td>Matt Kettmann</td>\n",
       "      <td>140</td>\n",
       "    </tr>\n",
       "    <tr>\n",
       "      <th>11</th>\n",
       "      <td>Michael Schachner</td>\n",
       "      <td>384</td>\n",
       "    </tr>\n",
       "    <tr>\n",
       "      <th>12</th>\n",
       "      <td>Mike DeSimone</td>\n",
       "      <td>5</td>\n",
       "    </tr>\n",
       "    <tr>\n",
       "      <th>13</th>\n",
       "      <td>Paul Gregutt</td>\n",
       "      <td>218</td>\n",
       "    </tr>\n",
       "    <tr>\n",
       "      <th>14</th>\n",
       "      <td>Roger Voss</td>\n",
       "      <td>630</td>\n",
       "    </tr>\n",
       "    <tr>\n",
       "      <th>15</th>\n",
       "      <td>Sean P. Sullivan</td>\n",
       "      <td>125</td>\n",
       "    </tr>\n",
       "    <tr>\n",
       "      <th>16</th>\n",
       "      <td>Susan Kostrzewa</td>\n",
       "      <td>29</td>\n",
       "    </tr>\n",
       "    <tr>\n",
       "      <th>17</th>\n",
       "      <td>Virginie Boone</td>\n",
       "      <td>220</td>\n",
       "    </tr>\n",
       "  </tbody>\n",
       "</table>\n",
       "</div>"
      ],
      "text/plain": [
       "           taster_name  count\n",
       "0   Alexander Peartree     14\n",
       "1   Anna Lee C. Iijima     84\n",
       "2     Anne Krebiehl MW     55\n",
       "3         Carrie Dykes      3\n",
       "4          Fiona Adams      3\n",
       "5         Jeff Jenssen      9\n",
       "6           Jim Gordon    107\n",
       "7       Joe Czerwinski    143\n",
       "8        Kerin O’Keefe    258\n",
       "9        Lauren Buzzeo     38\n",
       "10       Matt Kettmann    140\n",
       "11   Michael Schachner    384\n",
       "12       Mike DeSimone      5\n",
       "13        Paul Gregutt    218\n",
       "14          Roger Voss    630\n",
       "15    Sean P. Sullivan    125\n",
       "16     Susan Kostrzewa     29\n",
       "17      Virginie Boone    220"
      ]
     },
     "execution_count": 107,
     "metadata": {},
     "output_type": "execute_result"
    }
   ],
   "source": [
    "nameCount = wine.groupby(['taster_name']).size().reset_index(name='count')\n",
    "nameCount"
   ]
  },
  {
   "cell_type": "code",
   "execution_count": 108,
   "metadata": {},
   "outputs": [],
   "source": [
    "wine['taster_name'] = wine['taster_name'].apply(lambda name: name.split(\" \")[0])"
   ]
  },
  {
   "cell_type": "markdown",
   "metadata": {},
   "source": [
    "## 1.1. De chemische samenstelling"
   ]
  },
  {
   "cell_type": "code",
   "execution_count": 109,
   "metadata": {
    "scrolled": false
   },
   "outputs": [
    {
     "data": {
      "text/html": [
       "<div>\n",
       "<style scoped>\n",
       "    .dataframe tbody tr th:only-of-type {\n",
       "        vertical-align: middle;\n",
       "    }\n",
       "\n",
       "    .dataframe tbody tr th {\n",
       "        vertical-align: top;\n",
       "    }\n",
       "\n",
       "    .dataframe thead th {\n",
       "        text-align: right;\n",
       "    }\n",
       "</style>\n",
       "<table border=\"1\" class=\"dataframe\">\n",
       "  <thead>\n",
       "    <tr style=\"text-align: right;\">\n",
       "      <th></th>\n",
       "      <th>fixed acidity</th>\n",
       "      <th>volatile acidity</th>\n",
       "      <th>citric acid</th>\n",
       "      <th>residual sugar</th>\n",
       "      <th>chlorides</th>\n",
       "      <th>free sulfur dioxide</th>\n",
       "      <th>total sulfur dioxide</th>\n",
       "      <th>density</th>\n",
       "      <th>pH</th>\n",
       "      <th>sulphates</th>\n",
       "      <th>alcohol</th>\n",
       "    </tr>\n",
       "  </thead>\n",
       "  <tbody>\n",
       "    <tr>\n",
       "      <th>0</th>\n",
       "      <td>10.0</td>\n",
       "      <td>0.29</td>\n",
       "      <td>0.4</td>\n",
       "      <td>2.9</td>\n",
       "      <td>0.098</td>\n",
       "      <td>10.0</td>\n",
       "      <td>26.0</td>\n",
       "      <td>10.006</td>\n",
       "      <td>3.48</td>\n",
       "      <td>0.91</td>\n",
       "      <td>9.7</td>\n",
       "    </tr>\n",
       "    <tr>\n",
       "      <th>1</th>\n",
       "      <td>8.3</td>\n",
       "      <td>0.26</td>\n",
       "      <td>0.37</td>\n",
       "      <td>1.4</td>\n",
       "      <td>0.076</td>\n",
       "      <td>8.0</td>\n",
       "      <td>23.0</td>\n",
       "      <td>0.9974</td>\n",
       "      <td>3.26</td>\n",
       "      <td>0.70</td>\n",
       "      <td>9.6</td>\n",
       "    </tr>\n",
       "    <tr>\n",
       "      <th>2</th>\n",
       "      <td>7.0</td>\n",
       "      <td>0.69</td>\n",
       "      <td>0.07</td>\n",
       "      <td>2.5</td>\n",
       "      <td>0.091</td>\n",
       "      <td>15.0</td>\n",
       "      <td>21.0</td>\n",
       "      <td>0.99572</td>\n",
       "      <td>3.38</td>\n",
       "      <td>0.60</td>\n",
       "      <td>11.3</td>\n",
       "    </tr>\n",
       "    <tr>\n",
       "      <th>3</th>\n",
       "      <td>7.0</td>\n",
       "      <td>0.69</td>\n",
       "      <td>0.07</td>\n",
       "      <td>2.5</td>\n",
       "      <td>0.091</td>\n",
       "      <td>15.0</td>\n",
       "      <td>21.0</td>\n",
       "      <td>0.99572</td>\n",
       "      <td>3.38</td>\n",
       "      <td>0.60</td>\n",
       "      <td>11.3</td>\n",
       "    </tr>\n",
       "    <tr>\n",
       "      <th>4</th>\n",
       "      <td>8.0</td>\n",
       "      <td>0.48</td>\n",
       "      <td>0.34</td>\n",
       "      <td>2.2</td>\n",
       "      <td>0.073</td>\n",
       "      <td>16.0</td>\n",
       "      <td>25.0</td>\n",
       "      <td>0.9936</td>\n",
       "      <td>3.28</td>\n",
       "      <td>0.66</td>\n",
       "      <td>12.4</td>\n",
       "    </tr>\n",
       "  </tbody>\n",
       "</table>\n",
       "</div>"
      ],
      "text/plain": [
       "   fixed acidity  volatile acidity citric acid  residual sugar  chlorides  \\\n",
       "0           10.0              0.29         0.4             2.9      0.098   \n",
       "1            8.3              0.26        0.37             1.4      0.076   \n",
       "2            7.0              0.69        0.07             2.5      0.091   \n",
       "3            7.0              0.69        0.07             2.5      0.091   \n",
       "4            8.0              0.48        0.34             2.2      0.073   \n",
       "\n",
       "   free sulfur dioxide  total sulfur dioxide  density    pH  sulphates alcohol  \n",
       "0                 10.0                  26.0   10.006  3.48       0.91     9.7  \n",
       "1                  8.0                  23.0   0.9974  3.26       0.70     9.6  \n",
       "2                 15.0                  21.0  0.99572  3.38       0.60    11.3  \n",
       "3                 15.0                  21.0  0.99572  3.38       0.60    11.3  \n",
       "4                 16.0                  25.0   0.9936  3.28       0.66    12.4  "
      ]
     },
     "execution_count": 109,
     "metadata": {},
     "output_type": "execute_result"
    }
   ],
   "source": [
    "chemColNames = ['fixed acidity','volatile acidity','citric acid','residual sugar','chlorides','free sulfur dioxide','total sulfur dioxide','density','pH','sulphates','alcohol']\n",
    "chem = wine[chemColNames]\n",
    "chem.head()\n",
    "# citric acid, density, alcohol"
   ]
  },
  {
   "cell_type": "code",
   "execution_count": 110,
   "metadata": {},
   "outputs": [
    {
     "data": {
      "text/html": [
       "<div>\n",
       "<style scoped>\n",
       "    .dataframe tbody tr th:only-of-type {\n",
       "        vertical-align: middle;\n",
       "    }\n",
       "\n",
       "    .dataframe tbody tr th {\n",
       "        vertical-align: top;\n",
       "    }\n",
       "\n",
       "    .dataframe thead th {\n",
       "        text-align: right;\n",
       "    }\n",
       "</style>\n",
       "<table border=\"1\" class=\"dataframe\">\n",
       "  <thead>\n",
       "    <tr style=\"text-align: right;\">\n",
       "      <th></th>\n",
       "      <th>fixed acidity</th>\n",
       "      <th>volatile acidity</th>\n",
       "      <th>citric acid</th>\n",
       "      <th>residual sugar</th>\n",
       "      <th>chlorides</th>\n",
       "      <th>free sulfur dioxide</th>\n",
       "      <th>total sulfur dioxide</th>\n",
       "      <th>density</th>\n",
       "      <th>pH</th>\n",
       "      <th>sulphates</th>\n",
       "      <th>alcohol</th>\n",
       "    </tr>\n",
       "  </thead>\n",
       "  <tbody>\n",
       "    <tr>\n",
       "      <th>count</th>\n",
       "      <td>2465.000000</td>\n",
       "      <td>2465.000000</td>\n",
       "      <td>2465</td>\n",
       "      <td>2465.000000</td>\n",
       "      <td>2465.000000</td>\n",
       "      <td>2465.000000</td>\n",
       "      <td>2465.000000</td>\n",
       "      <td>2465</td>\n",
       "      <td>2465.000000</td>\n",
       "      <td>2465.000000</td>\n",
       "      <td>2465</td>\n",
       "    </tr>\n",
       "    <tr>\n",
       "      <th>unique</th>\n",
       "      <td>NaN</td>\n",
       "      <td>NaN</td>\n",
       "      <td>80</td>\n",
       "      <td>NaN</td>\n",
       "      <td>NaN</td>\n",
       "      <td>NaN</td>\n",
       "      <td>NaN</td>\n",
       "      <td>428</td>\n",
       "      <td>NaN</td>\n",
       "      <td>NaN</td>\n",
       "      <td>61</td>\n",
       "    </tr>\n",
       "    <tr>\n",
       "      <th>top</th>\n",
       "      <td>NaN</td>\n",
       "      <td>NaN</td>\n",
       "      <td>-</td>\n",
       "      <td>NaN</td>\n",
       "      <td>NaN</td>\n",
       "      <td>NaN</td>\n",
       "      <td>NaN</td>\n",
       "      <td>0.9976</td>\n",
       "      <td>NaN</td>\n",
       "      <td>NaN</td>\n",
       "      <td>9.5</td>\n",
       "    </tr>\n",
       "    <tr>\n",
       "      <th>freq</th>\n",
       "      <td>NaN</td>\n",
       "      <td>NaN</td>\n",
       "      <td>203</td>\n",
       "      <td>NaN</td>\n",
       "      <td>NaN</td>\n",
       "      <td>NaN</td>\n",
       "      <td>NaN</td>\n",
       "      <td>59</td>\n",
       "      <td>NaN</td>\n",
       "      <td>NaN</td>\n",
       "      <td>234</td>\n",
       "    </tr>\n",
       "    <tr>\n",
       "      <th>mean</th>\n",
       "      <td>8.352819</td>\n",
       "      <td>0.528162</td>\n",
       "      <td>NaN</td>\n",
       "      <td>2.562353</td>\n",
       "      <td>0.087485</td>\n",
       "      <td>15.804665</td>\n",
       "      <td>47.218661</td>\n",
       "      <td>NaN</td>\n",
       "      <td>3.311201</td>\n",
       "      <td>0.660353</td>\n",
       "      <td>NaN</td>\n",
       "    </tr>\n",
       "    <tr>\n",
       "      <th>std</th>\n",
       "      <td>1.734847</td>\n",
       "      <td>0.178869</td>\n",
       "      <td>NaN</td>\n",
       "      <td>1.407030</td>\n",
       "      <td>0.047043</td>\n",
       "      <td>10.379218</td>\n",
       "      <td>33.187830</td>\n",
       "      <td>NaN</td>\n",
       "      <td>0.153927</td>\n",
       "      <td>0.172531</td>\n",
       "      <td>NaN</td>\n",
       "    </tr>\n",
       "    <tr>\n",
       "      <th>min</th>\n",
       "      <td>4.600000</td>\n",
       "      <td>0.120000</td>\n",
       "      <td>NaN</td>\n",
       "      <td>0.900000</td>\n",
       "      <td>0.012000</td>\n",
       "      <td>1.000000</td>\n",
       "      <td>6.000000</td>\n",
       "      <td>NaN</td>\n",
       "      <td>2.740000</td>\n",
       "      <td>0.330000</td>\n",
       "      <td>NaN</td>\n",
       "    </tr>\n",
       "    <tr>\n",
       "      <th>25%</th>\n",
       "      <td>7.100000</td>\n",
       "      <td>0.400000</td>\n",
       "      <td>NaN</td>\n",
       "      <td>1.900000</td>\n",
       "      <td>0.070000</td>\n",
       "      <td>7.000000</td>\n",
       "      <td>22.000000</td>\n",
       "      <td>NaN</td>\n",
       "      <td>3.210000</td>\n",
       "      <td>0.550000</td>\n",
       "      <td>NaN</td>\n",
       "    </tr>\n",
       "    <tr>\n",
       "      <th>50%</th>\n",
       "      <td>7.900000</td>\n",
       "      <td>0.520000</td>\n",
       "      <td>NaN</td>\n",
       "      <td>2.200000</td>\n",
       "      <td>0.079000</td>\n",
       "      <td>14.000000</td>\n",
       "      <td>38.000000</td>\n",
       "      <td>NaN</td>\n",
       "      <td>3.310000</td>\n",
       "      <td>0.620000</td>\n",
       "      <td>NaN</td>\n",
       "    </tr>\n",
       "    <tr>\n",
       "      <th>75%</th>\n",
       "      <td>9.300000</td>\n",
       "      <td>0.635000</td>\n",
       "      <td>NaN</td>\n",
       "      <td>2.600000</td>\n",
       "      <td>0.091000</td>\n",
       "      <td>21.000000</td>\n",
       "      <td>64.000000</td>\n",
       "      <td>NaN</td>\n",
       "      <td>3.400000</td>\n",
       "      <td>0.730000</td>\n",
       "      <td>NaN</td>\n",
       "    </tr>\n",
       "    <tr>\n",
       "      <th>max</th>\n",
       "      <td>15.900000</td>\n",
       "      <td>1.580000</td>\n",
       "      <td>NaN</td>\n",
       "      <td>15.500000</td>\n",
       "      <td>0.611000</td>\n",
       "      <td>72.000000</td>\n",
       "      <td>289.000000</td>\n",
       "      <td>NaN</td>\n",
       "      <td>4.010000</td>\n",
       "      <td>2.000000</td>\n",
       "      <td>NaN</td>\n",
       "    </tr>\n",
       "  </tbody>\n",
       "</table>\n",
       "</div>"
      ],
      "text/plain": [
       "        fixed acidity  volatile acidity citric acid  residual sugar  \\\n",
       "count     2465.000000       2465.000000        2465     2465.000000   \n",
       "unique            NaN               NaN          80             NaN   \n",
       "top               NaN               NaN        -                NaN   \n",
       "freq              NaN               NaN         203             NaN   \n",
       "mean         8.352819          0.528162         NaN        2.562353   \n",
       "std          1.734847          0.178869         NaN        1.407030   \n",
       "min          4.600000          0.120000         NaN        0.900000   \n",
       "25%          7.100000          0.400000         NaN        1.900000   \n",
       "50%          7.900000          0.520000         NaN        2.200000   \n",
       "75%          9.300000          0.635000         NaN        2.600000   \n",
       "max         15.900000          1.580000         NaN       15.500000   \n",
       "\n",
       "          chlorides  free sulfur dioxide  total sulfur dioxide density  \\\n",
       "count   2465.000000          2465.000000           2465.000000    2465   \n",
       "unique          NaN                  NaN                   NaN     428   \n",
       "top             NaN                  NaN                   NaN  0.9976   \n",
       "freq            NaN                  NaN                   NaN      59   \n",
       "mean       0.087485            15.804665             47.218661     NaN   \n",
       "std        0.047043            10.379218             33.187830     NaN   \n",
       "min        0.012000             1.000000              6.000000     NaN   \n",
       "25%        0.070000             7.000000             22.000000     NaN   \n",
       "50%        0.079000            14.000000             38.000000     NaN   \n",
       "75%        0.091000            21.000000             64.000000     NaN   \n",
       "max        0.611000            72.000000            289.000000     NaN   \n",
       "\n",
       "                 pH    sulphates alcohol  \n",
       "count   2465.000000  2465.000000    2465  \n",
       "unique          NaN          NaN      61  \n",
       "top             NaN          NaN     9.5  \n",
       "freq            NaN          NaN     234  \n",
       "mean       3.311201     0.660353     NaN  \n",
       "std        0.153927     0.172531     NaN  \n",
       "min        2.740000     0.330000     NaN  \n",
       "25%        3.210000     0.550000     NaN  \n",
       "50%        3.310000     0.620000     NaN  \n",
       "75%        3.400000     0.730000     NaN  \n",
       "max        4.010000     2.000000     NaN  "
      ]
     },
     "execution_count": 110,
     "metadata": {},
     "output_type": "execute_result"
    }
   ],
   "source": [
    "chem.describe(include='all')"
   ]
  },
  {
   "cell_type": "markdown",
   "metadata": {},
   "source": [
    "Hier zie je bijvoorbeeld het vershil in spreiding, wat opvalt is dat er in suiker maar vooral in sulfur een groot aantal hoge uitschieters zijn."
   ]
  },
  {
   "cell_type": "code",
   "execution_count": 111,
   "metadata": {},
   "outputs": [
    {
     "data": {
      "text/plain": [
       "<AxesSubplot:>"
      ]
     },
     "execution_count": 111,
     "metadata": {},
     "output_type": "execute_result"
    },
    {
     "data": {
      "image/png": "[encoded data removed]",
      "text/plain": [
       "<Figure size 1440x720 with 1 Axes>"
      ]
     },
     "metadata": {},
     "output_type": "display_data"
    }
   ],
   "source": [
    "chem.boxplot(figsize=(20,10))"
   ]
  },
  {
   "cell_type": "markdown",
   "metadata": {},
   "source": [
    "# 2. De externe dataset"
   ]
  },
  {
   "cell_type": "markdown",
   "metadata": {},
   "source": [
    "We willen een externe dataset gebruiken voor het beantwoorden van een van onze onderzoeksvragen. De dataset bestaat uit engelse namen en hun geslacht. Aan de hand van de informatie uit deze dataset willen we voorspellen of de tasters in onze eigen dataset van het mannelijk of vrouwelijke geslacht zijn. "
   ]
  },
  {
   "cell_type": "markdown",
   "metadata": {},
   "source": [
    "\n",
    "Hieronder zien we de eerste 10 records van de externe dataset. "
   ]
  },
  {
   "cell_type": "code",
   "execution_count": 112,
   "metadata": {
    "scrolled": true
   },
   "outputs": [
    {
     "data": {
      "text/html": [
       "<div>\n",
       "<style scoped>\n",
       "    .dataframe tbody tr th:only-of-type {\n",
       "        vertical-align: middle;\n",
       "    }\n",
       "\n",
       "    .dataframe tbody tr th {\n",
       "        vertical-align: top;\n",
       "    }\n",
       "\n",
       "    .dataframe thead th {\n",
       "        text-align: right;\n",
       "    }\n",
       "</style>\n",
       "<table border=\"1\" class=\"dataframe\">\n",
       "  <thead>\n",
       "    <tr style=\"text-align: right;\">\n",
       "      <th></th>\n",
       "      <th>Name</th>\n",
       "      <th>Year</th>\n",
       "      <th>Gender</th>\n",
       "      <th>Count</th>\n",
       "    </tr>\n",
       "  </thead>\n",
       "  <tbody>\n",
       "    <tr>\n",
       "      <th>0</th>\n",
       "      <td>Mary</td>\n",
       "      <td>1880</td>\n",
       "      <td>F</td>\n",
       "      <td>7065</td>\n",
       "    </tr>\n",
       "    <tr>\n",
       "      <th>1</th>\n",
       "      <td>Anna</td>\n",
       "      <td>1880</td>\n",
       "      <td>F</td>\n",
       "      <td>2604</td>\n",
       "    </tr>\n",
       "    <tr>\n",
       "      <th>2</th>\n",
       "      <td>Emma</td>\n",
       "      <td>1880</td>\n",
       "      <td>F</td>\n",
       "      <td>2003</td>\n",
       "    </tr>\n",
       "    <tr>\n",
       "      <th>3</th>\n",
       "      <td>Elizabeth</td>\n",
       "      <td>1880</td>\n",
       "      <td>F</td>\n",
       "      <td>1939</td>\n",
       "    </tr>\n",
       "    <tr>\n",
       "      <th>4</th>\n",
       "      <td>Minnie</td>\n",
       "      <td>1880</td>\n",
       "      <td>F</td>\n",
       "      <td>1746</td>\n",
       "    </tr>\n",
       "    <tr>\n",
       "      <th>5</th>\n",
       "      <td>Margaret</td>\n",
       "      <td>1880</td>\n",
       "      <td>F</td>\n",
       "      <td>1578</td>\n",
       "    </tr>\n",
       "    <tr>\n",
       "      <th>6</th>\n",
       "      <td>Ida</td>\n",
       "      <td>1880</td>\n",
       "      <td>F</td>\n",
       "      <td>1472</td>\n",
       "    </tr>\n",
       "    <tr>\n",
       "      <th>7</th>\n",
       "      <td>Alice</td>\n",
       "      <td>1880</td>\n",
       "      <td>F</td>\n",
       "      <td>1414</td>\n",
       "    </tr>\n",
       "    <tr>\n",
       "      <th>8</th>\n",
       "      <td>Bertha</td>\n",
       "      <td>1880</td>\n",
       "      <td>F</td>\n",
       "      <td>1320</td>\n",
       "    </tr>\n",
       "    <tr>\n",
       "      <th>9</th>\n",
       "      <td>Sarah</td>\n",
       "      <td>1880</td>\n",
       "      <td>F</td>\n",
       "      <td>1288</td>\n",
       "    </tr>\n",
       "  </tbody>\n",
       "</table>\n",
       "</div>"
      ],
      "text/plain": [
       "        Name  Year Gender  Count\n",
       "0       Mary  1880      F   7065\n",
       "1       Anna  1880      F   2604\n",
       "2       Emma  1880      F   2003\n",
       "3  Elizabeth  1880      F   1939\n",
       "4     Minnie  1880      F   1746\n",
       "5   Margaret  1880      F   1578\n",
       "6        Ida  1880      F   1472\n",
       "7      Alice  1880      F   1414\n",
       "8     Bertha  1880      F   1320\n",
       "9      Sarah  1880      F   1288"
      ]
     },
     "execution_count": 112,
     "metadata": {},
     "output_type": "execute_result"
    }
   ],
   "source": [
    "name = pd.read_csv('names.csv', usecols=['Name', 'Gender', 'Year', 'Count'])\n",
    "name.head(10)"
   ]
  },
  {
   "cell_type": "markdown",
   "metadata": {},
   "source": [
    "# 3. Data Preparation"
   ]
  },
  {
   "cell_type": "markdown",
   "metadata": {},
   "source": [
    "## 3.1. Pair Plot"
   ]
  },
  {
   "cell_type": "markdown",
   "metadata": {},
   "source": [
    "Voordat we een pairplot kunnen maken moeten we de types van een aantal kolommen aanpassen. We willen bijvoorbeeld alcohol plotten en daarvoor moeten we eerst zorgen dat alcohol van het type object naar een nummeriek type geconverteerd wordt. We kunnen terwijl we dit doen ook meteen de waardes van density en citric acid omzetten naar nummerieke datatypes, mogelijk hebben we deze later nog nodig. "
   ]
  },
  {
   "cell_type": "code",
   "execution_count": 113,
   "metadata": {},
   "outputs": [],
   "source": [
    "colErrorPairs = {\n",
    "    'density'    : [' . '],\n",
    "    'citric acid': [' - ',' -   '],\n",
    "    'alcohol'    : ['100.333.333.333.333','11.066.666.666.666.600','956.666.666.666.667','923.333.333.333.333']}\n",
    "\n",
    "for colName in colErrorPairs:\n",
    "    for faultyString in colErrorPairs[colName]:\n",
    "        wine[colName] = wine[colName].replace(faultyString,np.nan)"
   ]
  },
  {
   "cell_type": "code",
   "execution_count": 114,
   "metadata": {},
   "outputs": [],
   "source": [
    "wine['alcohol'] = wine['alcohol'].astype(float)"
   ]
  },
  {
   "cell_type": "code",
   "execution_count": 115,
   "metadata": {},
   "outputs": [],
   "source": [
    "wine['density'] = wine['density'].astype(float)"
   ]
  },
  {
   "cell_type": "code",
   "execution_count": 116,
   "metadata": {},
   "outputs": [],
   "source": [
    "wine['citric acid'] = wine['citric acid'].astype(float)"
   ]
  },
  {
   "cell_type": "code",
   "execution_count": 117,
   "metadata": {},
   "outputs": [
    {
     "data": {
      "text/plain": [
       "id                        int64\n",
       "country                  object\n",
       "description              object\n",
       "designation              object\n",
       "points                    int64\n",
       "price                   float64\n",
       "province                 object\n",
       "taster_name              object\n",
       "title                    object\n",
       "variety                  object\n",
       "winery                   object\n",
       "fixed acidity           float64\n",
       "volatile acidity        float64\n",
       "citric acid             float64\n",
       "residual sugar          float64\n",
       "chlorides               float64\n",
       "free sulfur dioxide     float64\n",
       "total sulfur dioxide    float64\n",
       "density                 float64\n",
       "pH                      float64\n",
       "sulphates               float64\n",
       "alcohol                 float64\n",
       "dtype: object"
      ]
     },
     "execution_count": 117,
     "metadata": {},
     "output_type": "execute_result"
    }
   ],
   "source": [
    "wine.dtypes"
   ]
  },
  {
   "cell_type": "markdown",
   "metadata": {},
   "source": [
    " Nu dat we de gewenste types hebben omgezet kunnen we ze plotten in een pairplot"
   ]
  },
  {
   "cell_type": "code",
   "execution_count": 118,
   "metadata": {},
   "outputs": [
    {
     "data": {
      "image/png": "[encoded data removed]",
      "text/plain": [
       "<Figure size 953.35x864 with 12 Axes>"
      ]
     },
     "metadata": {},
     "output_type": "display_data"
    }
   ],
   "source": [
    "sns.set(style=\"ticks\", color_codes=True)\n",
    "g = sns.pairplot(wine, diag_kind = \"hist\",\n",
    "                 height = 4,\n",
    "                 hue = \"taster_name\",\n",
    "\n",
    "                 x_vars=[\"points\", \"price\", \"alcohol\"], \n",
    "                 y_vars= [\"points\", \"price\", \"alcohol\"])\n",
    "\n",
    "plt.show()"
   ]
  },
  {
   "cell_type": "markdown",
   "metadata": {},
   "source": [
    "Hierboven zien we een pairplot waarbij we de variabelen prijs, points en alcohol met elkaar vergelijken. Elke proever heeft een apart kleurtje gekregen. "
   ]
  },
  {
   "cell_type": "markdown",
   "metadata": {},
   "source": [
    "## 3.2 Standaardiseren\n"
   ]
  },
  {
   "cell_type": "markdown",
   "metadata": {},
   "source": [
    "Stanaardiseren helpt om eerlijker te meten. Je verwijdert de eenheden en zorgt dat alle variabelen ongeveer hetzeflde bereik hebben. "
   ]
  },
  {
   "cell_type": "markdown",
   "metadata": {},
   "source": [
    "Alle variabelen die te maken hebben met de chemische samenstelling zouden ongeveer hetzelfde bereik moeten hebben. Als we ervoor zorgen dat deze waardes bijvoorbeeld allemaal tussen de 0 en 1 liggen, kunnen we ze makkelijk met elkaar vergelijken zonder dat er één veel zwaarder weegt dan de ander.\n"
   ]
  },
  {
   "cell_type": "code",
   "execution_count": 119,
   "metadata": {},
   "outputs": [
    {
     "data": {
      "text/html": [
       "<div>\n",
       "<style scoped>\n",
       "    .dataframe tbody tr th:only-of-type {\n",
       "        vertical-align: middle;\n",
       "    }\n",
       "\n",
       "    .dataframe tbody tr th {\n",
       "        vertical-align: top;\n",
       "    }\n",
       "\n",
       "    .dataframe thead th {\n",
       "        text-align: right;\n",
       "    }\n",
       "</style>\n",
       "<table border=\"1\" class=\"dataframe\">\n",
       "  <thead>\n",
       "    <tr style=\"text-align: right;\">\n",
       "      <th></th>\n",
       "      <th>id</th>\n",
       "      <th>country</th>\n",
       "      <th>description</th>\n",
       "      <th>designation</th>\n",
       "      <th>points</th>\n",
       "      <th>price</th>\n",
       "      <th>province</th>\n",
       "      <th>taster_name</th>\n",
       "      <th>title</th>\n",
       "      <th>variety</th>\n",
       "      <th>winery</th>\n",
       "      <th>fixed acidity</th>\n",
       "      <th>volatile acidity</th>\n",
       "      <th>citric acid</th>\n",
       "      <th>residual sugar</th>\n",
       "      <th>chlorides</th>\n",
       "      <th>free sulfur dioxide</th>\n",
       "      <th>total sulfur dioxide</th>\n",
       "      <th>density</th>\n",
       "      <th>pH</th>\n",
       "      <th>sulphates</th>\n",
       "      <th>alcohol</th>\n",
       "    </tr>\n",
       "  </thead>\n",
       "  <tbody>\n",
       "    <tr>\n",
       "      <th>0</th>\n",
       "      <td>1</td>\n",
       "      <td>Portugal</td>\n",
       "      <td>This is ripe and fruity, a wine that is smooth...</td>\n",
       "      <td>Avidagos</td>\n",
       "      <td>87</td>\n",
       "      <td>15.0</td>\n",
       "      <td>Douro</td>\n",
       "      <td>Kerin</td>\n",
       "      <td>Quinta dos Avidagos 2011 Avidagos Red (Douro)</td>\n",
       "      <td>Portuguese Red</td>\n",
       "      <td>Quinta dos Avidagos</td>\n",
       "      <td>0.949660</td>\n",
       "      <td>-1.331760</td>\n",
       "      <td>0.542728</td>\n",
       "      <td>0.240020</td>\n",
       "      <td>0.223558</td>\n",
       "      <td>-0.559372</td>\n",
       "      <td>-0.639480</td>\n",
       "      <td>0.827622</td>\n",
       "      <td>1.096839</td>\n",
       "      <td>1.447261</td>\n",
       "      <td>-0.678516</td>\n",
       "    </tr>\n",
       "    <tr>\n",
       "      <th>1</th>\n",
       "      <td>2</td>\n",
       "      <td>Portugal</td>\n",
       "      <td>From an estate in the south of the Alentejo, t...</td>\n",
       "      <td>Grande Reserva Tinto</td>\n",
       "      <td>91</td>\n",
       "      <td>26.0</td>\n",
       "      <td>Alentejano</td>\n",
       "      <td>Roger</td>\n",
       "      <td>Casa Santa Vitória 2013 Grande Reserva Tinto R...</td>\n",
       "      <td>Portuguese Red</td>\n",
       "      <td>Casa Santa Vitória</td>\n",
       "      <td>-0.030452</td>\n",
       "      <td>-1.499514</td>\n",
       "      <td>0.380840</td>\n",
       "      <td>-0.826272</td>\n",
       "      <td>-0.244190</td>\n",
       "      <td>-0.752104</td>\n",
       "      <td>-0.729893</td>\n",
       "      <td>-0.126222</td>\n",
       "      <td>-0.332697</td>\n",
       "      <td>0.229843</td>\n",
       "      <td>-0.773610</td>\n",
       "    </tr>\n",
       "    <tr>\n",
       "      <th>2</th>\n",
       "      <td>3</td>\n",
       "      <td>Portugal</td>\n",
       "      <td>A year in wood and 30 months in bottle before ...</td>\n",
       "      <td>Montes Claros Garrafeira</td>\n",
       "      <td>90</td>\n",
       "      <td>28.0</td>\n",
       "      <td>Alentejo</td>\n",
       "      <td>Paul</td>\n",
       "      <td>Adega Cooperativa de Borba 2012 Montes Claros ...</td>\n",
       "      <td>Portuguese Red</td>\n",
       "      <td>Adega Cooperativa de Borba</td>\n",
       "      <td>-0.779950</td>\n",
       "      <td>0.904967</td>\n",
       "      <td>-1.238041</td>\n",
       "      <td>-0.044324</td>\n",
       "      <td>0.074729</td>\n",
       "      <td>-0.077542</td>\n",
       "      <td>-0.790169</td>\n",
       "      <td>-0.126400</td>\n",
       "      <td>0.447050</td>\n",
       "      <td>-0.349880</td>\n",
       "      <td>0.842984</td>\n",
       "    </tr>\n",
       "    <tr>\n",
       "      <th>3</th>\n",
       "      <td>4</td>\n",
       "      <td>Portugal</td>\n",
       "      <td>Wood aging gives this ripe blend of Baga and T...</td>\n",
       "      <td>NaN</td>\n",
       "      <td>90</td>\n",
       "      <td>20.0</td>\n",
       "      <td>Beira Atlantico</td>\n",
       "      <td>Alexander</td>\n",
       "      <td>Quinta de Foz de Arouce 2013 Red (Beira Atlant...</td>\n",
       "      <td>Portuguese Red</td>\n",
       "      <td>Quinta de Foz de Arouce</td>\n",
       "      <td>-0.779950</td>\n",
       "      <td>0.904967</td>\n",
       "      <td>-1.238041</td>\n",
       "      <td>-0.044324</td>\n",
       "      <td>0.074729</td>\n",
       "      <td>-0.077542</td>\n",
       "      <td>-0.790169</td>\n",
       "      <td>-0.126400</td>\n",
       "      <td>0.447050</td>\n",
       "      <td>-0.349880</td>\n",
       "      <td>0.842984</td>\n",
       "    </tr>\n",
       "    <tr>\n",
       "      <th>4</th>\n",
       "      <td>5</td>\n",
       "      <td>Portugal</td>\n",
       "      <td>A powerful wine, richly structured and full of...</td>\n",
       "      <td>Gerações Colheita Seleccionada</td>\n",
       "      <td>92</td>\n",
       "      <td>34.0</td>\n",
       "      <td>Alentejano</td>\n",
       "      <td>Paul</td>\n",
       "      <td>Herdade Grande 2010 Gerações Colheita Seleccio...</td>\n",
       "      <td>Portuguese Red</td>\n",
       "      <td>Herdade Grande</td>\n",
       "      <td>-0.203413</td>\n",
       "      <td>-0.269315</td>\n",
       "      <td>0.218952</td>\n",
       "      <td>-0.257583</td>\n",
       "      <td>-0.307974</td>\n",
       "      <td>0.018824</td>\n",
       "      <td>-0.669618</td>\n",
       "      <td>-0.126624</td>\n",
       "      <td>-0.202740</td>\n",
       "      <td>-0.002046</td>\n",
       "      <td>1.889015</td>\n",
       "    </tr>\n",
       "  </tbody>\n",
       "</table>\n",
       "</div>"
      ],
      "text/plain": [
       "   id   country                                        description  \\\n",
       "0   1  Portugal  This is ripe and fruity, a wine that is smooth...   \n",
       "1   2  Portugal  From an estate in the south of the Alentejo, t...   \n",
       "2   3  Portugal  A year in wood and 30 months in bottle before ...   \n",
       "3   4  Portugal  Wood aging gives this ripe blend of Baga and T...   \n",
       "4   5  Portugal  A powerful wine, richly structured and full of...   \n",
       "\n",
       "                      designation  points  price         province taster_name  \\\n",
       "0                        Avidagos      87   15.0            Douro       Kerin   \n",
       "1            Grande Reserva Tinto      91   26.0       Alentejano       Roger   \n",
       "2        Montes Claros Garrafeira      90   28.0         Alentejo        Paul   \n",
       "3                             NaN      90   20.0  Beira Atlantico   Alexander   \n",
       "4  Gerações Colheita Seleccionada      92   34.0       Alentejano        Paul   \n",
       "\n",
       "                                               title         variety  \\\n",
       "0      Quinta dos Avidagos 2011 Avidagos Red (Douro)  Portuguese Red   \n",
       "1  Casa Santa Vitória 2013 Grande Reserva Tinto R...  Portuguese Red   \n",
       "2  Adega Cooperativa de Borba 2012 Montes Claros ...  Portuguese Red   \n",
       "3  Quinta de Foz de Arouce 2013 Red (Beira Atlant...  Portuguese Red   \n",
       "4  Herdade Grande 2010 Gerações Colheita Seleccio...  Portuguese Red   \n",
       "\n",
       "                       winery  fixed acidity  volatile acidity  citric acid  \\\n",
       "0         Quinta dos Avidagos       0.949660         -1.331760     0.542728   \n",
       "1          Casa Santa Vitória      -0.030452         -1.499514     0.380840   \n",
       "2  Adega Cooperativa de Borba      -0.779950          0.904967    -1.238041   \n",
       "3     Quinta de Foz de Arouce      -0.779950          0.904967    -1.238041   \n",
       "4              Herdade Grande      -0.203413         -0.269315     0.218952   \n",
       "\n",
       "   residual sugar  chlorides  free sulfur dioxide  total sulfur dioxide  \\\n",
       "0        0.240020   0.223558            -0.559372             -0.639480   \n",
       "1       -0.826272  -0.244190            -0.752104             -0.729893   \n",
       "2       -0.044324   0.074729            -0.077542             -0.790169   \n",
       "3       -0.044324   0.074729            -0.077542             -0.790169   \n",
       "4       -0.257583  -0.307974             0.018824             -0.669618   \n",
       "\n",
       "    density        pH  sulphates   alcohol  \n",
       "0  0.827622  1.096839   1.447261 -0.678516  \n",
       "1 -0.126222 -0.332697   0.229843 -0.773610  \n",
       "2 -0.126400  0.447050  -0.349880  0.842984  \n",
       "3 -0.126400  0.447050  -0.349880  0.842984  \n",
       "4 -0.126624 -0.202740  -0.002046  1.889015  "
      ]
     },
     "execution_count": 119,
     "metadata": {},
     "output_type": "execute_result"
    }
   ],
   "source": [
    "wineZscore = wine.copy()\n",
    "for col in chemColNames:\n",
    "        wineZscore[col] = (wine[col] - wine[col].mean())/wine[col].std(ddof=0)\n",
    "wineZscore.head()"
   ]
  },
  {
   "cell_type": "code",
   "execution_count": 120,
   "metadata": {},
   "outputs": [
    {
     "data": {
      "text/plain": [
       "<AxesSubplot:>"
      ]
     },
     "execution_count": 120,
     "metadata": {},
     "output_type": "execute_result"
    },
    {
     "data": {
      "image/png": "[encoded data removed]",
      "text/plain": [
       "<Figure size 1440x720 with 1 Axes>"
      ]
     },
     "metadata": {},
     "output_type": "display_data"
    }
   ],
   "source": [
    "wineZscore.boxplot(figsize=(20,10), column=chemColNames)"
   ]
  },
  {
   "cell_type": "markdown",
   "metadata": {},
   "source": [
    "\n",
    "# Onderzoeksvraag 1: In hoeverre is de score van een Portugese Red te voorspellen op basis van de chemische kenmerken?\n"
   ]
  },
  {
   "cell_type": "markdown",
   "metadata": {},
   "source": [
    "## Lineaire regressie"
   ]
  },
  {
   "cell_type": "markdown",
   "metadata": {},
   "source": [
    "Voor de eerste verplichte onderzoeksvraag gaan we supervised machine learning gebruiken. We willen de score van een wijn gaan voorspellen aan de hand van de chemische samenstelling. Dit gaan we doen met behulp van lineaire regressie. "
   ]
  },
  {
   "cell_type": "markdown",
   "metadata": {},
   "source": [
    "__1. Kies een modeltype__ "
   ]
  },
  {
   "cell_type": "code",
   "execution_count": 121,
   "metadata": {},
   "outputs": [],
   "source": [
    "from sklearn.linear_model import LinearRegression"
   ]
  },
  {
   "cell_type": "markdown",
   "metadata": {},
   "source": [
    "__2. Kies de hyperparameters__\n"
   ]
  },
  {
   "cell_type": "markdown",
   "metadata": {},
   "source": [
    "__3. Organiseer de data (feature matrix, target vector)__"
   ]
  },
  {
   "cell_type": "markdown",
   "metadata": {},
   "source": [
    "Omdat we op basis van de chemische samenstelling willen gaan voorspellen, worden dit onze feature variabelen. "
   ]
  },
  {
   "cell_type": "code",
   "execution_count": 122,
   "metadata": {},
   "outputs": [
    {
     "data": {
      "text/html": [
       "<div>\n",
       "<style scoped>\n",
       "    .dataframe tbody tr th:only-of-type {\n",
       "        vertical-align: middle;\n",
       "    }\n",
       "\n",
       "    .dataframe tbody tr th {\n",
       "        vertical-align: top;\n",
       "    }\n",
       "\n",
       "    .dataframe thead th {\n",
       "        text-align: right;\n",
       "    }\n",
       "</style>\n",
       "<table border=\"1\" class=\"dataframe\">\n",
       "  <thead>\n",
       "    <tr style=\"text-align: right;\">\n",
       "      <th></th>\n",
       "      <th>fixed acidity</th>\n",
       "      <th>volatile acidity</th>\n",
       "      <th>citric acid</th>\n",
       "      <th>residual sugar</th>\n",
       "      <th>chlorides</th>\n",
       "      <th>free sulfur dioxide</th>\n",
       "      <th>total sulfur dioxide</th>\n",
       "      <th>density</th>\n",
       "      <th>pH</th>\n",
       "      <th>sulphates</th>\n",
       "      <th>alcohol</th>\n",
       "    </tr>\n",
       "  </thead>\n",
       "  <tbody>\n",
       "    <tr>\n",
       "      <th>0</th>\n",
       "      <td>10.0</td>\n",
       "      <td>0.29</td>\n",
       "      <td>0.4</td>\n",
       "      <td>2.9</td>\n",
       "      <td>0.098</td>\n",
       "      <td>10.0</td>\n",
       "      <td>26.0</td>\n",
       "      <td>10.006</td>\n",
       "      <td>3.48</td>\n",
       "      <td>0.91</td>\n",
       "      <td>9.7</td>\n",
       "    </tr>\n",
       "    <tr>\n",
       "      <th>1</th>\n",
       "      <td>8.3</td>\n",
       "      <td>0.26</td>\n",
       "      <td>0.37</td>\n",
       "      <td>1.4</td>\n",
       "      <td>0.076</td>\n",
       "      <td>8.0</td>\n",
       "      <td>23.0</td>\n",
       "      <td>0.9974</td>\n",
       "      <td>3.26</td>\n",
       "      <td>0.70</td>\n",
       "      <td>9.6</td>\n",
       "    </tr>\n",
       "    <tr>\n",
       "      <th>2</th>\n",
       "      <td>7.0</td>\n",
       "      <td>0.69</td>\n",
       "      <td>0.07</td>\n",
       "      <td>2.5</td>\n",
       "      <td>0.091</td>\n",
       "      <td>15.0</td>\n",
       "      <td>21.0</td>\n",
       "      <td>0.99572</td>\n",
       "      <td>3.38</td>\n",
       "      <td>0.60</td>\n",
       "      <td>11.3</td>\n",
       "    </tr>\n",
       "    <tr>\n",
       "      <th>3</th>\n",
       "      <td>7.0</td>\n",
       "      <td>0.69</td>\n",
       "      <td>0.07</td>\n",
       "      <td>2.5</td>\n",
       "      <td>0.091</td>\n",
       "      <td>15.0</td>\n",
       "      <td>21.0</td>\n",
       "      <td>0.99572</td>\n",
       "      <td>3.38</td>\n",
       "      <td>0.60</td>\n",
       "      <td>11.3</td>\n",
       "    </tr>\n",
       "    <tr>\n",
       "      <th>4</th>\n",
       "      <td>8.0</td>\n",
       "      <td>0.48</td>\n",
       "      <td>0.34</td>\n",
       "      <td>2.2</td>\n",
       "      <td>0.073</td>\n",
       "      <td>16.0</td>\n",
       "      <td>25.0</td>\n",
       "      <td>0.9936</td>\n",
       "      <td>3.28</td>\n",
       "      <td>0.66</td>\n",
       "      <td>12.4</td>\n",
       "    </tr>\n",
       "  </tbody>\n",
       "</table>\n",
       "</div>"
      ],
      "text/plain": [
       "   fixed acidity  volatile acidity citric acid  residual sugar  chlorides  \\\n",
       "0           10.0              0.29         0.4             2.9      0.098   \n",
       "1            8.3              0.26        0.37             1.4      0.076   \n",
       "2            7.0              0.69        0.07             2.5      0.091   \n",
       "3            7.0              0.69        0.07             2.5      0.091   \n",
       "4            8.0              0.48        0.34             2.2      0.073   \n",
       "\n",
       "   free sulfur dioxide  total sulfur dioxide  density    pH  sulphates alcohol  \n",
       "0                 10.0                  26.0   10.006  3.48       0.91     9.7  \n",
       "1                  8.0                  23.0   0.9974  3.26       0.70     9.6  \n",
       "2                 15.0                  21.0  0.99572  3.38       0.60    11.3  \n",
       "3                 15.0                  21.0  0.99572  3.38       0.60    11.3  \n",
       "4                 16.0                  25.0   0.9936  3.28       0.66    12.4  "
      ]
     },
     "execution_count": 122,
     "metadata": {},
     "output_type": "execute_result"
    }
   ],
   "source": [
    "chem.head()"
   ]
  },
  {
   "cell_type": "markdown",
   "metadata": {},
   "source": [
    "### Standaardiseren"
   ]
  },
  {
   "cell_type": "markdown",
   "metadata": {},
   "source": [
    "Omdat de waardes van de features nogal uit elkaar liggen gaan we ze eerst standaardiseren met behulp van de Z Score. Zo zorgen we ervoor dat elke waarde tussen de -1 en 1 komt te liggen, zodat alle kolommen even zwaar mee tellen. "
   ]
  },
  {
   "cell_type": "code",
   "execution_count": 123,
   "metadata": {},
   "outputs": [],
   "source": [
    "features = ['fixed acidity', 'volatile acidity', 'citric acid', 'residual sugar', 'chlorides', 'free sulfur dioxide', 'total sulfur dioxide', 'density', 'pH', 'sulphates']"
   ]
  },
  {
   "cell_type": "code",
   "execution_count": 124,
   "metadata": {},
   "outputs": [
    {
     "data": {
      "text/html": [
       "<div>\n",
       "<style scoped>\n",
       "    .dataframe tbody tr th:only-of-type {\n",
       "        vertical-align: middle;\n",
       "    }\n",
       "\n",
       "    .dataframe tbody tr th {\n",
       "        vertical-align: top;\n",
       "    }\n",
       "\n",
       "    .dataframe thead th {\n",
       "        text-align: right;\n",
       "    }\n",
       "</style>\n",
       "<table border=\"1\" class=\"dataframe\">\n",
       "  <thead>\n",
       "    <tr style=\"text-align: right;\">\n",
       "      <th></th>\n",
       "      <th>fixed acidity</th>\n",
       "      <th>volatile acidity</th>\n",
       "      <th>citric acid</th>\n",
       "      <th>residual sugar</th>\n",
       "      <th>chlorides</th>\n",
       "      <th>free sulfur dioxide</th>\n",
       "      <th>total sulfur dioxide</th>\n",
       "      <th>density</th>\n",
       "      <th>pH</th>\n",
       "      <th>sulphates</th>\n",
       "    </tr>\n",
       "  </thead>\n",
       "  <tbody>\n",
       "    <tr>\n",
       "      <th>0</th>\n",
       "      <td>0.949660</td>\n",
       "      <td>-1.331760</td>\n",
       "      <td>0.542728</td>\n",
       "      <td>0.240020</td>\n",
       "      <td>0.223558</td>\n",
       "      <td>-0.559372</td>\n",
       "      <td>-0.639480</td>\n",
       "      <td>0.827622</td>\n",
       "      <td>1.096839</td>\n",
       "      <td>1.447261</td>\n",
       "    </tr>\n",
       "    <tr>\n",
       "      <th>1</th>\n",
       "      <td>-0.030452</td>\n",
       "      <td>-1.499514</td>\n",
       "      <td>0.380840</td>\n",
       "      <td>-0.826272</td>\n",
       "      <td>-0.244190</td>\n",
       "      <td>-0.752104</td>\n",
       "      <td>-0.729893</td>\n",
       "      <td>-0.126222</td>\n",
       "      <td>-0.332697</td>\n",
       "      <td>0.229843</td>\n",
       "    </tr>\n",
       "    <tr>\n",
       "      <th>2</th>\n",
       "      <td>-0.779950</td>\n",
       "      <td>0.904967</td>\n",
       "      <td>-1.238041</td>\n",
       "      <td>-0.044324</td>\n",
       "      <td>0.074729</td>\n",
       "      <td>-0.077542</td>\n",
       "      <td>-0.790169</td>\n",
       "      <td>-0.126400</td>\n",
       "      <td>0.447050</td>\n",
       "      <td>-0.349880</td>\n",
       "    </tr>\n",
       "    <tr>\n",
       "      <th>3</th>\n",
       "      <td>-0.779950</td>\n",
       "      <td>0.904967</td>\n",
       "      <td>-1.238041</td>\n",
       "      <td>-0.044324</td>\n",
       "      <td>0.074729</td>\n",
       "      <td>-0.077542</td>\n",
       "      <td>-0.790169</td>\n",
       "      <td>-0.126400</td>\n",
       "      <td>0.447050</td>\n",
       "      <td>-0.349880</td>\n",
       "    </tr>\n",
       "    <tr>\n",
       "      <th>4</th>\n",
       "      <td>-0.203413</td>\n",
       "      <td>-0.269315</td>\n",
       "      <td>0.218952</td>\n",
       "      <td>-0.257583</td>\n",
       "      <td>-0.307974</td>\n",
       "      <td>0.018824</td>\n",
       "      <td>-0.669618</td>\n",
       "      <td>-0.126624</td>\n",
       "      <td>-0.202740</td>\n",
       "      <td>-0.002046</td>\n",
       "    </tr>\n",
       "  </tbody>\n",
       "</table>\n",
       "</div>"
      ],
      "text/plain": [
       "   fixed acidity  volatile acidity  citric acid  residual sugar  chlorides  \\\n",
       "0       0.949660         -1.331760     0.542728        0.240020   0.223558   \n",
       "1      -0.030452         -1.499514     0.380840       -0.826272  -0.244190   \n",
       "2      -0.779950          0.904967    -1.238041       -0.044324   0.074729   \n",
       "3      -0.779950          0.904967    -1.238041       -0.044324   0.074729   \n",
       "4      -0.203413         -0.269315     0.218952       -0.257583  -0.307974   \n",
       "\n",
       "   free sulfur dioxide  total sulfur dioxide   density        pH  sulphates  \n",
       "0            -0.559372             -0.639480  0.827622  1.096839   1.447261  \n",
       "1            -0.752104             -0.729893 -0.126222 -0.332697   0.229843  \n",
       "2            -0.077542             -0.790169 -0.126400  0.447050  -0.349880  \n",
       "3            -0.077542             -0.790169 -0.126400  0.447050  -0.349880  \n",
       "4             0.018824             -0.669618 -0.126624 -0.202740  -0.002046  "
      ]
     },
     "execution_count": 124,
     "metadata": {},
     "output_type": "execute_result"
    }
   ],
   "source": [
    "X = wineZscore[features]\n",
    "X.head()"
   ]
  },
  {
   "cell_type": "markdown",
   "metadata": {},
   "source": [
    "De target variabele is bij deze onderzoeksvraag de points, dit is namelijk de variabele die we willen voorspellen. "
   ]
  },
  {
   "cell_type": "code",
   "execution_count": 125,
   "metadata": {},
   "outputs": [
    {
     "data": {
      "text/plain": [
       "0    87\n",
       "1    91\n",
       "2    90\n",
       "3    90\n",
       "4    92\n",
       "Name: points, dtype: int64"
      ]
     },
     "execution_count": 125,
     "metadata": {},
     "output_type": "execute_result"
    }
   ],
   "source": [
    "y = wine.points\n",
    "y.head()"
   ]
  },
  {
   "cell_type": "markdown",
   "metadata": {},
   "source": [
    "__4. Creeër een training- en validatie set.__"
   ]
  },
  {
   "cell_type": "markdown",
   "metadata": {},
   "source": [
    "Nu gaan we een training en test set creëeren. Door het opvullen van lege waarden met de gemiddelden verhogen we linreg.score() een beetje, deze komt later aan bod. "
   ]
  },
  {
   "cell_type": "code",
   "execution_count": 126,
   "metadata": {},
   "outputs": [
    {
     "name": "stderr",
     "output_type": "stream",
     "text": [
      "/home/daviddemmers/.local/lib/python3.8/site-packages/pandas/core/series.py:4517: SettingWithCopyWarning: \n",
      "A value is trying to be set on a copy of a slice from a DataFrame\n",
      "\n",
      "See the caveats in the documentation: https://pandas.pydata.org/pandas-docs/stable/user_guide/indexing.html#returning-a-view-versus-a-copy\n",
      "  return super().fillna(\n"
     ]
    }
   ],
   "source": [
    "X.fillna(X.mean(),inplace=True)\n",
    "y.fillna(y.mean(),inplace=True)\n",
    "\n",
    "X_train, X_test, y_train, y_test = train_test_split(X, y, random_state=0)"
   ]
  },
  {
   "cell_type": "markdown",
   "metadata": {},
   "source": [
    "De wijn dataset bestaat uit 2465 records, we gebruiken ongeveer 75% van de waardes voor de trainingset en de overige 25% voor de testset. "
   ]
  },
  {
   "cell_type": "code",
   "execution_count": 127,
   "metadata": {},
   "outputs": [
    {
     "data": {
      "text/plain": [
       "2465"
      ]
     },
     "execution_count": 127,
     "metadata": {},
     "output_type": "execute_result"
    }
   ],
   "source": [
    "len(wine)"
   ]
  },
  {
   "cell_type": "code",
   "execution_count": 128,
   "metadata": {},
   "outputs": [
    {
     "data": {
      "text/plain": [
       "1848"
      ]
     },
     "execution_count": 128,
     "metadata": {},
     "output_type": "execute_result"
    }
   ],
   "source": [
    "len(X_train)"
   ]
  },
  {
   "cell_type": "code",
   "execution_count": 129,
   "metadata": {},
   "outputs": [
    {
     "data": {
      "text/plain": [
       "617"
      ]
     },
     "execution_count": 129,
     "metadata": {},
     "output_type": "execute_result"
    }
   ],
   "source": [
    "len(X_test)"
   ]
  },
  {
   "cell_type": "code",
   "execution_count": 130,
   "metadata": {},
   "outputs": [],
   "source": [
    "linreg = LinearRegression()"
   ]
  },
  {
   "cell_type": "markdown",
   "metadata": {},
   "source": [
    "Het model gaat nu leren aan de hand van de data uit de trainingsset. "
   ]
  },
  {
   "cell_type": "code",
   "execution_count": 131,
   "metadata": {},
   "outputs": [
    {
     "data": {
      "text/plain": [
       "LinearRegression()"
      ]
     },
     "execution_count": 131,
     "metadata": {},
     "output_type": "execute_result"
    }
   ],
   "source": [
    "linreg.fit(X_train, y_train)"
   ]
  },
  {
   "cell_type": "markdown",
   "metadata": {},
   "source": [
    "We gaan nu de kwaliteit van het model berekenen op basis van de data uit de testset. "
   ]
  },
  {
   "cell_type": "code",
   "execution_count": 132,
   "metadata": {},
   "outputs": [
    {
     "data": {
      "text/plain": [
       "0.17942720741894747"
      ]
     },
     "execution_count": 132,
     "metadata": {},
     "output_type": "execute_result"
    }
   ],
   "source": [
    "linreg.score(X_test,y_test)"
   ]
  },
  {
   "cell_type": "markdown",
   "metadata": {},
   "source": [
    "De score van het model is 0.04, dat deze score zo dicht bij 0 ligt wil eigenlijk zeggen dat er geen lineair verband te leggen is tussen de features en de target variabelen. "
   ]
  },
  {
   "cell_type": "code",
   "execution_count": 133,
   "metadata": {},
   "outputs": [],
   "source": [
    "y_pred = linreg.predict(X_test)"
   ]
  },
  {
   "cell_type": "markdown",
   "metadata": {},
   "source": [
    "De mean squared error is de gemiddelde afwijking van de voorspelde waarden. Je wilt dit getal zo laag mogelijk hebben omdat het dus een error aangeeft. "
   ]
  },
  {
   "cell_type": "code",
   "execution_count": 134,
   "metadata": {},
   "outputs": [
    {
     "data": {
      "text/plain": [
       "2.7598026655957906"
      ]
     },
     "execution_count": 134,
     "metadata": {},
     "output_type": "execute_result"
    }
   ],
   "source": [
    "np.sqrt(mean_squared_error(y_test,y_pred))"
   ]
  },
  {
   "cell_type": "markdown",
   "metadata": {},
   "source": [
    "### Correlatie"
   ]
  },
  {
   "cell_type": "markdown",
   "metadata": {},
   "source": [
    "Correlatie toont de samenhang tussen variabelen. Hiervoor gebruiken we wederom de Zscore. Bij een grote correlatie kun je aan de hand van de ene variabele heel goed de andere voorspellen, bij een kleine correlatie gaat dit (bijna) niet. "
   ]
  },
  {
   "cell_type": "markdown",
   "metadata": {},
   "source": [
    "Correlatie kan positief en negatief zijn. Positieve correlatie wil zeggen dat wanneer X toeneemt, Y ook toeneemt. Negatieve correlatie wil zeggen dat wanneer X toeneemt, Y afneemt. Omdat een correlatie tussen de -0.4 en 0.4 zo klein is, kun je eigenlijk niet echt spreken van samenhang. "
   ]
  },
  {
   "cell_type": "code",
   "execution_count": 135,
   "metadata": {
    "scrolled": true
   },
   "outputs": [
    {
     "data": {
      "text/html": [
       "<div>\n",
       "<style scoped>\n",
       "    .dataframe tbody tr th:only-of-type {\n",
       "        vertical-align: middle;\n",
       "    }\n",
       "\n",
       "    .dataframe tbody tr th {\n",
       "        vertical-align: top;\n",
       "    }\n",
       "\n",
       "    .dataframe thead th {\n",
       "        text-align: right;\n",
       "    }\n",
       "</style>\n",
       "<table border=\"1\" class=\"dataframe\">\n",
       "  <thead>\n",
       "    <tr style=\"text-align: right;\">\n",
       "      <th></th>\n",
       "      <th>id</th>\n",
       "      <th>points</th>\n",
       "      <th>price</th>\n",
       "      <th>fixed acidity</th>\n",
       "      <th>volatile acidity</th>\n",
       "      <th>citric acid</th>\n",
       "      <th>residual sugar</th>\n",
       "      <th>chlorides</th>\n",
       "      <th>free sulfur dioxide</th>\n",
       "      <th>total sulfur dioxide</th>\n",
       "      <th>density</th>\n",
       "      <th>pH</th>\n",
       "      <th>sulphates</th>\n",
       "      <th>alcohol</th>\n",
       "    </tr>\n",
       "  </thead>\n",
       "  <tbody>\n",
       "    <tr>\n",
       "      <th>id</th>\n",
       "      <td>1.000000</td>\n",
       "      <td>0.020210</td>\n",
       "      <td>-0.025849</td>\n",
       "      <td>-0.022630</td>\n",
       "      <td>-0.060455</td>\n",
       "      <td>-0.008533</td>\n",
       "      <td>0.004168</td>\n",
       "      <td>0.027883</td>\n",
       "      <td>-0.017302</td>\n",
       "      <td>-0.047292</td>\n",
       "      <td>-0.041125</td>\n",
       "      <td>-0.011499</td>\n",
       "      <td>0.028872</td>\n",
       "      <td>-0.026607</td>\n",
       "    </tr>\n",
       "    <tr>\n",
       "      <th>points</th>\n",
       "      <td>0.020210</td>\n",
       "      <td>1.000000</td>\n",
       "      <td>0.586486</td>\n",
       "      <td>0.090071</td>\n",
       "      <td>-0.341131</td>\n",
       "      <td>0.185946</td>\n",
       "      <td>-0.002561</td>\n",
       "      <td>-0.132438</td>\n",
       "      <td>-0.059912</td>\n",
       "      <td>-0.198235</td>\n",
       "      <td>-0.042680</td>\n",
       "      <td>-0.021553</td>\n",
       "      <td>0.205161</td>\n",
       "      <td>0.473751</td>\n",
       "    </tr>\n",
       "    <tr>\n",
       "      <th>price</th>\n",
       "      <td>-0.025849</td>\n",
       "      <td>0.586486</td>\n",
       "      <td>1.000000</td>\n",
       "      <td>0.031478</td>\n",
       "      <td>-0.182749</td>\n",
       "      <td>0.117633</td>\n",
       "      <td>0.009046</td>\n",
       "      <td>-0.088986</td>\n",
       "      <td>-0.035449</td>\n",
       "      <td>-0.117392</td>\n",
       "      <td>-0.037046</td>\n",
       "      <td>-0.003534</td>\n",
       "      <td>0.100095</td>\n",
       "      <td>0.351717</td>\n",
       "    </tr>\n",
       "    <tr>\n",
       "      <th>fixed acidity</th>\n",
       "      <td>-0.022630</td>\n",
       "      <td>0.090071</td>\n",
       "      <td>0.031478</td>\n",
       "      <td>1.000000</td>\n",
       "      <td>-0.251469</td>\n",
       "      <td>0.658574</td>\n",
       "      <td>0.122001</td>\n",
       "      <td>0.085792</td>\n",
       "      <td>-0.146259</td>\n",
       "      <td>-0.103413</td>\n",
       "      <td>0.259202</td>\n",
       "      <td>-0.683750</td>\n",
       "      <td>0.179621</td>\n",
       "      <td>-0.033511</td>\n",
       "    </tr>\n",
       "    <tr>\n",
       "      <th>volatile acidity</th>\n",
       "      <td>-0.060455</td>\n",
       "      <td>-0.341131</td>\n",
       "      <td>-0.182749</td>\n",
       "      <td>-0.251469</td>\n",
       "      <td>1.000000</td>\n",
       "      <td>-0.520726</td>\n",
       "      <td>-0.001796</td>\n",
       "      <td>0.057571</td>\n",
       "      <td>0.004527</td>\n",
       "      <td>0.090757</td>\n",
       "      <td>0.024151</td>\n",
       "      <td>0.235531</td>\n",
       "      <td>-0.249800</td>\n",
       "      <td>-0.202710</td>\n",
       "    </tr>\n",
       "    <tr>\n",
       "      <th>citric acid</th>\n",
       "      <td>-0.008533</td>\n",
       "      <td>0.185946</td>\n",
       "      <td>0.117633</td>\n",
       "      <td>0.658574</td>\n",
       "      <td>-0.520726</td>\n",
       "      <td>1.000000</td>\n",
       "      <td>0.115617</td>\n",
       "      <td>0.198535</td>\n",
       "      <td>-0.086514</td>\n",
       "      <td>-0.027528</td>\n",
       "      <td>0.081946</td>\n",
       "      <td>-0.498958</td>\n",
       "      <td>0.296286</td>\n",
       "      <td>0.164078</td>\n",
       "    </tr>\n",
       "    <tr>\n",
       "      <th>residual sugar</th>\n",
       "      <td>0.004168</td>\n",
       "      <td>-0.002561</td>\n",
       "      <td>0.009046</td>\n",
       "      <td>0.122001</td>\n",
       "      <td>-0.001796</td>\n",
       "      <td>0.115617</td>\n",
       "      <td>1.000000</td>\n",
       "      <td>0.032883</td>\n",
       "      <td>0.196488</td>\n",
       "      <td>0.201968</td>\n",
       "      <td>0.283973</td>\n",
       "      <td>-0.080360</td>\n",
       "      <td>0.005866</td>\n",
       "      <td>0.042495</td>\n",
       "    </tr>\n",
       "    <tr>\n",
       "      <th>chlorides</th>\n",
       "      <td>0.027883</td>\n",
       "      <td>-0.132438</td>\n",
       "      <td>-0.088986</td>\n",
       "      <td>0.085792</td>\n",
       "      <td>0.057571</td>\n",
       "      <td>0.198535</td>\n",
       "      <td>0.032883</td>\n",
       "      <td>1.000000</td>\n",
       "      <td>0.011536</td>\n",
       "      <td>0.059917</td>\n",
       "      <td>0.070043</td>\n",
       "      <td>-0.260800</td>\n",
       "      <td>0.373699</td>\n",
       "      <td>-0.214887</td>\n",
       "    </tr>\n",
       "    <tr>\n",
       "      <th>free sulfur dioxide</th>\n",
       "      <td>-0.017302</td>\n",
       "      <td>-0.059912</td>\n",
       "      <td>-0.035449</td>\n",
       "      <td>-0.146259</td>\n",
       "      <td>0.004527</td>\n",
       "      <td>-0.086514</td>\n",
       "      <td>0.196488</td>\n",
       "      <td>0.011536</td>\n",
       "      <td>1.000000</td>\n",
       "      <td>0.675317</td>\n",
       "      <td>0.095521</td>\n",
       "      <td>0.074212</td>\n",
       "      <td>0.057024</td>\n",
       "      <td>-0.083033</td>\n",
       "    </tr>\n",
       "    <tr>\n",
       "      <th>total sulfur dioxide</th>\n",
       "      <td>-0.047292</td>\n",
       "      <td>-0.198235</td>\n",
       "      <td>-0.117392</td>\n",
       "      <td>-0.103413</td>\n",
       "      <td>0.090757</td>\n",
       "      <td>-0.027528</td>\n",
       "      <td>0.201968</td>\n",
       "      <td>0.059917</td>\n",
       "      <td>0.675317</td>\n",
       "      <td>1.000000</td>\n",
       "      <td>0.045214</td>\n",
       "      <td>-0.070769</td>\n",
       "      <td>0.053834</td>\n",
       "      <td>-0.247554</td>\n",
       "    </tr>\n",
       "    <tr>\n",
       "      <th>density</th>\n",
       "      <td>-0.041125</td>\n",
       "      <td>-0.042680</td>\n",
       "      <td>-0.037046</td>\n",
       "      <td>0.259202</td>\n",
       "      <td>0.024151</td>\n",
       "      <td>0.081946</td>\n",
       "      <td>0.283973</td>\n",
       "      <td>0.070043</td>\n",
       "      <td>0.095521</td>\n",
       "      <td>0.045214</td>\n",
       "      <td>1.000000</td>\n",
       "      <td>-0.129954</td>\n",
       "      <td>0.038108</td>\n",
       "      <td>-0.045386</td>\n",
       "    </tr>\n",
       "    <tr>\n",
       "      <th>pH</th>\n",
       "      <td>-0.011499</td>\n",
       "      <td>-0.021553</td>\n",
       "      <td>-0.003534</td>\n",
       "      <td>-0.683750</td>\n",
       "      <td>0.235531</td>\n",
       "      <td>-0.498958</td>\n",
       "      <td>-0.080360</td>\n",
       "      <td>-0.260800</td>\n",
       "      <td>0.074212</td>\n",
       "      <td>-0.070769</td>\n",
       "      <td>-0.129954</td>\n",
       "      <td>1.000000</td>\n",
       "      <td>-0.213464</td>\n",
       "      <td>0.188427</td>\n",
       "    </tr>\n",
       "    <tr>\n",
       "      <th>sulphates</th>\n",
       "      <td>0.028872</td>\n",
       "      <td>0.205161</td>\n",
       "      <td>0.100095</td>\n",
       "      <td>0.179621</td>\n",
       "      <td>-0.249800</td>\n",
       "      <td>0.296286</td>\n",
       "      <td>0.005866</td>\n",
       "      <td>0.373699</td>\n",
       "      <td>0.057024</td>\n",
       "      <td>0.053834</td>\n",
       "      <td>0.038108</td>\n",
       "      <td>-0.213464</td>\n",
       "      <td>1.000000</td>\n",
       "      <td>0.090077</td>\n",
       "    </tr>\n",
       "    <tr>\n",
       "      <th>alcohol</th>\n",
       "      <td>-0.026607</td>\n",
       "      <td>0.473751</td>\n",
       "      <td>0.351717</td>\n",
       "      <td>-0.033511</td>\n",
       "      <td>-0.202710</td>\n",
       "      <td>0.164078</td>\n",
       "      <td>0.042495</td>\n",
       "      <td>-0.214887</td>\n",
       "      <td>-0.083033</td>\n",
       "      <td>-0.247554</td>\n",
       "      <td>-0.045386</td>\n",
       "      <td>0.188427</td>\n",
       "      <td>0.090077</td>\n",
       "      <td>1.000000</td>\n",
       "    </tr>\n",
       "  </tbody>\n",
       "</table>\n",
       "</div>"
      ],
      "text/plain": [
       "                            id    points     price  fixed acidity  \\\n",
       "id                    1.000000  0.020210 -0.025849      -0.022630   \n",
       "points                0.020210  1.000000  0.586486       0.090071   \n",
       "price                -0.025849  0.586486  1.000000       0.031478   \n",
       "fixed acidity        -0.022630  0.090071  0.031478       1.000000   \n",
       "volatile acidity     -0.060455 -0.341131 -0.182749      -0.251469   \n",
       "citric acid          -0.008533  0.185946  0.117633       0.658574   \n",
       "residual sugar        0.004168 -0.002561  0.009046       0.122001   \n",
       "chlorides             0.027883 -0.132438 -0.088986       0.085792   \n",
       "free sulfur dioxide  -0.017302 -0.059912 -0.035449      -0.146259   \n",
       "total sulfur dioxide -0.047292 -0.198235 -0.117392      -0.103413   \n",
       "density              -0.041125 -0.042680 -0.037046       0.259202   \n",
       "pH                   -0.011499 -0.021553 -0.003534      -0.683750   \n",
       "sulphates             0.028872  0.205161  0.100095       0.179621   \n",
       "alcohol              -0.026607  0.473751  0.351717      -0.033511   \n",
       "\n",
       "                      volatile acidity  citric acid  residual sugar  \\\n",
       "id                           -0.060455    -0.008533        0.004168   \n",
       "points                       -0.341131     0.185946       -0.002561   \n",
       "price                        -0.182749     0.117633        0.009046   \n",
       "fixed acidity                -0.251469     0.658574        0.122001   \n",
       "volatile acidity              1.000000    -0.520726       -0.001796   \n",
       "citric acid                  -0.520726     1.000000        0.115617   \n",
       "residual sugar               -0.001796     0.115617        1.000000   \n",
       "chlorides                     0.057571     0.198535        0.032883   \n",
       "free sulfur dioxide           0.004527    -0.086514        0.196488   \n",
       "total sulfur dioxide          0.090757    -0.027528        0.201968   \n",
       "density                       0.024151     0.081946        0.283973   \n",
       "pH                            0.235531    -0.498958       -0.080360   \n",
       "sulphates                    -0.249800     0.296286        0.005866   \n",
       "alcohol                      -0.202710     0.164078        0.042495   \n",
       "\n",
       "                      chlorides  free sulfur dioxide  total sulfur dioxide  \\\n",
       "id                     0.027883            -0.017302             -0.047292   \n",
       "points                -0.132438            -0.059912             -0.198235   \n",
       "price                 -0.088986            -0.035449             -0.117392   \n",
       "fixed acidity          0.085792            -0.146259             -0.103413   \n",
       "volatile acidity       0.057571             0.004527              0.090757   \n",
       "citric acid            0.198535            -0.086514             -0.027528   \n",
       "residual sugar         0.032883             0.196488              0.201968   \n",
       "chlorides              1.000000             0.011536              0.059917   \n",
       "free sulfur dioxide    0.011536             1.000000              0.675317   \n",
       "total sulfur dioxide   0.059917             0.675317              1.000000   \n",
       "density                0.070043             0.095521              0.045214   \n",
       "pH                    -0.260800             0.074212             -0.070769   \n",
       "sulphates              0.373699             0.057024              0.053834   \n",
       "alcohol               -0.214887            -0.083033             -0.247554   \n",
       "\n",
       "                       density        pH  sulphates   alcohol  \n",
       "id                   -0.041125 -0.011499   0.028872 -0.026607  \n",
       "points               -0.042680 -0.021553   0.205161  0.473751  \n",
       "price                -0.037046 -0.003534   0.100095  0.351717  \n",
       "fixed acidity         0.259202 -0.683750   0.179621 -0.033511  \n",
       "volatile acidity      0.024151  0.235531  -0.249800 -0.202710  \n",
       "citric acid           0.081946 -0.498958   0.296286  0.164078  \n",
       "residual sugar        0.283973 -0.080360   0.005866  0.042495  \n",
       "chlorides             0.070043 -0.260800   0.373699 -0.214887  \n",
       "free sulfur dioxide   0.095521  0.074212   0.057024 -0.083033  \n",
       "total sulfur dioxide  0.045214 -0.070769   0.053834 -0.247554  \n",
       "density               1.000000 -0.129954   0.038108 -0.045386  \n",
       "pH                   -0.129954  1.000000  -0.213464  0.188427  \n",
       "sulphates             0.038108 -0.213464   1.000000  0.090077  \n",
       "alcohol              -0.045386  0.188427   0.090077  1.000000  "
      ]
     },
     "execution_count": 135,
     "metadata": {},
     "output_type": "execute_result"
    }
   ],
   "source": [
    "wineZscore.corr()"
   ]
  },
  {
   "cell_type": "markdown",
   "metadata": {},
   "source": [
    "__Correlatie tussen de variabelen__"
   ]
  },
  {
   "cell_type": "markdown",
   "metadata": {},
   "source": [
    "We gaan kijken naar de samenhang tussen variabelen onderling. Zowel featurue variabelen met elkaar, als target en feature variabelen. Hieronder zien we welke combinatie van variabelen met meest correleren met elkaar.  "
   ]
  },
  {
   "cell_type": "code",
   "execution_count": 136,
   "metadata": {},
   "outputs": [
    {
     "data": {
      "text/plain": [
       "citric acid           volatile acidity        0.520726\n",
       "volatile acidity      citric acid             0.520726\n",
       "price                 points                  0.586486\n",
       "points                price                   0.586486\n",
       "citric acid           fixed acidity           0.658574\n",
       "fixed acidity         citric acid             0.658574\n",
       "total sulfur dioxide  free sulfur dioxide     0.675317\n",
       "free sulfur dioxide   total sulfur dioxide    0.675317\n",
       "fixed acidity         pH                      0.683750\n",
       "pH                    fixed acidity           0.683750\n",
       "dtype: float64"
      ]
     },
     "execution_count": 136,
     "metadata": {},
     "output_type": "execute_result"
    }
   ],
   "source": [
    "c = wineZscore.corr().abs()\n",
    "s = c.unstack()\n",
    "so = s.sort_values(kind=\"quicksort\")\n",
    "so[172:182]"
   ]
  },
  {
   "cell_type": "markdown",
   "metadata": {},
   "source": [
    "Points en price zijn redelijk gecorreleert, dit kan interessant zijn maar helaas is price niet een feature variabelen. Voor deze onderzoeksvraag hebben we daar dus helaas niet heel veel aan. Wel zien we hier enigzins een positieve correlatie. "
   ]
  },
  {
   "cell_type": "code",
   "execution_count": 137,
   "metadata": {},
   "outputs": [
    {
     "data": {
      "text/plain": [
       "<matplotlib.collections.PathCollection at 0x7f9ca90312b0>"
      ]
     },
     "execution_count": 137,
     "metadata": {},
     "output_type": "execute_result"
    },
    {
     "data": {
      "image/png": "[encoded data removed]",
      "text/plain": [
       "<Figure size 432x288 with 1 Axes>"
      ]
     },
     "metadata": {},
     "output_type": "display_data"
    }
   ],
   "source": [
    "plt.scatter(wine.points, wine.price)"
   ]
  },
  {
   "cell_type": "markdown",
   "metadata": {},
   "source": [
    "Verder zien we in de tabel hierboven nog dat fixed acidity en pH sterk gecorreleert zijn. Bij sterke correlatie tussen twee feature variabelen kun je gaan nadenken of dit wijst op redundantie, misschien heb je maar 1 van de twee variabelen nodig als ze toch bijna hetzelfde aangeven. Ook kunnen de twee variabelen juist elkaar tegen werken. "
   ]
  },
  {
   "cell_type": "code",
   "execution_count": 138,
   "metadata": {},
   "outputs": [],
   "source": [
    "fa = wine['fixed acidity']"
   ]
  },
  {
   "cell_type": "code",
   "execution_count": 139,
   "metadata": {},
   "outputs": [
    {
     "data": {
      "text/plain": [
       "<matplotlib.collections.PathCollection at 0x7f9cd8397ac0>"
      ]
     },
     "execution_count": 139,
     "metadata": {},
     "output_type": "execute_result"
    },
    {
     "data": {
      "image/png": "[encoded data removed]",
      "text/plain": [
       "<Figure size 432x288 with 1 Axes>"
      ]
     },
     "metadata": {},
     "output_type": "display_data"
    }
   ],
   "source": [
    "plt.scatter(wine.pH, fa)"
   ]
  },
  {
   "cell_type": "markdown",
   "metadata": {},
   "source": [
    "#### Conclusie: tussen de feature en de target variabelen is weinig samenhang te vinden. Is het mogelijk om de score van de wijn te voorspellen aan de hand van de chemische samenstelling? Nee, eigenlijk niet. Misschien kunnen we beter de score van de wijn gaan voorspellen aan de hand van de prijs. "
   ]
  },
  {
   "cell_type": "markdown",
   "metadata": {},
   "source": [
    "# Onderzoeksvraag 3: Kun je op basis van bepaalde keywords in de beschrijving een voorspelling doen over hoe hoog de score van deze wijn is? (Supervised - Regression/ Datavisualisatie)"
   ]
  },
  {
   "cell_type": "markdown",
   "metadata": {},
   "source": [
    "We willen onderzoeken of je de score van de wijn kunt bepalen aan de hand van sommige keywords die gevonden zijn in de titels en de beschrijving."
   ]
  },
  {
   "cell_type": "code",
   "execution_count": 140,
   "metadata": {},
   "outputs": [
    {
     "data": {
      "text/html": [
       "<div>\n",
       "<style scoped>\n",
       "    .dataframe tbody tr th:only-of-type {\n",
       "        vertical-align: middle;\n",
       "    }\n",
       "\n",
       "    .dataframe tbody tr th {\n",
       "        vertical-align: top;\n",
       "    }\n",
       "\n",
       "    .dataframe thead th {\n",
       "        text-align: right;\n",
       "    }\n",
       "</style>\n",
       "<table border=\"1\" class=\"dataframe\">\n",
       "  <thead>\n",
       "    <tr style=\"text-align: right;\">\n",
       "      <th></th>\n",
       "      <th>title</th>\n",
       "      <th>description</th>\n",
       "    </tr>\n",
       "  </thead>\n",
       "  <tbody>\n",
       "    <tr>\n",
       "      <th>0</th>\n",
       "      <td>Quinta dos Avidagos 2011 Avidagos Red (Douro)</td>\n",
       "      <td>This is ripe and fruity, a wine that is smooth...</td>\n",
       "    </tr>\n",
       "    <tr>\n",
       "      <th>1</th>\n",
       "      <td>Casa Santa Vitória 2013 Grande Reserva Tinto R...</td>\n",
       "      <td>From an estate in the south of the Alentejo, t...</td>\n",
       "    </tr>\n",
       "    <tr>\n",
       "      <th>2</th>\n",
       "      <td>Adega Cooperativa de Borba 2012 Montes Claros ...</td>\n",
       "      <td>A year in wood and 30 months in bottle before ...</td>\n",
       "    </tr>\n",
       "    <tr>\n",
       "      <th>3</th>\n",
       "      <td>Quinta de Foz de Arouce 2013 Red (Beira Atlant...</td>\n",
       "      <td>Wood aging gives this ripe blend of Baga and T...</td>\n",
       "    </tr>\n",
       "    <tr>\n",
       "      <th>4</th>\n",
       "      <td>Herdade Grande 2010 Gerações Colheita Seleccio...</td>\n",
       "      <td>A powerful wine, richly structured and full of...</td>\n",
       "    </tr>\n",
       "    <tr>\n",
       "      <th>...</th>\n",
       "      <td>...</td>\n",
       "      <td>...</td>\n",
       "    </tr>\n",
       "    <tr>\n",
       "      <th>2460</th>\n",
       "      <td>Quinta de Lemos 2010 Dona Georgina Red (Dão)</td>\n",
       "      <td>Two classic Dão grapes, Touriga Nacional and T...</td>\n",
       "    </tr>\n",
       "    <tr>\n",
       "      <th>2461</th>\n",
       "      <td>Casca Wines 2011 Monte Cascas Grande Reserva R...</td>\n",
       "      <td>Old vines in a field blend give a rich structu...</td>\n",
       "    </tr>\n",
       "    <tr>\n",
       "      <th>2462</th>\n",
       "      <td>Quinta da Pacheca 2013 Pacheca Superior Red (D...</td>\n",
       "      <td>This rich wine has a firm structure as well as...</td>\n",
       "    </tr>\n",
       "    <tr>\n",
       "      <th>2463</th>\n",
       "      <td>Seacampo 2011 Reserva Red (Dão)</td>\n",
       "      <td>This mature wine that has 50% Touriga Nacional...</td>\n",
       "    </tr>\n",
       "    <tr>\n",
       "      <th>2464</th>\n",
       "      <td>Sogrape 2014 Silk &amp; Spice Red (Portuguese Tabl...</td>\n",
       "      <td>Celebrating the Portuguese discovery of the sp...</td>\n",
       "    </tr>\n",
       "  </tbody>\n",
       "</table>\n",
       "<p>2465 rows × 2 columns</p>\n",
       "</div>"
      ],
      "text/plain": [
       "                                                  title  \\\n",
       "0         Quinta dos Avidagos 2011 Avidagos Red (Douro)   \n",
       "1     Casa Santa Vitória 2013 Grande Reserva Tinto R...   \n",
       "2     Adega Cooperativa de Borba 2012 Montes Claros ...   \n",
       "3     Quinta de Foz de Arouce 2013 Red (Beira Atlant...   \n",
       "4     Herdade Grande 2010 Gerações Colheita Seleccio...   \n",
       "...                                                 ...   \n",
       "2460       Quinta de Lemos 2010 Dona Georgina Red (Dão)   \n",
       "2461  Casca Wines 2011 Monte Cascas Grande Reserva R...   \n",
       "2462  Quinta da Pacheca 2013 Pacheca Superior Red (D...   \n",
       "2463                    Seacampo 2011 Reserva Red (Dão)   \n",
       "2464  Sogrape 2014 Silk & Spice Red (Portuguese Tabl...   \n",
       "\n",
       "                                            description  \n",
       "0     This is ripe and fruity, a wine that is smooth...  \n",
       "1     From an estate in the south of the Alentejo, t...  \n",
       "2     A year in wood and 30 months in bottle before ...  \n",
       "3     Wood aging gives this ripe blend of Baga and T...  \n",
       "4     A powerful wine, richly structured and full of...  \n",
       "...                                                 ...  \n",
       "2460  Two classic Dão grapes, Touriga Nacional and T...  \n",
       "2461  Old vines in a field blend give a rich structu...  \n",
       "2462  This rich wine has a firm structure as well as...  \n",
       "2463  This mature wine that has 50% Touriga Nacional...  \n",
       "2464  Celebrating the Portuguese discovery of the sp...  \n",
       "\n",
       "[2465 rows x 2 columns]"
      ]
     },
     "execution_count": 140,
     "metadata": {},
     "output_type": "execute_result"
    }
   ],
   "source": [
    "wine[['title','description']]"
   ]
  },
  {
   "cell_type": "code",
   "execution_count": 141,
   "metadata": {},
   "outputs": [],
   "source": [
    "wordsPerWine = wine[['title','description']]\n",
    "allWordsSeperated = np.array(' '.join(wordsPerWine.to_numpy().flatten()).replace(',','').split(\" \"))"
   ]
  },
  {
   "cell_type": "code",
   "execution_count": 142,
   "metadata": {},
   "outputs": [
    {
     "data": {
      "text/plain": [
       "(array(['quinta', 'dos', 'avidagos', '2011', 'avidagos', 'red', '(douro)',\n",
       "        'this', 'is', 'ripe', 'and', 'fruity', 'a', 'wine', 'that', 'is',\n",
       "        'smooth', 'while', 'still', 'structured'], dtype='<U29'),\n",
       " 'Amount of words',\n",
       " (118188,))"
      ]
     },
     "execution_count": 142,
     "metadata": {},
     "output_type": "execute_result"
    }
   ],
   "source": [
    "allWordsSeperated = np.char.lower(allWordsSeperated)\n",
    "(allWordsSeperated[:20],'Amount of words',allWordsSeperated.shape)"
   ]
  },
  {
   "cell_type": "code",
   "execution_count": 143,
   "metadata": {},
   "outputs": [],
   "source": [
    "unique, counts = np.array(np.unique(allWordsSeperated, return_counts=True))\n",
    "wordCount = np.array([np.array(unique), np.array(counts)])\n",
    "wordFrame = pd.DataFrame(wordCount[0],wordCount[1]).reset_index()\n",
    "wordFrame.columns = ['count','word']"
   ]
  },
  {
   "cell_type": "code",
   "execution_count": 144,
   "metadata": {},
   "outputs": [
    {
     "name": "stdout",
     "output_type": "stream",
     "text": [
      "(4524, 2)\n"
     ]
    },
    {
     "data": {
      "text/html": [
       "<div>\n",
       "<style scoped>\n",
       "    .dataframe tbody tr th:only-of-type {\n",
       "        vertical-align: middle;\n",
       "    }\n",
       "\n",
       "    .dataframe tbody tr th {\n",
       "        vertical-align: top;\n",
       "    }\n",
       "\n",
       "    .dataframe thead th {\n",
       "        text-align: right;\n",
       "    }\n",
       "</style>\n",
       "<table border=\"1\" class=\"dataframe\">\n",
       "  <thead>\n",
       "    <tr style=\"text-align: right;\">\n",
       "      <th></th>\n",
       "      <th>count</th>\n",
       "      <th>word</th>\n",
       "    </tr>\n",
       "  </thead>\n",
       "  <tbody>\n",
       "    <tr>\n",
       "      <th>4014</th>\n",
       "      <td>1719</td>\n",
       "      <td>tannins</td>\n",
       "    </tr>\n",
       "    <tr>\n",
       "      <th>1361</th>\n",
       "      <td>1636</td>\n",
       "      <td>drink</td>\n",
       "    </tr>\n",
       "    <tr>\n",
       "      <th>1819</th>\n",
       "      <td>1303</td>\n",
       "      <td>fruits</td>\n",
       "    </tr>\n",
       "    <tr>\n",
       "      <th>228</th>\n",
       "      <td>1170</td>\n",
       "      <td>acidity</td>\n",
       "    </tr>\n",
       "    <tr>\n",
       "      <th>3414</th>\n",
       "      <td>1111</td>\n",
       "      <td>ripe</td>\n",
       "    </tr>\n",
       "    <tr>\n",
       "      <th>1809</th>\n",
       "      <td>972</td>\n",
       "      <td>fruit</td>\n",
       "    </tr>\n",
       "    <tr>\n",
       "      <th>610</th>\n",
       "      <td>951</td>\n",
       "      <td>black</td>\n",
       "    </tr>\n",
       "    <tr>\n",
       "      <th>29</th>\n",
       "      <td>880</td>\n",
       "      <td>(douro)</td>\n",
       "    </tr>\n",
       "    <tr>\n",
       "      <th>3401</th>\n",
       "      <td>858</td>\n",
       "      <td>rich</td>\n",
       "    </tr>\n",
       "    <tr>\n",
       "      <th>3247</th>\n",
       "      <td>794</td>\n",
       "      <td>quinta</td>\n",
       "    </tr>\n",
       "  </tbody>\n",
       "</table>\n",
       "</div>"
      ],
      "text/plain": [
       "      count     word\n",
       "4014   1719  tannins\n",
       "1361   1636    drink\n",
       "1819   1303   fruits\n",
       "228    1170  acidity\n",
       "3414   1111     ripe\n",
       "1809    972    fruit\n",
       "610     951    black\n",
       "29      880  (douro)\n",
       "3401    858     rich\n",
       "3247    794   quinta"
      ]
     },
     "execution_count": 144,
     "metadata": {},
     "output_type": "execute_result"
    }
   ],
   "source": [
    "stop_words = set(stopwords.words('english'))\n",
    "stop_words.update(['wine','red'])\n",
    "\n",
    "wordFrame['count'] = wordFrame['count'].astype(int)\n",
    "print(wordFrame.shape)\n",
    "wordFrame.drop(wordFrame[ (wordFrame['word'].isin(stop_words)) | (wordFrame['count'] < 50)].index , inplace=True)\n",
    "wordFrame.sort_values(by=['count'], ascending=False)[:10]"
   ]
  },
  {
   "cell_type": "code",
   "execution_count": 145,
   "metadata": {},
   "outputs": [
    {
     "data": {
      "text/plain": [
       "(247, 2)"
      ]
     },
     "execution_count": 145,
     "metadata": {},
     "output_type": "execute_result"
    }
   ],
   "source": [
    "wordFrame.shape"
   ]
  },
  {
   "cell_type": "code",
   "execution_count": 146,
   "metadata": {},
   "outputs": [
    {
     "data": {
      "text/plain": [
       "<AxesSubplot:>"
      ]
     },
     "execution_count": 146,
     "metadata": {},
     "output_type": "execute_result"
    },
    {
     "data": {
      "image/png": "[encoded data removed]",
      "text/plain": [
       "<Figure size 1440x720 with 1 Axes>"
      ]
     },
     "metadata": {},
     "output_type": "display_data"
    }
   ],
   "source": [
    "wordFrame.boxplot(figsize=(20,10), column='count')"
   ]
  },
  {
   "cell_type": "markdown",
   "metadata": {},
   "source": [
    "# Onderzoeksvraag 2: Als we wijnen categoriseren op basis van de chemische samenstelling, zijn er bepaalde categorieën die mannelijke proevers anders beoordelen dan vrouwelijke proevers?\n"
   ]
  },
  {
   "cell_type": "markdown",
   "metadata": {},
   "source": [
    "We willen bij deze onderzoeksvraag mannelijke en vrouwelijke proevers vergelijken door te kijken of de ene groep een bepaalde voorkeur heeft voor een bepaalde categorie wijn."
   ]
  },
  {
   "cell_type": "markdown",
   "metadata": {},
   "source": [
    "Eerst gaan we de dataset filteren op het jaar. Aangezien de namen in de names.csv file teruggaan tot aan 1880, en deze namen niet allemaal even bruikbaar zijn kijken we alleen naar het laatste jaar namen van deze dataset (2014). "
   ]
  },
  {
   "cell_type": "code",
   "execution_count": 160,
   "metadata": {},
   "outputs": [
    {
     "data": {
      "text/html": [
       "<div>\n",
       "<style scoped>\n",
       "    .dataframe tbody tr th:only-of-type {\n",
       "        vertical-align: middle;\n",
       "    }\n",
       "\n",
       "    .dataframe tbody tr th {\n",
       "        vertical-align: top;\n",
       "    }\n",
       "\n",
       "    .dataframe thead th {\n",
       "        text-align: right;\n",
       "    }\n",
       "</style>\n",
       "<table border=\"1\" class=\"dataframe\">\n",
       "  <thead>\n",
       "    <tr style=\"text-align: right;\">\n",
       "      <th></th>\n",
       "      <th>Name</th>\n",
       "      <th>Year</th>\n",
       "      <th>Gender</th>\n",
       "      <th>Count</th>\n",
       "    </tr>\n",
       "  </thead>\n",
       "  <tbody>\n",
       "    <tr>\n",
       "      <th>1751999</th>\n",
       "      <td>Aaban</td>\n",
       "      <td>2012</td>\n",
       "      <td>M</td>\n",
       "      <td>11</td>\n",
       "    </tr>\n",
       "    <tr>\n",
       "      <th>1654052</th>\n",
       "      <td>Aaban</td>\n",
       "      <td>2009</td>\n",
       "      <td>M</td>\n",
       "      <td>6</td>\n",
       "    </tr>\n",
       "    <tr>\n",
       "      <th>1816887</th>\n",
       "      <td>Aaban</td>\n",
       "      <td>2014</td>\n",
       "      <td>M</td>\n",
       "      <td>16</td>\n",
       "    </tr>\n",
       "    <tr>\n",
       "      <th>1784281</th>\n",
       "      <td>Aaban</td>\n",
       "      <td>2013</td>\n",
       "      <td>M</td>\n",
       "      <td>14</td>\n",
       "    </tr>\n",
       "    <tr>\n",
       "      <th>1685518</th>\n",
       "      <td>Aaban</td>\n",
       "      <td>2010</td>\n",
       "      <td>M</td>\n",
       "      <td>9</td>\n",
       "    </tr>\n",
       "    <tr>\n",
       "      <th>...</th>\n",
       "      <td>...</td>\n",
       "      <td>...</td>\n",
       "      <td>...</td>\n",
       "      <td>...</td>\n",
       "    </tr>\n",
       "    <tr>\n",
       "      <th>1654051</th>\n",
       "      <td>Zytavious</td>\n",
       "      <td>2009</td>\n",
       "      <td>M</td>\n",
       "      <td>7</td>\n",
       "    </tr>\n",
       "    <tr>\n",
       "      <th>1657591</th>\n",
       "      <td>Zyvion</td>\n",
       "      <td>2009</td>\n",
       "      <td>M</td>\n",
       "      <td>5</td>\n",
       "    </tr>\n",
       "    <tr>\n",
       "      <th>1674536</th>\n",
       "      <td>Zyyanna</td>\n",
       "      <td>2010</td>\n",
       "      <td>F</td>\n",
       "      <td>6</td>\n",
       "    </tr>\n",
       "    <tr>\n",
       "      <th>1823481</th>\n",
       "      <td>Zyyon</td>\n",
       "      <td>2014</td>\n",
       "      <td>M</td>\n",
       "      <td>6</td>\n",
       "    </tr>\n",
       "    <tr>\n",
       "      <th>1691632</th>\n",
       "      <td>Zzyzx</td>\n",
       "      <td>2010</td>\n",
       "      <td>M</td>\n",
       "      <td>5</td>\n",
       "    </tr>\n",
       "  </tbody>\n",
       "</table>\n",
       "<p>1825433 rows × 4 columns</p>\n",
       "</div>"
      ],
      "text/plain": [
       "              Name  Year Gender  Count\n",
       "1751999      Aaban  2012      M     11\n",
       "1654052      Aaban  2009      M      6\n",
       "1816887      Aaban  2014      M     16\n",
       "1784281      Aaban  2013      M     14\n",
       "1685518      Aaban  2010      M      9\n",
       "...            ...   ...    ...    ...\n",
       "1654051  Zytavious  2009      M      7\n",
       "1657591     Zyvion  2009      M      5\n",
       "1674536    Zyyanna  2010      F      6\n",
       "1823481      Zyyon  2014      M      6\n",
       "1691632      Zzyzx  2010      M      5\n",
       "\n",
       "[1825433 rows x 4 columns]"
      ]
     },
     "execution_count": 160,
     "metadata": {},
     "output_type": "execute_result"
    }
   ],
   "source": [
    "# name = name[name['Year'] >= 2014]\n",
    "name"
   ]
  },
  {
   "cell_type": "code",
   "execution_count": 163,
   "metadata": {},
   "outputs": [],
   "source": [
    "name.sort_values(by=['Count'],ascending=False, inplace=True)\n",
    "name.drop_duplicates(subset = ['Name'], keep = 'first', inplace = True)\n",
    "name.sort_values(by=['Name'], inplace=True)"
   ]
  },
  {
   "cell_type": "markdown",
   "metadata": {},
   "source": [
    "Nu gaan we onze twee datasets mergen. We doen een inner join op de twee kolommen waar de namen in staan en printen de eerste 5 records. "
   ]
  },
  {
   "cell_type": "code",
   "execution_count": 164,
   "metadata": {},
   "outputs": [
    {
     "data": {
      "text/html": [
       "<div>\n",
       "<style scoped>\n",
       "    .dataframe tbody tr th:only-of-type {\n",
       "        vertical-align: middle;\n",
       "    }\n",
       "\n",
       "    .dataframe tbody tr th {\n",
       "        vertical-align: top;\n",
       "    }\n",
       "\n",
       "    .dataframe thead th {\n",
       "        text-align: right;\n",
       "    }\n",
       "</style>\n",
       "<table border=\"1\" class=\"dataframe\">\n",
       "  <thead>\n",
       "    <tr style=\"text-align: right;\">\n",
       "      <th></th>\n",
       "      <th>id</th>\n",
       "      <th>country</th>\n",
       "      <th>description</th>\n",
       "      <th>designation</th>\n",
       "      <th>points</th>\n",
       "      <th>price</th>\n",
       "      <th>province</th>\n",
       "      <th>taster_name</th>\n",
       "      <th>title</th>\n",
       "      <th>variety</th>\n",
       "      <th>winery</th>\n",
       "      <th>fixed acidity</th>\n",
       "      <th>volatile acidity</th>\n",
       "      <th>citric acid</th>\n",
       "      <th>residual sugar</th>\n",
       "      <th>chlorides</th>\n",
       "      <th>free sulfur dioxide</th>\n",
       "      <th>total sulfur dioxide</th>\n",
       "      <th>density</th>\n",
       "      <th>pH</th>\n",
       "      <th>sulphates</th>\n",
       "      <th>alcohol</th>\n",
       "      <th>Name</th>\n",
       "      <th>Year</th>\n",
       "      <th>Gender</th>\n",
       "      <th>Count</th>\n",
       "    </tr>\n",
       "  </thead>\n",
       "  <tbody>\n",
       "    <tr>\n",
       "      <th>0</th>\n",
       "      <td>1</td>\n",
       "      <td>Portugal</td>\n",
       "      <td>This is ripe and fruity, a wine that is smooth...</td>\n",
       "      <td>Avidagos</td>\n",
       "      <td>87</td>\n",
       "      <td>15.0</td>\n",
       "      <td>Douro</td>\n",
       "      <td>Kerin</td>\n",
       "      <td>Quinta dos Avidagos 2011 Avidagos Red (Douro)</td>\n",
       "      <td>Portuguese Red</td>\n",
       "      <td>Quinta dos Avidagos</td>\n",
       "      <td>10.0</td>\n",
       "      <td>0.29</td>\n",
       "      <td>0.40</td>\n",
       "      <td>2.9</td>\n",
       "      <td>0.098</td>\n",
       "      <td>10.0</td>\n",
       "      <td>26.0</td>\n",
       "      <td>10.00600</td>\n",
       "      <td>3.48</td>\n",
       "      <td>0.91</td>\n",
       "      <td>9.7</td>\n",
       "      <td>Kerin</td>\n",
       "      <td>1981</td>\n",
       "      <td>F</td>\n",
       "      <td>43</td>\n",
       "    </tr>\n",
       "    <tr>\n",
       "      <th>1</th>\n",
       "      <td>2</td>\n",
       "      <td>Portugal</td>\n",
       "      <td>From an estate in the south of the Alentejo, t...</td>\n",
       "      <td>Grande Reserva Tinto</td>\n",
       "      <td>91</td>\n",
       "      <td>26.0</td>\n",
       "      <td>Alentejano</td>\n",
       "      <td>Roger</td>\n",
       "      <td>Casa Santa Vitória 2013 Grande Reserva Tinto R...</td>\n",
       "      <td>Portuguese Red</td>\n",
       "      <td>Casa Santa Vitória</td>\n",
       "      <td>8.3</td>\n",
       "      <td>0.26</td>\n",
       "      <td>0.37</td>\n",
       "      <td>1.4</td>\n",
       "      <td>0.076</td>\n",
       "      <td>8.0</td>\n",
       "      <td>23.0</td>\n",
       "      <td>0.99740</td>\n",
       "      <td>3.26</td>\n",
       "      <td>0.70</td>\n",
       "      <td>9.6</td>\n",
       "      <td>Roger</td>\n",
       "      <td>1953</td>\n",
       "      <td>M</td>\n",
       "      <td>13155</td>\n",
       "    </tr>\n",
       "    <tr>\n",
       "      <th>2</th>\n",
       "      <td>3</td>\n",
       "      <td>Portugal</td>\n",
       "      <td>A year in wood and 30 months in bottle before ...</td>\n",
       "      <td>Montes Claros Garrafeira</td>\n",
       "      <td>90</td>\n",
       "      <td>28.0</td>\n",
       "      <td>Alentejo</td>\n",
       "      <td>Paul</td>\n",
       "      <td>Adega Cooperativa de Borba 2012 Montes Claros ...</td>\n",
       "      <td>Portuguese Red</td>\n",
       "      <td>Adega Cooperativa de Borba</td>\n",
       "      <td>7.0</td>\n",
       "      <td>0.69</td>\n",
       "      <td>0.07</td>\n",
       "      <td>2.5</td>\n",
       "      <td>0.091</td>\n",
       "      <td>15.0</td>\n",
       "      <td>21.0</td>\n",
       "      <td>0.99572</td>\n",
       "      <td>3.38</td>\n",
       "      <td>0.60</td>\n",
       "      <td>11.3</td>\n",
       "      <td>Paul</td>\n",
       "      <td>1957</td>\n",
       "      <td>M</td>\n",
       "      <td>26987</td>\n",
       "    </tr>\n",
       "    <tr>\n",
       "      <th>3</th>\n",
       "      <td>4</td>\n",
       "      <td>Portugal</td>\n",
       "      <td>Wood aging gives this ripe blend of Baga and T...</td>\n",
       "      <td>NaN</td>\n",
       "      <td>90</td>\n",
       "      <td>20.0</td>\n",
       "      <td>Beira Atlantico</td>\n",
       "      <td>Alexander</td>\n",
       "      <td>Quinta de Foz de Arouce 2013 Red (Beira Atlant...</td>\n",
       "      <td>Portuguese Red</td>\n",
       "      <td>Quinta de Foz de Arouce</td>\n",
       "      <td>7.0</td>\n",
       "      <td>0.69</td>\n",
       "      <td>0.07</td>\n",
       "      <td>2.5</td>\n",
       "      <td>0.091</td>\n",
       "      <td>15.0</td>\n",
       "      <td>21.0</td>\n",
       "      <td>0.99572</td>\n",
       "      <td>3.38</td>\n",
       "      <td>0.60</td>\n",
       "      <td>11.3</td>\n",
       "      <td>Alexander</td>\n",
       "      <td>1993</td>\n",
       "      <td>M</td>\n",
       "      <td>20523</td>\n",
       "    </tr>\n",
       "    <tr>\n",
       "      <th>4</th>\n",
       "      <td>5</td>\n",
       "      <td>Portugal</td>\n",
       "      <td>A powerful wine, richly structured and full of...</td>\n",
       "      <td>Gerações Colheita Seleccionada</td>\n",
       "      <td>92</td>\n",
       "      <td>34.0</td>\n",
       "      <td>Alentejano</td>\n",
       "      <td>Paul</td>\n",
       "      <td>Herdade Grande 2010 Gerações Colheita Seleccio...</td>\n",
       "      <td>Portuguese Red</td>\n",
       "      <td>Herdade Grande</td>\n",
       "      <td>8.0</td>\n",
       "      <td>0.48</td>\n",
       "      <td>0.34</td>\n",
       "      <td>2.2</td>\n",
       "      <td>0.073</td>\n",
       "      <td>16.0</td>\n",
       "      <td>25.0</td>\n",
       "      <td>0.99360</td>\n",
       "      <td>3.28</td>\n",
       "      <td>0.66</td>\n",
       "      <td>12.4</td>\n",
       "      <td>Paul</td>\n",
       "      <td>1957</td>\n",
       "      <td>M</td>\n",
       "      <td>26987</td>\n",
       "    </tr>\n",
       "    <tr>\n",
       "      <th>...</th>\n",
       "      <td>...</td>\n",
       "      <td>...</td>\n",
       "      <td>...</td>\n",
       "      <td>...</td>\n",
       "      <td>...</td>\n",
       "      <td>...</td>\n",
       "      <td>...</td>\n",
       "      <td>...</td>\n",
       "      <td>...</td>\n",
       "      <td>...</td>\n",
       "      <td>...</td>\n",
       "      <td>...</td>\n",
       "      <td>...</td>\n",
       "      <td>...</td>\n",
       "      <td>...</td>\n",
       "      <td>...</td>\n",
       "      <td>...</td>\n",
       "      <td>...</td>\n",
       "      <td>...</td>\n",
       "      <td>...</td>\n",
       "      <td>...</td>\n",
       "      <td>...</td>\n",
       "      <td>...</td>\n",
       "      <td>...</td>\n",
       "      <td>...</td>\n",
       "      <td>...</td>\n",
       "    </tr>\n",
       "    <tr>\n",
       "      <th>2460</th>\n",
       "      <td>2462</td>\n",
       "      <td>Portugal</td>\n",
       "      <td>Two classic Dão grapes, Touriga Nacional and T...</td>\n",
       "      <td>Dona Georgina</td>\n",
       "      <td>93</td>\n",
       "      <td>60.0</td>\n",
       "      <td>Dão</td>\n",
       "      <td>Roger</td>\n",
       "      <td>Quinta de Lemos 2010 Dona Georgina Red (Dão)</td>\n",
       "      <td>Portuguese Red</td>\n",
       "      <td>Quinta de Lemos</td>\n",
       "      <td>9.2</td>\n",
       "      <td>0.41</td>\n",
       "      <td>0.50</td>\n",
       "      <td>2.5</td>\n",
       "      <td>0.055</td>\n",
       "      <td>12.0</td>\n",
       "      <td>25.0</td>\n",
       "      <td>0.99520</td>\n",
       "      <td>3.34</td>\n",
       "      <td>0.79</td>\n",
       "      <td>13.3</td>\n",
       "      <td>Roger</td>\n",
       "      <td>1953</td>\n",
       "      <td>M</td>\n",
       "      <td>13155</td>\n",
       "    </tr>\n",
       "    <tr>\n",
       "      <th>2461</th>\n",
       "      <td>2463</td>\n",
       "      <td>Portugal</td>\n",
       "      <td>Old vines in a field blend give a rich structu...</td>\n",
       "      <td>Monte Cascas Grande Reserva</td>\n",
       "      <td>93</td>\n",
       "      <td>39.0</td>\n",
       "      <td>Douro</td>\n",
       "      <td>Michael</td>\n",
       "      <td>Casca Wines 2011 Monte Cascas Grande Reserva R...</td>\n",
       "      <td>Portuguese Red</td>\n",
       "      <td>Casca Wines</td>\n",
       "      <td>8.9</td>\n",
       "      <td>0.40</td>\n",
       "      <td>0.51</td>\n",
       "      <td>2.6</td>\n",
       "      <td>0.052</td>\n",
       "      <td>13.0</td>\n",
       "      <td>27.0</td>\n",
       "      <td>0.99500</td>\n",
       "      <td>3.32</td>\n",
       "      <td>0.90</td>\n",
       "      <td>13.4</td>\n",
       "      <td>Michael</td>\n",
       "      <td>1957</td>\n",
       "      <td>M</td>\n",
       "      <td>92709</td>\n",
       "    </tr>\n",
       "    <tr>\n",
       "      <th>2462</th>\n",
       "      <td>2464</td>\n",
       "      <td>Portugal</td>\n",
       "      <td>This rich wine has a firm structure as well as...</td>\n",
       "      <td>Pacheca Superior</td>\n",
       "      <td>90</td>\n",
       "      <td>NaN</td>\n",
       "      <td>Douro</td>\n",
       "      <td>Roger</td>\n",
       "      <td>Quinta da Pacheca 2013 Pacheca Superior Red (D...</td>\n",
       "      <td>Portuguese Red</td>\n",
       "      <td>Quinta da Pacheca</td>\n",
       "      <td>7.7</td>\n",
       "      <td>0.56</td>\n",
       "      <td>0.08</td>\n",
       "      <td>2.5</td>\n",
       "      <td>0.114</td>\n",
       "      <td>14.0</td>\n",
       "      <td>46.0</td>\n",
       "      <td>0.99710</td>\n",
       "      <td>3.24</td>\n",
       "      <td>0.66</td>\n",
       "      <td>9.6</td>\n",
       "      <td>Roger</td>\n",
       "      <td>1953</td>\n",
       "      <td>M</td>\n",
       "      <td>13155</td>\n",
       "    </tr>\n",
       "    <tr>\n",
       "      <th>2463</th>\n",
       "      <td>2465</td>\n",
       "      <td>Portugal</td>\n",
       "      <td>This mature wine that has 50% Touriga Nacional...</td>\n",
       "      <td>Reserva</td>\n",
       "      <td>90</td>\n",
       "      <td>NaN</td>\n",
       "      <td>Dão</td>\n",
       "      <td>Roger</td>\n",
       "      <td>Seacampo 2011 Reserva Red (Dão)</td>\n",
       "      <td>Portuguese Red</td>\n",
       "      <td>Seacampo</td>\n",
       "      <td>8.1</td>\n",
       "      <td>0.53</td>\n",
       "      <td>0.22</td>\n",
       "      <td>2.2</td>\n",
       "      <td>0.078</td>\n",
       "      <td>33.0</td>\n",
       "      <td>89.0</td>\n",
       "      <td>0.99678</td>\n",
       "      <td>3.26</td>\n",
       "      <td>0.46</td>\n",
       "      <td>9.6</td>\n",
       "      <td>Roger</td>\n",
       "      <td>1953</td>\n",
       "      <td>M</td>\n",
       "      <td>13155</td>\n",
       "    </tr>\n",
       "    <tr>\n",
       "      <th>2464</th>\n",
       "      <td>2466</td>\n",
       "      <td>Portugal</td>\n",
       "      <td>Celebrating the Portuguese discovery of the sp...</td>\n",
       "      <td>Silk &amp; Spice</td>\n",
       "      <td>90</td>\n",
       "      <td>15.0</td>\n",
       "      <td>Portuguese Table Wine</td>\n",
       "      <td>Joe</td>\n",
       "      <td>Sogrape 2014 Silk &amp; Spice Red (Portuguese Tabl...</td>\n",
       "      <td>Portuguese Red</td>\n",
       "      <td>Sogrape</td>\n",
       "      <td>8.3</td>\n",
       "      <td>0.26</td>\n",
       "      <td>0.37</td>\n",
       "      <td>1.4</td>\n",
       "      <td>0.076</td>\n",
       "      <td>8.0</td>\n",
       "      <td>23.0</td>\n",
       "      <td>0.99740</td>\n",
       "      <td>3.26</td>\n",
       "      <td>0.70</td>\n",
       "      <td>9.6</td>\n",
       "      <td>Joe</td>\n",
       "      <td>1936</td>\n",
       "      <td>M</td>\n",
       "      <td>8023</td>\n",
       "    </tr>\n",
       "  </tbody>\n",
       "</table>\n",
       "<p>2465 rows × 26 columns</p>\n",
       "</div>"
      ],
      "text/plain": [
       "        id   country                                        description  \\\n",
       "0        1  Portugal  This is ripe and fruity, a wine that is smooth...   \n",
       "1        2  Portugal  From an estate in the south of the Alentejo, t...   \n",
       "2        3  Portugal  A year in wood and 30 months in bottle before ...   \n",
       "3        4  Portugal  Wood aging gives this ripe blend of Baga and T...   \n",
       "4        5  Portugal  A powerful wine, richly structured and full of...   \n",
       "...    ...       ...                                                ...   \n",
       "2460  2462  Portugal  Two classic Dão grapes, Touriga Nacional and T...   \n",
       "2461  2463  Portugal  Old vines in a field blend give a rich structu...   \n",
       "2462  2464  Portugal  This rich wine has a firm structure as well as...   \n",
       "2463  2465  Portugal  This mature wine that has 50% Touriga Nacional...   \n",
       "2464  2466  Portugal  Celebrating the Portuguese discovery of the sp...   \n",
       "\n",
       "                         designation  points  price               province  \\\n",
       "0                           Avidagos      87   15.0                  Douro   \n",
       "1               Grande Reserva Tinto      91   26.0             Alentejano   \n",
       "2           Montes Claros Garrafeira      90   28.0               Alentejo   \n",
       "3                                NaN      90   20.0        Beira Atlantico   \n",
       "4     Gerações Colheita Seleccionada      92   34.0             Alentejano   \n",
       "...                              ...     ...    ...                    ...   \n",
       "2460                   Dona Georgina      93   60.0                    Dão   \n",
       "2461     Monte Cascas Grande Reserva      93   39.0                  Douro   \n",
       "2462                Pacheca Superior      90    NaN                  Douro   \n",
       "2463                         Reserva      90    NaN                    Dão   \n",
       "2464                    Silk & Spice      90   15.0  Portuguese Table Wine   \n",
       "\n",
       "     taster_name                                              title  \\\n",
       "0          Kerin      Quinta dos Avidagos 2011 Avidagos Red (Douro)   \n",
       "1          Roger  Casa Santa Vitória 2013 Grande Reserva Tinto R...   \n",
       "2           Paul  Adega Cooperativa de Borba 2012 Montes Claros ...   \n",
       "3      Alexander  Quinta de Foz de Arouce 2013 Red (Beira Atlant...   \n",
       "4           Paul  Herdade Grande 2010 Gerações Colheita Seleccio...   \n",
       "...          ...                                                ...   \n",
       "2460       Roger       Quinta de Lemos 2010 Dona Georgina Red (Dão)   \n",
       "2461     Michael  Casca Wines 2011 Monte Cascas Grande Reserva R...   \n",
       "2462       Roger  Quinta da Pacheca 2013 Pacheca Superior Red (D...   \n",
       "2463       Roger                    Seacampo 2011 Reserva Red (Dão)   \n",
       "2464         Joe  Sogrape 2014 Silk & Spice Red (Portuguese Tabl...   \n",
       "\n",
       "             variety                      winery  fixed acidity  \\\n",
       "0     Portuguese Red         Quinta dos Avidagos           10.0   \n",
       "1     Portuguese Red          Casa Santa Vitória            8.3   \n",
       "2     Portuguese Red  Adega Cooperativa de Borba            7.0   \n",
       "3     Portuguese Red     Quinta de Foz de Arouce            7.0   \n",
       "4     Portuguese Red              Herdade Grande            8.0   \n",
       "...              ...                         ...            ...   \n",
       "2460  Portuguese Red             Quinta de Lemos            9.2   \n",
       "2461  Portuguese Red                 Casca Wines            8.9   \n",
       "2462  Portuguese Red           Quinta da Pacheca            7.7   \n",
       "2463  Portuguese Red                    Seacampo            8.1   \n",
       "2464  Portuguese Red                     Sogrape            8.3   \n",
       "\n",
       "      volatile acidity  citric acid  residual sugar  chlorides  \\\n",
       "0                 0.29         0.40             2.9      0.098   \n",
       "1                 0.26         0.37             1.4      0.076   \n",
       "2                 0.69         0.07             2.5      0.091   \n",
       "3                 0.69         0.07             2.5      0.091   \n",
       "4                 0.48         0.34             2.2      0.073   \n",
       "...                ...          ...             ...        ...   \n",
       "2460              0.41         0.50             2.5      0.055   \n",
       "2461              0.40         0.51             2.6      0.052   \n",
       "2462              0.56         0.08             2.5      0.114   \n",
       "2463              0.53         0.22             2.2      0.078   \n",
       "2464              0.26         0.37             1.4      0.076   \n",
       "\n",
       "      free sulfur dioxide  total sulfur dioxide   density    pH  sulphates  \\\n",
       "0                    10.0                  26.0  10.00600  3.48       0.91   \n",
       "1                     8.0                  23.0   0.99740  3.26       0.70   \n",
       "2                    15.0                  21.0   0.99572  3.38       0.60   \n",
       "3                    15.0                  21.0   0.99572  3.38       0.60   \n",
       "4                    16.0                  25.0   0.99360  3.28       0.66   \n",
       "...                   ...                   ...       ...   ...        ...   \n",
       "2460                 12.0                  25.0   0.99520  3.34       0.79   \n",
       "2461                 13.0                  27.0   0.99500  3.32       0.90   \n",
       "2462                 14.0                  46.0   0.99710  3.24       0.66   \n",
       "2463                 33.0                  89.0   0.99678  3.26       0.46   \n",
       "2464                  8.0                  23.0   0.99740  3.26       0.70   \n",
       "\n",
       "      alcohol       Name  Year Gender  Count  \n",
       "0         9.7      Kerin  1981      F     43  \n",
       "1         9.6      Roger  1953      M  13155  \n",
       "2        11.3       Paul  1957      M  26987  \n",
       "3        11.3  Alexander  1993      M  20523  \n",
       "4        12.4       Paul  1957      M  26987  \n",
       "...       ...        ...   ...    ...    ...  \n",
       "2460     13.3      Roger  1953      M  13155  \n",
       "2461     13.4    Michael  1957      M  92709  \n",
       "2462      9.6      Roger  1953      M  13155  \n",
       "2463      9.6      Roger  1953      M  13155  \n",
       "2464      9.6        Joe  1936      M   8023  \n",
       "\n",
       "[2465 rows x 26 columns]"
      ]
     },
     "execution_count": 164,
     "metadata": {},
     "output_type": "execute_result"
    }
   ],
   "source": [
    "merge = wine.merge(name, left_on='taster_name',right_on='Name', how='left')\n",
    "merge"
   ]
  },
  {
   "cell_type": "markdown",
   "metadata": {},
   "source": [
    "Nu printen we de tabel waarbij we de naam van de proever en het geslacht tonen. "
   ]
  },
  {
   "cell_type": "code",
   "execution_count": 150,
   "metadata": {},
   "outputs": [
    {
     "data": {
      "text/html": [
       "<div>\n",
       "<style scoped>\n",
       "    .dataframe tbody tr th:only-of-type {\n",
       "        vertical-align: middle;\n",
       "    }\n",
       "\n",
       "    .dataframe tbody tr th {\n",
       "        vertical-align: top;\n",
       "    }\n",
       "\n",
       "    .dataframe thead th {\n",
       "        text-align: right;\n",
       "    }\n",
       "</style>\n",
       "<table border=\"1\" class=\"dataframe\">\n",
       "  <thead>\n",
       "    <tr style=\"text-align: right;\">\n",
       "      <th></th>\n",
       "      <th>taster_name</th>\n",
       "      <th>Gender</th>\n",
       "    </tr>\n",
       "  </thead>\n",
       "  <tbody>\n",
       "    <tr>\n",
       "      <th>0</th>\n",
       "      <td>Alexander</td>\n",
       "      <td>M</td>\n",
       "    </tr>\n",
       "    <tr>\n",
       "      <th>1</th>\n",
       "      <td>Alexander</td>\n",
       "      <td>M</td>\n",
       "    </tr>\n",
       "    <tr>\n",
       "      <th>2</th>\n",
       "      <td>Alexander</td>\n",
       "      <td>M</td>\n",
       "    </tr>\n",
       "    <tr>\n",
       "      <th>3</th>\n",
       "      <td>Alexander</td>\n",
       "      <td>M</td>\n",
       "    </tr>\n",
       "    <tr>\n",
       "      <th>4</th>\n",
       "      <td>Alexander</td>\n",
       "      <td>M</td>\n",
       "    </tr>\n",
       "  </tbody>\n",
       "</table>\n",
       "</div>"
      ],
      "text/plain": [
       "  taster_name Gender\n",
       "0   Alexander      M\n",
       "1   Alexander      M\n",
       "2   Alexander      M\n",
       "3   Alexander      M\n",
       "4   Alexander      M"
      ]
     },
     "execution_count": 150,
     "metadata": {},
     "output_type": "execute_result"
    }
   ],
   "source": [
    "tasters = merge[['taster_name', 'Gender']]\n",
    "tasters.head()"
   ]
  },
  {
   "cell_type": "markdown",
   "metadata": {},
   "source": [
    "Hieronder printen we hoe vaak een naam voorkomt met het bijbehorende geslacht. We kunnen zien dat bij een aantal namen er records zijn voor zowel Male als Female. "
   ]
  },
  {
   "cell_type": "code",
   "execution_count": 151,
   "metadata": {},
   "outputs": [
    {
     "data": {
      "text/plain": [
       "taster_name  Gender\n",
       "Roger        M         85050\n",
       "Michael      M         51840\n",
       "Roger        F         49140\n",
       "Michael      F         41472\n",
       "Paul         M         29430\n",
       "             F         25724\n",
       "Joe          M         19305\n",
       "Matt         M         18900\n",
       "Joe          F         17303\n",
       "Kerin        F         17286\n",
       "Jim          M         14445\n",
       "Anna         F         11340\n",
       "             M         11088\n",
       "Sean         M         10875\n",
       "Kerin        M          8772\n",
       "Sean         F          8500\n",
       "Jim          F          8025\n",
       "Anne         F          7425\n",
       "             M          4565\n",
       "Lauren       M          4370\n",
       "Susan        F          3915\n",
       "Lauren       F          3002\n",
       "Virginie     F          2420\n",
       "Susan        M          1914\n",
       "Alexander    M          1890\n",
       "Jeff         M          1215\n",
       "Alexander    F          1190\n",
       "Mike         M           675\n",
       "Carrie       F           405\n",
       "             M           312\n",
       "Mike         F           290\n",
       "Jeff         F           252\n",
       "Fiona        F           207\n",
       "Matt         F           140\n",
       "Fiona        M             3\n",
       "dtype: int64"
      ]
     },
     "execution_count": 151,
     "metadata": {},
     "output_type": "execute_result"
    }
   ],
   "source": [
    "tasters.value_counts() "
   ]
  },
  {
   "cell_type": "code",
   "execution_count": null,
   "metadata": {},
   "outputs": [],
   "source": []
  }
 ],
 "metadata": {
  "kernelspec": {
   "display_name": "Python 3",
   "language": "python",
   "name": "python3"
  },
  "language_info": {
   "codemirror_mode": {
    "name": "ipython",
    "version": 3
   },
   "file_extension": ".py",
   "mimetype": "text/x-python",
   "name": "python",
   "nbconvert_exporter": "python",
   "pygments_lexer": "ipython3",
   "version": "3.8.2"
  }
 },
 "nbformat": 4,
 "nbformat_minor": 4
}
